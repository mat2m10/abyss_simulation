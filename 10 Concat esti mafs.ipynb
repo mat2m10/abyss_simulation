{
 "cells": [
  {
   "cell_type": "markdown",
   "id": "f0bae6b1-e426-4c39-8efa-ff56244f78ba",
   "metadata": {},
   "source": [
    "# Import libraries"
   ]
  },
  {
   "cell_type": "code",
   "execution_count": 1,
   "id": "6fcd8df6-7319-4f11-ab41-d7057646f225",
   "metadata": {},
   "outputs": [],
   "source": [
    "import subprocess\n",
    "import os\n",
    "from helpers import parse_variables\n",
    "import pandas as pd\n",
    "import numpy as np"
   ]
  },
  {
   "cell_type": "markdown",
   "id": "27b83405-35b8-452f-ba88-f957b71fa89b",
   "metadata": {},
   "source": [
    "# Load simulation parameters"
   ]
  },
  {
   "cell_type": "code",
   "execution_count": 2,
   "id": "76388184-438d-41c0-a770-c343d1a79b24",
   "metadata": {},
   "outputs": [],
   "source": [
    "dict = parse_variables('geno_simulation.txt')\n",
    "G = int(dict['G'])\n",
    "L = int(dict['L'])\n",
    "c = int(dict['c'])\n",
    "k = int(dict['k'])\n",
    "M = float(dict['M'])\n",
    "\n",
    "# Define the R commands to run, passing parameters as arguments\n",
    "commands = [\n",
    "    f\"source('geno_simulation.txt')\",\n",
    "    f\"source('create_geno.R', echo=TRUE)\",\n",
    "]\n",
    "\n",
    "\n",
    "commands = [\n",
    "    \"source('geno_simulation.txt')\",\n",
    "    f\"G <- {G}\",\n",
    "    f\"L <- {L}\",\n",
    "    f\"c <- {c}\",\n",
    "    f\"k <- {k}\",\n",
    "    f\"M <- {M}\",\n",
    "    \"source('create_geno.R', echo=TRUE)\"\n",
    "]\n",
    "\n",
    "# Concatenate commands into a single string\n",
    "r_script = \";\".join(commands)\n",
    "\n",
    "# Run the R script\n",
    "result = subprocess.run(['Rscript', '-e', r_script], capture_output=True, text=True)\n",
    "\n",
    "# Print the output\n",
    "#print(result.stdout)\n",
    "\n",
    "# Check for errors\n",
    "if result.returncode != 0:\n",
    "    #print(\"Error executing R script:\")\n",
    "    #print(result.stderr)\n",
    "    pass"
   ]
  },
  {
   "cell_type": "code",
   "execution_count": 3,
   "id": "bf5eeca9-fd13-42e5-97fd-06ddcfad3579",
   "metadata": {},
   "outputs": [],
   "source": [
    "# Load complete\n",
    "dict = parse_variables('geno_simulation.txt')\n",
    "G = int(dict['G'])\n",
    "L = int(dict['L'])\n",
    "c = int(dict['c'])\n",
    "k = int(dict['k'])\n",
    "M = float(dict['M'])\n",
    "\n",
    "# Thresholds\n",
    "very_rare_threshold_L = float(dict['very_rare_threshold_L'])\n",
    "very_rare_threshold_H = float(dict['very_rare_threshold_H'])\n",
    "\n",
    "rare_threshold_L = float(dict['rare_threshold_L'])\n",
    "rare_threshold_H = float(dict['rare_threshold_H'])\n",
    "\n",
    "common_threshold_L = float(dict['common_threshold_L'])\n",
    "common_threshold_H = float(dict['common_threshold_H'])\n",
    "\n",
    "number_of_snps = (G*L)/2 # one loci per chromosome\n",
    "number_of_individuals = c*k*k\n",
    "\n",
    "very_rare = pd.read_pickle(f\"data/G{G}_L{L}_c{c}_k{k}_M{M}/genotype/02_veryrare_genotype_AF_{very_rare_threshold_L}_{very_rare_threshold_H}.pkl\")\n",
    "rare = pd.read_pickle(f\"data/G{G}_L{L}_c{c}_k{k}_M{M}/genotype/02_rare_genotype_AF_{rare_threshold_L}_{rare_threshold_H}.pkl\")\n",
    "common = pd.read_pickle(f\"data/G{G}_L{L}_c{c}_k{k}_M{M}/genotype/02_common_genotype_AF_{common_threshold_L}_{common_threshold_H}.pkl\")\n",
    "very_rare = very_rare.rename(columns=lambda x: 'VR' + x)/2\n",
    "rare = rare.rename(columns=lambda x: 'R' + x)/2\n",
    "common = common.rename(columns=lambda x: 'C' + x)/2\n",
    "complete = pd.concat([common, rare, very_rare], axis=1)\n",
    "complete = ((complete*2)-1)"
   ]
  },
  {
   "cell_type": "code",
   "execution_count": 4,
   "id": "25416ab7-401e-4f64-9229-e60427fc738f",
   "metadata": {},
   "outputs": [],
   "source": [
    "path_output = f\"data/G{G}_L{L}_c{c}_k{k}_M{M}/genotype/LD_blocks_estimated_mafs\""
   ]
  },
  {
   "cell_type": "code",
   "execution_count": 5,
   "id": "65eca97d-4aa0-412e-a128-2f9a5a55f101",
   "metadata": {},
   "outputs": [],
   "source": [
    "q2_files = [f for f in os.listdir(path_output) if f.split(f\"_\")[6] == 'q2']\n",
    "p2_files = [f for f in os.listdir(path_output) if f.split(f\"_\")[6] == 'p2']\n",
    "twopq_files = [f for f in os.listdir(path_output) if f.split(f\"_\")[6] == '2pq']"
   ]
  },
  {
   "cell_type": "code",
   "execution_count": 6,
   "id": "e9690545-9fdd-4c72-9688-d8b0087f22d6",
   "metadata": {},
   "outputs": [],
   "source": [
    "q2s = []\n",
    "for q2_file in q2_files:\n",
    "    path_q2_file = path_output + '/' + q2_file\n",
    "    q2 = pd.read_pickle(path_q2_file)\n",
    "    q2s.append(q2)\n",
    "\n",
    "q2s = pd.concat(q2s, axis=1)\n",
    "q2s = q2s.sort_index()\n",
    "q2s = q2s[list(complete.columns)]"
   ]
  },
  {
   "cell_type": "code",
   "execution_count": 7,
   "id": "01dcd2f2-5061-4a57-95ba-1e77739081cd",
   "metadata": {},
   "outputs": [],
   "source": [
    "p2s = []\n",
    "for p2_file in p2_files:\n",
    "    path_p2_file = path_output + '/' + p2_file\n",
    "    p2 = pd.read_pickle(path_p2_file)\n",
    "    p2s.append(p2)\n",
    "\n",
    "p2s = pd.concat(p2s, axis=1)\n",
    "p2s = p2s.sort_index()\n",
    "p2s = p2s[list(complete.columns)]"
   ]
  },
  {
   "cell_type": "code",
   "execution_count": 8,
   "id": "ab7c5046-9b30-4834-b318-7739f3a7d991",
   "metadata": {},
   "outputs": [],
   "source": [
    "twopqs = []\n",
    "for pq_file in twopq_files:\n",
    "    path_pq_file = path_output + '/' + pq_file\n",
    "    pq = pd.read_pickle(path_pq_file)\n",
    "    twopqs.append(pq)\n",
    "\n",
    "twopqs = pd.concat(twopqs, axis=1)\n",
    "twopqs = twopqs.sort_index()\n",
    "twopqs = twopqs[list(complete.columns)]"
   ]
  },
  {
   "cell_type": "code",
   "execution_count": 9,
   "id": "83cbf741-057f-40ac-83b6-e6793eb27f01",
   "metadata": {},
   "outputs": [],
   "source": [
    "# Maybe?\n",
    "error = (1 - (twopqs + p2s + q2s))/3\n",
    "q2s = q2s + error\n",
    "p2s = p2s + error\n",
    "twopqs = twopqs + error"
   ]
  },
  {
   "cell_type": "code",
   "execution_count": 10,
   "id": "3bf1eb41-6a62-4843-b214-6c33a6be9fbe",
   "metadata": {},
   "outputs": [
    {
     "data": {
      "text/plain": [
       "0"
      ]
     },
     "execution_count": 10,
     "metadata": {},
     "output_type": "execute_result"
    }
   ],
   "source": [
    "os.system(f\"rm -rf {path_output}\")"
   ]
  },
  {
   "cell_type": "code",
   "execution_count": 11,
   "id": "bda74497-ef4a-42b7-98e5-8eae1ba23c88",
   "metadata": {},
   "outputs": [],
   "source": [
    "q2s.to_pickle(f\"data/G{G}_L{L}_c{c}_k{k}_M{M}/genotype/estimated_q2s_via_esti_pop.pkl\")\n",
    "p2s.to_pickle(f\"data/G{G}_L{L}_c{c}_k{k}_M{M}/genotype/estimated_p2s_via_esti_pop.pkl\")\n",
    "twopqs.to_pickle(f\"data/G{G}_L{L}_c{c}_k{k}_M{M}/genotype/estimated_2pqs_via_esti_pop.pkl\")"
   ]
  },
  {
   "cell_type": "code",
   "execution_count": null,
   "id": "50df2997-a5de-4dd2-9da0-ab046fae0681",
   "metadata": {},
   "outputs": [],
   "source": []
  }
 ],
 "metadata": {
  "kernelspec": {
   "display_name": "Python 3 (ipykernel)",
   "language": "python",
   "name": "python3"
  },
  "language_info": {
   "codemirror_mode": {
    "name": "ipython",
    "version": 3
   },
   "file_extension": ".py",
   "mimetype": "text/x-python",
   "name": "python",
   "nbconvert_exporter": "python",
   "pygments_lexer": "ipython3",
   "version": "3.10.2"
  }
 },
 "nbformat": 4,
 "nbformat_minor": 5
}
