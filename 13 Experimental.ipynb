{
 "cells": [
  {
   "cell_type": "code",
   "execution_count": 3,
   "id": "a2ceffe4-5cd4-4283-a425-9a710c8655ad",
   "metadata": {},
   "outputs": [
    {
     "name": "stderr",
     "output_type": "stream",
     "text": [
      "2024-10-23 14:35:25.837446: I tensorflow/core/util/port.cc:153] oneDNN custom operations are on. You may see slightly different numerical results due to floating-point round-off errors from different computation orders. To turn them off, set the environment variable `TF_ENABLE_ONEDNN_OPTS=0`.\n",
      "2024-10-23 14:35:25.838434: I external/local_xla/xla/tsl/cuda/cudart_stub.cc:32] Could not find cuda drivers on your machine, GPU will not be used.\n",
      "2024-10-23 14:35:25.841372: I external/local_xla/xla/tsl/cuda/cudart_stub.cc:32] Could not find cuda drivers on your machine, GPU will not be used.\n",
      "2024-10-23 14:35:25.849940: E external/local_xla/xla/stream_executor/cuda/cuda_fft.cc:485] Unable to register cuFFT factory: Attempting to register factory for plugin cuFFT when one has already been registered\n",
      "2024-10-23 14:35:25.864813: E external/local_xla/xla/stream_executor/cuda/cuda_dnn.cc:8454] Unable to register cuDNN factory: Attempting to register factory for plugin cuDNN when one has already been registered\n",
      "2024-10-23 14:35:25.868750: E external/local_xla/xla/stream_executor/cuda/cuda_blas.cc:1452] Unable to register cuBLAS factory: Attempting to register factory for plugin cuBLAS when one has already been registered\n",
      "2024-10-23 14:35:25.880361: I tensorflow/core/platform/cpu_feature_guard.cc:210] This TensorFlow binary is optimized to use available CPU instructions in performance-critical operations.\n",
      "To enable the following instructions: AVX2 AVX_VNNI FMA, in other operations, rebuild TensorFlow with the appropriate compiler flags.\n",
      "2024-10-23 14:35:26.812562: W tensorflow/compiler/tf2tensorrt/utils/py_utils.cc:38] TF-TRT Warning: Could not find TensorRT\n"
     ]
    }
   ],
   "source": [
    "import os\n",
    "import pandas as pd\n",
    "import numpy as np\n",
    "import seaborn as sns\n",
    "import matplotlib.pyplot as plt\n",
    "from sklearn.linear_model import LinearRegression\n",
    "import statsmodels.api as sm\n",
    "from models import ols_regression, manhattan_linear, gc"
   ]
  },
  {
   "cell_type": "code",
   "execution_count": 4,
   "id": "6d52930f-44c6-4e5f-80a9-f69f33d2d0ce",
   "metadata": {},
   "outputs": [],
   "source": [
    "def min_max_scaling(X,min_val,max_val):\n",
    "    X = np.array(X)\n",
    "    X_min = np.min(X)\n",
    "    X_max = np.max(X)\n",
    "    \n",
    "    # If the column has constant values (min == max), return the original values unscaled\n",
    "    if X_min == X_max:\n",
    "        return X\n",
    "    \n",
    "    # Perform scaling if min != max\n",
    "    X_scaled = (X - X_min) / (X_max - X_min) * (max_val - min_val) + min_val\n",
    "\n",
    "    \n",
    "    return X_scaled"
   ]
  },
  {
   "cell_type": "code",
   "execution_count": 5,
   "id": "ff259778-9194-4f4d-b5b6-87b9ba17530c",
   "metadata": {},
   "outputs": [],
   "source": [
    "nr_people_pop1 = 50\n",
    "nr_people_pop2 = 10\n",
    "nr_people_pop3 = 10\n",
    "\n",
    "total_humans = nr_people_pop1+ nr_people_pop2  + nr_people_pop3\n",
    "minaf_pop1 = 0.8\n",
    "minaf_pop2 = 0\n",
    "minaf_pop3 = 0\n",
    "\n",
    "majaf_pop1 = 0.1\n",
    "majaf_pop2 = 0.7\n",
    "majaf_pop3 = 0.2\n",
    "\n",
    "\n",
    "hetaf_pop1 = np.round(1 - minaf_pop1 - majaf_pop1,1)\n",
    "hetaf_pop2 = np.round(1 - minaf_pop2 - majaf_pop2,1)\n",
    "hetaf_pop3 = np.round(1 - minaf_pop3 - majaf_pop3,1)\n",
    "\n",
    "pheno_pop1 = 1\n",
    "pheno_pop2 = -1\n",
    "pheno_pop3 = 20"
   ]
  },
  {
   "cell_type": "code",
   "execution_count": 6,
   "id": "bc170c78-7005-42ac-9a5d-3923d40ed181",
   "metadata": {},
   "outputs": [
    {
     "data": {
      "text/plain": [
       "0.3"
      ]
     },
     "execution_count": 6,
     "metadata": {},
     "output_type": "execute_result"
    }
   ],
   "source": [
    "hetaf_pop2"
   ]
  },
  {
   "cell_type": "code",
   "execution_count": 7,
   "id": "89b26e02-a173-42ed-ae34-2a8856c4a9bf",
   "metadata": {},
   "outputs": [],
   "source": [
    "# make snp\n",
    "pop1_snps = [-1]*int(nr_people_pop1*minaf_pop1) + [0]*int(nr_people_pop1*hetaf_pop1) + [1]*int(nr_people_pop1*majaf_pop1)\n",
    "pop2_snps = [-1]*int(nr_people_pop2*minaf_pop2) + [0]*int(nr_people_pop2*hetaf_pop2) + [1]*int(nr_people_pop2*majaf_pop2)\n",
    "pop3_snps = [-1]*int(nr_people_pop3*minaf_pop3) + [0]*int(nr_people_pop3*hetaf_pop3) + [1]*int(nr_people_pop3*majaf_pop3)\n",
    "nr_pop1_snps = [int(nr_people_pop1*minaf_pop1)]*int(nr_people_pop1*minaf_pop1) + [int(nr_people_pop1*hetaf_pop1)]*int(nr_people_pop1*hetaf_pop1) + [int(nr_people_pop1*majaf_pop1)]*int(nr_people_pop1*majaf_pop1)\n",
    "nr_pop2_snps = [int(nr_people_pop2*minaf_pop2)]*int(nr_people_pop2*minaf_pop2) + [int(nr_people_pop2*hetaf_pop2)]*int(nr_people_pop2*hetaf_pop2) + [int(nr_people_pop2*majaf_pop2)]*int(nr_people_pop2*majaf_pop2)\n",
    "nr_pop3_snps = [int(nr_people_pop3*minaf_pop3)]*int(nr_people_pop3*minaf_pop3) + [int(nr_people_pop3*hetaf_pop3)]*int(nr_people_pop3*hetaf_pop3) + [int(nr_people_pop3*majaf_pop3)]*int(nr_people_pop3*majaf_pop3)\n",
    "\n",
    "snps = pop1_snps + pop2_snps + pop3_snps\n",
    "snps_nr = nr_pop1_snps + nr_pop2_snps + nr_pop3_snps\n"
   ]
  },
  {
   "cell_type": "code",
   "execution_count": 8,
   "id": "328f4307-7b90-4b93-b677-181204ca6712",
   "metadata": {},
   "outputs": [],
   "source": [
    "minaf = [minaf_pop1]*nr_people_pop1 + [minaf_pop2]*nr_people_pop2 + [minaf_pop3]*nr_people_pop3\n",
    "hetaf = [hetaf_pop1]*nr_people_pop1 + [hetaf_pop2]*nr_people_pop2 + [hetaf_pop3]*nr_people_pop3\n",
    "majaf = [majaf_pop1]*nr_people_pop1 + [majaf_pop2]*nr_people_pop2 + [majaf_pop3]*nr_people_pop3"
   ]
  },
  {
   "cell_type": "code",
   "execution_count": 9,
   "id": "69aedfbf-da76-4ffd-a3b4-3ce2614f78dd",
   "metadata": {},
   "outputs": [],
   "source": [
    "pop = ['pop1']*nr_people_pop1 + ['pop2']*nr_people_pop2 +  ['pop3']*nr_people_pop3\n",
    "pop_nr = [nr_people_pop1]*nr_people_pop1 + [nr_people_pop2]*nr_people_pop2 +  [nr_people_pop3]*nr_people_pop3\n",
    "risk = [pheno_pop1]*nr_people_pop1 + [pheno_pop2]*nr_people_pop2 +  [pheno_pop3]*nr_people_pop3"
   ]
  },
  {
   "cell_type": "code",
   "execution_count": 10,
   "id": "35b2dc03-a6b4-4119-8f8c-17bc442f69e3",
   "metadata": {},
   "outputs": [],
   "source": [
    "humans = pd.DataFrame()\n",
    "humans['snp'] = snps\n",
    "humans = pd.get_dummies(humans, columns=['snp'], dtype=int)\n",
    "humans['snp'] = snps\n",
    "humans['snp_nr'] = snps_nr\n",
    "humans['snp_nr'] = humans['snp_nr']/humans['snp_nr'].max()\n",
    "\n",
    "humans['minaf'] = minaf\n",
    "humans['hetaf'] = hetaf\n",
    "humans['majaf'] = majaf\n",
    "humans['pop'] = pop\n",
    "humans['pop_quantity'] = pop_nr\n",
    "humans['env_risk'] = risk\n",
    "#humans['risk'] = min_max_scaling(humans['risk'],-1,1)\n",
    "#humans['risk'] = (humans['risk'] - humans['risk'].mean()) / humans['risk'].std()"
   ]
  },
  {
   "cell_type": "code",
   "execution_count": 11,
   "id": "31a8651a-c6d1-428a-bbba-29232bae06a2",
   "metadata": {},
   "outputs": [],
   "source": [
    "count_total_AFs = humans[['snp']].apply(pd.Series.value_counts)/len(humans)\n",
    "total_minor = count_total_AFs.loc[-1].snp\n",
    "total_het = count_total_AFs.loc[0].snp\n",
    "total_major = count_total_AFs.loc[1].snp"
   ]
  },
  {
   "cell_type": "code",
   "execution_count": 12,
   "id": "d0a3ebf9-dbef-439f-bcaa-57acf78eefb5",
   "metadata": {},
   "outputs": [
    {
     "data": {
      "text/html": [
       "<div>\n",
       "<style scoped>\n",
       "    .dataframe tbody tr th:only-of-type {\n",
       "        vertical-align: middle;\n",
       "    }\n",
       "\n",
       "    .dataframe tbody tr th {\n",
       "        vertical-align: top;\n",
       "    }\n",
       "\n",
       "    .dataframe thead th {\n",
       "        text-align: right;\n",
       "    }\n",
       "</style>\n",
       "<table border=\"1\" class=\"dataframe\">\n",
       "  <thead>\n",
       "    <tr style=\"text-align: right;\">\n",
       "      <th></th>\n",
       "      <th>snp_-1</th>\n",
       "      <th>snp_0</th>\n",
       "      <th>snp_1</th>\n",
       "      <th>snp</th>\n",
       "      <th>snp_nr</th>\n",
       "      <th>minaf</th>\n",
       "      <th>hetaf</th>\n",
       "      <th>majaf</th>\n",
       "      <th>pop</th>\n",
       "      <th>pop_quantity</th>\n",
       "      <th>env_risk</th>\n",
       "    </tr>\n",
       "  </thead>\n",
       "  <tbody>\n",
       "    <tr>\n",
       "      <th>0</th>\n",
       "      <td>1</td>\n",
       "      <td>0</td>\n",
       "      <td>0</td>\n",
       "      <td>-1</td>\n",
       "      <td>1.00</td>\n",
       "      <td>0.8</td>\n",
       "      <td>0.1</td>\n",
       "      <td>0.1</td>\n",
       "      <td>pop1</td>\n",
       "      <td>50</td>\n",
       "      <td>1</td>\n",
       "    </tr>\n",
       "    <tr>\n",
       "      <th>1</th>\n",
       "      <td>1</td>\n",
       "      <td>0</td>\n",
       "      <td>0</td>\n",
       "      <td>-1</td>\n",
       "      <td>1.00</td>\n",
       "      <td>0.8</td>\n",
       "      <td>0.1</td>\n",
       "      <td>0.1</td>\n",
       "      <td>pop1</td>\n",
       "      <td>50</td>\n",
       "      <td>1</td>\n",
       "    </tr>\n",
       "    <tr>\n",
       "      <th>2</th>\n",
       "      <td>1</td>\n",
       "      <td>0</td>\n",
       "      <td>0</td>\n",
       "      <td>-1</td>\n",
       "      <td>1.00</td>\n",
       "      <td>0.8</td>\n",
       "      <td>0.1</td>\n",
       "      <td>0.1</td>\n",
       "      <td>pop1</td>\n",
       "      <td>50</td>\n",
       "      <td>1</td>\n",
       "    </tr>\n",
       "    <tr>\n",
       "      <th>3</th>\n",
       "      <td>1</td>\n",
       "      <td>0</td>\n",
       "      <td>0</td>\n",
       "      <td>-1</td>\n",
       "      <td>1.00</td>\n",
       "      <td>0.8</td>\n",
       "      <td>0.1</td>\n",
       "      <td>0.1</td>\n",
       "      <td>pop1</td>\n",
       "      <td>50</td>\n",
       "      <td>1</td>\n",
       "    </tr>\n",
       "    <tr>\n",
       "      <th>4</th>\n",
       "      <td>1</td>\n",
       "      <td>0</td>\n",
       "      <td>0</td>\n",
       "      <td>-1</td>\n",
       "      <td>1.00</td>\n",
       "      <td>0.8</td>\n",
       "      <td>0.1</td>\n",
       "      <td>0.1</td>\n",
       "      <td>pop1</td>\n",
       "      <td>50</td>\n",
       "      <td>1</td>\n",
       "    </tr>\n",
       "    <tr>\n",
       "      <th>...</th>\n",
       "      <td>...</td>\n",
       "      <td>...</td>\n",
       "      <td>...</td>\n",
       "      <td>...</td>\n",
       "      <td>...</td>\n",
       "      <td>...</td>\n",
       "      <td>...</td>\n",
       "      <td>...</td>\n",
       "      <td>...</td>\n",
       "      <td>...</td>\n",
       "      <td>...</td>\n",
       "    </tr>\n",
       "    <tr>\n",
       "      <th>65</th>\n",
       "      <td>0</td>\n",
       "      <td>1</td>\n",
       "      <td>0</td>\n",
       "      <td>0</td>\n",
       "      <td>0.20</td>\n",
       "      <td>0.0</td>\n",
       "      <td>0.8</td>\n",
       "      <td>0.2</td>\n",
       "      <td>pop3</td>\n",
       "      <td>10</td>\n",
       "      <td>20</td>\n",
       "    </tr>\n",
       "    <tr>\n",
       "      <th>66</th>\n",
       "      <td>0</td>\n",
       "      <td>1</td>\n",
       "      <td>0</td>\n",
       "      <td>0</td>\n",
       "      <td>0.20</td>\n",
       "      <td>0.0</td>\n",
       "      <td>0.8</td>\n",
       "      <td>0.2</td>\n",
       "      <td>pop3</td>\n",
       "      <td>10</td>\n",
       "      <td>20</td>\n",
       "    </tr>\n",
       "    <tr>\n",
       "      <th>67</th>\n",
       "      <td>0</td>\n",
       "      <td>1</td>\n",
       "      <td>0</td>\n",
       "      <td>0</td>\n",
       "      <td>0.20</td>\n",
       "      <td>0.0</td>\n",
       "      <td>0.8</td>\n",
       "      <td>0.2</td>\n",
       "      <td>pop3</td>\n",
       "      <td>10</td>\n",
       "      <td>20</td>\n",
       "    </tr>\n",
       "    <tr>\n",
       "      <th>68</th>\n",
       "      <td>0</td>\n",
       "      <td>0</td>\n",
       "      <td>1</td>\n",
       "      <td>1</td>\n",
       "      <td>0.05</td>\n",
       "      <td>0.0</td>\n",
       "      <td>0.8</td>\n",
       "      <td>0.2</td>\n",
       "      <td>pop3</td>\n",
       "      <td>10</td>\n",
       "      <td>20</td>\n",
       "    </tr>\n",
       "    <tr>\n",
       "      <th>69</th>\n",
       "      <td>0</td>\n",
       "      <td>0</td>\n",
       "      <td>1</td>\n",
       "      <td>1</td>\n",
       "      <td>0.05</td>\n",
       "      <td>0.0</td>\n",
       "      <td>0.8</td>\n",
       "      <td>0.2</td>\n",
       "      <td>pop3</td>\n",
       "      <td>10</td>\n",
       "      <td>20</td>\n",
       "    </tr>\n",
       "  </tbody>\n",
       "</table>\n",
       "<p>70 rows × 11 columns</p>\n",
       "</div>"
      ],
      "text/plain": [
       "    snp_-1  snp_0  snp_1  snp  snp_nr  minaf  hetaf  majaf   pop  \\\n",
       "0        1      0      0   -1    1.00    0.8    0.1    0.1  pop1   \n",
       "1        1      0      0   -1    1.00    0.8    0.1    0.1  pop1   \n",
       "2        1      0      0   -1    1.00    0.8    0.1    0.1  pop1   \n",
       "3        1      0      0   -1    1.00    0.8    0.1    0.1  pop1   \n",
       "4        1      0      0   -1    1.00    0.8    0.1    0.1  pop1   \n",
       "..     ...    ...    ...  ...     ...    ...    ...    ...   ...   \n",
       "65       0      1      0    0    0.20    0.0    0.8    0.2  pop3   \n",
       "66       0      1      0    0    0.20    0.0    0.8    0.2  pop3   \n",
       "67       0      1      0    0    0.20    0.0    0.8    0.2  pop3   \n",
       "68       0      0      1    1    0.05    0.0    0.8    0.2  pop3   \n",
       "69       0      0      1    1    0.05    0.0    0.8    0.2  pop3   \n",
       "\n",
       "    pop_quantity  env_risk  \n",
       "0             50         1  \n",
       "1             50         1  \n",
       "2             50         1  \n",
       "3             50         1  \n",
       "4             50         1  \n",
       "..           ...       ...  \n",
       "65            10        20  \n",
       "66            10        20  \n",
       "67            10        20  \n",
       "68            10        20  \n",
       "69            10        20  \n",
       "\n",
       "[70 rows x 11 columns]"
      ]
     },
     "execution_count": 12,
     "metadata": {},
     "output_type": "execute_result"
    }
   ],
   "source": [
    "humans"
   ]
  },
  {
   "cell_type": "code",
   "execution_count": 13,
   "id": "96e87be8-5e42-4771-9f3d-bce564a79fa6",
   "metadata": {},
   "outputs": [],
   "source": [
    "pheno_pop1 = humans[humans['pop']=='pop1']['env_risk'].mean()\n",
    "pheno_pop2 = humans[humans['pop']=='pop2']['env_risk'].mean()\n",
    "pheno_pop3 = humans[humans['pop']=='pop3']['env_risk'].mean()"
   ]
  },
  {
   "cell_type": "code",
   "execution_count": 14,
   "id": "95eeebe2-512e-4960-bb29-56b5873f708f",
   "metadata": {},
   "outputs": [],
   "source": [
    "humans['env_risk'] = humans['env_risk']-humans['env_risk'].mean()"
   ]
  },
  {
   "cell_type": "markdown",
   "id": "a62e55b8-7d87-44b6-9a9e-2d3aa39c81a8",
   "metadata": {},
   "source": [
    "# No correction"
   ]
  },
  {
   "cell_type": "code",
   "execution_count": 15,
   "id": "6dfc0bf3-6f2a-4c2c-9a46-cc8b374a2e0a",
   "metadata": {},
   "outputs": [
    {
     "name": "stdout",
     "output_type": "stream",
     "text": [
      "1.9652061855670104\n"
     ]
    }
   ],
   "source": [
    "X = humans[['snp']]  # Predictor variable\n",
    "y = humans['env_risk']    # Response variable\n",
    "\n",
    "# Add a constant to the predictor variable (for intercept)\n",
    "X = sm.add_constant(X)\n",
    "\n",
    "# Fit the model using statsmodels\n",
    "model = sm.OLS(y, X).fit()\n",
    "\n",
    "# Extract beta (slope), intercept, and p-value\n",
    "beta = model.params['snp']\n",
    "print(beta)\n",
    "intercept = model.params['const']\n",
    "p_value = model.pvalues['snp']\n",
    "logp_value = np.round(-np.log10(p_value),4)\n",
    "\n",
    "humans['predicted_env_risk'] = model.predict(X)"
   ]
  },
  {
   "cell_type": "code",
   "execution_count": 16,
   "id": "cde1495a-21fa-4086-a9af-12ee583fe3dd",
   "metadata": {},
   "outputs": [
    {
     "data": {
      "image/png": "[encoded data removed]",
      "text/plain": [
       "<Figure size 640x480 with 1 Axes>"
      ]
     },
     "metadata": {},
     "output_type": "display_data"
    }
   ],
   "source": [
    "# Create the scatter plot with seaborn, using size to represent pop_quantity\n",
    "sns.scatterplot(x='snp', y='env_risk', data=humans, size='snp_nr', hue='pop',sizes=(20, 200), linewidth=0, legend=False)\n",
    "\n",
    "# Add the regression line to the plot (no size argument here, as it's a line)\n",
    "plt.plot(humans['snp'], humans['predicted_env_risk'], color='red', label=f' Beta = {beta:.2f}\\n intercept = {intercept:.2f}')\n",
    "\n",
    "# Add thin gray lines at x = 0 and y = 0\n",
    "plt.axvline(x=0, color='gray', linestyle='-', linewidth=0.5)  # Vertical line at x = 0\n",
    "plt.axhline(y=intercept, color='gray', linestyle='-', linewidth=0.5)  # Vertical line at x = 0\n",
    "plt.axhline(y=0, color='gray', linestyle='-', linewidth=0.5)\n",
    "\n",
    "# Adjust layout\n",
    "plt.tight_layout()\n",
    "\n",
    "plt.title(f\"Environmental risk only -logP={logp_value}\")\n",
    "plt.legend()\n",
    "\n",
    "# Show the plot\n",
    "plt.show()\n",
    "plt.close()"
   ]
  },
  {
   "cell_type": "markdown",
   "id": "5cf26f4c-b1c3-4c5e-bc82-23d74a9490ad",
   "metadata": {},
   "source": [
    "# correction"
   ]
  },
  {
   "cell_type": "markdown",
   "id": "4c6cd29f-289c-4340-89ed-01ffbada9148",
   "metadata": {},
   "source": [
    "# X-X_mean"
   ]
  },
  {
   "cell_type": "code",
   "execution_count": 17,
   "id": "6a895912-7613-4dca-8431-d05ae4224771",
   "metadata": {},
   "outputs": [],
   "source": [
    "humans['snp_mean'] = humans['majaf'] - humans['minaf']"
   ]
  },
  {
   "cell_type": "code",
   "execution_count": 18,
   "id": "42caf2b1-523b-40ed-a2aa-f1915633c6c2",
   "metadata": {},
   "outputs": [],
   "source": [
    "humans['snp_shifted'] = humans['snp'] - humans['snp_mean']"
   ]
  },
  {
   "cell_type": "code",
   "execution_count": 19,
   "id": "8941ab03-c302-4fc1-9451-61f985e2a8ad",
   "metadata": {},
   "outputs": [],
   "source": [
    "# first check with snp effect = 1"
   ]
  },
  {
   "cell_type": "code",
   "execution_count": 20,
   "id": "caf4bb3a-2b25-43bc-8e49-885cb3d35da7",
   "metadata": {},
   "outputs": [],
   "source": [
    "humans['fake_effect'] = humans['snp']"
   ]
  },
  {
   "cell_type": "code",
   "execution_count": 21,
   "id": "55fc5590-6dc2-417c-a661-a7ed84264929",
   "metadata": {},
   "outputs": [
    {
     "name": "stdout",
     "output_type": "stream",
     "text": [
      "0.9999999999999998\n"
     ]
    }
   ],
   "source": [
    "X = humans[['snp_shifted']]  # Predictor variable\n",
    "y = humans['fake_effect']    # Response variable\n",
    "X = sm.add_constant(X)\n",
    "# Fit the model using statsmodels\n",
    "model = sm.OLS(y, X).fit()\n",
    "\n",
    "# Extract beta (slope), intercept, and p-value\n",
    "beta_fake = model.params['snp_shifted']\n",
    "print(beta_fake)\n",
    "intercept = model.params['const']\n",
    "p_value_fake = model.pvalues['snp_shifted']\n",
    "logp_value_fake = np.round(-np.log10(p_value),4)\n",
    "\n",
    "humans['correcting_for_shift'] = model.predict(X)"
   ]
  },
  {
   "cell_type": "code",
   "execution_count": 22,
   "id": "5eb0ef26-ad0a-4bdb-abb1-51f3fa2c5611",
   "metadata": {},
   "outputs": [
    {
     "data": {
      "text/plain": [
       "const         -0.371429\n",
       "snp_shifted    1.000000\n",
       "dtype: float64"
      ]
     },
     "execution_count": 22,
     "metadata": {},
     "output_type": "execute_result"
    }
   ],
   "source": [
    "model.params"
   ]
  },
  {
   "cell_type": "code",
   "execution_count": 20,
   "id": "c82cdaa5-b976-4af9-9d4b-17350960129c",
   "metadata": {},
   "outputs": [
    {
     "data": {
      "image/png": "[encoded data removed]",
      "text/plain": [
       "<Figure size 640x480 with 1 Axes>"
      ]
     },
     "metadata": {},
     "output_type": "display_data"
    }
   ],
   "source": [
    "# Create the scatter plot with seaborn, using size to represent pop_quantity\n",
    "sns.scatterplot(x='snp_shifted', y='fake_effect', data=humans, size='snp_nr', hue='pop',sizes=(20, 200), linewidth=0, legend=False)\n",
    "\n",
    "# Add the regression line to the plot (no size argument here, as it's a line)\n",
    "plt.plot(humans['snp_shifted'], humans['correcting_for_shift'], color='red', label=f' Beta = {beta:.2f}\\n intercept = {intercept:.2f}')\n",
    "\n",
    "# Add thin gray lines at x = 0 and y = 0\n",
    "plt.axvline(x=0, color='gray', linestyle='-', linewidth=0.5)  # Vertical line at x = 0\n",
    "plt.axhline(y=intercept, color='gray', linestyle='-', linewidth=0.5)  # Vertical line at x = 0\n",
    "plt.axhline(y=0, color='gray', linestyle='-', linewidth=0.5)\n",
    "\n",
    "# Adjust layout\n",
    "plt.tight_layout()\n",
    "\n",
    "plt.title(f\"Environmental risk only -logP={logp_value_fake}\")\n",
    "plt.legend()\n",
    "\n",
    "# Show the plot\n",
    "plt.show()\n",
    "plt.close()"
   ]
  },
  {
   "cell_type": "code",
   "execution_count": 21,
   "id": "ad5cfd80-c4b0-4148-bdc8-dd73d6018ed1",
   "metadata": {},
   "outputs": [],
   "source": [
    "humans['distances_from_fake_effect'] = humans['fake_effect'] - humans['correcting_for_shift']"
   ]
  },
  {
   "cell_type": "markdown",
   "id": "0833ca86-84d7-42e7-a41b-fdfa9fc6955f",
   "metadata": {},
   "source": [
    "# SNP shifted ENV"
   ]
  },
  {
   "cell_type": "code",
   "execution_count": 22,
   "id": "8eef1a05-1057-4c9e-a4b3-7384c32150b7",
   "metadata": {},
   "outputs": [
    {
     "name": "stdout",
     "output_type": "stream",
     "text": [
      "-1.6653345369377348e-16\n"
     ]
    }
   ],
   "source": [
    "X = humans[['snp_shifted']]  # Predictor variable\n",
    "y = humans['env_risk']    # Response variable\n",
    "X = sm.add_constant(X)\n",
    "# Fit the model using statsmodels\n",
    "model = sm.OLS(y, X).fit()\n",
    "\n",
    "# Extract beta (slope), intercept, and p-value\n",
    "beta = model.params['snp_shifted']\n",
    "print(beta)\n",
    "intercept = model.params['const']\n",
    "p_value = model.pvalues['snp_shifted']\n",
    "logp_value = np.round(-np.log10(p_value),4)\n",
    "\n",
    "humans['predicted_risk_env'] = model.predict(X)"
   ]
  },
  {
   "cell_type": "code",
   "execution_count": 23,
   "id": "6591e05e-636d-49a3-a639-86a9837e2d40",
   "metadata": {},
   "outputs": [
    {
     "data": {
      "image/png": "[encoded data removed]",
      "text/plain": [
       "<Figure size 640x480 with 1 Axes>"
      ]
     },
     "metadata": {},
     "output_type": "display_data"
    }
   ],
   "source": [
    "# Create the scatter plot with seaborn, using size to represent pop_quantity\n",
    "sns.scatterplot(x='snp_shifted', y='env_risk', data=humans, size='snp_nr', hue='pop',sizes=(20, 200), linewidth=0, legend=False)\n",
    "\n",
    "# Add the regression line to the plot (no size argument here, as it's a line)\n",
    "plt.plot(humans['snp_shifted'], humans['predicted_risk_env'], color='red', label=f' Beta = {beta:.2f}\\n intercept = {intercept:.2f}')\n",
    "\n",
    "# Add thin gray lines at x = 0 and y = 0\n",
    "plt.axvline(x=0, color='gray', linestyle='-', linewidth=0.5)  # Vertical line at x = 0\n",
    "plt.axhline(y=intercept, color='gray', linestyle='-', linewidth=0.5)  # Vertical line at x = 0\n",
    "plt.axhline(y=0, color='gray', linestyle='-', linewidth=0.5)\n",
    "\n",
    "# Adjust layout\n",
    "plt.tight_layout()\n",
    "\n",
    "plt.title(f\"Environmental risk only -logP={logp_value_fake}\")\n",
    "plt.legend()\n",
    "\n",
    "# Show the plot\n",
    "plt.show()\n",
    "plt.close()"
   ]
  },
  {
   "cell_type": "markdown",
   "id": "80498404-f0c0-4e93-b313-158f3b9de94f",
   "metadata": {},
   "source": [
    "# residual"
   ]
  },
  {
   "cell_type": "code",
   "execution_count": 26,
   "id": "309b39f8-d4f7-4534-a9b7-aaf7883afa23",
   "metadata": {},
   "outputs": [],
   "source": [
    "humans['env_only_predicted_popstrat'] = humans['env_risk'] - humans['predicted_risk_env']- humans['distances_from_fake_effect']*(beta/beta_fake)"
   ]
  },
  {
   "cell_type": "code",
   "execution_count": 27,
   "id": "40407938-2cde-4ef3-ba8c-698ecec98948",
   "metadata": {},
   "outputs": [
    {
     "data": {
      "text/html": [
       "<div>\n",
       "<style scoped>\n",
       "    .dataframe tbody tr th:only-of-type {\n",
       "        vertical-align: middle;\n",
       "    }\n",
       "\n",
       "    .dataframe tbody tr th {\n",
       "        vertical-align: top;\n",
       "    }\n",
       "\n",
       "    .dataframe thead th {\n",
       "        text-align: right;\n",
       "    }\n",
       "</style>\n",
       "<table border=\"1\" class=\"dataframe\">\n",
       "  <thead>\n",
       "    <tr style=\"text-align: right;\">\n",
       "      <th></th>\n",
       "      <th>snp_-1</th>\n",
       "      <th>snp_0</th>\n",
       "      <th>snp_1</th>\n",
       "      <th>snp</th>\n",
       "      <th>snp_nr</th>\n",
       "      <th>minaf</th>\n",
       "      <th>hetaf</th>\n",
       "      <th>majaf</th>\n",
       "      <th>pop</th>\n",
       "      <th>pop_quantity</th>\n",
       "      <th>env_risk</th>\n",
       "      <th>predicted_env_risk</th>\n",
       "      <th>snp_mean</th>\n",
       "      <th>snp_shifted</th>\n",
       "      <th>fake_effect</th>\n",
       "      <th>correcting_for_shift</th>\n",
       "      <th>distances_from_fake_effect</th>\n",
       "      <th>predicted_risk_env</th>\n",
       "      <th>env_only_predicted_risk</th>\n",
       "      <th>env_only_predicted_popstrat</th>\n",
       "    </tr>\n",
       "  </thead>\n",
       "  <tbody>\n",
       "    <tr>\n",
       "      <th>0</th>\n",
       "      <td>1</td>\n",
       "      <td>0</td>\n",
       "      <td>0</td>\n",
       "      <td>-1</td>\n",
       "      <td>1.00</td>\n",
       "      <td>0.8</td>\n",
       "      <td>0.1</td>\n",
       "      <td>0.1</td>\n",
       "      <td>pop1</td>\n",
       "      <td>50</td>\n",
       "      <td>-2.428571</td>\n",
       "      <td>-1.235272</td>\n",
       "      <td>-0.7</td>\n",
       "      <td>-0.3</td>\n",
       "      <td>-1</td>\n",
       "      <td>-0.671429</td>\n",
       "      <td>-0.328571</td>\n",
       "      <td>8.271162e-16</td>\n",
       "      <td>-2.428571</td>\n",
       "      <td>-2.428571</td>\n",
       "    </tr>\n",
       "    <tr>\n",
       "      <th>1</th>\n",
       "      <td>1</td>\n",
       "      <td>0</td>\n",
       "      <td>0</td>\n",
       "      <td>-1</td>\n",
       "      <td>1.00</td>\n",
       "      <td>0.8</td>\n",
       "      <td>0.1</td>\n",
       "      <td>0.1</td>\n",
       "      <td>pop1</td>\n",
       "      <td>50</td>\n",
       "      <td>-2.428571</td>\n",
       "      <td>-1.235272</td>\n",
       "      <td>-0.7</td>\n",
       "      <td>-0.3</td>\n",
       "      <td>-1</td>\n",
       "      <td>-0.671429</td>\n",
       "      <td>-0.328571</td>\n",
       "      <td>8.271162e-16</td>\n",
       "      <td>-2.428571</td>\n",
       "      <td>-2.428571</td>\n",
       "    </tr>\n",
       "    <tr>\n",
       "      <th>2</th>\n",
       "      <td>1</td>\n",
       "      <td>0</td>\n",
       "      <td>0</td>\n",
       "      <td>-1</td>\n",
       "      <td>1.00</td>\n",
       "      <td>0.8</td>\n",
       "      <td>0.1</td>\n",
       "      <td>0.1</td>\n",
       "      <td>pop1</td>\n",
       "      <td>50</td>\n",
       "      <td>-2.428571</td>\n",
       "      <td>-1.235272</td>\n",
       "      <td>-0.7</td>\n",
       "      <td>-0.3</td>\n",
       "      <td>-1</td>\n",
       "      <td>-0.671429</td>\n",
       "      <td>-0.328571</td>\n",
       "      <td>8.271162e-16</td>\n",
       "      <td>-2.428571</td>\n",
       "      <td>-2.428571</td>\n",
       "    </tr>\n",
       "    <tr>\n",
       "      <th>3</th>\n",
       "      <td>1</td>\n",
       "      <td>0</td>\n",
       "      <td>0</td>\n",
       "      <td>-1</td>\n",
       "      <td>1.00</td>\n",
       "      <td>0.8</td>\n",
       "      <td>0.1</td>\n",
       "      <td>0.1</td>\n",
       "      <td>pop1</td>\n",
       "      <td>50</td>\n",
       "      <td>-2.428571</td>\n",
       "      <td>-1.235272</td>\n",
       "      <td>-0.7</td>\n",
       "      <td>-0.3</td>\n",
       "      <td>-1</td>\n",
       "      <td>-0.671429</td>\n",
       "      <td>-0.328571</td>\n",
       "      <td>8.271162e-16</td>\n",
       "      <td>-2.428571</td>\n",
       "      <td>-2.428571</td>\n",
       "    </tr>\n",
       "    <tr>\n",
       "      <th>4</th>\n",
       "      <td>1</td>\n",
       "      <td>0</td>\n",
       "      <td>0</td>\n",
       "      <td>-1</td>\n",
       "      <td>1.00</td>\n",
       "      <td>0.8</td>\n",
       "      <td>0.1</td>\n",
       "      <td>0.1</td>\n",
       "      <td>pop1</td>\n",
       "      <td>50</td>\n",
       "      <td>-2.428571</td>\n",
       "      <td>-1.235272</td>\n",
       "      <td>-0.7</td>\n",
       "      <td>-0.3</td>\n",
       "      <td>-1</td>\n",
       "      <td>-0.671429</td>\n",
       "      <td>-0.328571</td>\n",
       "      <td>8.271162e-16</td>\n",
       "      <td>-2.428571</td>\n",
       "      <td>-2.428571</td>\n",
       "    </tr>\n",
       "    <tr>\n",
       "      <th>...</th>\n",
       "      <td>...</td>\n",
       "      <td>...</td>\n",
       "      <td>...</td>\n",
       "      <td>...</td>\n",
       "      <td>...</td>\n",
       "      <td>...</td>\n",
       "      <td>...</td>\n",
       "      <td>...</td>\n",
       "      <td>...</td>\n",
       "      <td>...</td>\n",
       "      <td>...</td>\n",
       "      <td>...</td>\n",
       "      <td>...</td>\n",
       "      <td>...</td>\n",
       "      <td>...</td>\n",
       "      <td>...</td>\n",
       "      <td>...</td>\n",
       "      <td>...</td>\n",
       "      <td>...</td>\n",
       "      <td>...</td>\n",
       "    </tr>\n",
       "    <tr>\n",
       "      <th>65</th>\n",
       "      <td>0</td>\n",
       "      <td>1</td>\n",
       "      <td>0</td>\n",
       "      <td>0</td>\n",
       "      <td>0.20</td>\n",
       "      <td>0.0</td>\n",
       "      <td>0.8</td>\n",
       "      <td>0.2</td>\n",
       "      <td>pop3</td>\n",
       "      <td>10</td>\n",
       "      <td>16.571429</td>\n",
       "      <td>0.729934</td>\n",
       "      <td>0.2</td>\n",
       "      <td>-0.2</td>\n",
       "      <td>0</td>\n",
       "      <td>-0.571429</td>\n",
       "      <td>0.571429</td>\n",
       "      <td>8.104628e-16</td>\n",
       "      <td>16.571429</td>\n",
       "      <td>16.571429</td>\n",
       "    </tr>\n",
       "    <tr>\n",
       "      <th>66</th>\n",
       "      <td>0</td>\n",
       "      <td>1</td>\n",
       "      <td>0</td>\n",
       "      <td>0</td>\n",
       "      <td>0.20</td>\n",
       "      <td>0.0</td>\n",
       "      <td>0.8</td>\n",
       "      <td>0.2</td>\n",
       "      <td>pop3</td>\n",
       "      <td>10</td>\n",
       "      <td>16.571429</td>\n",
       "      <td>0.729934</td>\n",
       "      <td>0.2</td>\n",
       "      <td>-0.2</td>\n",
       "      <td>0</td>\n",
       "      <td>-0.571429</td>\n",
       "      <td>0.571429</td>\n",
       "      <td>8.104628e-16</td>\n",
       "      <td>16.571429</td>\n",
       "      <td>16.571429</td>\n",
       "    </tr>\n",
       "    <tr>\n",
       "      <th>67</th>\n",
       "      <td>0</td>\n",
       "      <td>1</td>\n",
       "      <td>0</td>\n",
       "      <td>0</td>\n",
       "      <td>0.20</td>\n",
       "      <td>0.0</td>\n",
       "      <td>0.8</td>\n",
       "      <td>0.2</td>\n",
       "      <td>pop3</td>\n",
       "      <td>10</td>\n",
       "      <td>16.571429</td>\n",
       "      <td>0.729934</td>\n",
       "      <td>0.2</td>\n",
       "      <td>-0.2</td>\n",
       "      <td>0</td>\n",
       "      <td>-0.571429</td>\n",
       "      <td>0.571429</td>\n",
       "      <td>8.104628e-16</td>\n",
       "      <td>16.571429</td>\n",
       "      <td>16.571429</td>\n",
       "    </tr>\n",
       "    <tr>\n",
       "      <th>68</th>\n",
       "      <td>0</td>\n",
       "      <td>0</td>\n",
       "      <td>1</td>\n",
       "      <td>1</td>\n",
       "      <td>0.05</td>\n",
       "      <td>0.0</td>\n",
       "      <td>0.8</td>\n",
       "      <td>0.2</td>\n",
       "      <td>pop3</td>\n",
       "      <td>10</td>\n",
       "      <td>16.571429</td>\n",
       "      <td>2.695140</td>\n",
       "      <td>0.2</td>\n",
       "      <td>0.8</td>\n",
       "      <td>1</td>\n",
       "      <td>0.428571</td>\n",
       "      <td>0.571429</td>\n",
       "      <td>6.439294e-16</td>\n",
       "      <td>16.571429</td>\n",
       "      <td>16.571429</td>\n",
       "    </tr>\n",
       "    <tr>\n",
       "      <th>69</th>\n",
       "      <td>0</td>\n",
       "      <td>0</td>\n",
       "      <td>1</td>\n",
       "      <td>1</td>\n",
       "      <td>0.05</td>\n",
       "      <td>0.0</td>\n",
       "      <td>0.8</td>\n",
       "      <td>0.2</td>\n",
       "      <td>pop3</td>\n",
       "      <td>10</td>\n",
       "      <td>16.571429</td>\n",
       "      <td>2.695140</td>\n",
       "      <td>0.2</td>\n",
       "      <td>0.8</td>\n",
       "      <td>1</td>\n",
       "      <td>0.428571</td>\n",
       "      <td>0.571429</td>\n",
       "      <td>6.439294e-16</td>\n",
       "      <td>16.571429</td>\n",
       "      <td>16.571429</td>\n",
       "    </tr>\n",
       "  </tbody>\n",
       "</table>\n",
       "<p>70 rows × 20 columns</p>\n",
       "</div>"
      ],
      "text/plain": [
       "    snp_-1  snp_0  snp_1  snp  snp_nr  minaf  hetaf  majaf   pop  \\\n",
       "0        1      0      0   -1    1.00    0.8    0.1    0.1  pop1   \n",
       "1        1      0      0   -1    1.00    0.8    0.1    0.1  pop1   \n",
       "2        1      0      0   -1    1.00    0.8    0.1    0.1  pop1   \n",
       "3        1      0      0   -1    1.00    0.8    0.1    0.1  pop1   \n",
       "4        1      0      0   -1    1.00    0.8    0.1    0.1  pop1   \n",
       "..     ...    ...    ...  ...     ...    ...    ...    ...   ...   \n",
       "65       0      1      0    0    0.20    0.0    0.8    0.2  pop3   \n",
       "66       0      1      0    0    0.20    0.0    0.8    0.2  pop3   \n",
       "67       0      1      0    0    0.20    0.0    0.8    0.2  pop3   \n",
       "68       0      0      1    1    0.05    0.0    0.8    0.2  pop3   \n",
       "69       0      0      1    1    0.05    0.0    0.8    0.2  pop3   \n",
       "\n",
       "    pop_quantity   env_risk  predicted_env_risk  snp_mean  snp_shifted  \\\n",
       "0             50  -2.428571           -1.235272      -0.7         -0.3   \n",
       "1             50  -2.428571           -1.235272      -0.7         -0.3   \n",
       "2             50  -2.428571           -1.235272      -0.7         -0.3   \n",
       "3             50  -2.428571           -1.235272      -0.7         -0.3   \n",
       "4             50  -2.428571           -1.235272      -0.7         -0.3   \n",
       "..           ...        ...                 ...       ...          ...   \n",
       "65            10  16.571429            0.729934       0.2         -0.2   \n",
       "66            10  16.571429            0.729934       0.2         -0.2   \n",
       "67            10  16.571429            0.729934       0.2         -0.2   \n",
       "68            10  16.571429            2.695140       0.2          0.8   \n",
       "69            10  16.571429            2.695140       0.2          0.8   \n",
       "\n",
       "    fake_effect  correcting_for_shift  distances_from_fake_effect  \\\n",
       "0            -1             -0.671429                   -0.328571   \n",
       "1            -1             -0.671429                   -0.328571   \n",
       "2            -1             -0.671429                   -0.328571   \n",
       "3            -1             -0.671429                   -0.328571   \n",
       "4            -1             -0.671429                   -0.328571   \n",
       "..          ...                   ...                         ...   \n",
       "65            0             -0.571429                    0.571429   \n",
       "66            0             -0.571429                    0.571429   \n",
       "67            0             -0.571429                    0.571429   \n",
       "68            1              0.428571                    0.571429   \n",
       "69            1              0.428571                    0.571429   \n",
       "\n",
       "    predicted_risk_env  env_only_predicted_risk  env_only_predicted_popstrat  \n",
       "0         8.271162e-16                -2.428571                    -2.428571  \n",
       "1         8.271162e-16                -2.428571                    -2.428571  \n",
       "2         8.271162e-16                -2.428571                    -2.428571  \n",
       "3         8.271162e-16                -2.428571                    -2.428571  \n",
       "4         8.271162e-16                -2.428571                    -2.428571  \n",
       "..                 ...                      ...                          ...  \n",
       "65        8.104628e-16                16.571429                    16.571429  \n",
       "66        8.104628e-16                16.571429                    16.571429  \n",
       "67        8.104628e-16                16.571429                    16.571429  \n",
       "68        6.439294e-16                16.571429                    16.571429  \n",
       "69        6.439294e-16                16.571429                    16.571429  \n",
       "\n",
       "[70 rows x 20 columns]"
      ]
     },
     "execution_count": 27,
     "metadata": {},
     "output_type": "execute_result"
    }
   ],
   "source": [
    "humans"
   ]
  },
  {
   "cell_type": "markdown",
   "id": "079a999b-f0e7-4046-b4f4-c8571262ba42",
   "metadata": {},
   "source": [
    "# Add effect"
   ]
  },
  {
   "cell_type": "markdown",
   "id": "cb04426b-630f-45c9-8b4c-c283048f1d39",
   "metadata": {},
   "source": [
    "# No corr"
   ]
  },
  {
   "cell_type": "code",
   "execution_count": 28,
   "id": "5023440a-80b7-454f-95c2-19d14ec047e7",
   "metadata": {},
   "outputs": [],
   "source": [
    "effect = 0.5"
   ]
  },
  {
   "cell_type": "code",
   "execution_count": 29,
   "id": "0d96e589-4a42-4b00-b3b0-3768e1810003",
   "metadata": {},
   "outputs": [],
   "source": [
    "humans['causal_risk'] = effect*humans['snp']"
   ]
  },
  {
   "cell_type": "code",
   "execution_count": 30,
   "id": "e4b24373-fb50-4f93-86d4-95d7182d6838",
   "metadata": {},
   "outputs": [
    {
     "name": "stdout",
     "output_type": "stream",
     "text": [
      "0.5\n"
     ]
    }
   ],
   "source": [
    "X = humans[['snp']]  # Predictor variable\n",
    "y = humans['causal_risk']    # Response variable\n",
    "\n",
    "# Add a constant to the predictor variable (for intercept)\n",
    "X = sm.add_constant(X)\n",
    "\n",
    "# Fit the model using statsmodels\n",
    "model = sm.OLS(y, X).fit()\n",
    "\n",
    "# Extract beta (slope), intercept, and p-value\n",
    "beta = model.params['snp']\n",
    "print(beta)\n",
    "intercept = model.params['const']\n",
    "p_value = model.pvalues['snp']\n",
    "logp_value = np.round(-np.log10(p_value),4)\n",
    "\n",
    "humans['predicted_risk_causal'] = model.predict(X)"
   ]
  },
  {
   "cell_type": "code",
   "execution_count": 31,
   "id": "a867cdc0-e07b-4577-9810-824a1432878a",
   "metadata": {},
   "outputs": [
    {
     "data": {
      "image/png": "[encoded data removed]",
      "text/plain": [
       "<Figure size 640x480 with 1 Axes>"
      ]
     },
     "metadata": {},
     "output_type": "display_data"
    }
   ],
   "source": [
    "# Create the scatter plot with seaborn, using size to represent pop_quantity\n",
    "sns.scatterplot(x='snp', y='causal_risk', data=humans, size='snp_nr', hue='pop',sizes=(20, 200), linewidth=0, legend=False)\n",
    "\n",
    "# Add the regression line to the plot (no size argument here, as it's a line)\n",
    "plt.plot(humans['snp'], humans['predicted_risk_causal'], color='red', label=f' Beta = {beta:.2f}\\n intercept = {intercept:.2f}')\n",
    "\n",
    "# Add thin gray lines at x = 0 and y = 0\n",
    "plt.axvline(x=0, color='gray', linestyle='-', linewidth=0.5)  # Vertical line at x = 0\n",
    "plt.axhline(y=intercept, color='gray', linestyle='-', linewidth=0.5)  # Vertical line at x = 0\n",
    "plt.axhline(y=0, color='gray', linestyle='-', linewidth=0.5)\n",
    "\n",
    "# Adjust layout\n",
    "plt.tight_layout()\n",
    "\n",
    "plt.title(f\"Environmental risk only -logP={logp_value}\")\n",
    "plt.legend()\n",
    "\n",
    "# Show the plot\n",
    "plt.show()\n",
    "plt.close()"
   ]
  },
  {
   "cell_type": "markdown",
   "id": "65954e59-b5c5-4f1e-9783-136eca3f912c",
   "metadata": {},
   "source": [
    "# X-X_mean"
   ]
  },
  {
   "cell_type": "code",
   "execution_count": 32,
   "id": "6c33e81f-cbf5-488a-af52-6f54e90e1226",
   "metadata": {},
   "outputs": [
    {
     "name": "stdout",
     "output_type": "stream",
     "text": [
      "0.4999999999999999\n"
     ]
    }
   ],
   "source": [
    "X = humans[['snp_shifted']]  # Predictor variable\n",
    "y = humans['causal_risk']    # Response variable\n",
    "\n",
    "# Add a constant to the predictor variable (for intercept)\n",
    "X = sm.add_constant(X)\n",
    "\n",
    "# Fit the model using statsmodels\n",
    "model = sm.OLS(y, X).fit()\n",
    "\n",
    "# Extract beta (slope), intercept, and p-value\n",
    "beta = model.params['snp_shifted']\n",
    "print(beta)\n",
    "intercept = model.params['const']\n",
    "p_value = model.pvalues['snp_shifted']\n",
    "logp_value = np.round(-np.log10(p_value),4)\n",
    "\n",
    "humans['predicted_risk_causal'] = model.predict(X)\n"
   ]
  },
  {
   "cell_type": "code",
   "execution_count": 33,
   "id": "671f920c-0f82-497a-a2f4-3d3488008494",
   "metadata": {},
   "outputs": [
    {
     "data": {
      "image/png": "[encoded data removed]",
      "text/plain": [
       "<Figure size 640x480 with 1 Axes>"
      ]
     },
     "metadata": {},
     "output_type": "display_data"
    }
   ],
   "source": [
    "# Create the scatter plot with seaborn, using size to represent pop_quantity\n",
    "sns.scatterplot(x='snp_shifted', y='causal_risk', data=humans, size='snp_nr', hue='pop',sizes=(20, 200), linewidth=0, legend=False)\n",
    "\n",
    "# Add the regression line to the plot (no size argument here, as it's a line)\n",
    "plt.plot(humans['snp_shifted'], humans['predicted_risk_causal'], color='red', label=f' Beta = {beta:.2f}\\n intercept = {intercept:.2f}')\n",
    "\n",
    "# Add thin gray lines at x = 0 and y = 0\n",
    "plt.axvline(x=0, color='gray', linestyle='-', linewidth=0.5)  # Vertical line at x = 0\n",
    "plt.axhline(y=intercept, color='gray', linestyle='-', linewidth=0.5)  # Vertical line at x = 0\n",
    "plt.axhline(y=0, color='gray', linestyle='-', linewidth=0.5)\n",
    "\n",
    "# Adjust layout\n",
    "plt.tight_layout()\n",
    "\n",
    "plt.title(f\"Environmental risk only -logP={logp_value}\")\n",
    "plt.legend()\n",
    "\n",
    "# Show the plot\n",
    "plt.show()\n",
    "plt.close()"
   ]
  },
  {
   "cell_type": "markdown",
   "id": "09d22008-6b4d-4c47-84dc-8a6b66ceeeb0",
   "metadata": {},
   "source": [
    "# Residual causal"
   ]
  },
  {
   "cell_type": "code",
   "execution_count": 36,
   "id": "0359244f-c247-48a1-b48b-cdd19d502cc4",
   "metadata": {},
   "outputs": [],
   "source": [
    "humans['causal_only_predicted_popstrat'] = humans['causal_risk'] - humans['predicted_risk_causal'] - humans['distances_from_fake_effect']*(beta/beta_fake)"
   ]
  },
  {
   "cell_type": "code",
   "execution_count": 38,
   "id": "d5c583f1-e116-45ba-8fbc-b8a50c8a6f32",
   "metadata": {},
   "outputs": [],
   "source": [
    "humans['causal_risk_corrected'] = humans['causal_risk']-humans['distances_from_fake_effect']*(beta/beta_fake)"
   ]
  },
  {
   "cell_type": "code",
   "execution_count": 39,
   "id": "3860f0bd-cd1d-4722-9ac5-25bf1466055b",
   "metadata": {},
   "outputs": [
    {
     "data": {
      "text/html": [
       "<div>\n",
       "<style scoped>\n",
       "    .dataframe tbody tr th:only-of-type {\n",
       "        vertical-align: middle;\n",
       "    }\n",
       "\n",
       "    .dataframe tbody tr th {\n",
       "        vertical-align: top;\n",
       "    }\n",
       "\n",
       "    .dataframe thead th {\n",
       "        text-align: right;\n",
       "    }\n",
       "</style>\n",
       "<table border=\"1\" class=\"dataframe\">\n",
       "  <thead>\n",
       "    <tr style=\"text-align: right;\">\n",
       "      <th></th>\n",
       "      <th>snp_-1</th>\n",
       "      <th>snp_0</th>\n",
       "      <th>snp_1</th>\n",
       "      <th>snp</th>\n",
       "      <th>snp_nr</th>\n",
       "      <th>minaf</th>\n",
       "      <th>hetaf</th>\n",
       "      <th>majaf</th>\n",
       "      <th>pop</th>\n",
       "      <th>pop_quantity</th>\n",
       "      <th>...</th>\n",
       "      <th>fake_effect</th>\n",
       "      <th>correcting_for_shift</th>\n",
       "      <th>distances_from_fake_effect</th>\n",
       "      <th>predicted_risk_env</th>\n",
       "      <th>env_only_predicted_risk</th>\n",
       "      <th>env_only_predicted_popstrat</th>\n",
       "      <th>causal_risk</th>\n",
       "      <th>predicted_risk_causal</th>\n",
       "      <th>causal_only_predicted_popstrat</th>\n",
       "      <th>causal_risk_corrected</th>\n",
       "    </tr>\n",
       "  </thead>\n",
       "  <tbody>\n",
       "    <tr>\n",
       "      <th>0</th>\n",
       "      <td>1</td>\n",
       "      <td>0</td>\n",
       "      <td>0</td>\n",
       "      <td>-1</td>\n",
       "      <td>1.00</td>\n",
       "      <td>0.8</td>\n",
       "      <td>0.1</td>\n",
       "      <td>0.1</td>\n",
       "      <td>pop1</td>\n",
       "      <td>50</td>\n",
       "      <td>...</td>\n",
       "      <td>-1</td>\n",
       "      <td>-0.671429</td>\n",
       "      <td>-0.328571</td>\n",
       "      <td>8.271162e-16</td>\n",
       "      <td>-2.428571</td>\n",
       "      <td>-2.428571</td>\n",
       "      <td>-0.5</td>\n",
       "      <td>-0.335714</td>\n",
       "      <td>0.0</td>\n",
       "      <td>-0.335714</td>\n",
       "    </tr>\n",
       "    <tr>\n",
       "      <th>1</th>\n",
       "      <td>1</td>\n",
       "      <td>0</td>\n",
       "      <td>0</td>\n",
       "      <td>-1</td>\n",
       "      <td>1.00</td>\n",
       "      <td>0.8</td>\n",
       "      <td>0.1</td>\n",
       "      <td>0.1</td>\n",
       "      <td>pop1</td>\n",
       "      <td>50</td>\n",
       "      <td>...</td>\n",
       "      <td>-1</td>\n",
       "      <td>-0.671429</td>\n",
       "      <td>-0.328571</td>\n",
       "      <td>8.271162e-16</td>\n",
       "      <td>-2.428571</td>\n",
       "      <td>-2.428571</td>\n",
       "      <td>-0.5</td>\n",
       "      <td>-0.335714</td>\n",
       "      <td>0.0</td>\n",
       "      <td>-0.335714</td>\n",
       "    </tr>\n",
       "    <tr>\n",
       "      <th>2</th>\n",
       "      <td>1</td>\n",
       "      <td>0</td>\n",
       "      <td>0</td>\n",
       "      <td>-1</td>\n",
       "      <td>1.00</td>\n",
       "      <td>0.8</td>\n",
       "      <td>0.1</td>\n",
       "      <td>0.1</td>\n",
       "      <td>pop1</td>\n",
       "      <td>50</td>\n",
       "      <td>...</td>\n",
       "      <td>-1</td>\n",
       "      <td>-0.671429</td>\n",
       "      <td>-0.328571</td>\n",
       "      <td>8.271162e-16</td>\n",
       "      <td>-2.428571</td>\n",
       "      <td>-2.428571</td>\n",
       "      <td>-0.5</td>\n",
       "      <td>-0.335714</td>\n",
       "      <td>0.0</td>\n",
       "      <td>-0.335714</td>\n",
       "    </tr>\n",
       "    <tr>\n",
       "      <th>3</th>\n",
       "      <td>1</td>\n",
       "      <td>0</td>\n",
       "      <td>0</td>\n",
       "      <td>-1</td>\n",
       "      <td>1.00</td>\n",
       "      <td>0.8</td>\n",
       "      <td>0.1</td>\n",
       "      <td>0.1</td>\n",
       "      <td>pop1</td>\n",
       "      <td>50</td>\n",
       "      <td>...</td>\n",
       "      <td>-1</td>\n",
       "      <td>-0.671429</td>\n",
       "      <td>-0.328571</td>\n",
       "      <td>8.271162e-16</td>\n",
       "      <td>-2.428571</td>\n",
       "      <td>-2.428571</td>\n",
       "      <td>-0.5</td>\n",
       "      <td>-0.335714</td>\n",
       "      <td>0.0</td>\n",
       "      <td>-0.335714</td>\n",
       "    </tr>\n",
       "    <tr>\n",
       "      <th>4</th>\n",
       "      <td>1</td>\n",
       "      <td>0</td>\n",
       "      <td>0</td>\n",
       "      <td>-1</td>\n",
       "      <td>1.00</td>\n",
       "      <td>0.8</td>\n",
       "      <td>0.1</td>\n",
       "      <td>0.1</td>\n",
       "      <td>pop1</td>\n",
       "      <td>50</td>\n",
       "      <td>...</td>\n",
       "      <td>-1</td>\n",
       "      <td>-0.671429</td>\n",
       "      <td>-0.328571</td>\n",
       "      <td>8.271162e-16</td>\n",
       "      <td>-2.428571</td>\n",
       "      <td>-2.428571</td>\n",
       "      <td>-0.5</td>\n",
       "      <td>-0.335714</td>\n",
       "      <td>0.0</td>\n",
       "      <td>-0.335714</td>\n",
       "    </tr>\n",
       "    <tr>\n",
       "      <th>...</th>\n",
       "      <td>...</td>\n",
       "      <td>...</td>\n",
       "      <td>...</td>\n",
       "      <td>...</td>\n",
       "      <td>...</td>\n",
       "      <td>...</td>\n",
       "      <td>...</td>\n",
       "      <td>...</td>\n",
       "      <td>...</td>\n",
       "      <td>...</td>\n",
       "      <td>...</td>\n",
       "      <td>...</td>\n",
       "      <td>...</td>\n",
       "      <td>...</td>\n",
       "      <td>...</td>\n",
       "      <td>...</td>\n",
       "      <td>...</td>\n",
       "      <td>...</td>\n",
       "      <td>...</td>\n",
       "      <td>...</td>\n",
       "      <td>...</td>\n",
       "    </tr>\n",
       "    <tr>\n",
       "      <th>65</th>\n",
       "      <td>0</td>\n",
       "      <td>1</td>\n",
       "      <td>0</td>\n",
       "      <td>0</td>\n",
       "      <td>0.20</td>\n",
       "      <td>0.0</td>\n",
       "      <td>0.8</td>\n",
       "      <td>0.2</td>\n",
       "      <td>pop3</td>\n",
       "      <td>10</td>\n",
       "      <td>...</td>\n",
       "      <td>0</td>\n",
       "      <td>-0.571429</td>\n",
       "      <td>0.571429</td>\n",
       "      <td>8.104628e-16</td>\n",
       "      <td>16.571429</td>\n",
       "      <td>16.571429</td>\n",
       "      <td>0.0</td>\n",
       "      <td>-0.285714</td>\n",
       "      <td>0.0</td>\n",
       "      <td>-0.285714</td>\n",
       "    </tr>\n",
       "    <tr>\n",
       "      <th>66</th>\n",
       "      <td>0</td>\n",
       "      <td>1</td>\n",
       "      <td>0</td>\n",
       "      <td>0</td>\n",
       "      <td>0.20</td>\n",
       "      <td>0.0</td>\n",
       "      <td>0.8</td>\n",
       "      <td>0.2</td>\n",
       "      <td>pop3</td>\n",
       "      <td>10</td>\n",
       "      <td>...</td>\n",
       "      <td>0</td>\n",
       "      <td>-0.571429</td>\n",
       "      <td>0.571429</td>\n",
       "      <td>8.104628e-16</td>\n",
       "      <td>16.571429</td>\n",
       "      <td>16.571429</td>\n",
       "      <td>0.0</td>\n",
       "      <td>-0.285714</td>\n",
       "      <td>0.0</td>\n",
       "      <td>-0.285714</td>\n",
       "    </tr>\n",
       "    <tr>\n",
       "      <th>67</th>\n",
       "      <td>0</td>\n",
       "      <td>1</td>\n",
       "      <td>0</td>\n",
       "      <td>0</td>\n",
       "      <td>0.20</td>\n",
       "      <td>0.0</td>\n",
       "      <td>0.8</td>\n",
       "      <td>0.2</td>\n",
       "      <td>pop3</td>\n",
       "      <td>10</td>\n",
       "      <td>...</td>\n",
       "      <td>0</td>\n",
       "      <td>-0.571429</td>\n",
       "      <td>0.571429</td>\n",
       "      <td>8.104628e-16</td>\n",
       "      <td>16.571429</td>\n",
       "      <td>16.571429</td>\n",
       "      <td>0.0</td>\n",
       "      <td>-0.285714</td>\n",
       "      <td>0.0</td>\n",
       "      <td>-0.285714</td>\n",
       "    </tr>\n",
       "    <tr>\n",
       "      <th>68</th>\n",
       "      <td>0</td>\n",
       "      <td>0</td>\n",
       "      <td>1</td>\n",
       "      <td>1</td>\n",
       "      <td>0.05</td>\n",
       "      <td>0.0</td>\n",
       "      <td>0.8</td>\n",
       "      <td>0.2</td>\n",
       "      <td>pop3</td>\n",
       "      <td>10</td>\n",
       "      <td>...</td>\n",
       "      <td>1</td>\n",
       "      <td>0.428571</td>\n",
       "      <td>0.571429</td>\n",
       "      <td>6.439294e-16</td>\n",
       "      <td>16.571429</td>\n",
       "      <td>16.571429</td>\n",
       "      <td>0.5</td>\n",
       "      <td>0.214286</td>\n",
       "      <td>0.0</td>\n",
       "      <td>0.214286</td>\n",
       "    </tr>\n",
       "    <tr>\n",
       "      <th>69</th>\n",
       "      <td>0</td>\n",
       "      <td>0</td>\n",
       "      <td>1</td>\n",
       "      <td>1</td>\n",
       "      <td>0.05</td>\n",
       "      <td>0.0</td>\n",
       "      <td>0.8</td>\n",
       "      <td>0.2</td>\n",
       "      <td>pop3</td>\n",
       "      <td>10</td>\n",
       "      <td>...</td>\n",
       "      <td>1</td>\n",
       "      <td>0.428571</td>\n",
       "      <td>0.571429</td>\n",
       "      <td>6.439294e-16</td>\n",
       "      <td>16.571429</td>\n",
       "      <td>16.571429</td>\n",
       "      <td>0.5</td>\n",
       "      <td>0.214286</td>\n",
       "      <td>0.0</td>\n",
       "      <td>0.214286</td>\n",
       "    </tr>\n",
       "  </tbody>\n",
       "</table>\n",
       "<p>70 rows × 24 columns</p>\n",
       "</div>"
      ],
      "text/plain": [
       "    snp_-1  snp_0  snp_1  snp  snp_nr  minaf  hetaf  majaf   pop  \\\n",
       "0        1      0      0   -1    1.00    0.8    0.1    0.1  pop1   \n",
       "1        1      0      0   -1    1.00    0.8    0.1    0.1  pop1   \n",
       "2        1      0      0   -1    1.00    0.8    0.1    0.1  pop1   \n",
       "3        1      0      0   -1    1.00    0.8    0.1    0.1  pop1   \n",
       "4        1      0      0   -1    1.00    0.8    0.1    0.1  pop1   \n",
       "..     ...    ...    ...  ...     ...    ...    ...    ...   ...   \n",
       "65       0      1      0    0    0.20    0.0    0.8    0.2  pop3   \n",
       "66       0      1      0    0    0.20    0.0    0.8    0.2  pop3   \n",
       "67       0      1      0    0    0.20    0.0    0.8    0.2  pop3   \n",
       "68       0      0      1    1    0.05    0.0    0.8    0.2  pop3   \n",
       "69       0      0      1    1    0.05    0.0    0.8    0.2  pop3   \n",
       "\n",
       "    pop_quantity  ...  fake_effect  correcting_for_shift  \\\n",
       "0             50  ...           -1             -0.671429   \n",
       "1             50  ...           -1             -0.671429   \n",
       "2             50  ...           -1             -0.671429   \n",
       "3             50  ...           -1             -0.671429   \n",
       "4             50  ...           -1             -0.671429   \n",
       "..           ...  ...          ...                   ...   \n",
       "65            10  ...            0             -0.571429   \n",
       "66            10  ...            0             -0.571429   \n",
       "67            10  ...            0             -0.571429   \n",
       "68            10  ...            1              0.428571   \n",
       "69            10  ...            1              0.428571   \n",
       "\n",
       "    distances_from_fake_effect  predicted_risk_env  env_only_predicted_risk  \\\n",
       "0                    -0.328571        8.271162e-16                -2.428571   \n",
       "1                    -0.328571        8.271162e-16                -2.428571   \n",
       "2                    -0.328571        8.271162e-16                -2.428571   \n",
       "3                    -0.328571        8.271162e-16                -2.428571   \n",
       "4                    -0.328571        8.271162e-16                -2.428571   \n",
       "..                         ...                 ...                      ...   \n",
       "65                    0.571429        8.104628e-16                16.571429   \n",
       "66                    0.571429        8.104628e-16                16.571429   \n",
       "67                    0.571429        8.104628e-16                16.571429   \n",
       "68                    0.571429        6.439294e-16                16.571429   \n",
       "69                    0.571429        6.439294e-16                16.571429   \n",
       "\n",
       "    env_only_predicted_popstrat  causal_risk  predicted_risk_causal  \\\n",
       "0                     -2.428571         -0.5              -0.335714   \n",
       "1                     -2.428571         -0.5              -0.335714   \n",
       "2                     -2.428571         -0.5              -0.335714   \n",
       "3                     -2.428571         -0.5              -0.335714   \n",
       "4                     -2.428571         -0.5              -0.335714   \n",
       "..                          ...          ...                    ...   \n",
       "65                    16.571429          0.0              -0.285714   \n",
       "66                    16.571429          0.0              -0.285714   \n",
       "67                    16.571429          0.0              -0.285714   \n",
       "68                    16.571429          0.5               0.214286   \n",
       "69                    16.571429          0.5               0.214286   \n",
       "\n",
       "    causal_only_predicted_popstrat  causal_risk_corrected  \n",
       "0                              0.0              -0.335714  \n",
       "1                              0.0              -0.335714  \n",
       "2                              0.0              -0.335714  \n",
       "3                              0.0              -0.335714  \n",
       "4                              0.0              -0.335714  \n",
       "..                             ...                    ...  \n",
       "65                             0.0              -0.285714  \n",
       "66                             0.0              -0.285714  \n",
       "67                             0.0              -0.285714  \n",
       "68                             0.0               0.214286  \n",
       "69                             0.0               0.214286  \n",
       "\n",
       "[70 rows x 24 columns]"
      ]
     },
     "execution_count": 39,
     "metadata": {},
     "output_type": "execute_result"
    }
   ],
   "source": [
    "humans"
   ]
  },
  {
   "cell_type": "code",
   "execution_count": 40,
   "id": "6e7fabbc-de88-4311-a6a9-df7c8dbc3eca",
   "metadata": {},
   "outputs": [
    {
     "name": "stdout",
     "output_type": "stream",
     "text": [
      "0.49999999999999967\n"
     ]
    }
   ],
   "source": [
    "X = humans[['snp_shifted']]  # Predictor variable\n",
    "y = humans['causal_risk_corrected']    # Response variable\n",
    "\n",
    "# Add a constant to the predictor variable (for intercept)\n",
    "X = sm.add_constant(X)\n",
    "\n",
    "# Fit the model using statsmodels\n",
    "model = sm.OLS(y, X).fit()\n",
    "\n",
    "# Extract beta (slope), intercept, and p-value\n",
    "beta = model.params['snp_shifted']\n",
    "print(beta)\n",
    "intercept = model.params['const']\n",
    "p_value = model.pvalues['snp_shifted']\n",
    "logp_value = np.round(-np.log10(p_value),4)\n",
    "\n",
    "humans['predicted_risk_causal_corrected'] = model.predict(X)"
   ]
  },
  {
   "cell_type": "code",
   "execution_count": 42,
   "id": "7af69232-bf9d-4be8-8e26-a8cc26d655da",
   "metadata": {},
   "outputs": [
    {
     "data": {
      "image/png": "[encoded data removed]",
      "text/plain": [
       "<Figure size 640x480 with 1 Axes>"
      ]
     },
     "metadata": {},
     "output_type": "display_data"
    }
   ],
   "source": [
    "# Create the scatter plot with seaborn, using size to represent pop_quantity\n",
    "sns.scatterplot(x='snp_shifted', y='causal_risk_corrected', data=humans, size='snp_nr', hue='pop',sizes=(20, 200), linewidth=0, legend=False)\n",
    "\n",
    "# Add the regression line to the plot (no size argument here, as it's a line)\n",
    "plt.plot(humans['snp_shifted'], humans['predicted_risk_causal_corrected'], color='red', label=f' Beta = {beta:.2f}\\n intercept = {intercept:.2f}')\n",
    "\n",
    "# Add thin gray lines at x = 0 and y = 0\n",
    "plt.axvline(x=0, color='gray', linestyle='-', linewidth=0.5)  # Vertical line at x = 0\n",
    "plt.axhline(y=intercept, color='gray', linestyle='-', linewidth=0.5)  # Vertical line at x = 0\n",
    "plt.axhline(y=0, color='gray', linestyle='-', linewidth=0.5)\n",
    "\n",
    "# Adjust layout\n",
    "plt.tight_layout()\n",
    "\n",
    "plt.title(f\"Environmental risk only -logP={logp_value}\")\n",
    "plt.legend()\n",
    "\n",
    "# Show the plot\n",
    "plt.show()\n",
    "plt.close()"
   ]
  },
  {
   "cell_type": "markdown",
   "id": "52edc1ef-88e9-4aab-9c73-932ed729ae58",
   "metadata": {},
   "source": [
    "# Combinaison"
   ]
  },
  {
   "cell_type": "code",
   "execution_count": 43,
   "id": "e98d0abf-9cac-4d35-b52e-3e58c59da882",
   "metadata": {},
   "outputs": [],
   "source": [
    "effect = 2.1"
   ]
  },
  {
   "cell_type": "code",
   "execution_count": 44,
   "id": "b6c0005e-57c6-41d6-a240-b2ae733eb375",
   "metadata": {},
   "outputs": [],
   "source": [
    "humans['combi'] = humans['env_risk'] + effect*humans['snp']"
   ]
  },
  {
   "cell_type": "markdown",
   "id": "8ed17443-350a-49ea-9d70-205d1d74107a",
   "metadata": {},
   "source": [
    "# No correction"
   ]
  },
  {
   "cell_type": "code",
   "execution_count": 45,
   "id": "b62c6fdc-6aa9-472f-bfdc-6a0a514b7d36",
   "metadata": {},
   "outputs": [
    {
     "name": "stdout",
     "output_type": "stream",
     "text": [
      "4.0652061855670105\n"
     ]
    }
   ],
   "source": [
    "X = humans[['snp']]  # Predictor variable\n",
    "y = humans['combi']    # Response variable\n",
    "\n",
    "# Add a constant to the predictor variable (for intercept)\n",
    "X = sm.add_constant(X)\n",
    "\n",
    "# Fit the model using statsmodels\n",
    "model = sm.OLS(y, X).fit()\n",
    "\n",
    "# Extract beta (slope), intercept, and p-value\n",
    "beta = model.params['snp']\n",
    "print(beta)\n",
    "intercept = model.params['const']\n",
    "p_value = model.pvalues['snp']\n",
    "logp_value = np.round(-np.log10(p_value),4)\n",
    "\n",
    "humans['predicted_risk'] = model.predict(X)"
   ]
  },
  {
   "cell_type": "code",
   "execution_count": 46,
   "id": "0e9df158-a9ae-4e77-a96b-63c92dd57832",
   "metadata": {},
   "outputs": [
    {
     "data": {
      "image/png": "[encoded data removed]",
      "text/plain": [
       "<Figure size 640x480 with 1 Axes>"
      ]
     },
     "metadata": {},
     "output_type": "display_data"
    }
   ],
   "source": [
    "# Create the scatter plot with seaborn, using size to represent pop_quantity\n",
    "sns.scatterplot(x='snp', y='combi', data=humans, size='snp_nr', hue='pop',sizes=(20, 200), linewidth=0, legend=False)\n",
    "\n",
    "# Add the regression line to the plot (no size argument here, as it's a line)\n",
    "plt.plot(humans['snp'], humans['predicted_risk'], color='red', label=f' Beta = {beta:.2f}\\n intercept = {intercept:.2f}')\n",
    "\n",
    "# Add thin gray lines at x = 0 and y = 0\n",
    "plt.axvline(x=0, color='gray', linestyle='-', linewidth=0.5)  # Vertical line at x = 0\n",
    "plt.axhline(y=intercept, color='gray', linestyle='-', linewidth=0.5)  # Vertical line at x = 0\n",
    "plt.axhline(y=0, color='gray', linestyle='-', linewidth=0.5)\n",
    "\n",
    "# Adjust layout\n",
    "plt.tight_layout()\n",
    "\n",
    "plt.title(f\"Environmental risk only -logP={logp_value}\")\n",
    "plt.legend()\n",
    "\n",
    "# Show the plot\n",
    "plt.show()\n",
    "plt.close()"
   ]
  },
  {
   "cell_type": "markdown",
   "id": "b49c2ebe-fbb9-41d6-b98f-27fa2bbfedf1",
   "metadata": {},
   "source": [
    "# SNP shifted"
   ]
  },
  {
   "cell_type": "code",
   "execution_count": 47,
   "id": "327225ac-0c0f-4093-81ce-e3ffcf4fd578",
   "metadata": {},
   "outputs": [
    {
     "name": "stdout",
     "output_type": "stream",
     "text": [
      "2.0999999999999988\n"
     ]
    }
   ],
   "source": [
    "X = humans[['snp_shifted']]  # Predictor variable\n",
    "y = humans['combi']    # Response variable\n",
    "\n",
    "# Add a constant to the predictor variable (for intercept)\n",
    "X = sm.add_constant(X)\n",
    "\n",
    "# Fit the model using statsmodels\n",
    "model = sm.OLS(y, X).fit()\n",
    "\n",
    "# Extract beta (slope), intercept, and p-value\n",
    "beta = model.params['snp_shifted']\n",
    "print(beta)\n",
    "intercept = model.params['const']\n",
    "p_value = model.pvalues['snp_shifted']\n",
    "logp_value = np.round(-np.log10(p_value),4)\n",
    "\n",
    "humans['predicted_risk_combi'] = model.predict(X)"
   ]
  },
  {
   "cell_type": "code",
   "execution_count": 48,
   "id": "24e42438-ad4b-4fb2-8f1c-c2bf7439233e",
   "metadata": {},
   "outputs": [
    {
     "data": {
      "image/png": "[encoded data removed]",
      "text/plain": [
       "<Figure size 640x480 with 1 Axes>"
      ]
     },
     "metadata": {},
     "output_type": "display_data"
    }
   ],
   "source": [
    "# Create the scatter plot with seaborn, using size to represent pop_quantity\n",
    "sns.scatterplot(x='snp_shifted', y='combi', data=humans, size='snp_nr', hue='pop',sizes=(20, 200), linewidth=0, legend=False)\n",
    "\n",
    "# Add the regression line to the plot (no size argument here, as it's a line)\n",
    "plt.plot(humans['snp_shifted'], humans['predicted_risk_combi'], color='red', label=f' Beta = {beta:.2f}\\n intercept = {intercept:.2f}')\n",
    "\n",
    "# Add thin gray lines at x = 0 and y = 0\n",
    "plt.axvline(x=0, color='gray', linestyle='-', linewidth=0.5)  # Vertical line at x = 0\n",
    "plt.axhline(y=intercept, color='gray', linestyle='-', linewidth=0.5)  # Vertical line at x = 0\n",
    "plt.axhline(y=0, color='gray', linestyle='-', linewidth=0.5)\n",
    "\n",
    "# Adjust layout\n",
    "plt.tight_layout()\n",
    "\n",
    "plt.title(f\"Environmental risk only -logP={logp_value}\")\n",
    "plt.legend()\n",
    "\n",
    "# Show the plot\n",
    "plt.show()\n",
    "plt.close()"
   ]
  },
  {
   "cell_type": "markdown",
   "id": "3a38f239-10e1-424a-9d27-91535c1a0e8d",
   "metadata": {},
   "source": [
    "# Residual Combi"
   ]
  },
  {
   "cell_type": "code",
   "execution_count": 57,
   "id": "af95f0fd-e552-4951-8c1f-e4661d0e58dd",
   "metadata": {},
   "outputs": [],
   "source": [
    "humans['combi_predicted_popstrat'] = humans['combi'] - humans['predicted_risk_combi'] - humans['distances_from_fake_effect']*(beta/beta_fake)"
   ]
  },
  {
   "cell_type": "code",
   "execution_count": 58,
   "id": "b9077a64-5528-4786-bd85-ad828581470b",
   "metadata": {},
   "outputs": [],
   "source": [
    "humans['combi_risk_corrected'] = humans['combi']- humans['combi_predicted_popstrat']"
   ]
  },
  {
   "cell_type": "code",
   "execution_count": 60,
   "id": "6d075ffe-6efe-4169-883f-5a8a82625bca",
   "metadata": {},
   "outputs": [
    {
     "name": "stdout",
     "output_type": "stream",
     "text": [
      "2.0999999999999983\n"
     ]
    }
   ],
   "source": [
    "X = humans[['snp']]  # Predictor variable\n",
    "y = humans['combi_risk_corrected']    # Response variable\n",
    "\n",
    "# Add a constant to the predictor variable (for intercept)\n",
    "X = sm.add_constant(X)\n",
    "\n",
    "# Fit the model using statsmodels\n",
    "model = sm.OLS(y, X).fit()\n",
    "\n",
    "# Extract beta (slope), intercept, and p-value\n",
    "beta = model.params['snp']\n",
    "print(beta)\n",
    "intercept = model.params['const']\n",
    "p_value = model.pvalues['snp']\n",
    "logp_value = np.round(-np.log10(p_value),4)\n",
    "\n",
    "humans['predicted_risk_combi_corrected'] = model.predict(X)"
   ]
  },
  {
   "cell_type": "code",
   "execution_count": 61,
   "id": "620fd0ae-59a5-496e-a058-e8af979e13e1",
   "metadata": {},
   "outputs": [
    {
     "data": {
      "image/png": "[encoded data removed]",
      "text/plain": [
       "<Figure size 640x480 with 1 Axes>"
      ]
     },
     "metadata": {},
     "output_type": "display_data"
    }
   ],
   "source": [
    "# Create the scatter plot with seaborn, using size to represent pop_quantity\n",
    "sns.scatterplot(x='snp', y='combi_risk_corrected', data=humans, size='snp_nr', hue='pop',sizes=(20, 200), linewidth=0, legend=False)\n",
    "\n",
    "# Add the regression line to the plot (no size argument here, as it's a line)\n",
    "plt.plot(humans['snp'], humans['predicted_risk_combi_corrected'], color='red', label=f' Beta = {beta:.2f}\\n intercept = {intercept:.2f}')\n",
    "\n",
    "# Add thin gray lines at x = 0 and y = 0\n",
    "plt.axvline(x=0, color='gray', linestyle='-', linewidth=0.5)  # Vertical line at x = 0\n",
    "plt.axhline(y=intercept, color='gray', linestyle='-', linewidth=0.5)  # Vertical line at x = 0\n",
    "plt.axhline(y=0, color='gray', linestyle='-', linewidth=0.5)\n",
    "\n",
    "# Adjust layout\n",
    "plt.tight_layout()\n",
    "\n",
    "plt.title(f\"Environmental risk only -logP={logp_value}\")\n",
    "plt.legend()\n",
    "\n",
    "# Show the plot\n",
    "plt.show()\n",
    "plt.close()"
   ]
  },
  {
   "cell_type": "code",
   "execution_count": null,
   "id": "6bc5a74e-fcdd-4922-9289-ab5e24ca548f",
   "metadata": {},
   "outputs": [],
   "source": []
  },
  {
   "cell_type": "code",
   "execution_count": null,
   "id": "d3ccce48-eb72-4b16-8435-699e67b9fa1e",
   "metadata": {},
   "outputs": [],
   "source": []
  },
  {
   "cell_type": "code",
   "execution_count": null,
   "id": "abb78487-d6df-40e2-bd86-7d4b53c5c5e6",
   "metadata": {},
   "outputs": [],
   "source": []
  },
  {
   "cell_type": "code",
   "execution_count": null,
   "id": "502fff2d-f72e-4084-9fb0-2028bce9b4a3",
   "metadata": {},
   "outputs": [],
   "source": []
  },
  {
   "cell_type": "code",
   "execution_count": null,
   "id": "942b800b-57ff-4675-817e-ba2fe58d3ed2",
   "metadata": {},
   "outputs": [],
   "source": []
  },
  {
   "cell_type": "code",
   "execution_count": null,
   "id": "42fb77f7-068d-431b-a68d-1739b1b8188c",
   "metadata": {},
   "outputs": [],
   "source": []
  },
  {
   "cell_type": "code",
   "execution_count": 46,
   "id": "018eaa05-0aca-4a30-8fbd-bd7c1b48c09e",
   "metadata": {},
   "outputs": [],
   "source": [
    "humans['combi_corrected'] = humans['combi']-(beta/beta_fake)*humans['correcting_for_shift']"
   ]
  },
  {
   "cell_type": "code",
   "execution_count": 47,
   "id": "a6b62d51-d191-4050-a2c9-b04ed6fa1548",
   "metadata": {},
   "outputs": [
    {
     "name": "stdout",
     "output_type": "stream",
     "text": [
      "2.0999999999999988\n"
     ]
    }
   ],
   "source": [
    "X = humans[['snp_shifted']]  # Predictor variable\n",
    "y = humans['combi_corrected']    # Response variable\n",
    "\n",
    "# Add a constant to the predictor variable (for intercept)\n",
    "X = sm.add_constant(X)\n",
    "\n",
    "# Fit the model using statsmodels\n",
    "model = sm.OLS(y, X).fit()\n",
    "\n",
    "# Extract beta (slope), intercept, and p-value\n",
    "beta = model.params['snp_shifted']\n",
    "print(beta)\n",
    "intercept = model.params['const']\n",
    "p_value = model.pvalues['snp_shifted']\n",
    "logp_value = np.round(-np.log10(p_value),4)\n",
    "\n",
    "humans['predicted_risk_combi_corrected'] = model.predict(X)"
   ]
  },
  {
   "cell_type": "code",
   "execution_count": 48,
   "id": "8e12e32f-3999-4af1-b5dc-6b33b33931b0",
   "metadata": {},
   "outputs": [
    {
     "data": {
      "image/png": "[encoded data removed]",
      "text/plain": [
       "<Figure size 640x480 with 1 Axes>"
      ]
     },
     "metadata": {},
     "output_type": "display_data"
    }
   ],
   "source": [
    "# Create the scatter plot with seaborn, using size to represent pop_quantity\n",
    "sns.scatterplot(x='snp_shifted', y='combi_corrected', data=humans, size='snp_nr', hue='pop',sizes=(20, 200), linewidth=0, legend=False)\n",
    "\n",
    "# Add the regression line to the plot (no size argument here, as it's a line)\n",
    "plt.plot(humans['snp_shifted'], humans['predicted_risk_combi_corrected'], color='red', label=f' Beta = {beta:.2f}\\n intercept = {intercept:.2f}')\n",
    "\n",
    "# Add thin gray lines at x = 0 and y = 0\n",
    "plt.axvline(x=0, color='gray', linestyle='-', linewidth=0.5)  # Vertical line at x = 0\n",
    "plt.axhline(y=intercept, color='gray', linestyle='-', linewidth=0.5)  # Vertical line at x = 0\n",
    "plt.axhline(y=0, color='gray', linestyle='-', linewidth=0.5)\n",
    "\n",
    "# Adjust layout\n",
    "plt.tight_layout()\n",
    "\n",
    "plt.title(f\"Environmental risk only -logP={logp_value}\")\n",
    "plt.legend()\n",
    "\n",
    "# Show the plot\n",
    "plt.show()\n",
    "plt.close()"
   ]
  },
  {
   "cell_type": "code",
   "execution_count": 50,
   "id": "3aa117c1-8528-4c30-a0ee-b0e487c623a2",
   "metadata": {},
   "outputs": [
    {
     "data": {
      "text/plain": [
       "0     -3.118571\n",
       "1     -3.118571\n",
       "2     -3.118571\n",
       "3     -3.118571\n",
       "4     -3.118571\n",
       "        ...    \n",
       "65    17.771429\n",
       "66    17.771429\n",
       "67    17.771429\n",
       "68    17.771429\n",
       "69    17.771429\n",
       "Length: 70, dtype: float64"
      ]
     },
     "execution_count": 50,
     "metadata": {},
     "output_type": "execute_result"
    }
   ],
   "source": [
    "humans['combi']-humans['predicted_risk_combi_corrected']"
   ]
  },
  {
   "cell_type": "code",
   "execution_count": null,
   "id": "be474d8c-fb6d-46d9-9b62-ad8a19495f5d",
   "metadata": {},
   "outputs": [],
   "source": []
  }
 ],
 "metadata": {
  "kernelspec": {
   "display_name": "Python 3 (ipykernel)",
   "language": "python",
   "name": "python3"
  },
  "language_info": {
   "codemirror_mode": {
    "name": "ipython",
    "version": 3
   },
   "file_extension": ".py",
   "mimetype": "text/x-python",
   "name": "python",
   "nbconvert_exporter": "python",
   "pygments_lexer": "ipython3",
   "version": "3.10.6"
  }
 },
 "nbformat": 4,
 "nbformat_minor": 5
}
