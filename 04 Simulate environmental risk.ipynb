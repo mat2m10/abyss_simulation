{
 "cells": [
  {
   "cell_type": "markdown",
   "id": "f5fc2c09-359c-4709-b3e7-7f31960d18a0",
   "metadata": {},
   "source": [
    "# Import Libraries"
   ]
  },
  {
   "cell_type": "code",
   "execution_count": 1,
   "id": "e3e3e1bc-fa5e-48f1-a5f1-5b6f3a47fdca",
   "metadata": {},
   "outputs": [],
   "source": [
    "import os\n",
    "import pandas as pd\n",
    "import numpy as np\n",
    "from sklearn.preprocessing import StandardScaler\n",
    "from sklearn.decomposition import PCA\n",
    "import seaborn as sns\n",
    "import matplotlib.pyplot as plt\n",
    "import statsmodels.api as sm\n",
    "from helpers import parse_variables, get_risk_level, hi_gauss_blob_risk_fun, blob_risk_fun, NW_risk_fun, square_risk_fun, simulate_cc_status\n",
    "from matplotlib.colors import LinearSegmentedColormap\n",
    "import importlib.util"
   ]
  },
  {
   "cell_type": "markdown",
   "id": "cb6e4016-52b0-4578-8db6-5d0e0cc42b35",
   "metadata": {},
   "source": [
    "# Load populations"
   ]
  },
  {
   "cell_type": "code",
   "execution_count": 2,
   "id": "2b6b1f7a-648b-43c3-90bc-40fe82088f68",
   "metadata": {},
   "outputs": [],
   "source": [
    "dict = parse_variables('geno_simulation.txt')\n",
    "if 'G' not in globals():\n",
    "    G = int(dict['G'])\n",
    "if 'L' not in globals():\n",
    "    L = int(dict['L'])\n",
    "if 'c' not in globals():\n",
    "    c = int(dict['c'])\n",
    "if 'k' not in globals():\n",
    "    k = int(dict['k'])\n",
    "if 'M' not in globals():\n",
    "    M = float(dict['M'])\n",
    "if 'HWE' not in globals():\n",
    "    HWE = int(dict['HWE'])\n",
    "\n",
    "if 'tools' not in globals():\n",
    "    tools = ['PCA', 'abyss_counted', 'abyss', 'no_corr']\n",
    "\n",
    "\n",
    "if 'scenarios' not in globals():\n",
    "    scenarios = ['snp_effect',\n",
    "                 'linear_continuous',\n",
    "                 'non_linear_continuous',\n",
    "                 'discrete_global',\n",
    "                 'discrete_localized',\n",
    "                 'mix_linear_continuous',\n",
    "                 'mix_non_linear_continuous',\n",
    "                 'mix_discrete_global',\n",
    "                 'mix_discrete_localized']\n",
    "\n",
    "if 'very_rare_threshold_L' not in globals():\n",
    "    very_rare_threshold_L = float(dict['very_rare_threshold_L'])\n",
    "if 'very_rare_threshold_H' not in globals():\n",
    "    very_rare_threshold_H = float(dict['very_rare_threshold_H'])\n",
    "if 'rare_threshold_L' not in globals():\n",
    "    rare_threshold_L = float(dict['rare_threshold_L'])\n",
    "if 'rare_threshold_H' not in globals():\n",
    "    rare_threshold_H = float(dict['rare_threshold_H'])\n",
    "if 'common_threshold_L' not in globals():\n",
    "    common_threshold_L = float(dict['common_threshold_L'])\n",
    "if 'common_threshold_H' not in globals():\n",
    "    common_threshold_H = float(dict['common_threshold_H'])"
   ]
  },
  {
   "cell_type": "code",
   "execution_count": 3,
   "id": "0bcf5115-13bc-449e-8a6f-58bf79b7b4e0",
   "metadata": {},
   "outputs": [],
   "source": [
    "populations = pd.read_pickle(f\"data/G{G}_L{L}_c{c}_k{k}_M{M}_HWE{HWE}/phenotype/01_population_structure.pkl\")"
   ]
  },
  {
   "cell_type": "markdown",
   "id": "40384c49-add5-4770-8c96-06e65f987310",
   "metadata": {},
   "source": [
    "# create risk"
   ]
  },
  {
   "cell_type": "code",
   "execution_count": 4,
   "id": "f8718edc-502f-4b6d-8a04-7bd51471d0e2",
   "metadata": {},
   "outputs": [],
   "source": [
    "existing_risks = [\n",
    "    \"no_risk_fun\",\n",
    "    \"NW_risk_fun\",\n",
    "    \"N_risk_fun\",\n",
    "    \"blob_risk_fun\",\n",
    "    \"center_risk_fun\",\n",
    "    \"big_square_risk_fun\",\n",
    "    \"square_risk_fun\",\n",
    "    \"hi_square_risk_fun\",\n",
    "    \"mid_square_risk_fun\",\n",
    "    \"mid_mid_square_risk_fun\",\n",
    "    \"mid_mid_mid_square_risk_fun\",\n",
    "    \"big_bad_square_risk_fun\",\n",
    "    \"big_square_risk_fun_updated\",\n",
    "    \"big_big_square_risk_fun\",\n",
    "    \"big_big_big_square_risk_fun\",\n",
    "    \"two_square_risk_fun\",\n",
    "    \"three_square_risk_fun\",\n",
    "    \"four_square_risk_fun\",\n",
    "    \"as_big_blob_risk_fun\",\n",
    "    \"six_square_risk_fun\",\n",
    "    \"gauss_blob_risk_fun\",\n",
    "    \"hi_gauss_blob_risk_fun\",\n",
    "    \"hi_hyperbole_risk_fun\",\n",
    "    \"hi_tangeant_risk_fun\",\n",
    "    \"sine_risk_fun\",\n",
    "]"
   ]
  },
  {
   "cell_type": "code",
   "execution_count": 5,
   "id": "61d88e78-3ebc-4d62-9d85-bf732f797f46",
   "metadata": {},
   "outputs": [],
   "source": [
    "# Dynamically import the function based on the risk level\n",
    "module_name = 'helpers'\n",
    "module_spec = importlib.util.spec_from_file_location(module_name, 'helpers.py')\n",
    "helpers = importlib.util.module_from_spec(module_spec)\n",
    "module_spec.loader.exec_module(helpers)\n",
    "\n",
    "for risk in existing_risks:\n",
    "    risk_function = getattr(helpers, risk)\n",
    "    name_risk = risk.split('_fun')[0]\n",
    "    populations['x_temp'] = populations['x']/k\n",
    "    populations['y_temp'] = populations['y']/k\n",
    "    populations[name_risk] = list(populations.apply(lambda row: risk_function(row['x_temp'], row['y_temp']), axis=1))\n",
    "    populations[name_risk] = populations[name_risk].astype('float')\n",
    "    os.makedirs(f\"data/G{G}_L{L}_c{c}_k{k}_M{M}_HWE{HWE}/phenotype/environmental_risks/\", exist_ok=True)\n",
    "    populations[[name_risk]].to_pickle(f\"data/G{G}_L{L}_c{c}_k{k}_M{M}_HWE{HWE}/phenotype/environmental_risks/risk_{name_risk}.pkl\")\n",
    "    # Create subplots for each risk\n",
    "    fig, axs = plt.subplots(1, 1, figsize=(14, 12))\n",
    "    # Aggregate by x and y and calculate mean for each risk\n",
    "    df_agg = populations.groupby(['x', 'y']).agg({name_risk: 'mean'}).reset_index()\n",
    "    grid_df = df_agg.pivot(index='y', columns='x', values=name_risk)\n",
    "    sns.heatmap(grid_df, cmap='rocket_r', linewidths=.5, square=True, cbar=False)\n",
    "    \n",
    "    # Set the title dynamically based on the value of name_risk\n",
    "    axs.set_title(name_risk, fontsize=16)\n",
    "    \n",
    "    # Invert the y-axis\n",
    "    axs.invert_yaxis()\n",
    "    \n",
    "    # Adjust layout\n",
    "    plt.tight_layout()\n",
    "    #plt.show()\n",
    "    plt.close()"
   ]
  },
  {
   "cell_type": "markdown",
   "id": "42d4f65f-711f-4e8c-bd14-2ededaa2d028",
   "metadata": {},
   "source": [
    "# Visualise some examples"
   ]
  },
  {
   "cell_type": "code",
   "execution_count": 7,
   "id": "73649896-28ce-4dc5-ab3d-55d68fbac81c",
   "metadata": {},
   "outputs": [],
   "source": [
    "populations['gauss_blob_risk'] = list(populations.apply(lambda row: hi_gauss_blob_risk_fun(row['x_temp'], row['y_temp']), axis=1))\n",
    "populations['gauss_blob_risk'] = populations['gauss_blob_risk'].astype('float')\n",
    "\n",
    "populations['blob_risk'] = list(populations.apply(lambda row: blob_risk_fun(row['x_temp'], row['y_temp']), axis=1))\n",
    "populations['blob_risk'] = populations['blob_risk'].astype('float')\n",
    "\n",
    "populations['NW_risk'] = list(populations.apply(lambda row: NW_risk_fun(row['x_temp'], row['y_temp']), axis=1))\n",
    "populations['NW_risk'] = populations['NW_risk'].astype('float')\n",
    "\n",
    "populations['square_risk'] = list(populations.apply(lambda row: square_risk_fun(row['x_temp'], row['y_temp']), axis=1))\n",
    "populations['square_risk'] = populations['square_risk'].astype('float')"
   ]
  },
  {
   "cell_type": "code",
   "execution_count": 8,
   "id": "dc098ad8-62dd-41fd-b2bd-d038b2820abf",
   "metadata": {},
   "outputs": [
    {
     "data": {
      "image/png": "[encoded data removed]",
      "text/plain": [
       "<Figure size 1400x1200 with 4 Axes>"
      ]
     },
     "metadata": {},
     "output_type": "display_data"
    }
   ],
   "source": [
    "# Aggregate by x and y and calculate mean for each risk\n",
    "df_agg = populations.groupby(['x', 'y']).agg({'gauss_blob_risk': 'mean', \n",
    "                                     'blob_risk': 'mean', \n",
    "                                     'NW_risk': 'mean', \n",
    "                                     'square_risk': 'mean'}).reset_index()\n",
    "\n",
    "# Now, pivot the aggregated DataFrame for each risk\n",
    "grid_df_gauss_blob = df_agg.pivot(index='y', columns='x', values='gauss_blob_risk')\n",
    "grid_df_blob = df_agg.pivot(index='y', columns='x', values='blob_risk')\n",
    "grid_df_hi_square = df_agg.pivot(index='y', columns='x', values='NW_risk')\n",
    "grid_df_square = df_agg.pivot(index='y', columns='x', values='square_risk')\n",
    "\n",
    "# Create subplots for each risk\n",
    "fig, axs = plt.subplots(2, 2, figsize=(14, 12))\n",
    "\n",
    "# Plot for gauss_blob_risk\n",
    "sns.heatmap(grid_df_gauss_blob, cmap='rocket_r', linewidths=.5, square=True, cbar=False, ax=axs[0, 0])\n",
    "axs[0, 0].set_title('Gauss Blob Risk', fontsize=16)\n",
    "axs[0, 0].invert_yaxis()\n",
    "\n",
    "# Plot for blob_risk\n",
    "sns.heatmap(grid_df_blob, cmap='rocket_r', linewidths=.5, square=True, cbar=False, ax=axs[0, 1])\n",
    "axs[0, 1].set_title('Blob Risk', fontsize=16)\n",
    "axs[0, 1].invert_yaxis()\n",
    "\n",
    "# Plot for hi_square_risk\n",
    "sns.heatmap(grid_df_hi_square, cmap='rocket_r', linewidths=.5, square=True, cbar=False, ax=axs[1, 0])\n",
    "axs[1, 0].set_title('Smooth Risk', fontsize=16)\n",
    "axs[1, 0].invert_yaxis()\n",
    "\n",
    "# Plot for square_risk\n",
    "sns.heatmap(grid_df_square, cmap='rocket_r', linewidths=.5, square=True, cbar=False, ax=axs[1, 1])\n",
    "axs[1, 1].set_title('Square Risk', fontsize=16)\n",
    "axs[1, 1].invert_yaxis()\n",
    "\n",
    "# Adjust layout\n",
    "plt.tight_layout()\n",
    "plt.show()\n",
    "plt.close()"
   ]
  },
  {
   "cell_type": "code",
   "execution_count": null,
   "id": "ca6ac82a-0e0e-46d8-83d0-671047d76cb0",
   "metadata": {},
   "outputs": [],
   "source": []
  },
  {
   "cell_type": "code",
   "execution_count": null,
   "id": "43b4aaf9-e1bb-4c57-9963-f15d27e016cd",
   "metadata": {},
   "outputs": [],
   "source": []
  },
  {
   "cell_type": "code",
   "execution_count": null,
   "id": "1861dbc8-a1bc-4c31-9595-7905d2b8ff99",
   "metadata": {},
   "outputs": [],
   "source": []
  },
  {
   "cell_type": "code",
   "execution_count": null,
   "id": "363a250d-52f9-436f-bcc7-792a2dc93b6d",
   "metadata": {},
   "outputs": [],
   "source": []
  }
 ],
 "metadata": {
  "kernelspec": {
   "display_name": "Python 3 (ipykernel)",
   "language": "python",
   "name": "python3"
  },
  "language_info": {
   "codemirror_mode": {
    "name": "ipython",
    "version": 3
   },
   "file_extension": ".py",
   "mimetype": "text/x-python",
   "name": "python",
   "nbconvert_exporter": "python",
   "pygments_lexer": "ipython3",
   "version": "3.10.6"
  }
 },
 "nbformat": 4,
 "nbformat_minor": 5
}
