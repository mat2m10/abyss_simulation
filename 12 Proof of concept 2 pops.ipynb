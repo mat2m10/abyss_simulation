{
 "cells": [
  {
   "cell_type": "markdown",
   "id": "e709376f-58f6-451b-b035-5e8ee7eca98e",
   "metadata": {},
   "source": [
    "# Import libraries"
   ]
  },
  {
   "cell_type": "code",
   "execution_count": 1,
   "id": "55f5ae49-7552-4db3-89f7-e4d2f079f162",
   "metadata": {},
   "outputs": [
    {
     "name": "stderr",
     "output_type": "stream",
     "text": [
      "2024-09-16 20:42:38.538267: I external/local_tsl/tsl/cuda/cudart_stub.cc:32] Could not find cuda drivers on your machine, GPU will not be used.\n",
      "2024-09-16 20:42:38.540668: I external/local_tsl/tsl/cuda/cudart_stub.cc:32] Could not find cuda drivers on your machine, GPU will not be used.\n",
      "2024-09-16 20:42:38.548174: E external/local_xla/xla/stream_executor/cuda/cuda_fft.cc:479] Unable to register cuFFT factory: Attempting to register factory for plugin cuFFT when one has already been registered\n",
      "2024-09-16 20:42:38.564855: E external/local_xla/xla/stream_executor/cuda/cuda_dnn.cc:10575] Unable to register cuDNN factory: Attempting to register factory for plugin cuDNN when one has already been registered\n",
      "2024-09-16 20:42:38.564888: E external/local_xla/xla/stream_executor/cuda/cuda_blas.cc:1442] Unable to register cuBLAS factory: Attempting to register factory for plugin cuBLAS when one has already been registered\n",
      "2024-09-16 20:42:38.575316: I tensorflow/core/platform/cpu_feature_guard.cc:210] This TensorFlow binary is optimized to use available CPU instructions in performance-critical operations.\n",
      "To enable the following instructions: AVX2 FMA, in other operations, rebuild TensorFlow with the appropriate compiler flags.\n",
      "2024-09-16 20:42:39.858657: W tensorflow/compiler/tf2tensorrt/utils/py_utils.cc:38] TF-TRT Warning: Could not find TensorRT\n"
     ]
    }
   ],
   "source": [
    "import os\n",
    "import subprocess\n",
    "from helpers import parse_variables\n",
    "import pandas as pd\n",
    "import numpy as np\n",
    "from sklearn.preprocessing import StandardScaler\n",
    "from sklearn.decomposition import PCA\n",
    "import seaborn as sns\n",
    "import matplotlib.pyplot as plt\n",
    "import statsmodels.api as sm\n",
    "from helpers import parse_variables\n",
    "import scipy.stats as stats\n",
    "from sklearn.preprocessing import StandardScaler\n",
    "from sklearn.decomposition import PCA\n",
    "from helpers import parse_variables, get_risk_level, hi_gauss_blob_risk_fun, blob_risk_fun, NW_risk_fun, square_risk_fun, map_to_color\n",
    "from matplotlib.colors import LinearSegmentedColormap\n",
    "import importlib.util\n",
    "from models import ols_regression, manhattan_linear, gc"
   ]
  },
  {
   "cell_type": "code",
   "execution_count": 2,
   "id": "3d1b2bbd-06e1-473c-a069-62104421b67d",
   "metadata": {},
   "outputs": [],
   "source": [
    "# Function to pair SNPs and summarize genotype\n",
    "def summarize_genotypes(df):\n",
    "    summarized_genotypes = {}\n",
    "    # Iterate over pairs of columns\n",
    "    for i in range(1, df.shape[1], 2):\n",
    "        pair_sum = df.iloc[:, i-1] + df.iloc[:, i]\n",
    "        # Apply the genotype summarization logic\n",
    "        summarized_genotypes[f'G{i//2 + 1}'] = np.where(pair_sum == 2, 2, pair_sum)\n",
    "    return pd.DataFrame(summarized_genotypes)\n",
    "\n",
    "# Function to flip 0s to 2s and 2s to 0s\n",
    "def flip_genotypes(row):\n",
    "    if row['AFs'] > 0.5:\n",
    "        # Apply transformation for the condition\n",
    "        row[:-1] = row[:-1].replace({0: 2, 2: 0})\n",
    "        row['AFs'] = 1 - row['AFs']  # Adjust allele frequency\n",
    "    return row\n",
    "\n",
    "def contains_all_genotypes(series, genotypes={0.0, 1.0, 2.0}):\n",
    "    return genotypes.issubset(series.unique())"
   ]
  },
  {
   "cell_type": "code",
   "execution_count": 3,
   "id": "b3a821d8-ea33-4335-9e02-29d0f0b7d5bd",
   "metadata": {},
   "outputs": [],
   "source": [
    "existing_risks = [\n",
    "    \"no_risk_fun\",\n",
    "    \"NW_risk_fun\",\n",
    "    \"N_risk_fun\",\n",
    "    \"blob_risk_fun\",\n",
    "    \"center_risk_fun\",\n",
    "    \"big_square_risk_fun\",\n",
    "    \"square_risk_fun\",\n",
    "    \"hi_square_risk_fun\",\n",
    "    \"mid_square_risk_fun\",\n",
    "    \"mid_mid_square_risk_fun\",\n",
    "    \"mid_mid_mid_square_risk_fun\",\n",
    "    \"big_bad_square_risk_fun\",\n",
    "    \"big_square_risk_fun_updated\",\n",
    "    \"big_big_square_risk_fun\",\n",
    "    \"big_big_big_square_risk_fun\",\n",
    "    \"two_square_risk_fun\",\n",
    "    \"three_square_risk_fun\",\n",
    "    \"four_square_risk_fun\",\n",
    "    \"as_big_blob_risk_fun\",\n",
    "    \"six_square_risk_fun\",\n",
    "    \"gauss_blob_risk_fun\",\n",
    "    \"hi_gauss_blob_risk_fun\"\n",
    "]"
   ]
  },
  {
   "cell_type": "code",
   "execution_count": 4,
   "id": "689b3f07-912a-421a-a87f-5984ee1175b3",
   "metadata": {},
   "outputs": [],
   "source": [
    "dict = parse_variables('geno_simulation.txt')\n",
    "G = 10\n",
    "L = 100\n",
    "c = 50\n",
    "k = 2\n",
    "M = .1\n",
    "HWE = 1\n",
    "\n",
    "# Define the R commands to run, passing parameters as arguments\n",
    "commands = [\n",
    "    f\"source('geno_simulation.txt')\",\n",
    "    f\"source('create_geno.R', echo=TRUE)\",\n",
    "]\n",
    "\n",
    "\n",
    "commands = [\n",
    "    \"source('geno_simulation.txt')\",\n",
    "    f\"G <- {G}\",\n",
    "    f\"L <- {L}\",\n",
    "    f\"c <- {c}\",\n",
    "    f\"k <- {k}\",\n",
    "    f\"M <- {M}\",\n",
    "    \"source('create_geno.R', echo=TRUE)\"\n",
    "]\n",
    "\n",
    "# Concatenate commands into a single string\n",
    "r_script = \";\".join(commands)\n",
    "\n",
    "# Run the R script\n",
    "result = subprocess.run(['Rscript', '-e', r_script], capture_output=True, text=True)\n",
    "\n",
    "# Print the output\n",
    "#print(result.stdout)\n",
    "\n",
    "# Check for errors\n",
    "if result.returncode != 0:\n",
    "    print(\"Error executing R script:\")\n",
    "    print(result.stderr)\n",
    "    pass\n",
    "\n",
    "os.makedirs(f\"data/concept/genotype/raw\",exist_ok=True)\n",
    "os.system(f\"mv simulated_genotypes_G{G}_L{L}_c{c}_k{k}_M{M}.csv data/concept/genotype/raw/\")\n",
    "\n",
    "# Thresholds\n",
    "very_rare_threshold_L = float(dict['very_rare_threshold_L'])\n",
    "very_rare_threshold_H = float(dict['very_rare_threshold_H'])\n",
    "\n",
    "rare_threshold_L = float(dict['rare_threshold_L'])\n",
    "rare_threshold_H = float(dict['rare_threshold_H'])\n",
    "\n",
    "common_threshold_L = float(dict['common_threshold_L'])\n",
    "common_threshold_H = float(dict['common_threshold_H'])\n",
    "\n",
    "file = f\"data/concept/genotype/raw/simulated_genotypes_G{G}_L{L}_c{c}_k{k}_M{M}.csv\"\n",
    "path_simulated_file = \"./\"+ file\n",
    "number_of_loci = G*L\n",
    "number_of_individuals = c*k*k\n",
    "simulated_loci= pd.read_csv(path_simulated_file)"
   ]
  },
  {
   "cell_type": "code",
   "execution_count": 5,
   "id": "782a28ec-b0a8-41f2-86fc-73f5856f5af3",
   "metadata": {},
   "outputs": [],
   "source": [
    "# Apply the function to the sample DataFrame\n",
    "simulated_genotype = summarize_genotypes(simulated_loci)\n",
    "columns_to_drop  = simulated_genotype.columns[simulated_genotype.nunique() == 1] # If double columns delete it \n",
    "simulated_genotype = simulated_genotype.drop(columns=columns_to_drop)"
   ]
  },
  {
   "cell_type": "code",
   "execution_count": 6,
   "id": "b25318c5-6d34-43fd-afa6-8dc688b4672c",
   "metadata": {},
   "outputs": [],
   "source": [
    "number_of_populations = k*k\n",
    "labels_pop = []\n",
    "for i in range(number_of_populations):\n",
    "    labels_pop += [i+1]*c\n",
    "\n",
    "simulated_genotype[\"populations\"] = labels_pop\n",
    "simulated_genotype['populations'] = simulated_genotype['populations'].apply(lambda x: 1 if x in [1, 2] else 2)"
   ]
  },
  {
   "cell_type": "code",
   "execution_count": 7,
   "id": "e7a7e6c2-ab1a-4e79-a57a-c11cd8ecf0d5",
   "metadata": {},
   "outputs": [],
   "source": [
    "unique_pops = simulated_genotype['populations'].unique()\n",
    "unique_pops.sort()\n",
    "dfs = []\n",
    "required_values = {0, 1, 2}\n",
    "\n",
    "# Optimization: Cache the set operation result\n",
    "simulated_genotype_sets = {col: set(simulated_genotype[col]) for col in simulated_genotype.columns}\n",
    "\n",
    "if HWE == 1:\n",
    "    for pop in unique_pops:\n",
    "        temp_pop = simulated_genotype[simulated_genotype[\"populations\"] == pop].drop('populations', axis=1)\n",
    "        \n",
    "        for col in temp_pop.columns:\n",
    "            column_values = simulated_genotype_sets[col]\n",
    "            \n",
    "            if not required_values.issubset(column_values):\n",
    "                # Optimization: Vectorized random choice and assignment\n",
    "                indices = np.random.choice(temp_pop.index, size=3, replace=False)\n",
    "                temp_pop.loc[indices[0], col] = 0\n",
    "                temp_pop.loc[indices[1], col] = 1\n",
    "                temp_pop.loc[indices[2], col] = 2\n",
    "\n",
    "            # Calculate frequencies\n",
    "            value_counts = temp_pop[col].value_counts().reindex([0, 1, 2], fill_value=0)\n",
    "            total = value_counts.sum()\n",
    "            q = (2*value_counts[2] + value_counts[1])/ (2*total)\n",
    "            if q > 0.5:\n",
    "                q = 1-q\n",
    "            p = 1 - q\n",
    "            freq_maj = p ** 2\n",
    "            freq_het = 2 * p * q\n",
    "            freq_min = q ** 2\n",
    "\n",
    "            # Optimization: Vectorized assignment of new genotypes\n",
    "            pop_geno = np.random.choice([1.0, 0.0, -1.0], size=total, p=[freq_maj, freq_het, freq_min])\n",
    "            temp_pop[col] = pop_geno\n",
    "\n",
    "        dfs.append(temp_pop)\n",
    "\n",
    "else:\n",
    "    print(\"HWE\")\n",
    "    for pop in unique_pops:\n",
    "        temp_pop = simulated_genotype[simulated_genotype[\"populations\"] == pop].drop('populations', axis=1)\n",
    "        \n",
    "        for col in temp_pop.columns:\n",
    "            column_values = simulated_genotype_sets[col]\n",
    "            \n",
    "            if not required_values.issubset(column_values):\n",
    "                # Optimization: Vectorized random choice and assignment\n",
    "                indices = np.random.choice(temp_pop.index, size=3, replace=False)\n",
    "                temp_pop.loc[indices[0], col] = 0\n",
    "                temp_pop.loc[indices[1], col] = 1\n",
    "                temp_pop.loc[indices[2], col] = 2\n",
    "\n",
    "            # Calculate frequencies\n",
    "            value_counts = temp_pop[col].value_counts().reindex([0, 1, 2], fill_value=0)\n",
    "            total = value_counts.sum()\n",
    "            q = (2*value_counts[2] + value_counts[1])/ (2*total)\n",
    "            if q > 0.5:\n",
    "                q = 1-q\n",
    "            p = 1 - q\n",
    "            freq_maj = p ** 2\n",
    "            freq_het = q ** 2\n",
    "            freq_min = 2 * p * q\n",
    "\n",
    "            # Optimization: Vectorized assignment of new genotypes\n",
    "            pop_geno = np.random.choice([1.0, 0.0, -1.0], size=total, p=[freq_maj, freq_het, freq_min])\n",
    "            temp_pop[col] = pop_geno\n",
    "\n",
    "        dfs.append(temp_pop)\n",
    "\n",
    "# Concatenate all dataframes if needed\n",
    "simulated_genotype = pd.concat(dfs, ignore_index=True)"
   ]
  },
  {
   "cell_type": "code",
   "execution_count": 8,
   "id": "9834b3c6-a5f9-463d-b5d4-2dcb019dc752",
   "metadata": {},
   "outputs": [],
   "source": [
    "simulated_genotype = simulated_genotype+1"
   ]
  },
  {
   "cell_type": "code",
   "execution_count": 9,
   "id": "942e4628-d0d0-456e-a844-290c447a8da3",
   "metadata": {},
   "outputs": [],
   "source": [
    "# calculate when AF is > 0.5 and change the genotype\n",
    "# Initialize a dictionary to store allele frequencies\n",
    "allele_frequencies = {}\n",
    "\n",
    "# Calculate allele frequencies for each SNP column\n",
    "for snp in simulated_genotype.columns:\n",
    "    total_alleles = 2 * len(simulated_genotype[snp])  # Total number of alleles (2 alleles per sample)\n",
    "    minor_allele_count = (2 * simulated_genotype[snp].value_counts().get(0, 0)) + simulated_genotype[snp].value_counts().get(1, 0)\n",
    "    allele_frequency = minor_allele_count / total_alleles\n",
    "    allele_frequencies[snp] = allele_frequency"
   ]
  },
  {
   "cell_type": "code",
   "execution_count": 10,
   "id": "8e2a5275-fdf0-481d-949f-d0f4d681647c",
   "metadata": {},
   "outputs": [],
   "source": [
    "temp = simulated_genotype.T\n",
    "temp['AFs'] = allele_frequencies"
   ]
  },
  {
   "cell_type": "code",
   "execution_count": 11,
   "id": "89b2bdf2-4a9a-4582-aec1-253cc424dacb",
   "metadata": {},
   "outputs": [],
   "source": [
    "# Apply the function across the DataFrame, row-wise\n",
    "df_transformed = temp.apply(flip_genotypes, axis=1)"
   ]
  },
  {
   "cell_type": "code",
   "execution_count": 12,
   "id": "693e8b66-9e49-4495-8252-a79c88b84b98",
   "metadata": {},
   "outputs": [],
   "source": [
    "simulated_genotype = df_transformed.drop('AFs', axis=1).T\n",
    "columns_to_drop  = simulated_genotype.columns[simulated_genotype.nunique() == 1] # If double columns delete it \n",
    "simulated_genotype = simulated_genotype.drop(columns=columns_to_drop)"
   ]
  },
  {
   "cell_type": "code",
   "execution_count": 13,
   "id": "d325eeaf-29c1-44cb-aea7-676b75339d00",
   "metadata": {},
   "outputs": [],
   "source": [
    "simulated_genotype = simulated_genotype[[col for col in simulated_genotype.columns if contains_all_genotypes(simulated_genotype[col])]]"
   ]
  },
  {
   "cell_type": "code",
   "execution_count": 14,
   "id": "9763ef5b-0cb2-4bc1-ae43-7e0811c11579",
   "metadata": {},
   "outputs": [],
   "source": [
    "# calculate when AF is > 0.5 and change the genotype\n",
    "# Initialize a dictionary to store allele frequencies\n",
    "allele_frequencies = {}\n",
    "\n",
    "# Calculate allele frequencies for each SNP column\n",
    "for snp in simulated_genotype.columns:\n",
    "    total_alleles = 2 * len(simulated_genotype[snp])  # Total number of alleles (2 alleles per sample)\n",
    "    minor_allele_count = (2 * simulated_genotype[snp].value_counts().get(0, 0)) + simulated_genotype[snp].value_counts().get(1, 0)\n",
    "    allele_frequency = minor_allele_count / total_alleles\n",
    "    allele_frequencies[snp] = allele_frequency"
   ]
  },
  {
   "cell_type": "code",
   "execution_count": 15,
   "id": "48471c11-d8a1-4c19-9636-9efe49fa33ee",
   "metadata": {},
   "outputs": [],
   "source": [
    "temp = simulated_genotype.T\n",
    "temp['AFs'] = allele_frequencies\n",
    "AFs = temp[['AFs']]"
   ]
  },
  {
   "cell_type": "code",
   "execution_count": 16,
   "id": "0eb8a9f2-05c6-482e-9bc0-e6b369dec272",
   "metadata": {},
   "outputs": [],
   "source": [
    "# Create slices as copies to avoid SettingWithCopyWarning\n",
    "very_rare = temp[(temp['AFs'] > very_rare_threshold_L) & (temp['AFs'] <= very_rare_threshold_H)].copy()\n",
    "rare = temp[(temp['AFs'] > rare_threshold_L) & (temp['AFs'] <= rare_threshold_H)].copy()\n",
    "common = temp[(temp['AFs'] > common_threshold_L) & (temp['AFs'] <= common_threshold_H)].copy()\n",
    "\n",
    "# Modify 'snps' column using .loc to avoid warnings\n",
    "very_rare.loc[:, 'snps'] = very_rare.index + '_AF_' + very_rare['AFs'].astype(str)\n",
    "very_rare.set_index('snps', inplace=True)\n",
    "very_rare_to_save = very_rare.drop('AFs', axis=1).T\n",
    "very_rare_afs = very_rare[['AFs']]\n",
    "\n",
    "rare.loc[:, 'snps'] = rare.index + '_AF_' + rare['AFs'].astype(str)\n",
    "rare.set_index('snps', inplace=True)\n",
    "rare_to_save = rare.drop('AFs', axis=1).T\n",
    "rare_afs = rare[['AFs']]\n",
    "\n",
    "common.loc[:, 'snps'] = common.index + '_AF_' + common['AFs'].astype(str)\n",
    "common.set_index('snps', inplace=True)\n",
    "common_to_save = common.drop('AFs', axis=1).T\n",
    "common_afs = common[['AFs']]"
   ]
  },
  {
   "cell_type": "code",
   "execution_count": 17,
   "id": "149e754b-bb42-4496-999b-bdadc551dfea",
   "metadata": {},
   "outputs": [],
   "source": [
    "very_rare_to_save = very_rare_to_save.rename(columns=lambda x: 'VR' + x)/2\n",
    "rare_to_save = rare_to_save.rename(columns=lambda x: 'R' + x)/2\n",
    "common_to_save = common_to_save.rename(columns=lambda x: 'C' + x)/2\n",
    "complete = pd.concat([common_to_save, rare_to_save, very_rare_to_save], axis=1)\n",
    "complete = ((complete*2)-1)"
   ]
  },
  {
   "cell_type": "code",
   "execution_count": 18,
   "id": "4f4e3535-9613-491e-96a5-4d735d54080d",
   "metadata": {},
   "outputs": [],
   "source": [
    "number_of_populations = k*k\n",
    "labels_pop = []\n",
    "for i in range(number_of_populations):\n",
    "    labels_pop += [i+1]*c\n",
    "\n",
    "simulated_genotype[\"populations\"] = labels_pop\n",
    "simulated_genotype['populations'] = simulated_genotype['populations'].apply(lambda x: 1 if x in [1, 2] else 2)"
   ]
  },
  {
   "cell_type": "code",
   "execution_count": 19,
   "id": "1b5959a4-4a83-4758-98ca-17424b81da0c",
   "metadata": {},
   "outputs": [],
   "source": [
    "complete['pop'] = simulated_genotype['populations']\n",
    "\n",
    "p2s_dfs = []\n",
    "q2s_dfs = []\n",
    "twopqs_dfs = []\n",
    "\n",
    "for pop in complete['pop'].unique():\n",
    "    temp = complete[complete['pop'] == pop].drop(\"pop\", axis=1)\n",
    "\n",
    "    # Count the number of major, heterozygous, and minor alleles\n",
    "    counts = temp.apply(pd.Series.value_counts).fillna(0)\n",
    "\n",
    "    num_maj = counts.loc[1.0]\n",
    "    num_het = counts.loc[0.0]\n",
    "    num_min = counts.loc[-1.0]\n",
    "\n",
    "    total_humans = num_maj + num_het + num_min\n",
    "\n",
    "    # Normalize to get frequencies instead of counts\n",
    "    p2s = num_maj / total_humans\n",
    "    twopqs = num_het / total_humans\n",
    "    q2s = num_min / total_humans\n",
    "\n",
    "    # Expand the normalized values across all rows for each population\n",
    "    p2s_dfs.append(pd.DataFrame([p2s] * temp.shape[0], index=temp.index, columns=temp.columns))\n",
    "    twopqs_dfs.append(pd.DataFrame([twopqs] * temp.shape[0], index=temp.index, columns=temp.columns))\n",
    "    q2s_dfs.append(pd.DataFrame([q2s] * temp.shape[0], index=temp.index, columns=temp.columns))\n",
    "\n",
    "# Drop \"pop\" from the original DataFrame\n",
    "complete = complete.drop(\"pop\", axis=1)\n",
    "\n",
    "# Concatenate all population-specific DataFrames\n",
    "true_p2s = pd.concat(p2s_dfs)\n",
    "true_twopqs = pd.concat(twopqs_dfs)\n",
    "true_q2s = pd.concat(q2s_dfs)"
   ]
  },
  {
   "cell_type": "code",
   "execution_count": 20,
   "id": "b9c02394-f3cc-4ecc-8937-035f78b0f25e",
   "metadata": {},
   "outputs": [],
   "source": [
    "count_total_AFs = complete.apply(pd.Series.value_counts).fillna(0)/number_of_individuals"
   ]
  },
  {
   "cell_type": "code",
   "execution_count": 21,
   "id": "82e0bfbf-f77e-4d43-a269-c25a0484e4be",
   "metadata": {},
   "outputs": [
    {
     "data": {
      "text/html": [
       "<div>\n",
       "<style scoped>\n",
       "    .dataframe tbody tr th:only-of-type {\n",
       "        vertical-align: middle;\n",
       "    }\n",
       "\n",
       "    .dataframe tbody tr th {\n",
       "        vertical-align: top;\n",
       "    }\n",
       "\n",
       "    .dataframe thead th {\n",
       "        text-align: right;\n",
       "    }\n",
       "</style>\n",
       "<table border=\"1\" class=\"dataframe\">\n",
       "  <thead>\n",
       "    <tr style=\"text-align: right;\">\n",
       "      <th>snps</th>\n",
       "      <th>CG1_AF_0.355</th>\n",
       "      <th>CG3_AF_0.2625</th>\n",
       "      <th>CG5_AF_0.2875</th>\n",
       "      <th>CG6_AF_0.2225</th>\n",
       "      <th>CG11_AF_0.2625</th>\n",
       "      <th>CG12_AF_0.2525</th>\n",
       "      <th>CG16_AF_0.38</th>\n",
       "      <th>CG20_AF_0.2375</th>\n",
       "      <th>CG24_AF_0.25</th>\n",
       "      <th>CG25_AF_0.2475</th>\n",
       "      <th>...</th>\n",
       "      <th>VRG54_AF_0.0425</th>\n",
       "      <th>VRG125_AF_0.0475</th>\n",
       "      <th>VRG181_AF_0.045</th>\n",
       "      <th>VRG280_AF_0.0425</th>\n",
       "      <th>VRG345_AF_0.03</th>\n",
       "      <th>VRG401_AF_0.04</th>\n",
       "      <th>VRG407_AF_0.0475</th>\n",
       "      <th>VRG434_AF_0.035</th>\n",
       "      <th>VRG435_AF_0.045</th>\n",
       "      <th>VRG439_AF_0.05</th>\n",
       "    </tr>\n",
       "  </thead>\n",
       "  <tbody>\n",
       "    <tr>\n",
       "      <th>-1.0</th>\n",
       "      <td>0.14</td>\n",
       "      <td>0.120</td>\n",
       "      <td>0.115</td>\n",
       "      <td>0.080</td>\n",
       "      <td>0.120</td>\n",
       "      <td>0.105</td>\n",
       "      <td>0.165</td>\n",
       "      <td>0.095</td>\n",
       "      <td>0.11</td>\n",
       "      <td>0.095</td>\n",
       "      <td>...</td>\n",
       "      <td>0.010</td>\n",
       "      <td>0.005</td>\n",
       "      <td>0.01</td>\n",
       "      <td>0.005</td>\n",
       "      <td>0.005</td>\n",
       "      <td>0.005</td>\n",
       "      <td>0.005</td>\n",
       "      <td>0.005</td>\n",
       "      <td>0.005</td>\n",
       "      <td>0.005</td>\n",
       "    </tr>\n",
       "    <tr>\n",
       "      <th>0.0</th>\n",
       "      <td>0.43</td>\n",
       "      <td>0.285</td>\n",
       "      <td>0.345</td>\n",
       "      <td>0.285</td>\n",
       "      <td>0.285</td>\n",
       "      <td>0.295</td>\n",
       "      <td>0.430</td>\n",
       "      <td>0.285</td>\n",
       "      <td>0.28</td>\n",
       "      <td>0.305</td>\n",
       "      <td>...</td>\n",
       "      <td>0.065</td>\n",
       "      <td>0.085</td>\n",
       "      <td>0.07</td>\n",
       "      <td>0.075</td>\n",
       "      <td>0.050</td>\n",
       "      <td>0.070</td>\n",
       "      <td>0.085</td>\n",
       "      <td>0.060</td>\n",
       "      <td>0.080</td>\n",
       "      <td>0.090</td>\n",
       "    </tr>\n",
       "    <tr>\n",
       "      <th>1.0</th>\n",
       "      <td>0.43</td>\n",
       "      <td>0.595</td>\n",
       "      <td>0.540</td>\n",
       "      <td>0.635</td>\n",
       "      <td>0.595</td>\n",
       "      <td>0.600</td>\n",
       "      <td>0.405</td>\n",
       "      <td>0.620</td>\n",
       "      <td>0.61</td>\n",
       "      <td>0.600</td>\n",
       "      <td>...</td>\n",
       "      <td>0.925</td>\n",
       "      <td>0.910</td>\n",
       "      <td>0.92</td>\n",
       "      <td>0.920</td>\n",
       "      <td>0.945</td>\n",
       "      <td>0.925</td>\n",
       "      <td>0.910</td>\n",
       "      <td>0.935</td>\n",
       "      <td>0.915</td>\n",
       "      <td>0.905</td>\n",
       "    </tr>\n",
       "  </tbody>\n",
       "</table>\n",
       "<p>3 rows × 429 columns</p>\n",
       "</div>"
      ],
      "text/plain": [
       "snps  CG1_AF_0.355  CG3_AF_0.2625  CG5_AF_0.2875  CG6_AF_0.2225  \\\n",
       "-1.0          0.14          0.120          0.115          0.080   \n",
       " 0.0          0.43          0.285          0.345          0.285   \n",
       " 1.0          0.43          0.595          0.540          0.635   \n",
       "\n",
       "snps  CG11_AF_0.2625  CG12_AF_0.2525  CG16_AF_0.38  CG20_AF_0.2375  \\\n",
       "-1.0           0.120           0.105         0.165           0.095   \n",
       " 0.0           0.285           0.295         0.430           0.285   \n",
       " 1.0           0.595           0.600         0.405           0.620   \n",
       "\n",
       "snps  CG24_AF_0.25  CG25_AF_0.2475  ...  VRG54_AF_0.0425  VRG125_AF_0.0475  \\\n",
       "-1.0          0.11           0.095  ...            0.010             0.005   \n",
       " 0.0          0.28           0.305  ...            0.065             0.085   \n",
       " 1.0          0.61           0.600  ...            0.925             0.910   \n",
       "\n",
       "snps  VRG181_AF_0.045  VRG280_AF_0.0425  VRG345_AF_0.03  VRG401_AF_0.04  \\\n",
       "-1.0             0.01             0.005           0.005           0.005   \n",
       " 0.0             0.07             0.075           0.050           0.070   \n",
       " 1.0             0.92             0.920           0.945           0.925   \n",
       "\n",
       "snps  VRG407_AF_0.0475  VRG434_AF_0.035  VRG435_AF_0.045  VRG439_AF_0.05  \n",
       "-1.0             0.005            0.005            0.005           0.005  \n",
       " 0.0             0.085            0.060            0.080           0.090  \n",
       " 1.0             0.910            0.935            0.915           0.905  \n",
       "\n",
       "[3 rows x 429 columns]"
      ]
     },
     "execution_count": 21,
     "metadata": {},
     "output_type": "execute_result"
    }
   ],
   "source": [
    "count_total_AFs"
   ]
  },
  {
   "cell_type": "code",
   "execution_count": 22,
   "id": "8a21a7f8-8365-4287-b9b1-1aa5088dbb6a",
   "metadata": {},
   "outputs": [],
   "source": [
    "first_snp = list(complete.columns)[0]"
   ]
  },
  {
   "cell_type": "code",
   "execution_count": 23,
   "id": "be1eec0e-780f-41d2-829e-f748f5b42425",
   "metadata": {},
   "outputs": [],
   "source": [
    "geno = complete[[first_snp]]"
   ]
  },
  {
   "cell_type": "code",
   "execution_count": 24,
   "id": "6f191e9a-3c7d-4561-92ec-60a59451b491",
   "metadata": {},
   "outputs": [],
   "source": [
    "p2_min_q2 = true_p2s - true_q2s\n",
    "p2_min_q2 = p2_min_q2[[first_snp]]"
   ]
  },
  {
   "cell_type": "code",
   "execution_count": null,
   "id": "31593f48-ecfe-4992-b483-b2c106a0cd66",
   "metadata": {},
   "outputs": [],
   "source": []
  },
  {
   "cell_type": "code",
   "execution_count": 25,
   "id": "52919932-7c07-4dbe-a04d-f6f52dc59f11",
   "metadata": {},
   "outputs": [],
   "source": [
    "populations = simulated_genotype[['populations']]"
   ]
  },
  {
   "cell_type": "code",
   "execution_count": 26,
   "id": "560c1f14-5166-44e4-9999-926e76e95b3c",
   "metadata": {},
   "outputs": [],
   "source": [
    "\n",
    "populations['x'] = populations['populations']\n",
    "populations['y'] = 1\n",
    "populations['z'] = 0.5"
   ]
  },
  {
   "cell_type": "code",
   "execution_count": 27,
   "id": "5b01886a-9d4a-4935-a9d2-bef6247a7b32",
   "metadata": {},
   "outputs": [],
   "source": [
    "palette = [map_to_color(x, y, z, populations) for x, y, z in zip(populations['x'], populations['y'], populations['z'])]"
   ]
  },
  {
   "cell_type": "code",
   "execution_count": 28,
   "id": "5f1523be-278a-4152-a2b4-7884200269f9",
   "metadata": {},
   "outputs": [
    {
     "data": {
      "image/png": "[encoded data removed]",
      "text/plain": [
       "<Figure size 1000x1000 with 1 Axes>"
      ]
     },
     "metadata": {},
     "output_type": "display_data"
    }
   ],
   "source": [
    "# Check the grid\n",
    "df_agg = populations.groupby(['x', 'y']).agg({'populations': 'mean'}).reset_index()\n",
    "\n",
    "# Now, pivot the aggregated DataFrame\n",
    "grid_df = df_agg.pivot(index='y', columns='x', values='populations')\n",
    "\n",
    "# Use seaborn to create the heatmap\n",
    "plt.figure(figsize=(10, 10))\n",
    "heatmap = sns.heatmap(grid_df, cmap=palette, linewidths=.5, square=True, cbar=False)\n",
    "\n",
    "# Add a title to the heatmap\n",
    "plt.title('Population Grid', fontsize=16)\n",
    "plt.gca().invert_yaxis()  # Sometimes it's necessary to invert the y-axis for correct orientation\n",
    "plt.show()\n",
    "plt.close()"
   ]
  },
  {
   "cell_type": "code",
   "execution_count": 29,
   "id": "3c719225-4c72-41b8-958a-00c0655a2766",
   "metadata": {},
   "outputs": [],
   "source": [
    "scaler = StandardScaler()\n",
    "scaled_complete = scaler.fit_transform(complete)\n",
    "n_components = max(min(complete.shape[1], 50), 4)\n",
    "pca = PCA(n_components=n_components)\n",
    "pc_labels_complete = [f\"PC{i}\" for i in range(1, n_components + 1)]\n",
    "PC_complete = pca.fit_transform(scaled_complete)\n",
    "PC_complete = pd.DataFrame(data=PC_complete, columns=pc_labels_complete)"
   ]
  },
  {
   "cell_type": "code",
   "execution_count": 30,
   "id": "2884256b-ad13-443b-b32b-0178104fd83c",
   "metadata": {},
   "outputs": [],
   "source": [
    "to_have_collumns = ['populations', 'x', 'y']\n",
    "PC_complete[to_have_collumns] = populations[to_have_collumns]"
   ]
  },
  {
   "cell_type": "code",
   "execution_count": 31,
   "id": "71b27f26-9142-4cf5-93f8-01189aa82ece",
   "metadata": {},
   "outputs": [
    {
     "data": {
      "image/png": "[encoded data removed]",
      "text/plain": [
       "<Figure size 640x480 with 1 Axes>"
      ]
     },
     "metadata": {},
     "output_type": "display_data"
    }
   ],
   "source": [
    "sns.scatterplot(x='PC1', y='PC2', data=PC_complete, color=palette, linewidth=0)\n",
    "\n",
    "# Adjust layout\n",
    "plt.tight_layout()\n",
    "plt.title(f\"Vizualizing populations with migration rate = {M}\")\n",
    "plt.show()\n",
    "plt.close()"
   ]
  },
  {
   "cell_type": "code",
   "execution_count": 32,
   "id": "d32ac3c1-baeb-4914-808c-4008d3f92643",
   "metadata": {},
   "outputs": [],
   "source": [
    "PC_complete['mafs'] = true_q2s[[first_snp]].apply(np.sqrt).round(2)"
   ]
  },
  {
   "cell_type": "code",
   "execution_count": 33,
   "id": "5d84ebbd-6940-4132-b89c-35f8db8ee066",
   "metadata": {},
   "outputs": [
    {
     "data": {
      "image/png": "[encoded data removed]",
      "text/plain": [
       "<Figure size 640x480 with 1 Axes>"
      ]
     },
     "metadata": {},
     "output_type": "display_data"
    }
   ],
   "source": [
    "sns.scatterplot(x='PC1', y='PC2', data=PC_complete, hue = 'mafs', linewidth=0)\n",
    "\n",
    "# Adjust layout\n",
    "plt.tight_layout()\n",
    "plt.title(f\"Vizualizing minor allele frequencies variations for SNP {first_snp}\")\n",
    "plt.show()\n",
    "plt.close()"
   ]
  },
  {
   "cell_type": "code",
   "execution_count": 34,
   "id": "8ab43c0a-bba7-4da8-877d-6e5b2ce29f90",
   "metadata": {},
   "outputs": [
    {
     "data": {
      "text/plain": [
       "'NW_risk_fun'"
      ]
     },
     "execution_count": 34,
     "metadata": {},
     "output_type": "execute_result"
    }
   ],
   "source": [
    "risk = existing_risks[1]\n",
    "risk"
   ]
  },
  {
   "cell_type": "code",
   "execution_count": 35,
   "id": "d6f5f0f9-90fa-424f-acac-f58a48654004",
   "metadata": {},
   "outputs": [],
   "source": [
    "# Dynamically import the function based on the risk level\n",
    "module_name = 'helpers'\n",
    "module_spec = importlib.util.spec_from_file_location(module_name, 'helpers.py')\n",
    "helpers = importlib.util.module_from_spec(module_spec)\n",
    "module_spec.loader.exec_module(helpers)\n"
   ]
  },
  {
   "cell_type": "code",
   "execution_count": 36,
   "id": "9d337956-c534-4fa3-9497-f461bd940d07",
   "metadata": {},
   "outputs": [],
   "source": [
    "risk_function = getattr(helpers, risk)\n",
    "name_risk = risk.split('_fun')[0]\n",
    "populations['x_temp'] = populations['x']/k\n",
    "populations['y_temp'] = populations['y']/k\n",
    "populations[name_risk] = list(populations.apply(lambda row: risk_function(row['x_temp'], row['y_temp']), axis=1))\n",
    "populations[name_risk] = populations[name_risk].astype('float')"
   ]
  },
  {
   "cell_type": "code",
   "execution_count": 37,
   "id": "965e29e3-57cc-4fd4-97f1-3a2c2410da3b",
   "metadata": {},
   "outputs": [],
   "source": [
    "PC_complete['risk'] = populations['NW_risk']"
   ]
  },
  {
   "cell_type": "code",
   "execution_count": 38,
   "id": "efbc8b4b-b18f-4cf9-be9f-64f38d04add9",
   "metadata": {},
   "outputs": [
    {
     "data": {
      "image/png": "[encoded data removed]",
      "text/plain": [
       "<Figure size 640x480 with 1 Axes>"
      ]
     },
     "metadata": {},
     "output_type": "display_data"
    }
   ],
   "source": [
    "sns.scatterplot(x='PC1', y='PC2', data=PC_complete, hue = 'risk', linewidth=0)\n",
    "\n",
    "# Adjust layout\n",
    "plt.tight_layout()\n",
    "plt.title(f\"Vizualizing different environmental risk between populations\")\n",
    "plt.show()\n",
    "plt.close()"
   ]
  },
  {
   "cell_type": "code",
   "execution_count": 39,
   "id": "487e8398-f5ab-4491-b48e-d82107084c00",
   "metadata": {},
   "outputs": [],
   "source": [
    "# manually calculate the betas "
   ]
  },
  {
   "cell_type": "code",
   "execution_count": 40,
   "id": "7fd70f97-bc41-4c0b-9e2f-9e8c01f5f096",
   "metadata": {},
   "outputs": [],
   "source": [
    "from sklearn.preprocessing import MinMaxScaler, StandardScaler\n",
    "scaler = MinMaxScaler()\n",
    "scaler = StandardScaler()\n",
    "PC_complete['risk_scaled'] = scaler.fit_transform(PC_complete[['risk']])"
   ]
  },
  {
   "cell_type": "code",
   "execution_count": 41,
   "id": "d521fe21-b757-44e6-890d-85c980a83f55",
   "metadata": {},
   "outputs": [],
   "source": [
    "PC_complete['snp'] = complete[first_snp]\n",
    "mean_risk_per_pop = {}\n",
    "nr_people_per_pop = {}\n",
    "maj_afs = {}\n",
    "min_afs = {}\n",
    "het_afs = {}\n",
    "total_nr_peeps = 0\n",
    "mean_global_risk = 0\n",
    "for unique_pop in PC_complete.populations.unique():\n",
    "    temp = PC_complete[PC_complete['populations'] == unique_pop]\n",
    "\n",
    "\n",
    "    total_alleles = len(temp['snp'])  # Total number of alleles (2 alleles per sample)\n",
    "    q2_freq = (temp['snp'].value_counts().get(-1, 0))/total_alleles\n",
    "    pq_freq = (temp['snp'].value_counts().get(0, 0))/total_alleles\n",
    "    p2_freq = (temp['snp'].value_counts().get(1, 0))/total_alleles\n",
    "\n",
    "    \n",
    "    mean_risk_per_pop[unique_pop] = temp['risk_scaled'].mean()\n",
    "    mean_global_risk += temp['risk_scaled'].mean()\n",
    "    nr_people_per_pop[unique_pop] = len(temp)\n",
    "    total_nr_peeps += len(temp)\n",
    "    maj_afs[unique_pop] = p2_freq\n",
    "    min_afs[unique_pop] = q2_freq\n",
    "    het_afs[unique_pop] = pq_freq\n",
    "\n",
    "mean_risk_per_pop['global_mean'] = mean_global_risk/len(PC_complete.populations.unique())\n",
    "nr_people_per_pop['total'] = total_nr_peeps\n",
    "\n",
    "total_alleles = len(PC_complete['snp'])  # Total number of alleles (2 alleles per sample)\n",
    "q2_freq = (PC_complete['snp'].value_counts().get(-1, 0))/total_alleles\n",
    "pq_freq = (PC_complete['snp'].value_counts().get(0, 0))/total_alleles\n",
    "p2_freq = (PC_complete['snp'].value_counts().get(1, 0))/total_alleles\n",
    "\n",
    "maj_afs['mean'] = p2_freq\n",
    "min_afs['mean'] = q2_freq\n",
    "het_afs['mean'] = pq_freq\n"
   ]
  },
  {
   "cell_type": "code",
   "execution_count": 42,
   "id": "2efd6ea0-7093-41d3-9f5e-958a9e2792fc",
   "metadata": {},
   "outputs": [
    {
     "data": {
      "text/plain": [
       "{1: 1.0, 2: -1.0, 'global_mean': 0.0}"
      ]
     },
     "execution_count": 42,
     "metadata": {},
     "output_type": "execute_result"
    }
   ],
   "source": [
    "mean_risk_per_pop"
   ]
  },
  {
   "cell_type": "code",
   "execution_count": 43,
   "id": "bfdb232e-76a0-482a-ae41-85e8c8762c5e",
   "metadata": {},
   "outputs": [
    {
     "data": {
      "text/plain": [
       "{1: 100, 2: 100, 'total': 200}"
      ]
     },
     "execution_count": 43,
     "metadata": {},
     "output_type": "execute_result"
    }
   ],
   "source": [
    "nr_people_per_pop"
   ]
  },
  {
   "cell_type": "code",
   "execution_count": 44,
   "id": "1b0aca51-9f5c-4861-a6d5-ceadf061c43f",
   "metadata": {},
   "outputs": [
    {
     "data": {
      "text/plain": [
       "{1: 0.29, 2: 0.57, 'mean': 0.43}"
      ]
     },
     "execution_count": 44,
     "metadata": {},
     "output_type": "execute_result"
    }
   ],
   "source": [
    "maj_afs"
   ]
  },
  {
   "cell_type": "code",
   "execution_count": 45,
   "id": "2f279bcc-72ac-4596-aa29-14b24be63b29",
   "metadata": {},
   "outputs": [
    {
     "data": {
      "text/plain": [
       "{1: 0.19, 2: 0.09, 'mean': 0.14}"
      ]
     },
     "execution_count": 45,
     "metadata": {},
     "output_type": "execute_result"
    }
   ],
   "source": [
    "min_afs"
   ]
  },
  {
   "cell_type": "code",
   "execution_count": 46,
   "id": "55a8405f-47a6-466b-8bd0-11edd01a3571",
   "metadata": {},
   "outputs": [
    {
     "data": {
      "text/plain": [
       "{1: 0.52, 2: 0.34, 'mean': 0.43}"
      ]
     },
     "execution_count": 46,
     "metadata": {},
     "output_type": "execute_result"
    }
   ],
   "source": [
    "het_afs"
   ]
  },
  {
   "cell_type": "code",
   "execution_count": 47,
   "id": "aca566ee-3427-4559-bf44-6d4cf2e2c66a",
   "metadata": {},
   "outputs": [],
   "source": [
    "pheno_minor_pop1 = (nr_people_per_pop[1]/nr_people_per_pop['total'])*(min_afs[1])*mean_risk_per_pop[1]\n",
    "pheno_minor_pop2 = (nr_people_per_pop[2]/nr_people_per_pop['total'])*(min_afs[2]/min_afs['mean'])*mean_risk_per_pop[2]"
   ]
  },
  {
   "cell_type": "code",
   "execution_count": 48,
   "id": "5259b2f3-75ea-4b30-b04a-1c43db78dd0b",
   "metadata": {},
   "outputs": [
    {
     "data": {
      "text/plain": [
       "-0.2264285714285714"
      ]
     },
     "execution_count": 48,
     "metadata": {},
     "output_type": "execute_result"
    }
   ],
   "source": [
    "pheno_minor = pheno_minor_pop1+pheno_minor_pop2\n",
    "pheno_minor"
   ]
  },
  {
   "cell_type": "code",
   "execution_count": 49,
   "id": "01e29348-7dbb-4ec7-9510-fa711e45b450",
   "metadata": {},
   "outputs": [
    {
     "data": {
      "text/plain": [
       "-0.13534883720930235"
      ]
     },
     "execution_count": 49,
     "metadata": {},
     "output_type": "execute_result"
    }
   ],
   "source": [
    "pheno_het_pop1 = (nr_people_per_pop[1]/nr_people_per_pop['total'])*(het_afs[1])*mean_risk_per_pop[1]\n",
    "pheno_het_pop2 = (nr_people_per_pop[2]/nr_people_per_pop['total'])*(het_afs[2]/het_afs['mean'])*mean_risk_per_pop[2]\n",
    "pheno_het = pheno_het_pop1+pheno_het_pop2\n",
    "pheno_het"
   ]
  },
  {
   "cell_type": "code",
   "execution_count": 50,
   "id": "0ad474dd-f718-41b5-9067-c71a5140430e",
   "metadata": {},
   "outputs": [
    {
     "data": {
      "text/plain": [
       "-0.5177906976744185"
      ]
     },
     "execution_count": 50,
     "metadata": {},
     "output_type": "execute_result"
    }
   ],
   "source": [
    "pheno_maj_pop1 = (nr_people_per_pop[1]/nr_people_per_pop['total'])*(maj_afs[1])*mean_risk_per_pop[1]\n",
    "pheno_maj_pop2 = (nr_people_per_pop[2]/nr_people_per_pop['total'])*(maj_afs[2]/maj_afs['mean'])*mean_risk_per_pop[2]\n",
    "pheno_maj = pheno_maj_pop1+pheno_maj_pop2\n",
    "pheno_maj"
   ]
  },
  {
   "cell_type": "code",
   "execution_count": 51,
   "id": "d147f807-5861-43a0-a978-9bc5affcf932",
   "metadata": {},
   "outputs": [],
   "source": [
    "geno_minor = -1\n",
    "geno_het = 0\n",
    "geno_major = 1"
   ]
  },
  {
   "cell_type": "code",
   "execution_count": 52,
   "id": "ecda8213-09a1-4b3e-b4ed-cd7d1c72c1e5",
   "metadata": {},
   "outputs": [],
   "source": [
    "sum_x = geno_minor + geno_het + geno_major\n",
    "sum_y = pheno_minor + pheno_het + pheno_maj\n",
    "sum_xy = geno_minor*pheno_minor + geno_het*pheno_het + geno_major*pheno_maj\n",
    "sum_x2 = geno_minor**2 + geno_het**2 + geno_minor**2"
   ]
  },
  {
   "cell_type": "code",
   "execution_count": 53,
   "id": "65f403ad-0ed3-4d4a-ada3-d342c2768670",
   "metadata": {},
   "outputs": [
    {
     "data": {
      "text/plain": [
       "-0.14568106312292356"
      ]
     },
     "execution_count": 53,
     "metadata": {},
     "output_type": "execute_result"
    }
   ],
   "source": [
    "(3*sum_xy-sum_x*sum_y)/(3*sum_x2 - sum_x**2)"
   ]
  },
  {
   "cell_type": "code",
   "execution_count": 54,
   "id": "58b7e379-da65-4083-8b13-205cdfc9e871",
   "metadata": {},
   "outputs": [
    {
     "data": {
      "text/html": [
       "<div>\n",
       "<style scoped>\n",
       "    .dataframe tbody tr th:only-of-type {\n",
       "        vertical-align: middle;\n",
       "    }\n",
       "\n",
       "    .dataframe tbody tr th {\n",
       "        vertical-align: top;\n",
       "    }\n",
       "\n",
       "    .dataframe thead th {\n",
       "        text-align: right;\n",
       "    }\n",
       "</style>\n",
       "<table border=\"1\" class=\"dataframe\">\n",
       "  <thead>\n",
       "    <tr style=\"text-align: right;\">\n",
       "      <th></th>\n",
       "      <th>snp</th>\n",
       "      <th>coefs</th>\n",
       "      <th>AFs</th>\n",
       "      <th>Ps</th>\n",
       "      <th>-logPs</th>\n",
       "    </tr>\n",
       "  </thead>\n",
       "  <tbody>\n",
       "    <tr>\n",
       "      <th>0</th>\n",
       "      <td>CG1</td>\n",
       "      <td>-0.333333</td>\n",
       "      <td>0.355</td>\n",
       "      <td>0.000314</td>\n",
       "      <td>3.503688</td>\n",
       "    </tr>\n",
       "  </tbody>\n",
       "</table>\n",
       "</div>"
      ],
      "text/plain": [
       "   snp     coefs    AFs        Ps    -logPs\n",
       "0  CG1 -0.333333  0.355  0.000314  3.503688"
      ]
     },
     "execution_count": 54,
     "metadata": {},
     "output_type": "execute_result"
    }
   ],
   "source": [
    "only_risk_via_snps = manhattan_linear(complete[[first_snp]], PC_complete[['risk_scaled']])\n",
    "only_risk_via_snps"
   ]
  },
  {
   "cell_type": "code",
   "execution_count": 55,
   "id": "77b6927e-2776-4956-9aa1-92110934b246",
   "metadata": {},
   "outputs": [
    {
     "data": {
      "text/html": [
       "<div>\n",
       "<style scoped>\n",
       "    .dataframe tbody tr th:only-of-type {\n",
       "        vertical-align: middle;\n",
       "    }\n",
       "\n",
       "    .dataframe tbody tr th {\n",
       "        vertical-align: top;\n",
       "    }\n",
       "\n",
       "    .dataframe thead th {\n",
       "        text-align: right;\n",
       "    }\n",
       "</style>\n",
       "<table border=\"1\" class=\"dataframe\">\n",
       "  <thead>\n",
       "    <tr style=\"text-align: right;\">\n",
       "      <th></th>\n",
       "      <th>snp</th>\n",
       "      <th>coefs</th>\n",
       "      <th>AFs</th>\n",
       "      <th>Ps</th>\n",
       "      <th>-logPs</th>\n",
       "    </tr>\n",
       "  </thead>\n",
       "  <tbody>\n",
       "    <tr>\n",
       "      <th>0</th>\n",
       "      <td>CG1</td>\n",
       "      <td>-0.26345</td>\n",
       "      <td>0.355</td>\n",
       "      <td>3.758172e-17</td>\n",
       "      <td>16.425023</td>\n",
       "    </tr>\n",
       "  </tbody>\n",
       "</table>\n",
       "</div>"
      ],
      "text/plain": [
       "   snp    coefs    AFs            Ps     -logPs\n",
       "0  CG1 -0.26345  0.355  3.758172e-17  16.425023"
      ]
     },
     "execution_count": 55,
     "metadata": {},
     "output_type": "execute_result"
    }
   ],
   "source": [
    "only_risk_via_snps = manhattan_linear(p2_min_q2[[first_snp]]*6, PC_complete[['risk_scaled']])\n",
    "only_risk_via_snps"
   ]
  },
  {
   "cell_type": "code",
   "execution_count": 56,
   "id": "16b0528b-ce0a-42c9-bac5-1a36265460d1",
   "metadata": {},
   "outputs": [
    {
     "data": {
      "text/html": [
       "<div>\n",
       "<style scoped>\n",
       "    .dataframe tbody tr th:only-of-type {\n",
       "        vertical-align: middle;\n",
       "    }\n",
       "\n",
       "    .dataframe tbody tr th {\n",
       "        vertical-align: top;\n",
       "    }\n",
       "\n",
       "    .dataframe thead th {\n",
       "        text-align: right;\n",
       "    }\n",
       "</style>\n",
       "<table border=\"1\" class=\"dataframe\">\n",
       "  <thead>\n",
       "    <tr style=\"text-align: right;\">\n",
       "      <th>snps</th>\n",
       "      <th>CG1_AF_0.355</th>\n",
       "      <th>CG3_AF_0.2625</th>\n",
       "      <th>CG5_AF_0.2875</th>\n",
       "      <th>CG6_AF_0.2225</th>\n",
       "      <th>CG11_AF_0.2625</th>\n",
       "      <th>CG12_AF_0.2525</th>\n",
       "      <th>CG16_AF_0.38</th>\n",
       "      <th>CG20_AF_0.2375</th>\n",
       "      <th>CG24_AF_0.25</th>\n",
       "      <th>CG25_AF_0.2475</th>\n",
       "      <th>...</th>\n",
       "      <th>VRG54_AF_0.0425</th>\n",
       "      <th>VRG125_AF_0.0475</th>\n",
       "      <th>VRG181_AF_0.045</th>\n",
       "      <th>VRG280_AF_0.0425</th>\n",
       "      <th>VRG345_AF_0.03</th>\n",
       "      <th>VRG401_AF_0.04</th>\n",
       "      <th>VRG407_AF_0.0475</th>\n",
       "      <th>VRG434_AF_0.035</th>\n",
       "      <th>VRG435_AF_0.045</th>\n",
       "      <th>VRG439_AF_0.05</th>\n",
       "    </tr>\n",
       "  </thead>\n",
       "  <tbody>\n",
       "    <tr>\n",
       "      <th>-1.0</th>\n",
       "      <td>0.14</td>\n",
       "      <td>0.120</td>\n",
       "      <td>0.115</td>\n",
       "      <td>0.080</td>\n",
       "      <td>0.120</td>\n",
       "      <td>0.105</td>\n",
       "      <td>0.165</td>\n",
       "      <td>0.095</td>\n",
       "      <td>0.11</td>\n",
       "      <td>0.095</td>\n",
       "      <td>...</td>\n",
       "      <td>0.010</td>\n",
       "      <td>0.005</td>\n",
       "      <td>0.01</td>\n",
       "      <td>0.005</td>\n",
       "      <td>0.005</td>\n",
       "      <td>0.005</td>\n",
       "      <td>0.005</td>\n",
       "      <td>0.005</td>\n",
       "      <td>0.005</td>\n",
       "      <td>0.005</td>\n",
       "    </tr>\n",
       "    <tr>\n",
       "      <th>0.0</th>\n",
       "      <td>0.43</td>\n",
       "      <td>0.285</td>\n",
       "      <td>0.345</td>\n",
       "      <td>0.285</td>\n",
       "      <td>0.285</td>\n",
       "      <td>0.295</td>\n",
       "      <td>0.430</td>\n",
       "      <td>0.285</td>\n",
       "      <td>0.28</td>\n",
       "      <td>0.305</td>\n",
       "      <td>...</td>\n",
       "      <td>0.065</td>\n",
       "      <td>0.085</td>\n",
       "      <td>0.07</td>\n",
       "      <td>0.075</td>\n",
       "      <td>0.050</td>\n",
       "      <td>0.070</td>\n",
       "      <td>0.085</td>\n",
       "      <td>0.060</td>\n",
       "      <td>0.080</td>\n",
       "      <td>0.090</td>\n",
       "    </tr>\n",
       "    <tr>\n",
       "      <th>1.0</th>\n",
       "      <td>0.43</td>\n",
       "      <td>0.595</td>\n",
       "      <td>0.540</td>\n",
       "      <td>0.635</td>\n",
       "      <td>0.595</td>\n",
       "      <td>0.600</td>\n",
       "      <td>0.405</td>\n",
       "      <td>0.620</td>\n",
       "      <td>0.61</td>\n",
       "      <td>0.600</td>\n",
       "      <td>...</td>\n",
       "      <td>0.925</td>\n",
       "      <td>0.910</td>\n",
       "      <td>0.92</td>\n",
       "      <td>0.920</td>\n",
       "      <td>0.945</td>\n",
       "      <td>0.925</td>\n",
       "      <td>0.910</td>\n",
       "      <td>0.935</td>\n",
       "      <td>0.915</td>\n",
       "      <td>0.905</td>\n",
       "    </tr>\n",
       "  </tbody>\n",
       "</table>\n",
       "<p>3 rows × 429 columns</p>\n",
       "</div>"
      ],
      "text/plain": [
       "snps  CG1_AF_0.355  CG3_AF_0.2625  CG5_AF_0.2875  CG6_AF_0.2225  \\\n",
       "-1.0          0.14          0.120          0.115          0.080   \n",
       " 0.0          0.43          0.285          0.345          0.285   \n",
       " 1.0          0.43          0.595          0.540          0.635   \n",
       "\n",
       "snps  CG11_AF_0.2625  CG12_AF_0.2525  CG16_AF_0.38  CG20_AF_0.2375  \\\n",
       "-1.0           0.120           0.105         0.165           0.095   \n",
       " 0.0           0.285           0.295         0.430           0.285   \n",
       " 1.0           0.595           0.600         0.405           0.620   \n",
       "\n",
       "snps  CG24_AF_0.25  CG25_AF_0.2475  ...  VRG54_AF_0.0425  VRG125_AF_0.0475  \\\n",
       "-1.0          0.11           0.095  ...            0.010             0.005   \n",
       " 0.0          0.28           0.305  ...            0.065             0.085   \n",
       " 1.0          0.61           0.600  ...            0.925             0.910   \n",
       "\n",
       "snps  VRG181_AF_0.045  VRG280_AF_0.0425  VRG345_AF_0.03  VRG401_AF_0.04  \\\n",
       "-1.0             0.01             0.005           0.005           0.005   \n",
       " 0.0             0.07             0.075           0.050           0.070   \n",
       " 1.0             0.92             0.920           0.945           0.925   \n",
       "\n",
       "snps  VRG407_AF_0.0475  VRG434_AF_0.035  VRG435_AF_0.045  VRG439_AF_0.05  \n",
       "-1.0             0.005            0.005            0.005           0.005  \n",
       " 0.0             0.085            0.060            0.080           0.090  \n",
       " 1.0             0.910            0.935            0.915           0.905  \n",
       "\n",
       "[3 rows x 429 columns]"
      ]
     },
     "execution_count": 56,
     "metadata": {},
     "output_type": "execute_result"
    }
   ],
   "source": [
    "count_total_AFs"
   ]
  },
  {
   "cell_type": "code",
   "execution_count": 57,
   "id": "49593a3e-c86e-479a-a71d-2b03a812b87c",
   "metadata": {},
   "outputs": [
    {
     "data": {
      "text/plain": [
       "snps\n",
       "CG1_AF_0.355        0.430\n",
       "CG3_AF_0.2625       0.595\n",
       "CG5_AF_0.2875       0.540\n",
       "CG6_AF_0.2225       0.635\n",
       "CG11_AF_0.2625      0.595\n",
       "                    ...  \n",
       "VRG401_AF_0.04      0.925\n",
       "VRG407_AF_0.0475    0.910\n",
       "VRG434_AF_0.035     0.935\n",
       "VRG435_AF_0.045     0.915\n",
       "VRG439_AF_0.05      0.905\n",
       "Name: 1.0, Length: 429, dtype: float64"
      ]
     },
     "execution_count": 57,
     "metadata": {},
     "output_type": "execute_result"
    }
   ],
   "source": [
    "count_total_AFs.loc[1.0]"
   ]
  },
  {
   "cell_type": "code",
   "execution_count": 58,
   "id": "656acd93-05cc-433c-a487-b5fe82572156",
   "metadata": {},
   "outputs": [],
   "source": [
    "true_p2s_ols = true_p2s**2\n",
    "true_p2s_ols = true_p2s_ols.div(count_total_AFs.loc[1.0], axis=1)\n",
    "\n",
    "true_q2s_ols = true_q2s**2\n",
    "true_q2s_ols = true_q2s_ols.div(count_total_AFs.loc[-1.0], axis=1)"
   ]
  },
  {
   "cell_type": "code",
   "execution_count": 59,
   "id": "c5d219bb-c466-4f32-9479-cc13dda22d9e",
   "metadata": {},
   "outputs": [],
   "source": [
    "p2_min_q2 = true_p2s_ols - true_q2s_ols"
   ]
  },
  {
   "cell_type": "code",
   "execution_count": 60,
   "id": "5e2804f8-e7bf-4086-af8f-cb34d080381a",
   "metadata": {},
   "outputs": [],
   "source": [
    "one_over_p2_min_q2 = 1/p2_min_q2\n",
    "max_value = one_over_p2_min_q2.replace([np.inf, -np.inf], np.nan).max().max()\n",
    "one_over_p2_min_q2.replace([np.inf, -np.inf], max_value, inplace=True)"
   ]
  },
  {
   "cell_type": "code",
   "execution_count": 77,
   "id": "02c8b54c-ae69-464a-a304-823992c337e4",
   "metadata": {},
   "outputs": [],
   "source": [
    "def manual_ols(X,y):\n",
    "    X = np.array(complete[[first_snp]])\n",
    "    #X = np.column_stack([np.ones(len(X)), X])\n",
    "    beta_matrix = np.linalg.inv(X.T @ X)\n",
    "    y = np.array(y).reshape(-1, 1)  # Reshape to 2D column vector\n",
    "    beta_matrix = (beta_matrix @ X.T) @ y\n",
    "    return beta_matrix[0][0]"
   ]
  },
  {
   "cell_type": "code",
   "execution_count": 61,
   "id": "6a39aa41-bb0b-4bcb-b252-2aef42a87a6f",
   "metadata": {},
   "outputs": [],
   "source": [
    "betas_calculated = []\n",
    "betas_test = []\n",
    "betas_snps = []\n",
    "betas_mafs = []\n",
    "\n",
    "P_val_snps = []\n",
    "P_val_mafs = []\n",
    "for first_snp in complete.columns:\n",
    "    PC_complete['snp'] = complete[first_snp]\n",
    "    mean_risk_per_pop = {}\n",
    "    nr_people_per_pop = {}\n",
    "    maj_afs = {}\n",
    "    min_afs = {}\n",
    "    het_afs = {}\n",
    "    total_nr_peeps = 0\n",
    "    mean_global_risk = 0\n",
    "    for unique_pop in PC_complete.populations.unique():\n",
    "        temp = PC_complete[PC_complete['populations'] == unique_pop]\n",
    "    \n",
    "    \n",
    "        total_alleles = len(temp['snp'])  # Total number of alleles (2 alleles per sample)\n",
    "        q2_freq = (temp['snp'].value_counts().get(-1, 0))/total_alleles\n",
    "        pq_freq = (temp['snp'].value_counts().get(0, 0))/total_alleles\n",
    "        p2_freq = (temp['snp'].value_counts().get(1, 0))/total_alleles\n",
    "    \n",
    "        \n",
    "        mean_risk_per_pop[unique_pop] = temp['risk_scaled'].mean()\n",
    "        mean_global_risk += temp['risk_scaled'].mean()\n",
    "        nr_people_per_pop[unique_pop] = len(temp)\n",
    "        total_nr_peeps += len(temp)\n",
    "        maj_afs[unique_pop] = p2_freq\n",
    "        min_afs[unique_pop] = q2_freq\n",
    "        het_afs[unique_pop] = pq_freq\n",
    "    \n",
    "    mean_risk_per_pop['global_mean'] = mean_global_risk/len(PC_complete.populations.unique())\n",
    "    nr_people_per_pop['total'] = total_nr_peeps\n",
    "    \n",
    "    total_alleles = len(PC_complete['snp'])  # Total number of alleles (2 alleles per sample)\n",
    "    q2_freq = (PC_complete['snp'].value_counts().get(-1, 0))/total_alleles\n",
    "    pq_freq = (PC_complete['snp'].value_counts().get(0, 0))/total_alleles\n",
    "    p2_freq = (PC_complete['snp'].value_counts().get(1, 0))/total_alleles\n",
    "    \n",
    "    maj_afs['mean'] = p2_freq\n",
    "    min_afs['mean'] = q2_freq\n",
    "    het_afs['mean'] = pq_freq\n",
    "\n",
    "    pheno_minor = 0\n",
    "    pheno_het = 0\n",
    "    pheno_major = 0\n",
    "    ns = 0\n",
    "    for unique_pop in PC_complete.populations.unique():\n",
    "        pheno_minor += (nr_people_per_pop[unique_pop]**2/nr_people_per_pop['total'])*(min_afs[unique_pop]**2/min_afs['mean'])*(mean_risk_per_pop[unique_pop])\n",
    "        pheno_het += (nr_people_per_pop[unique_pop]**2/nr_people_per_pop['total'])*(het_afs[unique_pop]**2/het_afs['mean'])*(mean_risk_per_pop[unique_pop])\n",
    "        pheno_major += (nr_people_per_pop[unique_pop]**2/nr_people_per_pop['total'])*(maj_afs[unique_pop]**2/maj_afs['mean'])*(mean_risk_per_pop[unique_pop])\n",
    "        ns  += 3\n",
    "    \n",
    "    geno_minor = -1\n",
    "    geno_het = 0\n",
    "    geno_major = 1\n",
    "\n",
    "    sum_x = geno_minor + geno_het + geno_major\n",
    "    sum_y = pheno_minor + pheno_het + pheno_maj\n",
    "    sum_xy = geno_minor*pheno_minor + geno_het*pheno_het + geno_major*pheno_maj\n",
    "    sum_x2 = geno_minor**2 + geno_het**2 + geno_minor**2\n",
    "\n",
    "    beta_calculated = (ns*sum_xy-sum_x*sum_y)/(ns*sum_x2 - sum_x**2)\n",
    "    betas_calculated.append(beta_calculated)\n",
    "    beta_snps = manhattan_linear(complete[[first_snp]], PC_complete[['risk_scaled']])\n",
    "    betas_snps.append(beta_snps['coefs'][0])\n",
    "    P_val_snps.append(beta_snps['-logPs'][0])\n",
    "\n",
    "    beta_maf = manhattan_linear(one_over_p2_min_q2[[first_snp]], PC_complete[['risk_scaled']])\n",
    "    betas_mafs.append(beta_maf['coefs'][0])\n",
    "    P_val_mafs.append(beta_maf['-logPs'][0])\n",
    "    "
   ]
  },
  {
   "cell_type": "code",
   "execution_count": 108,
   "id": "022f0e44-de33-4d02-ad69-254f3dc3bb0b",
   "metadata": {},
   "outputs": [],
   "source": [
    "betas_calculated = []\n",
    "betas_snps = []\n",
    "betas_mafs = []\n",
    "betas_test = []\n",
    "P_val_snps = []\n",
    "P_val_mafs = []\n",
    "Xs_test = []\n",
    "Ys_test = []\n",
    "for first_snp in complete.columns:\n",
    "    PC_complete['snp'] = complete[first_snp]\n",
    "    mean_risk_per_pop = {}\n",
    "    nr_people_per_pop = {}\n",
    "    maj_afs = {}\n",
    "    min_afs = {}\n",
    "    het_afs = {}\n",
    "    total_nr_peeps = 0\n",
    "    mean_global_risk = 0\n",
    "    for unique_pop in PC_complete.populations.unique():\n",
    "        temp = PC_complete[PC_complete['populations'] == unique_pop]\n",
    "    \n",
    "    \n",
    "        total_alleles = len(temp['snp'])  # Total number of alleles (2 alleles per sample)\n",
    "        q2_freq = (temp['snp'].value_counts().get(-1, 0))/total_alleles\n",
    "        pq_freq = (temp['snp'].value_counts().get(0, 0))/total_alleles\n",
    "        p2_freq = (temp['snp'].value_counts().get(1, 0))/total_alleles\n",
    "    \n",
    "        \n",
    "        mean_risk_per_pop[unique_pop] = temp['risk_scaled'].mean()\n",
    "        mean_global_risk += temp['risk_scaled'].mean()\n",
    "        nr_people_per_pop[unique_pop] = len(temp)\n",
    "        total_nr_peeps += len(temp)\n",
    "        maj_afs[unique_pop] = p2_freq\n",
    "        min_afs[unique_pop] = q2_freq\n",
    "        het_afs[unique_pop] = pq_freq\n",
    "    \n",
    "    mean_risk_per_pop['global_mean'] = mean_global_risk/len(PC_complete.populations.unique())\n",
    "    nr_people_per_pop['total'] = total_nr_peeps\n",
    "    \n",
    "    total_alleles = len(PC_complete['snp'])  # Total number of alleles (2 alleles per sample)\n",
    "    q2_freq = (PC_complete['snp'].value_counts().get(-1, 0))/total_alleles\n",
    "    pq_freq = (PC_complete['snp'].value_counts().get(0, 0))/total_alleles\n",
    "    p2_freq = (PC_complete['snp'].value_counts().get(1, 0))/total_alleles\n",
    "    \n",
    "    maj_afs['mean'] = p2_freq\n",
    "    min_afs['mean'] = q2_freq\n",
    "    het_afs['mean'] = pq_freq\n",
    "\n",
    "    pheno_minor = 0\n",
    "    pheno_het = 0\n",
    "    pheno_major = 0\n",
    "    ns = 0\n",
    "    Xs_test = []\n",
    "    Ys_test = []\n",
    "    for unique_pop in PC_complete.populations.unique():\n",
    "        pheno_minor += (nr_people_per_pop[unique_pop]**2/nr_people_per_pop['total'])*(min_afs[unique_pop]**2/min_afs['mean'])*(mean_risk_per_pop[unique_pop])\n",
    "        Xs_test.append(-1*min_afs[unique_pop]*(nr_people_per_pop[unique_pop]**2/nr_people_per_pop['total']))\n",
    "        \n",
    "        pheno_het += (nr_people_per_pop[unique_pop]**2/nr_people_per_pop['total'])*(het_afs[unique_pop]**2/het_afs['mean'])*(mean_risk_per_pop[unique_pop])\n",
    "        Xs_test.append(0*het_afs[unique_pop]*(nr_people_per_pop[unique_pop]**2/nr_people_per_pop['total']))\n",
    "        \n",
    "        pheno_major += (nr_people_per_pop[unique_pop]**2/nr_people_per_pop['total'])*(maj_afs[unique_pop]**2/maj_afs['mean'])*(mean_risk_per_pop[unique_pop])\n",
    "        Xs_test.append(1*maj_afs[unique_pop]*(nr_people_per_pop[unique_pop]**2/nr_people_per_pop['total']))\n",
    "        Ys_test.append(mean_risk_per_pop[unique_pop])\n",
    "        Ys_test.append(mean_risk_per_pop[unique_pop])\n",
    "        Ys_test.append(mean_risk_per_pop[unique_pop])\n",
    "        \n",
    "        ns  += 3\n",
    "    \n",
    "    X = np.array((Xs_test-min(Xs_test))/(max(Xs_test)-min(Xs_test))*(1-(-1))+(-1))\n",
    "    Y = np.array(Ys_test)\n",
    "    \n",
    "    n = len(X)\n",
    "    sum_X = np.sum(X)\n",
    "    sum_Y = np.sum(Y)\n",
    "    sum_XY = np.sum(X * Y)\n",
    "    sum_X_squared = np.sum(X**2)\n",
    "    betas_test.append((n * sum_XY - sum_X * sum_Y) / (n * sum_X_squared - sum_X**2))\n",
    "    \n",
    "    geno_minor = -1\n",
    "    geno_het = 0\n",
    "    geno_major = 1\n",
    "\n",
    "    sum_x = geno_minor + geno_het + geno_major\n",
    "    sum_y = pheno_minor + pheno_het + pheno_maj\n",
    "    sum_xy = geno_minor*pheno_minor + geno_het*pheno_het + geno_major*pheno_maj\n",
    "    sum_x2 = geno_minor**2 + geno_het**2 + geno_minor**2\n",
    "\n",
    "    beta_calculated = (ns*sum_xy-sum_x*sum_y)/(ns*sum_x2 - sum_x**2)\n",
    "    betas_calculated.append(beta_calculated)\n",
    "    beta_snps = manhattan_linear(complete[[first_snp]], PC_complete[['risk_scaled']])\n",
    "    betas_snps.append(beta_snps['coefs'][0])\n",
    "    P_val_snps.append(beta_snps['-logPs'][0])\n",
    "\n",
    "    beta_maf = manhattan_linear(one_over_p2_min_q2[[first_snp]], PC_complete[['risk_scaled']])\n",
    "    betas_mafs.append(beta_maf['coefs'][0])\n",
    "    P_val_mafs.append(beta_maf['-logPs'][0])\n",
    "    "
   ]
  },
  {
   "cell_type": "code",
   "execution_count": 109,
   "id": "c9a4274e-a05a-4c90-bba2-c6b8588f14b3",
   "metadata": {},
   "outputs": [],
   "source": [
    "df_mafs = pd.DataFrame()\n",
    "df_mafs['betas_mafs'] = betas_mafs\n",
    "df_mafs['-logPs'] = P_val_mafs\n",
    "df_mafs['betas_snps'] = betas_snps\n",
    "df_mafs['betas_matrix'] = betas_matrix\n",
    "df_mafs['betas_calculates'] = betas_calculated\n",
    "df_mafs['betas_test'] = betas_test\n"
   ]
  },
  {
   "cell_type": "code",
   "execution_count": 110,
   "id": "2ca42ac4-422f-46a3-b574-a449f706394c",
   "metadata": {},
   "outputs": [
    {
     "data": {
      "image/png": "[encoded data removed]",
      "text/plain": [
       "<Figure size 640x480 with 1 Axes>"
      ]
     },
     "metadata": {},
     "output_type": "display_data"
    }
   ],
   "source": [
    "sns.scatterplot(x='betas_snps', y='betas_test',data=df_mafs, linewidth=0)\n",
    "# Adjust layout\n",
    "plt.tight_layout()\n",
    "plt.title(f\"\")\n",
    "plt.show()\n",
    "plt.close()"
   ]
  },
  {
   "cell_type": "code",
   "execution_count": 100,
   "id": "5dea308b-51cd-4e7b-addd-40de6aec79f9",
   "metadata": {},
   "outputs": [
    {
     "data": {
      "image/png": "[encoded data removed]",
      "text/plain": [
       "<Figure size 640x480 with 1 Axes>"
      ]
     },
     "metadata": {},
     "output_type": "display_data"
    }
   ],
   "source": [
    "sns.scatterplot(x='betas_calculates', y='betas_matrix',data=df_mafs, linewidth=0)\n",
    "\n",
    "# Adjust layout\n",
    "plt.tight_layout()\n",
    "plt.title(f\"\")\n",
    "plt.show()\n",
    "plt.close()"
   ]
  },
  {
   "cell_type": "code",
   "execution_count": 67,
   "id": "b3be3072-6cfe-4f0f-ae01-3e99be28924e",
   "metadata": {},
   "outputs": [],
   "source": [
    "# lets see what happens when we do a linear regression on this one SNP with different AF per pops"
   ]
  },
  {
   "cell_type": "code",
   "execution_count": null,
   "id": "d6d7caff-c6a1-4bef-a769-8f36107fce56",
   "metadata": {},
   "outputs": [],
   "source": []
  },
  {
   "cell_type": "markdown",
   "id": "c4740a78-0f80-4039-853b-343d5e681c3b",
   "metadata": {},
   "source": [
    "# Now with SNP causality"
   ]
  },
  {
   "cell_type": "code",
   "execution_count": 131,
   "id": "8c09b8b3-5161-412d-9ce5-4e5730051e75",
   "metadata": {},
   "outputs": [],
   "source": [
    "def divi(arr, effectsize):\n",
    "    return [(1 / (num + 0.001)) * effectsize for num in arr]"
   ]
  },
  {
   "cell_type": "code",
   "execution_count": 132,
   "id": "546e2bc3-5227-4550-9aa7-2173b74afacf",
   "metadata": {},
   "outputs": [],
   "source": [
    "effectsize = 1\n",
    "numbers_af = [float(col.split('_AF_')[1]) for col in complete.columns if '_AF_' in col]\n",
    "snp_names = [col.split('_AF_')[0] for col in complete.columns if '_AF_' in col]\n",
    "\n",
    "beta_values = divi(numbers_af, effectsize)\n",
    "data = {'snp': snp_names, 'Beta': beta_values}\n",
    "betas = pd.DataFrame(data)"
   ]
  },
  {
   "cell_type": "code",
   "execution_count": 133,
   "id": "5dc41174-6162-428d-800c-0473f8e91953",
   "metadata": {},
   "outputs": [],
   "source": [
    "all_snps = list(complete.columns)\n",
    "phenos_mono = []\n",
    "for snp in all_snps:\n",
    "    index_snp = snp.split('_')[0]\n",
    "    beta_value = betas.loc[betas['snp'] == index_snp, 'Beta'].values[0]\n",
    "    phenos_mono.append(complete[snp] * beta_value)\n",
    "\n",
    "# Converting phenos_mono list of series to DataFrame directly\n",
    "phenos_mono = pd.concat(phenos_mono, axis=1)\n",
    "phenos_mono.columns = complete.columns\n",
    "\n",
    "# Add noise\n",
    "n = len(phenos_mono)\n",
    "for snp in list(phenos_mono.columns):\n",
    "    var_effect = np.var(phenos_mono[snp])\n",
    "    total_variance = var_effect / 0.001\n",
    "    var_noise = total_variance - var_effect\n",
    "    sd_noise = np.sqrt(var_noise)\n",
    "    # Generate phenotype with noise\n",
    "    phenos_mono[snp] = phenos_mono[snp] + np.random.normal(0, sd_noise, n)\n",
    "    std_dev = np.std(phenos_mono[snp])\n",
    "    mean = np.mean(phenos_mono[snp])\n",
    "    phenos_mono[snp] = (phenos_mono[snp] - mean) / std_dev"
   ]
  },
  {
   "cell_type": "code",
   "execution_count": 134,
   "id": "dcb30d05-00b4-4f65-9a0a-b51427d7a093",
   "metadata": {},
   "outputs": [],
   "source": [
    "# Beta value first snp"
   ]
  },
  {
   "cell_type": "code",
   "execution_count": 135,
   "id": "82014e62-8cdf-461e-8323-682318994436",
   "metadata": {},
   "outputs": [
    {
     "data": {
      "text/plain": [
       "24.39"
      ]
     },
     "execution_count": 135,
     "metadata": {},
     "output_type": "execute_result"
    }
   ],
   "source": [
    "beta_value = betas.loc[betas['snp'] == first_snp.split('_AF_')[0], 'Beta'].values[0]\n",
    "np.round(beta_value,3)"
   ]
  },
  {
   "cell_type": "code",
   "execution_count": 137,
   "id": "54542190-3a43-4a17-a9af-23a51bb59916",
   "metadata": {},
   "outputs": [
    {
     "data": {
      "text/html": [
       "<div>\n",
       "<style scoped>\n",
       "    .dataframe tbody tr th:only-of-type {\n",
       "        vertical-align: middle;\n",
       "    }\n",
       "\n",
       "    .dataframe tbody tr th {\n",
       "        vertical-align: top;\n",
       "    }\n",
       "\n",
       "    .dataframe thead th {\n",
       "        text-align: right;\n",
       "    }\n",
       "</style>\n",
       "<table border=\"1\" class=\"dataframe\">\n",
       "  <thead>\n",
       "    <tr style=\"text-align: right;\">\n",
       "      <th>snps</th>\n",
       "      <th>CG2_AF_0.2975</th>\n",
       "      <th>CG5_AF_0.23</th>\n",
       "      <th>CG6_AF_0.305</th>\n",
       "      <th>CG8_AF_0.28</th>\n",
       "      <th>CG10_AF_0.4725</th>\n",
       "      <th>CG12_AF_0.4225</th>\n",
       "      <th>CG13_AF_0.32</th>\n",
       "      <th>CG16_AF_0.2275</th>\n",
       "      <th>CG26_AF_0.3375</th>\n",
       "      <th>CG27_AF_0.24</th>\n",
       "      <th>...</th>\n",
       "      <th>RG495_AF_0.075</th>\n",
       "      <th>RG496_AF_0.11</th>\n",
       "      <th>VRG15_AF_0.04</th>\n",
       "      <th>VRG21_AF_0.0475</th>\n",
       "      <th>VRG53_AF_0.04</th>\n",
       "      <th>VRG201_AF_0.035</th>\n",
       "      <th>VRG275_AF_0.0225</th>\n",
       "      <th>VRG342_AF_0.035</th>\n",
       "      <th>VRG447_AF_0.0075</th>\n",
       "      <th>VRG485_AF_0.04</th>\n",
       "    </tr>\n",
       "  </thead>\n",
       "  <tbody>\n",
       "    <tr>\n",
       "      <th>0</th>\n",
       "      <td>-0.852396</td>\n",
       "      <td>-1.062713</td>\n",
       "      <td>-1.388938</td>\n",
       "      <td>1.073499</td>\n",
       "      <td>1.480618</td>\n",
       "      <td>-0.621430</td>\n",
       "      <td>-0.091221</td>\n",
       "      <td>0.119080</td>\n",
       "      <td>0.844842</td>\n",
       "      <td>-0.740800</td>\n",
       "      <td>...</td>\n",
       "      <td>0.389110</td>\n",
       "      <td>0.141055</td>\n",
       "      <td>-1.350360</td>\n",
       "      <td>1.120960</td>\n",
       "      <td>-1.298121</td>\n",
       "      <td>1.483393</td>\n",
       "      <td>-1.381129</td>\n",
       "      <td>-0.446066</td>\n",
       "      <td>0.142947</td>\n",
       "      <td>0.057342</td>\n",
       "    </tr>\n",
       "    <tr>\n",
       "      <th>1</th>\n",
       "      <td>0.168697</td>\n",
       "      <td>-0.986806</td>\n",
       "      <td>0.816898</td>\n",
       "      <td>1.123354</td>\n",
       "      <td>0.559312</td>\n",
       "      <td>1.367614</td>\n",
       "      <td>-0.063547</td>\n",
       "      <td>0.606093</td>\n",
       "      <td>0.656946</td>\n",
       "      <td>-1.232701</td>\n",
       "      <td>...</td>\n",
       "      <td>-0.002904</td>\n",
       "      <td>-0.456979</td>\n",
       "      <td>1.070048</td>\n",
       "      <td>-0.707042</td>\n",
       "      <td>-0.117489</td>\n",
       "      <td>-0.480545</td>\n",
       "      <td>1.059234</td>\n",
       "      <td>0.756620</td>\n",
       "      <td>-1.553490</td>\n",
       "      <td>0.740335</td>\n",
       "    </tr>\n",
       "    <tr>\n",
       "      <th>2</th>\n",
       "      <td>-0.768776</td>\n",
       "      <td>-1.760416</td>\n",
       "      <td>1.985724</td>\n",
       "      <td>0.418026</td>\n",
       "      <td>1.067780</td>\n",
       "      <td>-0.196662</td>\n",
       "      <td>-0.022786</td>\n",
       "      <td>-0.560164</td>\n",
       "      <td>-0.819209</td>\n",
       "      <td>0.004359</td>\n",
       "      <td>...</td>\n",
       "      <td>0.956482</td>\n",
       "      <td>-0.318629</td>\n",
       "      <td>2.943193</td>\n",
       "      <td>0.032808</td>\n",
       "      <td>-1.114805</td>\n",
       "      <td>-0.097511</td>\n",
       "      <td>-0.073458</td>\n",
       "      <td>0.192213</td>\n",
       "      <td>-0.371054</td>\n",
       "      <td>1.222918</td>\n",
       "    </tr>\n",
       "    <tr>\n",
       "      <th>3</th>\n",
       "      <td>-2.809133</td>\n",
       "      <td>-0.907879</td>\n",
       "      <td>0.583324</td>\n",
       "      <td>-2.052166</td>\n",
       "      <td>-0.675019</td>\n",
       "      <td>-0.679526</td>\n",
       "      <td>-0.324551</td>\n",
       "      <td>0.421616</td>\n",
       "      <td>-0.513938</td>\n",
       "      <td>-0.879292</td>\n",
       "      <td>...</td>\n",
       "      <td>1.847203</td>\n",
       "      <td>0.086299</td>\n",
       "      <td>-0.071544</td>\n",
       "      <td>-1.247431</td>\n",
       "      <td>-0.580115</td>\n",
       "      <td>0.922087</td>\n",
       "      <td>1.887926</td>\n",
       "      <td>-0.769704</td>\n",
       "      <td>0.368734</td>\n",
       "      <td>-1.497483</td>\n",
       "    </tr>\n",
       "    <tr>\n",
       "      <th>4</th>\n",
       "      <td>0.079271</td>\n",
       "      <td>-0.048265</td>\n",
       "      <td>0.360823</td>\n",
       "      <td>1.460878</td>\n",
       "      <td>1.451389</td>\n",
       "      <td>1.011309</td>\n",
       "      <td>-1.226265</td>\n",
       "      <td>0.022887</td>\n",
       "      <td>-0.427101</td>\n",
       "      <td>-0.960736</td>\n",
       "      <td>...</td>\n",
       "      <td>0.361952</td>\n",
       "      <td>-0.072553</td>\n",
       "      <td>-0.703635</td>\n",
       "      <td>1.475729</td>\n",
       "      <td>-0.161228</td>\n",
       "      <td>-1.271293</td>\n",
       "      <td>-1.204880</td>\n",
       "      <td>0.299551</td>\n",
       "      <td>-0.637763</td>\n",
       "      <td>-1.931102</td>\n",
       "    </tr>\n",
       "    <tr>\n",
       "      <th>...</th>\n",
       "      <td>...</td>\n",
       "      <td>...</td>\n",
       "      <td>...</td>\n",
       "      <td>...</td>\n",
       "      <td>...</td>\n",
       "      <td>...</td>\n",
       "      <td>...</td>\n",
       "      <td>...</td>\n",
       "      <td>...</td>\n",
       "      <td>...</td>\n",
       "      <td>...</td>\n",
       "      <td>...</td>\n",
       "      <td>...</td>\n",
       "      <td>...</td>\n",
       "      <td>...</td>\n",
       "      <td>...</td>\n",
       "      <td>...</td>\n",
       "      <td>...</td>\n",
       "      <td>...</td>\n",
       "      <td>...</td>\n",
       "      <td>...</td>\n",
       "    </tr>\n",
       "    <tr>\n",
       "      <th>195</th>\n",
       "      <td>-0.791657</td>\n",
       "      <td>1.833077</td>\n",
       "      <td>-0.336503</td>\n",
       "      <td>0.895747</td>\n",
       "      <td>-0.935256</td>\n",
       "      <td>0.385277</td>\n",
       "      <td>0.813968</td>\n",
       "      <td>0.290473</td>\n",
       "      <td>-0.289664</td>\n",
       "      <td>0.146881</td>\n",
       "      <td>...</td>\n",
       "      <td>0.707981</td>\n",
       "      <td>0.504539</td>\n",
       "      <td>1.126961</td>\n",
       "      <td>0.977003</td>\n",
       "      <td>0.352486</td>\n",
       "      <td>-0.171363</td>\n",
       "      <td>-0.233808</td>\n",
       "      <td>1.721914</td>\n",
       "      <td>-0.345005</td>\n",
       "      <td>-0.803107</td>\n",
       "    </tr>\n",
       "    <tr>\n",
       "      <th>196</th>\n",
       "      <td>1.433927</td>\n",
       "      <td>0.160778</td>\n",
       "      <td>-0.219772</td>\n",
       "      <td>-1.305530</td>\n",
       "      <td>-1.039035</td>\n",
       "      <td>-0.262287</td>\n",
       "      <td>0.312991</td>\n",
       "      <td>0.323942</td>\n",
       "      <td>0.441359</td>\n",
       "      <td>-0.168764</td>\n",
       "      <td>...</td>\n",
       "      <td>-1.212542</td>\n",
       "      <td>1.000051</td>\n",
       "      <td>1.765394</td>\n",
       "      <td>-0.224699</td>\n",
       "      <td>-0.079083</td>\n",
       "      <td>0.617324</td>\n",
       "      <td>-0.519857</td>\n",
       "      <td>-1.266762</td>\n",
       "      <td>-1.856868</td>\n",
       "      <td>-1.157544</td>\n",
       "    </tr>\n",
       "    <tr>\n",
       "      <th>197</th>\n",
       "      <td>-0.389584</td>\n",
       "      <td>0.031016</td>\n",
       "      <td>0.830640</td>\n",
       "      <td>1.782106</td>\n",
       "      <td>-0.569476</td>\n",
       "      <td>-1.249222</td>\n",
       "      <td>1.056184</td>\n",
       "      <td>0.226393</td>\n",
       "      <td>-0.700946</td>\n",
       "      <td>-0.872154</td>\n",
       "      <td>...</td>\n",
       "      <td>-1.263034</td>\n",
       "      <td>0.876558</td>\n",
       "      <td>-1.416740</td>\n",
       "      <td>-0.906276</td>\n",
       "      <td>0.311028</td>\n",
       "      <td>-0.546535</td>\n",
       "      <td>-0.100043</td>\n",
       "      <td>0.790162</td>\n",
       "      <td>-1.634030</td>\n",
       "      <td>-0.652198</td>\n",
       "    </tr>\n",
       "    <tr>\n",
       "      <th>198</th>\n",
       "      <td>-0.363411</td>\n",
       "      <td>1.747806</td>\n",
       "      <td>1.859081</td>\n",
       "      <td>-1.012592</td>\n",
       "      <td>0.560194</td>\n",
       "      <td>-0.136122</td>\n",
       "      <td>0.486451</td>\n",
       "      <td>-0.184203</td>\n",
       "      <td>0.811220</td>\n",
       "      <td>-0.356303</td>\n",
       "      <td>...</td>\n",
       "      <td>-0.276333</td>\n",
       "      <td>2.074490</td>\n",
       "      <td>1.259936</td>\n",
       "      <td>0.325179</td>\n",
       "      <td>-0.701332</td>\n",
       "      <td>-0.243413</td>\n",
       "      <td>0.052930</td>\n",
       "      <td>-0.435292</td>\n",
       "      <td>-1.438338</td>\n",
       "      <td>1.861913</td>\n",
       "    </tr>\n",
       "    <tr>\n",
       "      <th>199</th>\n",
       "      <td>-0.742331</td>\n",
       "      <td>-0.286742</td>\n",
       "      <td>1.756824</td>\n",
       "      <td>-1.248989</td>\n",
       "      <td>-1.464200</td>\n",
       "      <td>1.024728</td>\n",
       "      <td>0.094629</td>\n",
       "      <td>-0.984605</td>\n",
       "      <td>-0.024990</td>\n",
       "      <td>0.325084</td>\n",
       "      <td>...</td>\n",
       "      <td>1.840821</td>\n",
       "      <td>1.570947</td>\n",
       "      <td>-0.208973</td>\n",
       "      <td>-0.203398</td>\n",
       "      <td>-0.842197</td>\n",
       "      <td>-0.492150</td>\n",
       "      <td>-0.396040</td>\n",
       "      <td>0.324309</td>\n",
       "      <td>0.465114</td>\n",
       "      <td>-0.427424</td>\n",
       "    </tr>\n",
       "  </tbody>\n",
       "</table>\n",
       "<p>200 rows × 418 columns</p>\n",
       "</div>"
      ],
      "text/plain": [
       "snps  CG2_AF_0.2975  CG5_AF_0.23  CG6_AF_0.305  CG8_AF_0.28  CG10_AF_0.4725  \\\n",
       "0         -0.852396    -1.062713     -1.388938     1.073499        1.480618   \n",
       "1          0.168697    -0.986806      0.816898     1.123354        0.559312   \n",
       "2         -0.768776    -1.760416      1.985724     0.418026        1.067780   \n",
       "3         -2.809133    -0.907879      0.583324    -2.052166       -0.675019   \n",
       "4          0.079271    -0.048265      0.360823     1.460878        1.451389   \n",
       "..              ...          ...           ...          ...             ...   \n",
       "195       -0.791657     1.833077     -0.336503     0.895747       -0.935256   \n",
       "196        1.433927     0.160778     -0.219772    -1.305530       -1.039035   \n",
       "197       -0.389584     0.031016      0.830640     1.782106       -0.569476   \n",
       "198       -0.363411     1.747806      1.859081    -1.012592        0.560194   \n",
       "199       -0.742331    -0.286742      1.756824    -1.248989       -1.464200   \n",
       "\n",
       "snps  CG12_AF_0.4225  CG13_AF_0.32  CG16_AF_0.2275  CG26_AF_0.3375  \\\n",
       "0          -0.621430     -0.091221        0.119080        0.844842   \n",
       "1           1.367614     -0.063547        0.606093        0.656946   \n",
       "2          -0.196662     -0.022786       -0.560164       -0.819209   \n",
       "3          -0.679526     -0.324551        0.421616       -0.513938   \n",
       "4           1.011309     -1.226265        0.022887       -0.427101   \n",
       "..               ...           ...             ...             ...   \n",
       "195         0.385277      0.813968        0.290473       -0.289664   \n",
       "196        -0.262287      0.312991        0.323942        0.441359   \n",
       "197        -1.249222      1.056184        0.226393       -0.700946   \n",
       "198        -0.136122      0.486451       -0.184203        0.811220   \n",
       "199         1.024728      0.094629       -0.984605       -0.024990   \n",
       "\n",
       "snps  CG27_AF_0.24  ...  RG495_AF_0.075  RG496_AF_0.11  VRG15_AF_0.04  \\\n",
       "0        -0.740800  ...        0.389110       0.141055      -1.350360   \n",
       "1        -1.232701  ...       -0.002904      -0.456979       1.070048   \n",
       "2         0.004359  ...        0.956482      -0.318629       2.943193   \n",
       "3        -0.879292  ...        1.847203       0.086299      -0.071544   \n",
       "4        -0.960736  ...        0.361952      -0.072553      -0.703635   \n",
       "..             ...  ...             ...            ...            ...   \n",
       "195       0.146881  ...        0.707981       0.504539       1.126961   \n",
       "196      -0.168764  ...       -1.212542       1.000051       1.765394   \n",
       "197      -0.872154  ...       -1.263034       0.876558      -1.416740   \n",
       "198      -0.356303  ...       -0.276333       2.074490       1.259936   \n",
       "199       0.325084  ...        1.840821       1.570947      -0.208973   \n",
       "\n",
       "snps  VRG21_AF_0.0475  VRG53_AF_0.04  VRG201_AF_0.035  VRG275_AF_0.0225  \\\n",
       "0            1.120960      -1.298121         1.483393         -1.381129   \n",
       "1           -0.707042      -0.117489        -0.480545          1.059234   \n",
       "2            0.032808      -1.114805        -0.097511         -0.073458   \n",
       "3           -1.247431      -0.580115         0.922087          1.887926   \n",
       "4            1.475729      -0.161228        -1.271293         -1.204880   \n",
       "..                ...            ...              ...               ...   \n",
       "195          0.977003       0.352486        -0.171363         -0.233808   \n",
       "196         -0.224699      -0.079083         0.617324         -0.519857   \n",
       "197         -0.906276       0.311028        -0.546535         -0.100043   \n",
       "198          0.325179      -0.701332        -0.243413          0.052930   \n",
       "199         -0.203398      -0.842197        -0.492150         -0.396040   \n",
       "\n",
       "snps  VRG342_AF_0.035  VRG447_AF_0.0075  VRG485_AF_0.04  \n",
       "0           -0.446066          0.142947        0.057342  \n",
       "1            0.756620         -1.553490        0.740335  \n",
       "2            0.192213         -0.371054        1.222918  \n",
       "3           -0.769704          0.368734       -1.497483  \n",
       "4            0.299551         -0.637763       -1.931102  \n",
       "..                ...               ...             ...  \n",
       "195          1.721914         -0.345005       -0.803107  \n",
       "196         -1.266762         -1.856868       -1.157544  \n",
       "197          0.790162         -1.634030       -0.652198  \n",
       "198         -0.435292         -1.438338        1.861913  \n",
       "199          0.324309          0.465114       -0.427424  \n",
       "\n",
       "[200 rows x 418 columns]"
      ]
     },
     "execution_count": 137,
     "metadata": {},
     "output_type": "execute_result"
    }
   ],
   "source": [
    "phenos_mono"
   ]
  },
  {
   "cell_type": "code",
   "execution_count": 59,
   "id": "647fa42d-a532-4c72-b947-176c61bb5c24",
   "metadata": {},
   "outputs": [
    {
     "data": {
      "image/png": "[encoded data removed]",
      "text/plain": [
       "<Figure size 640x480 with 1 Axes>"
      ]
     },
     "metadata": {},
     "output_type": "display_data"
    }
   ],
   "source": [
    "PC_complete['pheno_due_to_snp_effect'] = phenos_mono[[first_snp]]\n",
    "sns.scatterplot(x='PC1', y='PC2', data=PC_complete, hue = 'pheno_due_to_snp_effect', linewidth=0)\n",
    "\n",
    "# Adjust layout\n",
    "plt.tight_layout()\n",
    "plt.title(f\"Vizualizing different phenotypes due to snps effects ({np.round(beta_value,3)}) between populations\")\n",
    "plt.show()\n",
    "plt.close()"
   ]
  },
  {
   "cell_type": "code",
   "execution_count": 60,
   "id": "f0927c3f-ab24-4ccb-a358-1fb3cffd59e5",
   "metadata": {},
   "outputs": [
    {
     "data": {
      "image/png": "[encoded data removed]",
      "text/plain": [
       "<Figure size 640x480 with 1 Axes>"
      ]
     },
     "metadata": {},
     "output_type": "display_data"
    }
   ],
   "source": [
    "mean_snp_effect_per_pop = PC_complete.groupby('populations')['pheno_due_to_snp_effect'].transform('mean')\n",
    "\n",
    "# Add the calculated mean as a new column\n",
    "PC_complete['mean pheno'] = mean_snp_effect_per_pop\n",
    "\n",
    "sns.scatterplot(x='PC1', y='PC2', data=PC_complete, hue = 'mean pheno', linewidth=0)\n",
    "\n",
    "# Adjust layout\n",
    "plt.tight_layout()\n",
    "plt.title(f\"Vizualizing different phenotypes due to snps effects ({np.round(beta_value,3)}) between populations\")\n",
    "plt.show()\n",
    "plt.close()"
   ]
  },
  {
   "cell_type": "code",
   "execution_count": 61,
   "id": "6bea7021-0989-415d-9940-febb07ef835d",
   "metadata": {},
   "outputs": [],
   "source": [
    "to_test = to_test = complete[[first_snp]].copy()"
   ]
  },
  {
   "cell_type": "code",
   "execution_count": 62,
   "id": "4b1a663b-2a1c-4c5b-81b2-9f85586035c6",
   "metadata": {},
   "outputs": [],
   "source": [
    "to_test['pheno'] = PC_complete['pheno_due_to_snp_effect']"
   ]
  },
  {
   "cell_type": "code",
   "execution_count": 63,
   "id": "bcb49da3-23f8-40ee-afb4-4a92a57576f6",
   "metadata": {},
   "outputs": [
    {
     "data": {
      "text/html": [
       "<div>\n",
       "<style scoped>\n",
       "    .dataframe tbody tr th:only-of-type {\n",
       "        vertical-align: middle;\n",
       "    }\n",
       "\n",
       "    .dataframe tbody tr th {\n",
       "        vertical-align: top;\n",
       "    }\n",
       "\n",
       "    .dataframe thead th {\n",
       "        text-align: right;\n",
       "    }\n",
       "</style>\n",
       "<table border=\"1\" class=\"dataframe\">\n",
       "  <thead>\n",
       "    <tr style=\"text-align: right;\">\n",
       "      <th></th>\n",
       "      <th>snp</th>\n",
       "      <th>coefs</th>\n",
       "      <th>AFs</th>\n",
       "      <th>Ps</th>\n",
       "      <th>-logPs</th>\n",
       "    </tr>\n",
       "  </thead>\n",
       "  <tbody>\n",
       "    <tr>\n",
       "      <th>0</th>\n",
       "      <td>CG3</td>\n",
       "      <td>0.077094</td>\n",
       "      <td>0.475</td>\n",
       "      <td>0.290918</td>\n",
       "      <td>0.536229</td>\n",
       "    </tr>\n",
       "  </tbody>\n",
       "</table>\n",
       "</div>"
      ],
      "text/plain": [
       "   snp     coefs    AFs        Ps    -logPs\n",
       "0  CG3  0.077094  0.475  0.290918  0.536229"
      ]
     },
     "execution_count": 63,
     "metadata": {},
     "output_type": "execute_result"
    }
   ],
   "source": [
    "only_risk_via_snps = manhattan_linear(to_test[[first_snp]], to_test[['pheno']])\n",
    "only_risk_via_snps "
   ]
  },
  {
   "cell_type": "code",
   "execution_count": null,
   "id": "c31672fc-28e3-4bdf-be08-eb361c68b107",
   "metadata": {},
   "outputs": [],
   "source": []
  },
  {
   "cell_type": "code",
   "execution_count": null,
   "id": "66f9d127-8ff3-46cb-8ad9-c0f3759fb67f",
   "metadata": {},
   "outputs": [],
   "source": []
  },
  {
   "cell_type": "code",
   "execution_count": null,
   "id": "aed90591-766f-40b2-a8db-01b979c3f635",
   "metadata": {},
   "outputs": [],
   "source": []
  },
  {
   "cell_type": "code",
   "execution_count": null,
   "id": "87fe4dc7-9039-4ca9-9be0-3ff642e847ff",
   "metadata": {},
   "outputs": [],
   "source": []
  },
  {
   "cell_type": "code",
   "execution_count": null,
   "id": "6b2ac3e3-20b2-4cf7-b352-4e3e268778f0",
   "metadata": {},
   "outputs": [],
   "source": []
  },
  {
   "cell_type": "code",
   "execution_count": null,
   "id": "9a3b9f63-aae3-483d-938b-443c87922930",
   "metadata": {},
   "outputs": [],
   "source": []
  },
  {
   "cell_type": "code",
   "execution_count": null,
   "id": "76914651-f20e-4285-8d07-ae079acc3256",
   "metadata": {},
   "outputs": [],
   "source": []
  },
  {
   "cell_type": "code",
   "execution_count": null,
   "id": "621f8f94-951b-4a39-b233-de2a920d9fb1",
   "metadata": {},
   "outputs": [],
   "source": []
  },
  {
   "cell_type": "code",
   "execution_count": null,
   "id": "55184e31-2a78-417c-b41b-c13b48ce9fa6",
   "metadata": {},
   "outputs": [],
   "source": []
  },
  {
   "cell_type": "code",
   "execution_count": null,
   "id": "ef1dcb8a-05df-41b5-82ab-c501b127d191",
   "metadata": {},
   "outputs": [],
   "source": []
  },
  {
   "cell_type": "code",
   "execution_count": 64,
   "id": "2bde849c-c20f-4fd1-b334-51ce8c5855a4",
   "metadata": {},
   "outputs": [
    {
     "data": {
      "image/png": "[encoded data removed]",
      "text/plain": [
       "<Figure size 1400x1200 with 1 Axes>"
      ]
     },
     "metadata": {},
     "output_type": "display_data"
    }
   ],
   "source": [
    "# Create subplots for each risk\n",
    "fig, axs = plt.subplots(1, 1, figsize=(14, 12))\n",
    "# Aggregate by x and y and calculate mean for each risk\n",
    "df_agg = populations.groupby(['x', 'y']).agg({name_risk: 'mean'}).reset_index()\n",
    "grid_df = df_agg.pivot(index='y', columns='x', values=name_risk)\n",
    "sns.heatmap(grid_df, cmap='rocket_r', linewidths=.5, square=True, cbar=False)\n",
    "\n",
    "# Set the title dynamically based on the value of name_risk\n",
    "axs.set_title(name_risk, fontsize=16)\n",
    "\n",
    "# Invert the y-axis\n",
    "axs.invert_yaxis()\n",
    "\n",
    "# Adjust layout\n",
    "plt.tight_layout()\n",
    "plt.show()\n",
    "plt.close()"
   ]
  },
  {
   "cell_type": "code",
   "execution_count": null,
   "id": "6f7d9ada-a687-434a-9f61-1a6719c00be0",
   "metadata": {},
   "outputs": [],
   "source": []
  }
 ],
 "metadata": {
  "kernelspec": {
   "display_name": "Python 3 (ipykernel)",
   "language": "python",
   "name": "python3"
  },
  "language_info": {
   "codemirror_mode": {
    "name": "ipython",
    "version": 3
   },
   "file_extension": ".py",
   "mimetype": "text/x-python",
   "name": "python",
   "nbconvert_exporter": "python",
   "pygments_lexer": "ipython3",
   "version": "3.10.2"
  }
 },
 "nbformat": 4,
 "nbformat_minor": 5
}
