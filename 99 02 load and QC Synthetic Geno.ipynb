{
 "cells": [
  {
   "cell_type": "markdown",
   "id": "b355a04d-d1ea-4d6e-916b-65ae45ef8e0f",
   "metadata": {},
   "source": [
    "# Import libraries"
   ]
  },
  {
   "cell_type": "code",
   "execution_count": 1,
   "id": "c12d43a2-e441-4b83-ac8b-1fc532125645",
   "metadata": {},
   "outputs": [],
   "source": [
    "import os\n",
    "import pandas as pd\n",
    "import numpy as np\n",
    "from sklearn.preprocessing import StandardScaler\n",
    "from sklearn.decomposition import PCA\n",
    "import seaborn as sns\n",
    "import matplotlib.pyplot as plt\n",
    "import statsmodels.api as sm\n",
    "from helpers import parse_variables\n",
    "import scipy.stats as stats"
   ]
  },
  {
   "cell_type": "markdown",
   "id": "a5a62d5f-75eb-40c2-a29f-83e017c280ec",
   "metadata": {},
   "source": [
    "# Extracting simulated data from rstudio"
   ]
  },
  {
   "cell_type": "code",
   "execution_count": 2,
   "id": "8f84a4fa-f40f-455f-81fc-f4e5725eb54a",
   "metadata": {},
   "outputs": [],
   "source": [
    "os.makedirs(f\"data/genotype\", exist_ok = True)"
   ]
  },
  {
   "cell_type": "code",
   "execution_count": 3,
   "id": "1a0cf5bf-6322-4332-8000-23729e2e4675",
   "metadata": {},
   "outputs": [],
   "source": [
    "dict = parse_variables('geno_simulation.txt')\n",
    "G = int(dict['G'])\n",
    "L = int(dict['L'])\n",
    "c = int(dict['c'])\n",
    "k = int(dict['k'])\n",
    "M = float(dict['M'])\n",
    "\n",
    "\n",
    "# Thresholds\n",
    "very_rare_threshold_L = float(dict['very_rare_threshold_L'])\n",
    "very_rare_threshold_H = float(dict['very_rare_threshold_H'])\n",
    "\n",
    "rare_threshold_L = float(dict['rare_threshold_L'])\n",
    "rare_threshold_H = float(dict['rare_threshold_H'])\n",
    "\n",
    "common_threshold_L = float(dict['common_threshold_L'])\n",
    "common_threshold_H = float(dict['common_threshold_H'])\n",
    "\n",
    "file = f\"data/G{G}_L{L}_c{c}_k{k}_M{M}/genotype/raw/simulated_genotypes_G{G}_L{L}_c{c}_k{k}_M{M}.csv\""
   ]
  },
  {
   "cell_type": "code",
   "execution_count": 4,
   "id": "31a7612c-1332-42ca-849a-d3208cf07b62",
   "metadata": {},
   "outputs": [],
   "source": [
    "path_simulated_file = \"./\"+ file"
   ]
  },
  {
   "cell_type": "code",
   "execution_count": 5,
   "id": "55c713ad-e36f-4aef-a6fd-717a10da96ce",
   "metadata": {},
   "outputs": [
    {
     "data": {
      "text/plain": [
       "2000"
      ]
     },
     "execution_count": 5,
     "metadata": {},
     "output_type": "execute_result"
    }
   ],
   "source": [
    "number_of_loci = G*L\n",
    "number_of_loci"
   ]
  },
  {
   "cell_type": "code",
   "execution_count": 6,
   "id": "40b13d93-b481-41d8-9077-4cd977ad3635",
   "metadata": {},
   "outputs": [
    {
     "data": {
      "text/plain": [
       "20000"
      ]
     },
     "execution_count": 6,
     "metadata": {},
     "output_type": "execute_result"
    }
   ],
   "source": [
    "number_of_individuals = c*k*k\n",
    "number_of_individuals"
   ]
  },
  {
   "cell_type": "code",
   "execution_count": 7,
   "id": "0b243947-6e08-4fdf-95a1-ba23e218a879",
   "metadata": {},
   "outputs": [],
   "source": [
    "simulated_loci= pd.read_csv(path_simulated_file)"
   ]
  },
  {
   "cell_type": "code",
   "execution_count": 8,
   "id": "c8a982f4-c272-4374-ab94-ac09d3773eb9",
   "metadata": {},
   "outputs": [
    {
     "data": {
      "text/html": [
       "<div>\n",
       "<style scoped>\n",
       "    .dataframe tbody tr th:only-of-type {\n",
       "        vertical-align: middle;\n",
       "    }\n",
       "\n",
       "    .dataframe tbody tr th {\n",
       "        vertical-align: top;\n",
       "    }\n",
       "\n",
       "    .dataframe thead th {\n",
       "        text-align: right;\n",
       "    }\n",
       "</style>\n",
       "<table border=\"1\" class=\"dataframe\">\n",
       "  <thead>\n",
       "    <tr style=\"text-align: right;\">\n",
       "      <th></th>\n",
       "      <th>V1</th>\n",
       "      <th>V2</th>\n",
       "      <th>V3</th>\n",
       "      <th>V4</th>\n",
       "      <th>V5</th>\n",
       "      <th>V6</th>\n",
       "      <th>V7</th>\n",
       "      <th>V8</th>\n",
       "      <th>V9</th>\n",
       "      <th>V10</th>\n",
       "      <th>...</th>\n",
       "      <th>V1991</th>\n",
       "      <th>V1992</th>\n",
       "      <th>V1993</th>\n",
       "      <th>V1994</th>\n",
       "      <th>V1995</th>\n",
       "      <th>V1996</th>\n",
       "      <th>V1997</th>\n",
       "      <th>V1998</th>\n",
       "      <th>V1999</th>\n",
       "      <th>V2000</th>\n",
       "    </tr>\n",
       "  </thead>\n",
       "  <tbody>\n",
       "    <tr>\n",
       "      <th>0</th>\n",
       "      <td>0</td>\n",
       "      <td>0</td>\n",
       "      <td>0</td>\n",
       "      <td>0</td>\n",
       "      <td>1</td>\n",
       "      <td>0</td>\n",
       "      <td>0</td>\n",
       "      <td>0</td>\n",
       "      <td>0</td>\n",
       "      <td>1</td>\n",
       "      <td>...</td>\n",
       "      <td>0</td>\n",
       "      <td>0</td>\n",
       "      <td>0</td>\n",
       "      <td>0</td>\n",
       "      <td>0</td>\n",
       "      <td>0</td>\n",
       "      <td>0</td>\n",
       "      <td>0</td>\n",
       "      <td>0</td>\n",
       "      <td>0</td>\n",
       "    </tr>\n",
       "    <tr>\n",
       "      <th>1</th>\n",
       "      <td>0</td>\n",
       "      <td>0</td>\n",
       "      <td>0</td>\n",
       "      <td>0</td>\n",
       "      <td>1</td>\n",
       "      <td>0</td>\n",
       "      <td>0</td>\n",
       "      <td>0</td>\n",
       "      <td>0</td>\n",
       "      <td>1</td>\n",
       "      <td>...</td>\n",
       "      <td>0</td>\n",
       "      <td>0</td>\n",
       "      <td>0</td>\n",
       "      <td>0</td>\n",
       "      <td>0</td>\n",
       "      <td>0</td>\n",
       "      <td>0</td>\n",
       "      <td>0</td>\n",
       "      <td>0</td>\n",
       "      <td>0</td>\n",
       "    </tr>\n",
       "    <tr>\n",
       "      <th>2</th>\n",
       "      <td>0</td>\n",
       "      <td>0</td>\n",
       "      <td>0</td>\n",
       "      <td>0</td>\n",
       "      <td>1</td>\n",
       "      <td>0</td>\n",
       "      <td>0</td>\n",
       "      <td>0</td>\n",
       "      <td>0</td>\n",
       "      <td>1</td>\n",
       "      <td>...</td>\n",
       "      <td>0</td>\n",
       "      <td>0</td>\n",
       "      <td>0</td>\n",
       "      <td>0</td>\n",
       "      <td>0</td>\n",
       "      <td>0</td>\n",
       "      <td>0</td>\n",
       "      <td>0</td>\n",
       "      <td>0</td>\n",
       "      <td>0</td>\n",
       "    </tr>\n",
       "    <tr>\n",
       "      <th>3</th>\n",
       "      <td>0</td>\n",
       "      <td>0</td>\n",
       "      <td>0</td>\n",
       "      <td>0</td>\n",
       "      <td>1</td>\n",
       "      <td>0</td>\n",
       "      <td>0</td>\n",
       "      <td>0</td>\n",
       "      <td>0</td>\n",
       "      <td>1</td>\n",
       "      <td>...</td>\n",
       "      <td>0</td>\n",
       "      <td>0</td>\n",
       "      <td>0</td>\n",
       "      <td>0</td>\n",
       "      <td>0</td>\n",
       "      <td>0</td>\n",
       "      <td>0</td>\n",
       "      <td>0</td>\n",
       "      <td>0</td>\n",
       "      <td>0</td>\n",
       "    </tr>\n",
       "    <tr>\n",
       "      <th>4</th>\n",
       "      <td>0</td>\n",
       "      <td>0</td>\n",
       "      <td>0</td>\n",
       "      <td>0</td>\n",
       "      <td>1</td>\n",
       "      <td>0</td>\n",
       "      <td>0</td>\n",
       "      <td>0</td>\n",
       "      <td>0</td>\n",
       "      <td>1</td>\n",
       "      <td>...</td>\n",
       "      <td>0</td>\n",
       "      <td>0</td>\n",
       "      <td>0</td>\n",
       "      <td>0</td>\n",
       "      <td>0</td>\n",
       "      <td>0</td>\n",
       "      <td>0</td>\n",
       "      <td>0</td>\n",
       "      <td>0</td>\n",
       "      <td>0</td>\n",
       "    </tr>\n",
       "    <tr>\n",
       "      <th>...</th>\n",
       "      <td>...</td>\n",
       "      <td>...</td>\n",
       "      <td>...</td>\n",
       "      <td>...</td>\n",
       "      <td>...</td>\n",
       "      <td>...</td>\n",
       "      <td>...</td>\n",
       "      <td>...</td>\n",
       "      <td>...</td>\n",
       "      <td>...</td>\n",
       "      <td>...</td>\n",
       "      <td>...</td>\n",
       "      <td>...</td>\n",
       "      <td>...</td>\n",
       "      <td>...</td>\n",
       "      <td>...</td>\n",
       "      <td>...</td>\n",
       "      <td>...</td>\n",
       "      <td>...</td>\n",
       "      <td>...</td>\n",
       "      <td>...</td>\n",
       "    </tr>\n",
       "    <tr>\n",
       "      <th>19995</th>\n",
       "      <td>0</td>\n",
       "      <td>0</td>\n",
       "      <td>0</td>\n",
       "      <td>0</td>\n",
       "      <td>0</td>\n",
       "      <td>0</td>\n",
       "      <td>0</td>\n",
       "      <td>1</td>\n",
       "      <td>0</td>\n",
       "      <td>0</td>\n",
       "      <td>...</td>\n",
       "      <td>0</td>\n",
       "      <td>0</td>\n",
       "      <td>0</td>\n",
       "      <td>0</td>\n",
       "      <td>0</td>\n",
       "      <td>0</td>\n",
       "      <td>0</td>\n",
       "      <td>0</td>\n",
       "      <td>1</td>\n",
       "      <td>0</td>\n",
       "    </tr>\n",
       "    <tr>\n",
       "      <th>19996</th>\n",
       "      <td>0</td>\n",
       "      <td>0</td>\n",
       "      <td>0</td>\n",
       "      <td>0</td>\n",
       "      <td>0</td>\n",
       "      <td>0</td>\n",
       "      <td>0</td>\n",
       "      <td>1</td>\n",
       "      <td>0</td>\n",
       "      <td>0</td>\n",
       "      <td>...</td>\n",
       "      <td>0</td>\n",
       "      <td>0</td>\n",
       "      <td>0</td>\n",
       "      <td>0</td>\n",
       "      <td>0</td>\n",
       "      <td>0</td>\n",
       "      <td>0</td>\n",
       "      <td>0</td>\n",
       "      <td>1</td>\n",
       "      <td>0</td>\n",
       "    </tr>\n",
       "    <tr>\n",
       "      <th>19997</th>\n",
       "      <td>0</td>\n",
       "      <td>0</td>\n",
       "      <td>0</td>\n",
       "      <td>0</td>\n",
       "      <td>0</td>\n",
       "      <td>0</td>\n",
       "      <td>0</td>\n",
       "      <td>1</td>\n",
       "      <td>0</td>\n",
       "      <td>0</td>\n",
       "      <td>...</td>\n",
       "      <td>0</td>\n",
       "      <td>0</td>\n",
       "      <td>0</td>\n",
       "      <td>0</td>\n",
       "      <td>0</td>\n",
       "      <td>0</td>\n",
       "      <td>0</td>\n",
       "      <td>0</td>\n",
       "      <td>1</td>\n",
       "      <td>0</td>\n",
       "    </tr>\n",
       "    <tr>\n",
       "      <th>19998</th>\n",
       "      <td>0</td>\n",
       "      <td>0</td>\n",
       "      <td>0</td>\n",
       "      <td>0</td>\n",
       "      <td>0</td>\n",
       "      <td>0</td>\n",
       "      <td>0</td>\n",
       "      <td>1</td>\n",
       "      <td>0</td>\n",
       "      <td>0</td>\n",
       "      <td>...</td>\n",
       "      <td>0</td>\n",
       "      <td>0</td>\n",
       "      <td>0</td>\n",
       "      <td>0</td>\n",
       "      <td>0</td>\n",
       "      <td>0</td>\n",
       "      <td>0</td>\n",
       "      <td>0</td>\n",
       "      <td>1</td>\n",
       "      <td>0</td>\n",
       "    </tr>\n",
       "    <tr>\n",
       "      <th>19999</th>\n",
       "      <td>0</td>\n",
       "      <td>0</td>\n",
       "      <td>0</td>\n",
       "      <td>0</td>\n",
       "      <td>0</td>\n",
       "      <td>0</td>\n",
       "      <td>0</td>\n",
       "      <td>1</td>\n",
       "      <td>0</td>\n",
       "      <td>0</td>\n",
       "      <td>...</td>\n",
       "      <td>0</td>\n",
       "      <td>0</td>\n",
       "      <td>0</td>\n",
       "      <td>0</td>\n",
       "      <td>0</td>\n",
       "      <td>0</td>\n",
       "      <td>0</td>\n",
       "      <td>0</td>\n",
       "      <td>1</td>\n",
       "      <td>0</td>\n",
       "    </tr>\n",
       "  </tbody>\n",
       "</table>\n",
       "<p>20000 rows × 2000 columns</p>\n",
       "</div>"
      ],
      "text/plain": [
       "       V1  V2  V3  V4  V5  V6  V7  V8  V9  V10  ...  V1991  V1992  V1993  \\\n",
       "0       0   0   0   0   1   0   0   0   0    1  ...      0      0      0   \n",
       "1       0   0   0   0   1   0   0   0   0    1  ...      0      0      0   \n",
       "2       0   0   0   0   1   0   0   0   0    1  ...      0      0      0   \n",
       "3       0   0   0   0   1   0   0   0   0    1  ...      0      0      0   \n",
       "4       0   0   0   0   1   0   0   0   0    1  ...      0      0      0   \n",
       "...    ..  ..  ..  ..  ..  ..  ..  ..  ..  ...  ...    ...    ...    ...   \n",
       "19995   0   0   0   0   0   0   0   1   0    0  ...      0      0      0   \n",
       "19996   0   0   0   0   0   0   0   1   0    0  ...      0      0      0   \n",
       "19997   0   0   0   0   0   0   0   1   0    0  ...      0      0      0   \n",
       "19998   0   0   0   0   0   0   0   1   0    0  ...      0      0      0   \n",
       "19999   0   0   0   0   0   0   0   1   0    0  ...      0      0      0   \n",
       "\n",
       "       V1994  V1995  V1996  V1997  V1998  V1999  V2000  \n",
       "0          0      0      0      0      0      0      0  \n",
       "1          0      0      0      0      0      0      0  \n",
       "2          0      0      0      0      0      0      0  \n",
       "3          0      0      0      0      0      0      0  \n",
       "4          0      0      0      0      0      0      0  \n",
       "...      ...    ...    ...    ...    ...    ...    ...  \n",
       "19995      0      0      0      0      0      1      0  \n",
       "19996      0      0      0      0      0      1      0  \n",
       "19997      0      0      0      0      0      1      0  \n",
       "19998      0      0      0      0      0      1      0  \n",
       "19999      0      0      0      0      0      1      0  \n",
       "\n",
       "[20000 rows x 2000 columns]"
      ]
     },
     "execution_count": 8,
     "metadata": {},
     "output_type": "execute_result"
    }
   ],
   "source": [
    "simulated_loci"
   ]
  },
  {
   "cell_type": "markdown",
   "id": "8deedd93-d348-4aac-9423-8228d5c306d9",
   "metadata": {},
   "source": [
    "# Go from loci to genotype"
   ]
  },
  {
   "cell_type": "code",
   "execution_count": null,
   "id": "7730b4ac-c66c-46be-9886-22a828b0fa1b",
   "metadata": {},
   "outputs": [],
   "source": [
    "# Function to pair SNPs and summarize genotype\n",
    "def summarize_genotypes(df):\n",
    "    summarized_genotypes = {}\n",
    "    # Iterate over pairs of columns\n",
    "    for i in range(1, df.shape[1], 2):\n",
    "        pair_sum = df.iloc[:, i-1] + df.iloc[:, i]\n",
    "        # Apply the genotype summarization logic\n",
    "        summarized_genotypes[f'G{i//2 + 1}'] = np.where(pair_sum == 2, 2, pair_sum)\n",
    "    return pd.DataFrame(summarized_genotypes)\n",
    "\n",
    "# Apply the function to the sample DataFrame\n",
    "simulated_genotype = summarize_genotypes(simulated_loci)\n",
    "columns_to_drop  = simulated_genotype.columns[simulated_genotype.nunique() == 1] # If double columns delete it \n",
    "simulated_genotype = simulated_genotype.drop(columns=columns_to_drop)"
   ]
  },
  {
   "cell_type": "code",
   "execution_count": null,
   "id": "01c94445-f37c-42fd-b9a2-f94fc674c77e",
   "metadata": {},
   "outputs": [],
   "source": [
    "simulated_genotype"
   ]
  },
  {
   "cell_type": "markdown",
   "id": "b5b8798f-661d-4b8d-8275-729f21f45a16",
   "metadata": {},
   "source": [
    "# Switch genotypes of AF > 0.5"
   ]
  },
  {
   "cell_type": "code",
   "execution_count": null,
   "id": "a86ef059-8766-4ff5-865b-8722560608f7",
   "metadata": {},
   "outputs": [],
   "source": [
    "# calculate when AF is > 0.5 and change the genotype\n",
    "# Initialize a dictionary to store allele frequencies\n",
    "allele_frequencies = {}\n",
    "\n",
    "# Calculate allele frequencies for each SNP column\n",
    "for snp in simulated_genotype.columns:\n",
    "    total_alleles = 2 * len(simulated_genotype[snp])  # Total number of alleles (2 alleles per sample)\n",
    "    minor_allele_count = (2 * simulated_genotype[snp].value_counts().get(0, 0)) + simulated_genotype[snp].value_counts().get(1, 0)\n",
    "    allele_frequency = minor_allele_count / total_alleles\n",
    "    allele_frequencies[snp] = allele_frequency"
   ]
  },
  {
   "cell_type": "code",
   "execution_count": null,
   "id": "b4941a3c-f833-4eee-8791-8faf0bcd9ff8",
   "metadata": {},
   "outputs": [],
   "source": [
    "temp = simulated_genotype.T\n",
    "temp['AFs'] = allele_frequencies"
   ]
  },
  {
   "cell_type": "code",
   "execution_count": null,
   "id": "c11489a0-d9bf-49cf-ae34-ad2e2f27ac7e",
   "metadata": {},
   "outputs": [],
   "source": [
    "temp"
   ]
  },
  {
   "cell_type": "code",
   "execution_count": null,
   "id": "8521b856-3525-4398-9f0c-21d8757b4eef",
   "metadata": {},
   "outputs": [],
   "source": [
    "# Function to flip 0s to 2s and 2s to 0s\n",
    "def flip_genotypes(row):\n",
    "    if row['AFs'] > 0.5:\n",
    "        # Apply transformation for the condition\n",
    "        row[:-1] = row[:-1].replace({0: 2, 2: 0})\n",
    "        row['AFs'] = 1 - row['AFs']  # Adjust allele frequency\n",
    "    return row\n",
    "\n",
    "# Apply the function across the DataFrame, row-wise\n",
    "df_transformed = temp.apply(flip_genotypes, axis=1)"
   ]
  },
  {
   "cell_type": "code",
   "execution_count": null,
   "id": "82b088e9-118a-43c7-ad51-79fa8321d47c",
   "metadata": {},
   "outputs": [],
   "source": [
    "df_transformed"
   ]
  },
  {
   "cell_type": "markdown",
   "id": "7f17a60e-7ed3-49e9-b5c5-a5121cbb9393",
   "metadata": {},
   "source": [
    "# Recheck if there are dupplicates again"
   ]
  },
  {
   "cell_type": "code",
   "execution_count": null,
   "id": "febf4b18-196b-4f0b-8f8b-b5787137927c",
   "metadata": {},
   "outputs": [],
   "source": [
    "simulated_genotype = df_transformed.drop('AFs', axis=1).T\n",
    "columns_to_drop  = simulated_genotype.columns[simulated_genotype.nunique() == 1] # If double columns delete it \n",
    "simulated_genotype = simulated_genotype.drop(columns=columns_to_drop)\n",
    "simulated_genotype"
   ]
  },
  {
   "cell_type": "code",
   "execution_count": null,
   "id": "161c61fe-d340-4181-964e-91cfb6b38c05",
   "metadata": {},
   "outputs": [],
   "source": [
    "def hwe_test(genotypes):\n",
    "    \"\"\"\n",
    "    Perform a chi-square test for Hardy-Weinberg Equilibrium.\n",
    "    Returns p-value of the test.\n",
    "    \"\"\"\n",
    "    # Count genotype frequencies\n",
    "    obs_aa = sum(genotypes == 0)\n",
    "    obs_ab = sum(genotypes == 1)\n",
    "    obs_bb = sum(genotypes == 2)\n",
    "    total = obs_aa + obs_ab + obs_bb\n",
    "\n",
    "    # Calculate allele frequencies\n",
    "    p = (2 * obs_aa + obs_ab) / (2 * total)\n",
    "    q = 1 - p\n",
    "\n",
    "    # Expected genotype frequencies\n",
    "    exp_aa = total * p**2\n",
    "    exp_ab = total * 2 * p * q\n",
    "    exp_bb = total * q**2\n",
    "\n",
    "    # Avoid zero expected counts by using a small value (e.g., 1e-10)\n",
    "    expected = np.array([exp_aa, exp_ab, exp_bb])\n",
    "    expected[expected == 0] = 1e-10\n",
    "\n",
    "    observed = np.array([obs_aa, obs_ab, obs_bb])\n",
    "    \n",
    "    # Chi-square test\n",
    "    chi2, p_value = stats.chisquare(f_obs=observed, f_exp=expected)\n",
    "\n",
    "    return p_value"
   ]
  },
  {
   "cell_type": "code",
   "execution_count": null,
   "id": "6e74442a-2739-4dc4-9697-8017ee0c2d7f",
   "metadata": {
    "scrolled": true
   },
   "outputs": [],
   "source": [
    "def contains_all_genotypes(series, genotypes={0.0, 1.0, 2.0}):\n",
    "    return genotypes.issubset(series.unique())\n",
    "\n",
    "simulated_genotype = simulated_genotype[[col for col in simulated_genotype.columns if contains_all_genotypes(simulated_genotype[col])]]\n",
    "simulated_genotype"
   ]
  },
  {
   "cell_type": "markdown",
   "id": "2e39421b-99e9-4d30-9edd-ae9b41273fbd",
   "metadata": {},
   "source": [
    "# HWE"
   ]
  },
  {
   "cell_type": "code",
   "execution_count": null,
   "id": "882cd601-c4a2-4cc0-bcb2-fb902ce041bb",
   "metadata": {},
   "outputs": [],
   "source": [
    "\"\"\"\n",
    "# Threshold for HWE p-value\n",
    "threshold = 0.05\n",
    "\n",
    "number_of_populations = k*k\n",
    "labels_pop = []\n",
    "for i in range(number_of_populations):\n",
    "    labels_pop += [f\"pop {i+1}\"]*c\n",
    "\n",
    "simulated_genotype[\"populations\"] = labels_pop\n",
    "\n",
    "hwe_dfs = []\n",
    "unique_pops = list(set(labels_pop))\n",
    "for pop in unique_pops:\n",
    "    temp_pop = simulated_genotype[simulated_genotype[\"populations\"] == pop]\n",
    "    temp_pop = temp_pop.drop('populations', axis=1)\n",
    "    # List to hold columns in HWE\n",
    "    hwe_columns = []\n",
    "    \n",
    "    for column in temp_pop.columns:\n",
    "        p_value = hwe_test(temp_pop[column].values)\n",
    "        if p_value > threshold:\n",
    "            hwe_columns.append(column)\n",
    "    cols_in_hwe = temp_pop[hwe_columns]\n",
    "    hwe_dfs.append(cols_in_hwe)\n",
    "\n",
    "combined_df = pd.concat(hwe_dfs, axis=0)\n",
    "sorted_df = combined_df.sort_index()\n",
    "# Drop columns with any NaN values\n",
    "sorted_df.fillna(2.0, inplace=True)\n",
    "simulated_genotype = sorted_df\n",
    "\"\"\""
   ]
  },
  {
   "cell_type": "code",
   "execution_count": null,
   "id": "c10c3585-400c-4f8e-8639-a7239cde7ae0",
   "metadata": {},
   "outputs": [],
   "source": [
    "#simulated_genotype\n",
    "#temp_pop = simulated_genotype.drop('populations', axis=1)\n",
    "#hwe_columns = []\n",
    "#    \n",
    "#for column in temp_pop.columns:\n",
    "#    p_value = hwe_test(temp_pop[column].values)\n",
    "#    if p_value > threshold:\n",
    "#        hwe_columns.append(column)\n",
    "#cols_in_hwe = temp_pop[hwe_columns]"
   ]
  },
  {
   "cell_type": "code",
   "execution_count": null,
   "id": "27a5663f-1403-4ba3-9adc-37367ee0f534",
   "metadata": {},
   "outputs": [],
   "source": [
    "#cols_in_hwe"
   ]
  },
  {
   "cell_type": "code",
   "execution_count": null,
   "id": "1cf6eb27-75d3-4b39-a2c9-4aa56e004b9e",
   "metadata": {},
   "outputs": [],
   "source": []
  },
  {
   "cell_type": "code",
   "execution_count": null,
   "id": "62e7ea84-92aa-4f9b-b1b6-af5665ce3cb4",
   "metadata": {},
   "outputs": [],
   "source": []
  },
  {
   "cell_type": "markdown",
   "id": "4e92f9b1-e67e-47a0-822a-343625927cfd",
   "metadata": {},
   "source": [
    "# Recalculate AFs"
   ]
  },
  {
   "cell_type": "code",
   "execution_count": null,
   "id": "1e5f274f-aebc-47f1-97e2-6bc611a63db0",
   "metadata": {},
   "outputs": [],
   "source": [
    "# calculate when AF is > 0.5 and change the genotype\n",
    "# Initialize a dictionary to store allele frequencies\n",
    "allele_frequencies = {}\n",
    "\n",
    "# Calculate allele frequencies for each SNP column\n",
    "for snp in simulated_genotype.columns:\n",
    "    total_alleles = 2 * len(simulated_genotype[snp])  # Total number of alleles (2 alleles per sample)\n",
    "    minor_allele_count = (2 * simulated_genotype[snp].value_counts().get(0, 0)) + simulated_genotype[snp].value_counts().get(1, 0)\n",
    "    allele_frequency = minor_allele_count / total_alleles\n",
    "    allele_frequencies[snp] = allele_frequency"
   ]
  },
  {
   "cell_type": "code",
   "execution_count": null,
   "id": "5b8cb831-2a07-4176-8e8a-3d2e86c9916b",
   "metadata": {},
   "outputs": [],
   "source": [
    "temp = simulated_genotype.T\n",
    "temp['AFs'] = allele_frequencies\n",
    "AFs = temp[['AFs']]"
   ]
  },
  {
   "cell_type": "code",
   "execution_count": null,
   "id": "2c433ab2-6b91-40bc-9108-fd12f9acaa9e",
   "metadata": {},
   "outputs": [],
   "source": [
    "AFs"
   ]
  },
  {
   "cell_type": "markdown",
   "id": "5594dc8c-a504-4890-9e4f-2ebf53085f93",
   "metadata": {},
   "source": [
    "# Save complete genotype"
   ]
  },
  {
   "cell_type": "code",
   "execution_count": null,
   "id": "78aa1faa-d20e-4ec5-ac64-236e53c4d6ac",
   "metadata": {},
   "outputs": [],
   "source": [
    "simulated_genotype.to_pickle(f\"data/G{G}_L{L}_c{c}_k{k}_M{M}/genotype/02_complete_genotypes_AF_0_0.5.pkl\")"
   ]
  },
  {
   "cell_type": "code",
   "execution_count": null,
   "id": "ad0f978a-0850-4c66-b452-0bba73522eb4",
   "metadata": {},
   "outputs": [],
   "source": []
  },
  {
   "cell_type": "code",
   "execution_count": null,
   "id": "864c5767-43ed-445f-9d6b-68f6fce6478b",
   "metadata": {},
   "outputs": [],
   "source": [
    "AFs.to_pickle(f\"data/G{G}_L{L}_c{c}_k{k}_M{M}/genotype/02_complete_frequencies_AF_0_0.5.pkl\")"
   ]
  },
  {
   "cell_type": "markdown",
   "id": "4aa01a23-05be-4838-b51e-e80c2834cd0e",
   "metadata": {},
   "source": [
    "# Divide into extra rare, rare, common "
   ]
  },
  {
   "cell_type": "code",
   "execution_count": null,
   "id": "8c9533db-c5dc-4570-9f20-99f992674325",
   "metadata": {},
   "outputs": [],
   "source": [
    "very_rare = temp[(temp['AFs'] > very_rare_threshold_L) & (temp['AFs'] <= very_rare_threshold_H)]\n",
    "rare = temp[(temp['AFs'] > rare_threshold_L) & (temp['AFs'] <= rare_threshold_H)]\n",
    "common = temp[(temp['AFs'] > common_threshold_L) & (temp['AFs'] <= common_threshold_H)]\n",
    "\n",
    "very_rare['snps'] = very_rare.index + '_AF_' + very_rare['AFs'].astype(str)\n",
    "very_rare.set_index('snps', inplace=True)\n",
    "very_rare_to_save = very_rare.drop('AFs', axis=1).T\n",
    "very_rare_afs = very_rare[['AFs']]\n",
    "\n",
    "rare['snps'] = rare.index + '_AF_' + rare['AFs'].astype(str)\n",
    "rare.set_index('snps', inplace=True)\n",
    "rare_to_save = rare.drop('AFs', axis=1).T\n",
    "rare_afs = rare[['AFs']]\n",
    "\n",
    "common['snps'] = common.index + '_AF_' + common['AFs'].astype(str)\n",
    "common.set_index('snps', inplace=True)\n",
    "common_to_save = common.drop('AFs', axis=1).T\n",
    "common_afs = common[['AFs']]"
   ]
  },
  {
   "cell_type": "code",
   "execution_count": null,
   "id": "7c0057e4-c77f-45e6-af55-6a6d6db45158",
   "metadata": {},
   "outputs": [],
   "source": [
    "very_rare_to_save"
   ]
  },
  {
   "cell_type": "code",
   "execution_count": null,
   "id": "7a98cc36-ce53-4c7e-b70d-7e39e346b225",
   "metadata": {},
   "outputs": [],
   "source": [
    "very_rare_to_save.to_pickle(f\"data/G{G}_L{L}_c{c}_k{k}_M{M}/genotype/02_veryrare_genotype_AF_{very_rare_threshold_L}_{very_rare_threshold_H}.pkl\")\n",
    "rare_to_save.to_pickle(f\"data/G{G}_L{L}_c{c}_k{k}_M{M}/genotype/02_rare_genotype_AF_{rare_threshold_L}_{rare_threshold_H}.pkl\")\n",
    "common_to_save.to_pickle(f\"data/G{G}_L{L}_c{c}_k{k}_M{M}/genotype/02_common_genotype_AF_{common_threshold_L}_{common_threshold_H}.pkl\")"
   ]
  },
  {
   "cell_type": "code",
   "execution_count": null,
   "id": "ab8bc43b-755a-4d58-864a-9fe0bc36f8c9",
   "metadata": {},
   "outputs": [],
   "source": [
    "very_rare_afs.to_pickle(f\"data/G{G}_L{L}_c{c}_k{k}_M{M}/genotype/02_veryrare_frequencies_AF_{very_rare_threshold_L}_{very_rare_threshold_H}.pkl\")\n",
    "rare_afs.to_pickle(f\"data/G{G}_L{L}_c{c}_k{k}_M{M}/genotype/02_rare_frequencies_AF_{rare_threshold_L}_{rare_threshold_H}.pkl\")\n",
    "common_afs.to_pickle(f\"data/G{G}_L{L}_c{c}_k{k}_M{M}/genotype/02_common_frequencies_AF_{common_threshold_L}_{common_threshold_H}.pkl\")"
   ]
  },
  {
   "cell_type": "code",
   "execution_count": null,
   "id": "feed59af-0d54-4833-8a49-71e3266486d2",
   "metadata": {},
   "outputs": [],
   "source": [
    "common_afs"
   ]
  },
  {
   "cell_type": "code",
   "execution_count": null,
   "id": "60c71661-78b7-45f2-8d6d-1635a9f8a606",
   "metadata": {},
   "outputs": [],
   "source": [
    "rare_afs"
   ]
  },
  {
   "cell_type": "code",
   "execution_count": null,
   "id": "c0a3144a-3cd6-48df-93b2-87dfa1101cf6",
   "metadata": {},
   "outputs": [],
   "source": [
    "very_rare_afs"
   ]
  },
  {
   "cell_type": "code",
   "execution_count": null,
   "id": "b6d771e8-ad60-4869-8c9d-688628092625",
   "metadata": {},
   "outputs": [],
   "source": []
  },
  {
   "cell_type": "code",
   "execution_count": null,
   "id": "eb1861f8-3f84-4cf9-912d-b75e4af1da10",
   "metadata": {},
   "outputs": [],
   "source": []
  },
  {
   "cell_type": "code",
   "execution_count": null,
   "id": "b4f68404-341f-4a9a-8fc8-cbd08de7c41b",
   "metadata": {},
   "outputs": [],
   "source": []
  }
 ],
 "metadata": {
  "kernelspec": {
   "display_name": "Python 3 (ipykernel)",
   "language": "python",
   "name": "python3"
  },
  "language_info": {
   "codemirror_mode": {
    "name": "ipython",
    "version": 3
   },
   "file_extension": ".py",
   "mimetype": "text/x-python",
   "name": "python",
   "nbconvert_exporter": "python",
   "pygments_lexer": "ipython3",
   "version": "3.10.2"
  }
 },
 "nbformat": 4,
 "nbformat_minor": 5
}
