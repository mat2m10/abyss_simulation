{
 "cells": [
  {
   "cell_type": "markdown",
   "id": "6e177c3b-3cca-410f-a235-1e5461e11247",
   "metadata": {},
   "source": [
    "# Import libraries"
   ]
  },
  {
   "cell_type": "code",
   "execution_count": 17,
   "id": "c86b25bc-8d9f-4563-b6f7-27880fd6fe93",
   "metadata": {},
   "outputs": [],
   "source": [
    "import os\n",
    "import pandas as pd\n",
    "import numpy as np\n",
    "from sklearn.preprocessing import StandardScaler\n",
    "from sklearn.decomposition import PCA\n",
    "import seaborn as sns\n",
    "import matplotlib.pyplot as plt\n",
    "import statsmodels.api as sm\n",
    "from sklearn.linear_model import LinearRegression\n",
    "from sklearn.linear_model import LogisticRegression\n",
    "import tensorflow as tf\n",
    "\n",
    "from helpers import parse_variables, get_risk_level, map_to_color, simulate_quant_trait\n",
    "from models import ols_regression, manhattan_linear, gc\n",
    "from deep_learning_models import abyss, deep_abyss\n",
    "\n",
    "import warnings\n",
    "from scipy.stats import t\n",
    "from scipy import stats\n",
    "from scipy.stats import entropy\n",
    "import random\n",
    "warnings.filterwarnings(\"ignore\")"
   ]
  },
  {
   "cell_type": "code",
   "execution_count": 18,
   "id": "1d755b99-aa6f-4fb3-8697-5b2182ba93a2",
   "metadata": {},
   "outputs": [],
   "source": [
    "# Names of the environmental risks\n",
    "naming_dict = {\n",
    "    \"no_risk\": \"no environmental risk\",\n",
    "    \"NW_risk\": \"Smooth linear North-West environmental risk\",\n",
    "    \"N_risk\" : \"Smooth linear North environmental risk\",\n",
    "    \"blob_risk\": \"Localised big blob risk\",\n",
    "    \"center_risk\": \"Localised big central risk\",\n",
    "    \"big_square_risk\": \"big square risk\",\n",
    "    \"square_risk\" : \"Tiny square risk\",\n",
    "    'hi_square_risk' : \"Tiny square risk\",\n",
    "    \"hi_gauss_blob_risk\": \"Global Gaussian Risk\",\n",
    "    \"two_square_risk\": \"Two tiny risks\",\n",
    "    \"gauss_blob_risk\" : \"Gaussian Risk\",\n",
    "    \"three_square_risk\": \"Three localized Risks\",\n",
    "    \"mid_mid_square_risk\": \"Mid square risk\"\n",
    "}"
   ]
  },
  {
   "cell_type": "markdown",
   "id": "aac0928d-dbcb-4ef3-93ff-8091d51fa1b6",
   "metadata": {},
   "source": [
    "# Load genotype"
   ]
  },
  {
   "cell_type": "code",
   "execution_count": 19,
   "id": "aaacaae2-065c-4112-a622-9c6143f74599",
   "metadata": {},
   "outputs": [
    {
     "data": {
      "text/plain": [
       "'blob_risk'"
      ]
     },
     "execution_count": 19,
     "metadata": {},
     "output_type": "execute_result"
    }
   ],
   "source": [
    "dict = parse_variables('geno_simulation.txt')\n",
    "G = int(dict['G'])\n",
    "L = int(dict['L'])\n",
    "c = int(dict['c'])\n",
    "k = int(dict['k'])\n",
    "M = float(dict['M'])\n",
    "\n",
    "# Thresholds\n",
    "very_rare_threshold_L = float(dict['very_rare_threshold_L'])\n",
    "very_rare_threshold_H = float(dict['very_rare_threshold_H'])\n",
    "\n",
    "rare_threshold_L = float(dict['rare_threshold_L'])\n",
    "rare_threshold_H = float(dict['rare_threshold_H'])\n",
    "\n",
    "common_threshold_L = float(dict['common_threshold_L'])\n",
    "common_threshold_H = float(dict['common_threshold_H'])\n",
    "\n",
    "number_of_snps = (G*L)/2 # one loci per chromosome\n",
    "number_of_individuals = c*k*k\n",
    "\n",
    "risk_level = get_risk_level()\n",
    "risk_level = risk_level.split(\"\\n\")[-1]\n",
    "name_risk = risk_level.split('_fun')[0]\n",
    "name_risk"
   ]
  },
  {
   "cell_type": "code",
   "execution_count": 20,
   "id": "c104925f-3f4a-43b0-b3bf-9f40614170d6",
   "metadata": {},
   "outputs": [],
   "source": [
    "# PCA\n",
    "nr_common_PCs = 24\n",
    "pc_columns = ['PC{}'.format(i) for i in range(1, nr_common_PCs+1)]\n",
    "PC_common= pd.read_pickle(f\"data/G{G}_L{L}_c{c}_k{k}_M{M}/phenotype/PCs/common_genotype_AF_{common_threshold_L}_{common_threshold_H}.pkl\")\n",
    "\n",
    "very_rare = pd.read_pickle(f\"data/G{G}_L{L}_c{c}_k{k}_M{M}/genotype/02_veryrare_genotype_AF_{very_rare_threshold_L}_{very_rare_threshold_H}.pkl\")\n",
    "rare = pd.read_pickle(f\"data/G{G}_L{L}_c{c}_k{k}_M{M}/genotype/02_rare_genotype_AF_{rare_threshold_L}_{rare_threshold_H}.pkl\")\n",
    "common = pd.read_pickle(f\"data/G{G}_L{L}_c{c}_k{k}_M{M}/genotype/02_common_genotype_AF_{common_threshold_L}_{common_threshold_H}.pkl\")\n",
    "very_rare = very_rare.rename(columns=lambda x: 'VR' + x)/2\n",
    "rare = rare.rename(columns=lambda x: 'R' + x)/2\n",
    "common = common.rename(columns=lambda x: 'C' + x)/2\n",
    "complete = pd.concat([common, rare, very_rare], axis=1)\n",
    "complete = ((complete*2)-1)"
   ]
  },
  {
   "cell_type": "code",
   "execution_count": 21,
   "id": "692d6814-df57-4672-bb55-ffeb6eb6894b",
   "metadata": {},
   "outputs": [
    {
     "data": {
      "text/html": [
       "<div>\n",
       "<style scoped>\n",
       "    .dataframe tbody tr th:only-of-type {\n",
       "        vertical-align: middle;\n",
       "    }\n",
       "\n",
       "    .dataframe tbody tr th {\n",
       "        vertical-align: top;\n",
       "    }\n",
       "\n",
       "    .dataframe thead th {\n",
       "        text-align: right;\n",
       "    }\n",
       "</style>\n",
       "<table border=\"1\" class=\"dataframe\">\n",
       "  <thead>\n",
       "    <tr style=\"text-align: right;\">\n",
       "      <th>snps</th>\n",
       "      <th>CG34_AF_0.32671875</th>\n",
       "      <th>CG47_AF_0.27078125</th>\n",
       "      <th>CG81_AF_0.33859375</th>\n",
       "      <th>CG97_AF_0.33953125</th>\n",
       "      <th>CG117_AF_0.365</th>\n",
       "      <th>CG138_AF_0.3371875</th>\n",
       "      <th>CG140_AF_0.38703125</th>\n",
       "      <th>CG143_AF_0.4365625</th>\n",
       "      <th>CG167_AF_0.36015625</th>\n",
       "      <th>CG181_AF_0.3053125</th>\n",
       "      <th>...</th>\n",
       "      <th>VRG1931_AF_0.03625</th>\n",
       "      <th>VRG1939_AF_0.039375</th>\n",
       "      <th>VRG1945_AF_0.02859375</th>\n",
       "      <th>VRG1973_AF_0.02484375</th>\n",
       "      <th>VRG1980_AF_0.0459375</th>\n",
       "      <th>VRG1981_AF_0.02609375</th>\n",
       "      <th>VRG1986_AF_0.03125</th>\n",
       "      <th>VRG1989_AF_0.03859375</th>\n",
       "      <th>VRG1992_AF_0.0453125</th>\n",
       "      <th>VRG1999_AF_0.03125</th>\n",
       "    </tr>\n",
       "  </thead>\n",
       "  <tbody>\n",
       "    <tr>\n",
       "      <th>0</th>\n",
       "      <td>0.0</td>\n",
       "      <td>1.0</td>\n",
       "      <td>1.0</td>\n",
       "      <td>1.0</td>\n",
       "      <td>1.0</td>\n",
       "      <td>-1.0</td>\n",
       "      <td>1.0</td>\n",
       "      <td>1.0</td>\n",
       "      <td>-1.0</td>\n",
       "      <td>1.0</td>\n",
       "      <td>...</td>\n",
       "      <td>1.0</td>\n",
       "      <td>1.0</td>\n",
       "      <td>1.0</td>\n",
       "      <td>1.0</td>\n",
       "      <td>1.0</td>\n",
       "      <td>0.0</td>\n",
       "      <td>1.0</td>\n",
       "      <td>1.0</td>\n",
       "      <td>1.0</td>\n",
       "      <td>1.0</td>\n",
       "    </tr>\n",
       "    <tr>\n",
       "      <th>1</th>\n",
       "      <td>1.0</td>\n",
       "      <td>1.0</td>\n",
       "      <td>1.0</td>\n",
       "      <td>1.0</td>\n",
       "      <td>1.0</td>\n",
       "      <td>0.0</td>\n",
       "      <td>1.0</td>\n",
       "      <td>1.0</td>\n",
       "      <td>0.0</td>\n",
       "      <td>1.0</td>\n",
       "      <td>...</td>\n",
       "      <td>0.0</td>\n",
       "      <td>1.0</td>\n",
       "      <td>1.0</td>\n",
       "      <td>1.0</td>\n",
       "      <td>1.0</td>\n",
       "      <td>1.0</td>\n",
       "      <td>1.0</td>\n",
       "      <td>1.0</td>\n",
       "      <td>1.0</td>\n",
       "      <td>1.0</td>\n",
       "    </tr>\n",
       "    <tr>\n",
       "      <th>2</th>\n",
       "      <td>1.0</td>\n",
       "      <td>1.0</td>\n",
       "      <td>1.0</td>\n",
       "      <td>0.0</td>\n",
       "      <td>1.0</td>\n",
       "      <td>-1.0</td>\n",
       "      <td>1.0</td>\n",
       "      <td>1.0</td>\n",
       "      <td>0.0</td>\n",
       "      <td>1.0</td>\n",
       "      <td>...</td>\n",
       "      <td>1.0</td>\n",
       "      <td>1.0</td>\n",
       "      <td>1.0</td>\n",
       "      <td>1.0</td>\n",
       "      <td>1.0</td>\n",
       "      <td>1.0</td>\n",
       "      <td>1.0</td>\n",
       "      <td>1.0</td>\n",
       "      <td>1.0</td>\n",
       "      <td>1.0</td>\n",
       "    </tr>\n",
       "    <tr>\n",
       "      <th>3</th>\n",
       "      <td>0.0</td>\n",
       "      <td>1.0</td>\n",
       "      <td>1.0</td>\n",
       "      <td>1.0</td>\n",
       "      <td>1.0</td>\n",
       "      <td>-1.0</td>\n",
       "      <td>1.0</td>\n",
       "      <td>1.0</td>\n",
       "      <td>-1.0</td>\n",
       "      <td>1.0</td>\n",
       "      <td>...</td>\n",
       "      <td>1.0</td>\n",
       "      <td>1.0</td>\n",
       "      <td>1.0</td>\n",
       "      <td>1.0</td>\n",
       "      <td>1.0</td>\n",
       "      <td>1.0</td>\n",
       "      <td>1.0</td>\n",
       "      <td>1.0</td>\n",
       "      <td>1.0</td>\n",
       "      <td>1.0</td>\n",
       "    </tr>\n",
       "    <tr>\n",
       "      <th>4</th>\n",
       "      <td>1.0</td>\n",
       "      <td>1.0</td>\n",
       "      <td>1.0</td>\n",
       "      <td>1.0</td>\n",
       "      <td>1.0</td>\n",
       "      <td>-1.0</td>\n",
       "      <td>1.0</td>\n",
       "      <td>0.0</td>\n",
       "      <td>0.0</td>\n",
       "      <td>0.0</td>\n",
       "      <td>...</td>\n",
       "      <td>1.0</td>\n",
       "      <td>1.0</td>\n",
       "      <td>1.0</td>\n",
       "      <td>1.0</td>\n",
       "      <td>1.0</td>\n",
       "      <td>1.0</td>\n",
       "      <td>1.0</td>\n",
       "      <td>1.0</td>\n",
       "      <td>1.0</td>\n",
       "      <td>1.0</td>\n",
       "    </tr>\n",
       "    <tr>\n",
       "      <th>...</th>\n",
       "      <td>...</td>\n",
       "      <td>...</td>\n",
       "      <td>...</td>\n",
       "      <td>...</td>\n",
       "      <td>...</td>\n",
       "      <td>...</td>\n",
       "      <td>...</td>\n",
       "      <td>...</td>\n",
       "      <td>...</td>\n",
       "      <td>...</td>\n",
       "      <td>...</td>\n",
       "      <td>...</td>\n",
       "      <td>...</td>\n",
       "      <td>...</td>\n",
       "      <td>...</td>\n",
       "      <td>...</td>\n",
       "      <td>...</td>\n",
       "      <td>...</td>\n",
       "      <td>...</td>\n",
       "      <td>...</td>\n",
       "      <td>...</td>\n",
       "    </tr>\n",
       "    <tr>\n",
       "      <th>3195</th>\n",
       "      <td>0.0</td>\n",
       "      <td>1.0</td>\n",
       "      <td>-1.0</td>\n",
       "      <td>-1.0</td>\n",
       "      <td>-1.0</td>\n",
       "      <td>-1.0</td>\n",
       "      <td>1.0</td>\n",
       "      <td>-1.0</td>\n",
       "      <td>0.0</td>\n",
       "      <td>1.0</td>\n",
       "      <td>...</td>\n",
       "      <td>1.0</td>\n",
       "      <td>1.0</td>\n",
       "      <td>1.0</td>\n",
       "      <td>0.0</td>\n",
       "      <td>1.0</td>\n",
       "      <td>1.0</td>\n",
       "      <td>1.0</td>\n",
       "      <td>1.0</td>\n",
       "      <td>1.0</td>\n",
       "      <td>1.0</td>\n",
       "    </tr>\n",
       "    <tr>\n",
       "      <th>3196</th>\n",
       "      <td>0.0</td>\n",
       "      <td>1.0</td>\n",
       "      <td>-1.0</td>\n",
       "      <td>-1.0</td>\n",
       "      <td>-1.0</td>\n",
       "      <td>-1.0</td>\n",
       "      <td>1.0</td>\n",
       "      <td>-1.0</td>\n",
       "      <td>1.0</td>\n",
       "      <td>1.0</td>\n",
       "      <td>...</td>\n",
       "      <td>0.0</td>\n",
       "      <td>1.0</td>\n",
       "      <td>1.0</td>\n",
       "      <td>1.0</td>\n",
       "      <td>1.0</td>\n",
       "      <td>1.0</td>\n",
       "      <td>1.0</td>\n",
       "      <td>1.0</td>\n",
       "      <td>1.0</td>\n",
       "      <td>1.0</td>\n",
       "    </tr>\n",
       "    <tr>\n",
       "      <th>3197</th>\n",
       "      <td>0.0</td>\n",
       "      <td>1.0</td>\n",
       "      <td>-1.0</td>\n",
       "      <td>-1.0</td>\n",
       "      <td>-1.0</td>\n",
       "      <td>-1.0</td>\n",
       "      <td>1.0</td>\n",
       "      <td>0.0</td>\n",
       "      <td>1.0</td>\n",
       "      <td>1.0</td>\n",
       "      <td>...</td>\n",
       "      <td>1.0</td>\n",
       "      <td>1.0</td>\n",
       "      <td>1.0</td>\n",
       "      <td>1.0</td>\n",
       "      <td>1.0</td>\n",
       "      <td>1.0</td>\n",
       "      <td>1.0</td>\n",
       "      <td>1.0</td>\n",
       "      <td>1.0</td>\n",
       "      <td>1.0</td>\n",
       "    </tr>\n",
       "    <tr>\n",
       "      <th>3198</th>\n",
       "      <td>0.0</td>\n",
       "      <td>1.0</td>\n",
       "      <td>0.0</td>\n",
       "      <td>0.0</td>\n",
       "      <td>-1.0</td>\n",
       "      <td>-1.0</td>\n",
       "      <td>1.0</td>\n",
       "      <td>-1.0</td>\n",
       "      <td>1.0</td>\n",
       "      <td>0.0</td>\n",
       "      <td>...</td>\n",
       "      <td>1.0</td>\n",
       "      <td>1.0</td>\n",
       "      <td>1.0</td>\n",
       "      <td>1.0</td>\n",
       "      <td>1.0</td>\n",
       "      <td>1.0</td>\n",
       "      <td>1.0</td>\n",
       "      <td>1.0</td>\n",
       "      <td>0.0</td>\n",
       "      <td>1.0</td>\n",
       "    </tr>\n",
       "    <tr>\n",
       "      <th>3199</th>\n",
       "      <td>-1.0</td>\n",
       "      <td>1.0</td>\n",
       "      <td>-1.0</td>\n",
       "      <td>-1.0</td>\n",
       "      <td>0.0</td>\n",
       "      <td>-1.0</td>\n",
       "      <td>1.0</td>\n",
       "      <td>0.0</td>\n",
       "      <td>1.0</td>\n",
       "      <td>1.0</td>\n",
       "      <td>...</td>\n",
       "      <td>1.0</td>\n",
       "      <td>1.0</td>\n",
       "      <td>1.0</td>\n",
       "      <td>1.0</td>\n",
       "      <td>1.0</td>\n",
       "      <td>1.0</td>\n",
       "      <td>1.0</td>\n",
       "      <td>1.0</td>\n",
       "      <td>1.0</td>\n",
       "      <td>1.0</td>\n",
       "    </tr>\n",
       "  </tbody>\n",
       "</table>\n",
       "<p>3200 rows × 1646 columns</p>\n",
       "</div>"
      ],
      "text/plain": [
       "snps  CG34_AF_0.32671875  CG47_AF_0.27078125  CG81_AF_0.33859375  \\\n",
       "0                    0.0                 1.0                 1.0   \n",
       "1                    1.0                 1.0                 1.0   \n",
       "2                    1.0                 1.0                 1.0   \n",
       "3                    0.0                 1.0                 1.0   \n",
       "4                    1.0                 1.0                 1.0   \n",
       "...                  ...                 ...                 ...   \n",
       "3195                 0.0                 1.0                -1.0   \n",
       "3196                 0.0                 1.0                -1.0   \n",
       "3197                 0.0                 1.0                -1.0   \n",
       "3198                 0.0                 1.0                 0.0   \n",
       "3199                -1.0                 1.0                -1.0   \n",
       "\n",
       "snps  CG97_AF_0.33953125  CG117_AF_0.365  CG138_AF_0.3371875  \\\n",
       "0                    1.0             1.0                -1.0   \n",
       "1                    1.0             1.0                 0.0   \n",
       "2                    0.0             1.0                -1.0   \n",
       "3                    1.0             1.0                -1.0   \n",
       "4                    1.0             1.0                -1.0   \n",
       "...                  ...             ...                 ...   \n",
       "3195                -1.0            -1.0                -1.0   \n",
       "3196                -1.0            -1.0                -1.0   \n",
       "3197                -1.0            -1.0                -1.0   \n",
       "3198                 0.0            -1.0                -1.0   \n",
       "3199                -1.0             0.0                -1.0   \n",
       "\n",
       "snps  CG140_AF_0.38703125  CG143_AF_0.4365625  CG167_AF_0.36015625  \\\n",
       "0                     1.0                 1.0                 -1.0   \n",
       "1                     1.0                 1.0                  0.0   \n",
       "2                     1.0                 1.0                  0.0   \n",
       "3                     1.0                 1.0                 -1.0   \n",
       "4                     1.0                 0.0                  0.0   \n",
       "...                   ...                 ...                  ...   \n",
       "3195                  1.0                -1.0                  0.0   \n",
       "3196                  1.0                -1.0                  1.0   \n",
       "3197                  1.0                 0.0                  1.0   \n",
       "3198                  1.0                -1.0                  1.0   \n",
       "3199                  1.0                 0.0                  1.0   \n",
       "\n",
       "snps  CG181_AF_0.3053125  ...  VRG1931_AF_0.03625  VRG1939_AF_0.039375  \\\n",
       "0                    1.0  ...                 1.0                  1.0   \n",
       "1                    1.0  ...                 0.0                  1.0   \n",
       "2                    1.0  ...                 1.0                  1.0   \n",
       "3                    1.0  ...                 1.0                  1.0   \n",
       "4                    0.0  ...                 1.0                  1.0   \n",
       "...                  ...  ...                 ...                  ...   \n",
       "3195                 1.0  ...                 1.0                  1.0   \n",
       "3196                 1.0  ...                 0.0                  1.0   \n",
       "3197                 1.0  ...                 1.0                  1.0   \n",
       "3198                 0.0  ...                 1.0                  1.0   \n",
       "3199                 1.0  ...                 1.0                  1.0   \n",
       "\n",
       "snps  VRG1945_AF_0.02859375  VRG1973_AF_0.02484375  VRG1980_AF_0.0459375  \\\n",
       "0                       1.0                    1.0                   1.0   \n",
       "1                       1.0                    1.0                   1.0   \n",
       "2                       1.0                    1.0                   1.0   \n",
       "3                       1.0                    1.0                   1.0   \n",
       "4                       1.0                    1.0                   1.0   \n",
       "...                     ...                    ...                   ...   \n",
       "3195                    1.0                    0.0                   1.0   \n",
       "3196                    1.0                    1.0                   1.0   \n",
       "3197                    1.0                    1.0                   1.0   \n",
       "3198                    1.0                    1.0                   1.0   \n",
       "3199                    1.0                    1.0                   1.0   \n",
       "\n",
       "snps  VRG1981_AF_0.02609375  VRG1986_AF_0.03125  VRG1989_AF_0.03859375  \\\n",
       "0                       0.0                 1.0                    1.0   \n",
       "1                       1.0                 1.0                    1.0   \n",
       "2                       1.0                 1.0                    1.0   \n",
       "3                       1.0                 1.0                    1.0   \n",
       "4                       1.0                 1.0                    1.0   \n",
       "...                     ...                 ...                    ...   \n",
       "3195                    1.0                 1.0                    1.0   \n",
       "3196                    1.0                 1.0                    1.0   \n",
       "3197                    1.0                 1.0                    1.0   \n",
       "3198                    1.0                 1.0                    1.0   \n",
       "3199                    1.0                 1.0                    1.0   \n",
       "\n",
       "snps  VRG1992_AF_0.0453125  VRG1999_AF_0.03125  \n",
       "0                      1.0                 1.0  \n",
       "1                      1.0                 1.0  \n",
       "2                      1.0                 1.0  \n",
       "3                      1.0                 1.0  \n",
       "4                      1.0                 1.0  \n",
       "...                    ...                 ...  \n",
       "3195                   1.0                 1.0  \n",
       "3196                   1.0                 1.0  \n",
       "3197                   1.0                 1.0  \n",
       "3198                   0.0                 1.0  \n",
       "3199                   1.0                 1.0  \n",
       "\n",
       "[3200 rows x 1646 columns]"
      ]
     },
     "execution_count": 21,
     "metadata": {},
     "output_type": "execute_result"
    }
   ],
   "source": [
    "complete"
   ]
  },
  {
   "cell_type": "markdown",
   "id": "806627c2-5816-4531-845b-81debaa62048",
   "metadata": {},
   "source": [
    "# Load population"
   ]
  },
  {
   "cell_type": "code",
   "execution_count": 22,
   "id": "6fcc65d1-ff1c-475d-8dc0-15ef98ca54fd",
   "metadata": {},
   "outputs": [
    {
     "data": {
      "image/png": "[encoded data removed]",
      "text/plain": [
       "<Figure size 640x480 with 1 Axes>"
      ]
     },
     "metadata": {},
     "output_type": "display_data"
    }
   ],
   "source": [
    "populations = pd.read_pickle(f\"data/G{G}_L{L}_c{c}_k{k}_M{M}/phenotype/01_population_structure.pkl\")\n",
    "populations['population_number'] = populations['populations'].str.extract('(\\d+)').astype(int)\n",
    "# Calculating X and Y coordinates\n",
    "populations['x'] = ((populations['population_number'] - 1) % k) + 1\n",
    "populations['y'] = ((populations['population_number'] - 1) // k) + 1\n",
    "populations['z'] = 0.5\n",
    "populations['population'] = populations['population_number']/(k*k)\n",
    "palette = [map_to_color(x, y, z, populations) for x, y, z in zip(populations['x'], populations['y'], populations['z'])]\n",
    "\n",
    "# Standardize the vector\n",
    "std_dev = np.std(populations['x'])\n",
    "mean = np.mean(populations['x'])\n",
    "populations['x'] = np.round((populations['x'] - mean) / std_dev,2)\n",
    "\n",
    "std_dev = np.std(populations['y'])\n",
    "mean = np.mean(populations['y'])\n",
    "populations['y'] = np.round((populations['y'] - mean) / std_dev,2)\n",
    "\n",
    "# Check the grid\n",
    "df_agg = populations.groupby(['x', 'y']).agg({'population': 'mean'}).reset_index()\n",
    "\n",
    "# Now, pivot the aggregated DataFrame\n",
    "grid_df = df_agg.pivot(index='y', columns='x', values='population')\n",
    "\n",
    "\n",
    "heatmap = sns.heatmap(grid_df, cmap=palette, linewidths=.5, square=True, cbar=False)\n",
    "\n",
    "# Add a title to the heatmap\n",
    "plt.title('Population Grid', fontsize=16)\n",
    "plt.gca().invert_yaxis()  # Sometimes it's necessary to invert the y-axis for correct orientation\n",
    "plt.show()"
   ]
  },
  {
   "cell_type": "markdown",
   "id": "fe042ee2-efbb-41f3-8f12-b359ad82ba06",
   "metadata": {},
   "source": [
    "# environmental risk"
   ]
  },
  {
   "cell_type": "code",
   "execution_count": 23,
   "id": "cdce3265-2adf-4599-be64-c05f152ae452",
   "metadata": {},
   "outputs": [
    {
     "data": {
      "image/png": "[encoded data removed]",
      "text/plain": [
       "<Figure size 640x480 with 1 Axes>"
      ]
     },
     "metadata": {},
     "output_type": "display_data"
    }
   ],
   "source": [
    "risk_level = get_risk_level()\n",
    "risk_level = risk_level.split(\"\\n\")[-1]\n",
    "name_risk = risk_level.split('_fun')[0]\n",
    "risk = pd.read_pickle(f\"data/G{G}_L{L}_c{c}_k{k}_M{M}/phenotype/environmental_risks/risk_{name_risk}.pkl\")\n",
    "populations[name_risk] = risk[name_risk]\n",
    "df_agg = populations.groupby(['x', 'y']).agg({name_risk: 'mean'}).reset_index()\n",
    "grid_df = df_agg.pivot(index='y', columns='x', values=name_risk)\n",
    "sns.heatmap(grid_df, cmap='rocket_r', linewidths=.5, square=True, cbar=False)\n",
    "\n",
    "# Add a title to the heatmap\n",
    "plt.title(f\"{naming_dict[name_risk]}\", fontsize=16)\n",
    "plt.gca().invert_yaxis()  # Sometimes it's necessary to invert the y-axis for correct orientation\n",
    "plt.show()"
   ]
  },
  {
   "cell_type": "code",
   "execution_count": 24,
   "id": "2a50cf8c-f533-4bdf-8c36-f2a8442ca334",
   "metadata": {},
   "outputs": [],
   "source": [
    "mu= np.zeros(complete.shape[0])\n",
    "beta = np.zeros(complete.shape[1])\n",
    "precision = 0.05\n",
    "y = np.array(simulate_quant_trait(mu, np.array(complete), beta, np.array(risk[name_risk]), precision))\n",
    "# Calculate the standard deviation and mean\n",
    "std_dev = np.std(y)\n",
    "mean = np.mean(y)\n",
    "# Standardize\n",
    "y = (y - mean) / std_dev\n",
    "risk['pheno'] = y\n",
    "populations = pd.read_pickle(f\"data/G{G}_L{L}_c{c}_k{k}_M{M}/phenotype/01_population_structure.pkl\")"
   ]
  },
  {
   "cell_type": "markdown",
   "id": "d3dd81c0-cfc3-4a8c-83bd-ac75dd73761e",
   "metadata": {},
   "source": [
    "# SNP effect"
   ]
  },
  {
   "cell_type": "code",
   "execution_count": 25,
   "id": "60221c71-1448-417b-92e5-f345f2ac4443",
   "metadata": {},
   "outputs": [],
   "source": [
    "def multi(arr, effectsize):\n",
    "    return [1 * (num + 0.001) * effectsize for num in arr]\n",
    "\n",
    "def divi(arr, effectsize):\n",
    "    return [(1 / (num + 0.001)) * effectsize for num in arr]"
   ]
  },
  {
   "cell_type": "code",
   "execution_count": 26,
   "id": "2acdc6a4-b4ab-4518-84ec-658996c18372",
   "metadata": {},
   "outputs": [],
   "source": [
    "effectsize = 1\n",
    "numbers_af = [float(col.split('_AF_')[1]) for col in common.columns if '_AF_' in col]\n",
    "snp_names = [col.split('_AF_')[0] for col in common.columns if '_AF_' in col]\n",
    "\n",
    "beta_values = divi(numbers_af, effectsize)\n",
    "data = {'snp': snp_names, 'Beta': beta_values}\n",
    "beta_common = pd.DataFrame(data)\n",
    "beta_common['maf'] = \"common\"\n",
    "\n",
    "numbers_af = [float(col.split('_AF_')[1]) for col in rare.columns if '_AF_' in col]\n",
    "snp_names = [col.split('_AF_')[0] for col in rare.columns if '_AF_' in col]\n",
    "\n",
    "beta_values = divi(numbers_af, effectsize)\n",
    "data = {'snp': snp_names, 'Beta': beta_values}\n",
    "beta_rare = pd.DataFrame(data)\n",
    "beta_rare['maf'] = \"rare\"\n",
    "\n",
    "numbers_af = [float(col.split('_AF_')[1]) for col in very_rare.columns if '_AF_' in col]\n",
    "snp_names = [col.split('_AF_')[0] for col in very_rare.columns if '_AF_' in col]\n",
    "\n",
    "beta_values = divi(numbers_af, effectsize)\n",
    "data = {'snp': snp_names, 'Beta': beta_values}\n",
    "beta_very_rare = pd.DataFrame(data)\n",
    "beta_very_rare['maf'] = \"very rare\"\n",
    "\n",
    "betas = pd.concat([beta_common, beta_rare, beta_very_rare], ignore_index=True)"
   ]
  },
  {
   "cell_type": "code",
   "execution_count": 27,
   "id": "2dd24ff8-c0d3-4be1-80d2-d41736968845",
   "metadata": {},
   "outputs": [],
   "source": [
    "all_snps = list(complete.columns)\n",
    "phenos_mono = []\n",
    "for snp in all_snps:\n",
    "    index_snp = snp.split('_')[0]\n",
    "    beta_value = betas.loc[betas['snp'] == index_snp, 'Beta'].values[0]\n",
    "    phenos_mono.append(complete[snp] * beta_value)\n",
    "\n",
    "# Converting phenos_mono list of series to DataFrame directly\n",
    "phenos_mono = pd.concat(phenos_mono, axis=1)\n",
    "phenos_mono.columns = complete.columns\n",
    "\n",
    "# Add noise\n",
    "n = len(phenos_mono)\n",
    "for snp in list(phenos_mono.columns):\n",
    "    var_effect = np.var(phenos_mono[snp])\n",
    "    total_variance = var_effect / 0.001\n",
    "    var_noise = total_variance - var_effect\n",
    "    sd_noise = np.sqrt(var_noise)\n",
    "    # Generate phenotype with noise\n",
    "    phenos_mono[snp] = phenos_mono[snp] + np.random.normal(0, sd_noise, n)\n",
    "    std_dev = np.std(phenos_mono[snp])\n",
    "    mean = np.mean(phenos_mono[snp])\n",
    "    phenos_mono[snp] = (phenos_mono[snp] - mean) / std_dev\n"
   ]
  },
  {
   "cell_type": "markdown",
   "id": "48bfaaaf-c495-43d6-8bab-ab4f31ede8b7",
   "metadata": {},
   "source": [
    "# Mixed"
   ]
  },
  {
   "cell_type": "code",
   "execution_count": 105,
   "id": "b3fe3632-e004-4479-a459-15863b55a006",
   "metadata": {},
   "outputs": [],
   "source": [
    "ratio_effect = 0.5\n",
    "ratio_environment = 1-ratio_effect"
   ]
  },
  {
   "cell_type": "code",
   "execution_count": 106,
   "id": "971db0fb-4f80-465e-b54b-bea1835d2d00",
   "metadata": {},
   "outputs": [],
   "source": [
    "for snp in list(phenos_mono.columns):\n",
    "    phenos_mono[snp] = phenos_mono[snp]*ratio_effect + y*ratio_environment"
   ]
  },
  {
   "cell_type": "code",
   "execution_count": 107,
   "id": "9ca4b440-a337-4af0-a3b2-a9fe90f1c159",
   "metadata": {},
   "outputs": [],
   "source": [
    "correct_cov = risk[[name_risk]]"
   ]
  },
  {
   "cell_type": "markdown",
   "id": "54c27278-f063-45be-a28b-70b8f71b11bc",
   "metadata": {},
   "source": [
    "# Starting comparaisons"
   ]
  },
  {
   "cell_type": "code",
   "execution_count": 108,
   "id": "617ce59d-7822-47a3-a406-18ce664f6b23",
   "metadata": {},
   "outputs": [
    {
     "name": "stdout",
     "output_type": "stream",
     "text": [
      "Snp specific phenotype!\n",
      "No Covs!\n"
     ]
    }
   ],
   "source": [
    "df_no_corr = manhattan_linear(complete, phenos_mono)\n",
    "df_no_corr = pd.merge(df_no_corr, betas, on='snp')"
   ]
  },
  {
   "cell_type": "code",
   "execution_count": 109,
   "id": "1db49471-f9ae-49bd-976a-f806f1defe2d",
   "metadata": {},
   "outputs": [
    {
     "name": "stdout",
     "output_type": "stream",
     "text": [
      "Snp specific phenotype!\n",
      "Covs\n"
     ]
    }
   ],
   "source": [
    "df_correct_corr = manhattan_linear(complete, phenos_mono, correct_cov)\n",
    "df_correct_corr = pd.merge(df_correct_corr, betas, on='snp')"
   ]
  },
  {
   "cell_type": "code",
   "execution_count": 110,
   "id": "23806513-b012-43e2-82fa-50945803eefd",
   "metadata": {},
   "outputs": [
    {
     "name": "stdout",
     "output_type": "stream",
     "text": [
      "Snp specific phenotype!\n",
      "Covs\n"
     ]
    }
   ],
   "source": [
    "pops = populations[['x','y']]\n",
    "df_pops = manhattan_linear(complete, phenos_mono , pops)\n",
    "df_pops = pd.merge(df_pops, betas, on='snp')"
   ]
  },
  {
   "cell_type": "code",
   "execution_count": 111,
   "id": "a1fe260c-7807-46f5-81e1-1c71dde1ff83",
   "metadata": {},
   "outputs": [],
   "source": [
    "true_p2s = pd.read_pickle(f\"data/G{G}_L{L}_c{c}_k{k}_M{M}/genotype/complete_truep2.pkl\")\n",
    "true_twopqs = pd.read_pickle(f\"data/G{G}_L{L}_c{c}_k{k}_M{M}/genotype/complete_truetwopq.pkl\")\n",
    "true_q2s = pd.read_pickle(f\"data/G{G}_L{L}_c{c}_k{k}_M{M}/genotype/complete_trueq2.pkl\")"
   ]
  },
  {
   "cell_type": "code",
   "execution_count": 112,
   "id": "f19969a4-b8ec-4d8b-929f-3af78f5c952f",
   "metadata": {},
   "outputs": [],
   "source": [
    "covariate_dictionary_true = {}\n",
    "for snp in list(complete.columns):\n",
    "    temp = complete[[snp]].copy()\n",
    "    temp[f\"{snp}_cov_p_q\"] = true_p2s[snp] - true_q2s[snp]\n",
    "    temp[f\"{snp}_cov_2pq\"] = true_twopqs[snp]\n",
    "    temp = temp.drop(columns=[snp])\n",
    "    covariate_dictionary_true[snp] = temp"
   ]
  },
  {
   "cell_type": "code",
   "execution_count": 113,
   "id": "864ebadc-7d2d-4900-969b-5f18e38eabd1",
   "metadata": {},
   "outputs": [
    {
     "name": "stdout",
     "output_type": "stream",
     "text": [
      "Snp specific phenotype!\n",
      "Dictionary Match!\n"
     ]
    }
   ],
   "source": [
    "df_p_q_2pq_covs_via_true_pops = manhattan_linear(complete, phenos_mono, covariate_dictionary_true)\n",
    "df_p_q_2pq_covs_via_true_pops = pd.merge(df_p_q_2pq_covs_via_true_pops, betas, on='snp')"
   ]
  },
  {
   "cell_type": "code",
   "execution_count": 114,
   "id": "c7943f6b-a700-4c22-ab17-290c49a70495",
   "metadata": {},
   "outputs": [
    {
     "name": "stdout",
     "output_type": "stream",
     "text": [
      "Snp specific phenotype!\n",
      "Covs\n"
     ]
    }
   ],
   "source": [
    "df_PCs = manhattan_linear(complete, phenos_mono , PC_common[pc_columns])\n",
    "df_PCs = pd.merge(df_PCs, betas, on='snp')"
   ]
  },
  {
   "cell_type": "code",
   "execution_count": 115,
   "id": "fd90088a-944f-4875-bb8f-a6fdcbc16841",
   "metadata": {},
   "outputs": [],
   "source": [
    "p2 = pd.read_pickle(f\"data/G{G}_L{L}_c{c}_k{k}_M{M}/genotype/estimated_truep2_via_estimated_pop.pkl\")\n",
    "twopq = pd.read_pickle(f\"data/G{G}_L{L}_c{c}_k{k}_M{M}/genotype/estimated_true2pq_via_estimated_pop.pkl\")\n",
    "q2 = pd.read_pickle(f\"data/G{G}_L{L}_c{c}_k{k}_M{M}/genotype/estimated_trueq2_via_estimated_pop.pkl\")"
   ]
  },
  {
   "cell_type": "code",
   "execution_count": 116,
   "id": "1357da15-b37c-4efc-9155-92c1fe143a7d",
   "metadata": {},
   "outputs": [],
   "source": [
    "covariate_dictionary_esti = {}\n",
    "for snp in list(complete.columns):\n",
    "    temp = complete[[snp]].copy()\n",
    "    temp[f\"{snp}_cov_p2\"] = p2[snp]\n",
    "    temp[f\"{snp}_cov_q2\"] = q2[snp]\n",
    "    temp[f\"{snp}_cov_2pq\"] = twopq[snp]\n",
    "    temp = temp.drop(columns=[snp])\n",
    "    covariate_dictionary_esti[snp] = temp"
   ]
  },
  {
   "cell_type": "code",
   "execution_count": 117,
   "id": "dbd8f755-af47-4360-be32-f0f820cc4eac",
   "metadata": {},
   "outputs": [
    {
     "name": "stdout",
     "output_type": "stream",
     "text": [
      "Snp specific phenotype!\n",
      "Dictionary Match!\n"
     ]
    }
   ],
   "source": [
    "df_abyss_p_q_2pq_covs_via_esti_pop = manhattan_linear(complete, phenos_mono, covariate_dictionary_esti)\n",
    "df_abyss_p_q_2pq_covs_via_esti_pop = pd.merge(df_abyss_p_q_2pq_covs_via_esti_pop, betas, on='snp')"
   ]
  },
  {
   "cell_type": "code",
   "execution_count": 118,
   "id": "3ad8ee44-aacf-4cfa-a075-6d3a0a426ccf",
   "metadata": {},
   "outputs": [
    {
     "name": "stdout",
     "output_type": "stream",
     "text": [
      "Snp specific phenotype!\n",
      "Covs\n"
     ]
    }
   ],
   "source": [
    "onehotpops = pd.get_dummies(populations[['populations']], columns=['populations']).astype(int)\n",
    "df_pops_onehot = manhattan_linear(complete, phenos_mono , onehotpops)\n",
    "df_pops_onehot = pd.merge(df_pops_onehot, betas, on='snp')"
   ]
  },
  {
   "cell_type": "code",
   "execution_count": 119,
   "id": "cc6e6728-176d-4f24-86aa-870cbb88160d",
   "metadata": {},
   "outputs": [],
   "source": [
    "# Plot"
   ]
  },
  {
   "cell_type": "code",
   "execution_count": 120,
   "id": "4333e568-8f6c-4117-a91d-6fae94532ba6",
   "metadata": {},
   "outputs": [],
   "source": [
    "# Create QQ plot\n",
    "df_bests = pd.DataFrame()\n",
    "df_bests[\"-logP_no_corr\"] = np.sort(df_no_corr['-logPs'])\n",
    "df_bests[\"-logP_correct_corr\"] = np.sort(df_correct_corr['-logPs'])\n",
    "df_bests[\"-logP_true_pop\"] = np.sort(df_pops['-logPs'])\n",
    "df_bests[\"-logP_true_pop_onehot\"] = np.sort(df_pops_onehot['-logPs'])\n",
    "df_bests[\"-logP_abyss_via_true_pops\"] = np.sort(df_p_q_2pq_covs_via_true_pops['-logPs'])\n",
    "df_bests[\"-logP_abyss_pq2pq_via_esti_pops\"] = np.sort(df_abyss_p_q_2pq_covs_via_esti_pop['-logPs'])\n",
    "\n",
    "\n",
    "df_bests[\"-logP_PCs\"] = np.sort(df_PCs['-logPs'])\n",
    "\n",
    "# Find the maximum value in the DataFrame excluding inf and NaN\n",
    "max_value = df_bests.replace([np.inf, -np.inf], np.nan).max().max()\n",
    "\n",
    "# Replace inf values with the maximum value found\n",
    "df_bests.replace([np.inf, -np.inf], max_value, inplace=True)\n",
    "\n",
    "# Replace NaN values with the maximum value found\n",
    "df_bests.fillna(max_value, inplace=True)\n",
    "n = len(df_bests)\n",
    "expected_quantiles = np.arange(1, n + 1) / n\n",
    "expected_logP = np.sort(-np.log10(expected_quantiles))\n",
    "df_bests['expected_logP'] = expected_logP"
   ]
  },
  {
   "cell_type": "code",
   "execution_count": 122,
   "id": "7f62c936-2793-443a-aa18-27c624015be3",
   "metadata": {},
   "outputs": [
    {
     "data": {
      "image/png": "[encoded data removed]",
      "text/plain": [
       "<Figure size 640x480 with 1 Axes>"
      ]
     },
     "metadata": {},
     "output_type": "display_data"
    }
   ],
   "source": [
    "#sns.scatterplot(x='expected_logP', y='-logP_no_corr', data=df_bests, color='red', label='no covariate', linewidth=0)\n",
    "\n",
    "sns.scatterplot(x='expected_logP', y='-logP_correct_corr', data=df_bests, color='black', label='correct environmental covariate', linewidth=0)\n",
    "\n",
    "#sns.scatterplot(x='expected_logP', y='-logP_true_pop', data=df_bests, color='darkblue', label='True populations x,y axis as covariate', linewidth=0)\n",
    "\n",
    "sns.scatterplot(x='expected_logP', y='-logP_true_pop_onehot', data=df_bests, color='lightblue', label='True populations dummies as covariates', linewidth=0)\n",
    "\n",
    "sns.scatterplot(x='expected_logP', y='-logP_abyss_via_true_pops', data=df_bests, color='orange', label='True MAFs as covs', linewidth=0)\n",
    "sns.scatterplot(x='expected_logP', y='-logP_abyss_pq2pq_via_esti_pops', data=df_bests, color='yellow', label='Estimates p2, q2, 2pq as covs', linewidth=0)\n",
    "\n",
    "sns.scatterplot(x='expected_logP', y='-logP_PCs', data=df_bests, color='pink', label=f\"{nr_common_PCs} PCs as covariate\", linewidth=0)\n",
    "\n",
    "# Plot diagonal reference line\n",
    "plt.plot([min(df_bests['expected_logP']), max(df_bests['expected_logP'])], \n",
    "         [min(df_bests['expected_logP']), max(df_bests['expected_logP'])], \n",
    "         color='red', linestyle='--')\n",
    "\n",
    "# Set plot labels and title\n",
    "plt.xlabel('Expected')\n",
    "plt.ylabel('-Log10(P) Values')\n",
    "plt.title(f\"QQ Plot of Log Values - {naming_dict[name_risk]}\")\n",
    "\n",
    "# Show legend\n",
    "plt.legend()\n",
    "#plt.savefig(f\"{path_plots}/qq_only_env_{name_risk}.png\", dpi=100)\n",
    "# Show plot\n",
    "plt.show()"
   ]
  },
  {
   "cell_type": "code",
   "execution_count": null,
   "id": "982fcfd2-c7b1-4d6c-89c7-57b96ff57da6",
   "metadata": {},
   "outputs": [],
   "source": []
  },
  {
   "cell_type": "code",
   "execution_count": null,
   "id": "89810400-8f37-4fdd-8376-d215f8059a01",
   "metadata": {},
   "outputs": [],
   "source": []
  },
  {
   "cell_type": "code",
   "execution_count": null,
   "id": "1c7fa603-eb15-4b51-980b-9f7f31491f70",
   "metadata": {},
   "outputs": [],
   "source": []
  }
 ],
 "metadata": {
  "kernelspec": {
   "display_name": "Python 3 (ipykernel)",
   "language": "python",
   "name": "python3"
  },
  "language_info": {
   "codemirror_mode": {
    "name": "ipython",
    "version": 3
   },
   "file_extension": ".py",
   "mimetype": "text/x-python",
   "name": "python",
   "nbconvert_exporter": "python",
   "pygments_lexer": "ipython3",
   "version": "3.10.2"
  }
 },
 "nbformat": 4,
 "nbformat_minor": 5
}
