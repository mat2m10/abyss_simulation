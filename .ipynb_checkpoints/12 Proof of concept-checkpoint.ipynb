{
 "cells": [
  {
   "cell_type": "markdown",
   "id": "e709376f-58f6-451b-b035-5e8ee7eca98e",
   "metadata": {},
   "source": [
    "# Import libraries"
   ]
  },
  {
   "cell_type": "code",
   "execution_count": 120,
   "id": "55f5ae49-7552-4db3-89f7-e4d2f079f162",
   "metadata": {},
   "outputs": [],
   "source": [
    "import os\n",
    "import subprocess\n",
    "from helpers import parse_variables\n",
    "import pandas as pd\n",
    "import numpy as np\n",
    "from sklearn.preprocessing import StandardScaler\n",
    "from sklearn.decomposition import PCA\n",
    "import seaborn as sns\n",
    "import matplotlib.pyplot as plt\n",
    "import statsmodels.api as sm\n",
    "from helpers import parse_variables\n",
    "import scipy.stats as stats\n",
    "from sklearn.preprocessing import StandardScaler\n",
    "from sklearn.decomposition import PCA\n",
    "from helpers import parse_variables, get_risk_level, hi_gauss_blob_risk_fun, blob_risk_fun, NW_risk_fun, square_risk_fun, map_to_color\n",
    "from matplotlib.colors import LinearSegmentedColormap"
   ]
  },
  {
   "cell_type": "code",
   "execution_count": 121,
   "id": "3d1b2bbd-06e1-473c-a069-62104421b67d",
   "metadata": {},
   "outputs": [],
   "source": [
    "# Function to pair SNPs and summarize genotype\n",
    "def summarize_genotypes(df):\n",
    "    summarized_genotypes = {}\n",
    "    # Iterate over pairs of columns\n",
    "    for i in range(1, df.shape[1], 2):\n",
    "        pair_sum = df.iloc[:, i-1] + df.iloc[:, i]\n",
    "        # Apply the genotype summarization logic\n",
    "        summarized_genotypes[f'G{i//2 + 1}'] = np.where(pair_sum == 2, 2, pair_sum)\n",
    "    return pd.DataFrame(summarized_genotypes)\n",
    "\n",
    "# Function to flip 0s to 2s and 2s to 0s\n",
    "def flip_genotypes(row):\n",
    "    if row['AFs'] > 0.5:\n",
    "        # Apply transformation for the condition\n",
    "        row[:-1] = row[:-1].replace({0: 2, 2: 0})\n",
    "        row['AFs'] = 1 - row['AFs']  # Adjust allele frequency\n",
    "    return row\n",
    "\n",
    "def contains_all_genotypes(series, genotypes={0.0, 1.0, 2.0}):\n",
    "    return genotypes.issubset(series.unique())"
   ]
  },
  {
   "cell_type": "code",
   "execution_count": 122,
   "id": "689b3f07-912a-421a-a87f-5984ee1175b3",
   "metadata": {},
   "outputs": [],
   "source": [
    "dict = parse_variables('geno_simulation.txt')\n",
    "G = 10\n",
    "L = 10\n",
    "c = 50\n",
    "k = 2\n",
    "M = 100\n",
    "HWE = 1\n",
    "\n",
    "# Define the R commands to run, passing parameters as arguments\n",
    "commands = [\n",
    "    f\"source('geno_simulation.txt')\",\n",
    "    f\"source('create_geno.R', echo=TRUE)\",\n",
    "]\n",
    "\n",
    "\n",
    "commands = [\n",
    "    \"source('geno_simulation.txt')\",\n",
    "    f\"G <- {G}\",\n",
    "    f\"L <- {L}\",\n",
    "    f\"c <- {c}\",\n",
    "    f\"k <- {k}\",\n",
    "    f\"M <- {M}\",\n",
    "    \"source('create_geno.R', echo=TRUE)\"\n",
    "]\n",
    "\n",
    "# Concatenate commands into a single string\n",
    "r_script = \";\".join(commands)\n",
    "\n",
    "# Run the R script\n",
    "result = subprocess.run(['Rscript', '-e', r_script], capture_output=True, text=True)\n",
    "\n",
    "# Print the output\n",
    "#print(result.stdout)\n",
    "\n",
    "# Check for errors\n",
    "if result.returncode != 0:\n",
    "    print(\"Error executing R script:\")\n",
    "    print(result.stderr)\n",
    "    pass\n",
    "\n",
    "os.makedirs(f\"data/concept/genotype/raw\",exist_ok=True)\n",
    "os.system(f\"mv simulated_genotypes_G{G}_L{L}_c{c}_k{k}_M{M}.csv data/concept/genotype/raw/\")\n",
    "\n",
    "# Thresholds\n",
    "very_rare_threshold_L = float(dict['very_rare_threshold_L'])\n",
    "very_rare_threshold_H = float(dict['very_rare_threshold_H'])\n",
    "\n",
    "rare_threshold_L = float(dict['rare_threshold_L'])\n",
    "rare_threshold_H = float(dict['rare_threshold_H'])\n",
    "\n",
    "common_threshold_L = float(dict['common_threshold_L'])\n",
    "common_threshold_H = float(dict['common_threshold_H'])\n",
    "\n",
    "file = f\"data/concept/genotype/raw/simulated_genotypes_G{G}_L{L}_c{c}_k{k}_M{M}.csv\"\n",
    "path_simulated_file = \"./\"+ file\n",
    "number_of_loci = G*L\n",
    "number_of_individuals = c*k*k\n",
    "simulated_loci= pd.read_csv(path_simulated_file)"
   ]
  },
  {
   "cell_type": "code",
   "execution_count": 123,
   "id": "782a28ec-b0a8-41f2-86fc-73f5856f5af3",
   "metadata": {},
   "outputs": [],
   "source": [
    "# Apply the function to the sample DataFrame\n",
    "simulated_genotype = summarize_genotypes(simulated_loci)\n",
    "columns_to_drop  = simulated_genotype.columns[simulated_genotype.nunique() == 1] # If double columns delete it \n",
    "simulated_genotype = simulated_genotype.drop(columns=columns_to_drop)"
   ]
  },
  {
   "cell_type": "code",
   "execution_count": 124,
   "id": "b25318c5-6d34-43fd-afa6-8dc688b4672c",
   "metadata": {},
   "outputs": [],
   "source": [
    "number_of_populations = k*k\n",
    "labels_pop = []\n",
    "for i in range(number_of_populations):\n",
    "    labels_pop += [i+1]*c\n",
    "\n",
    "simulated_genotype[\"populations\"] = labels_pop\n",
    "simulated_genotype['populations'] = simulated_genotype['populations'].apply(lambda x: 1 if x in [1, 2] else 2)"
   ]
  },
  {
   "cell_type": "code",
   "execution_count": 125,
   "id": "e7a7e6c2-ab1a-4e79-a57a-c11cd8ecf0d5",
   "metadata": {},
   "outputs": [],
   "source": [
    "unique_pops = simulated_genotype['populations'].unique()\n",
    "unique_pops.sort()\n",
    "dfs = []\n",
    "required_values = {0, 1, 2}\n",
    "\n",
    "# Optimization: Cache the set operation result\n",
    "simulated_genotype_sets = {col: set(simulated_genotype[col]) for col in simulated_genotype.columns}\n",
    "\n",
    "if HWE == 1:\n",
    "    for pop in unique_pops:\n",
    "        temp_pop = simulated_genotype[simulated_genotype[\"populations\"] == pop].drop('populations', axis=1)\n",
    "        \n",
    "        for col in temp_pop.columns:\n",
    "            column_values = simulated_genotype_sets[col]\n",
    "            \n",
    "            if not required_values.issubset(column_values):\n",
    "                # Optimization: Vectorized random choice and assignment\n",
    "                indices = np.random.choice(temp_pop.index, size=3, replace=False)\n",
    "                temp_pop.loc[indices[0], col] = 0\n",
    "                temp_pop.loc[indices[1], col] = 1\n",
    "                temp_pop.loc[indices[2], col] = 2\n",
    "\n",
    "            # Calculate frequencies\n",
    "            value_counts = temp_pop[col].value_counts().reindex([0, 1, 2], fill_value=0)\n",
    "            total = value_counts.sum()\n",
    "            q2 = value_counts[2] / total\n",
    "            q = np.sqrt(q2)\n",
    "            p = 1 - q\n",
    "            freq_maj = p ** 2\n",
    "            freq_het = 2 * p * q\n",
    "            freq_min = q ** 2\n",
    "\n",
    "            # Optimization: Vectorized assignment of new genotypes\n",
    "            pop_geno = np.random.choice([1.0, 0.0, -1.0], size=total, p=[freq_maj, freq_het, freq_min])\n",
    "            temp_pop[col] = pop_geno\n",
    "\n",
    "        dfs.append(temp_pop)\n",
    "\n",
    "else:\n",
    "    print(\"HWE\")\n",
    "    for pop in unique_pops:\n",
    "        temp_pop = simulated_genotype[simulated_genotype[\"populations\"] == pop].drop('populations', axis=1)\n",
    "        \n",
    "        for col in temp_pop.columns:\n",
    "            column_values = simulated_genotype_sets[col]\n",
    "            \n",
    "            if not required_values.issubset(column_values):\n",
    "                # Optimization: Vectorized random choice and assignment\n",
    "                indices = np.random.choice(temp_pop.index, size=3, replace=False)\n",
    "                temp_pop.loc[indices[0], col] = 0\n",
    "                temp_pop.loc[indices[1], col] = 1\n",
    "                temp_pop.loc[indices[2], col] = 2\n",
    "\n",
    "            # Calculate frequencies\n",
    "            value_counts = temp_pop[col].value_counts().reindex([0, 1, 2], fill_value=0)\n",
    "            total = value_counts.sum()\n",
    "            q2 = value_counts[2] / total\n",
    "            q = np.sqrt(q2)\n",
    "            p = 1 - q\n",
    "            freq_maj = p ** 2\n",
    "            freq_het = q ** 2\n",
    "            freq_min = 2 * p * q\n",
    "\n",
    "            # Optimization: Vectorized assignment of new genotypes\n",
    "            pop_geno = np.random.choice([1.0, 0.0, -1.0], size=total, p=[freq_maj, freq_het, freq_min])\n",
    "            temp_pop[col] = pop_geno\n",
    "\n",
    "        dfs.append(temp_pop)\n",
    "\n",
    "# Concatenate all dataframes if needed\n",
    "simulated_genotype = pd.concat(dfs, ignore_index=True)"
   ]
  },
  {
   "cell_type": "code",
   "execution_count": 126,
   "id": "9834b3c6-a5f9-463d-b5d4-2dcb019dc752",
   "metadata": {},
   "outputs": [],
   "source": [
    "simulated_genotype = simulated_genotype+1"
   ]
  },
  {
   "cell_type": "code",
   "execution_count": 127,
   "id": "942e4628-d0d0-456e-a844-290c447a8da3",
   "metadata": {},
   "outputs": [],
   "source": [
    "# calculate when AF is > 0.5 and change the genotype\n",
    "# Initialize a dictionary to store allele frequencies\n",
    "allele_frequencies = {}\n",
    "\n",
    "# Calculate allele frequencies for each SNP column\n",
    "for snp in simulated_genotype.columns:\n",
    "    total_alleles = 2 * len(simulated_genotype[snp])  # Total number of alleles (2 alleles per sample)\n",
    "    minor_allele_count = (2 * simulated_genotype[snp].value_counts().get(0, 0)) + simulated_genotype[snp].value_counts().get(1, 0)\n",
    "    allele_frequency = minor_allele_count / total_alleles\n",
    "    allele_frequencies[snp] = allele_frequency"
   ]
  },
  {
   "cell_type": "code",
   "execution_count": 128,
   "id": "8e2a5275-fdf0-481d-949f-d0f4d681647c",
   "metadata": {},
   "outputs": [],
   "source": [
    "temp = simulated_genotype.T\n",
    "temp['AFs'] = allele_frequencies"
   ]
  },
  {
   "cell_type": "code",
   "execution_count": 129,
   "id": "89b2bdf2-4a9a-4582-aec1-253cc424dacb",
   "metadata": {},
   "outputs": [],
   "source": [
    "# Apply the function across the DataFrame, row-wise\n",
    "df_transformed = temp.apply(flip_genotypes, axis=1)"
   ]
  },
  {
   "cell_type": "code",
   "execution_count": 130,
   "id": "693e8b66-9e49-4495-8252-a79c88b84b98",
   "metadata": {},
   "outputs": [],
   "source": [
    "simulated_genotype = df_transformed.drop('AFs', axis=1).T\n",
    "columns_to_drop  = simulated_genotype.columns[simulated_genotype.nunique() == 1] # If double columns delete it \n",
    "simulated_genotype = simulated_genotype.drop(columns=columns_to_drop)"
   ]
  },
  {
   "cell_type": "code",
   "execution_count": 131,
   "id": "d325eeaf-29c1-44cb-aea7-676b75339d00",
   "metadata": {},
   "outputs": [],
   "source": [
    "simulated_genotype = simulated_genotype[[col for col in simulated_genotype.columns if contains_all_genotypes(simulated_genotype[col])]]"
   ]
  },
  {
   "cell_type": "code",
   "execution_count": 132,
   "id": "9763ef5b-0cb2-4bc1-ae43-7e0811c11579",
   "metadata": {},
   "outputs": [],
   "source": [
    "# calculate when AF is > 0.5 and change the genotype\n",
    "# Initialize a dictionary to store allele frequencies\n",
    "allele_frequencies = {}\n",
    "\n",
    "# Calculate allele frequencies for each SNP column\n",
    "for snp in simulated_genotype.columns:\n",
    "    total_alleles = 2 * len(simulated_genotype[snp])  # Total number of alleles (2 alleles per sample)\n",
    "    minor_allele_count = (2 * simulated_genotype[snp].value_counts().get(0, 0)) + simulated_genotype[snp].value_counts().get(1, 0)\n",
    "    allele_frequency = minor_allele_count / total_alleles\n",
    "    allele_frequencies[snp] = allele_frequency"
   ]
  },
  {
   "cell_type": "code",
   "execution_count": 133,
   "id": "48471c11-d8a1-4c19-9636-9efe49fa33ee",
   "metadata": {},
   "outputs": [],
   "source": [
    "temp = simulated_genotype.T\n",
    "temp['AFs'] = allele_frequencies\n",
    "AFs = temp[['AFs']]"
   ]
  },
  {
   "cell_type": "code",
   "execution_count": 134,
   "id": "0eb8a9f2-05c6-482e-9bc0-e6b369dec272",
   "metadata": {},
   "outputs": [],
   "source": [
    "# Create slices as copies to avoid SettingWithCopyWarning\n",
    "very_rare = temp[(temp['AFs'] > very_rare_threshold_L) & (temp['AFs'] <= very_rare_threshold_H)].copy()\n",
    "rare = temp[(temp['AFs'] > rare_threshold_L) & (temp['AFs'] <= rare_threshold_H)].copy()\n",
    "common = temp[(temp['AFs'] > common_threshold_L) & (temp['AFs'] <= common_threshold_H)].copy()\n",
    "\n",
    "# Modify 'snps' column using .loc to avoid warnings\n",
    "very_rare.loc[:, 'snps'] = very_rare.index + '_AF_' + very_rare['AFs'].astype(str)\n",
    "very_rare.set_index('snps', inplace=True)\n",
    "very_rare_to_save = very_rare.drop('AFs', axis=1).T\n",
    "very_rare_afs = very_rare[['AFs']]\n",
    "\n",
    "rare.loc[:, 'snps'] = rare.index + '_AF_' + rare['AFs'].astype(str)\n",
    "rare.set_index('snps', inplace=True)\n",
    "rare_to_save = rare.drop('AFs', axis=1).T\n",
    "rare_afs = rare[['AFs']]\n",
    "\n",
    "common.loc[:, 'snps'] = common.index + '_AF_' + common['AFs'].astype(str)\n",
    "common.set_index('snps', inplace=True)\n",
    "common_to_save = common.drop('AFs', axis=1).T\n",
    "common_afs = common[['AFs']]"
   ]
  },
  {
   "cell_type": "code",
   "execution_count": 135,
   "id": "149e754b-bb42-4496-999b-bdadc551dfea",
   "metadata": {},
   "outputs": [],
   "source": [
    "very_rare_to_save = very_rare_to_save.rename(columns=lambda x: 'VR' + x)/2\n",
    "rare_to_save = rare_to_save.rename(columns=lambda x: 'R' + x)/2\n",
    "common_to_save = common_to_save.rename(columns=lambda x: 'C' + x)/2\n",
    "complete = pd.concat([common_to_save, rare_to_save, very_rare_to_save], axis=1)\n",
    "complete = ((complete*2)-1)"
   ]
  },
  {
   "cell_type": "code",
   "execution_count": 136,
   "id": "4f4e3535-9613-491e-96a5-4d735d54080d",
   "metadata": {},
   "outputs": [],
   "source": [
    "number_of_populations = k*k\n",
    "labels_pop = []\n",
    "for i in range(number_of_populations):\n",
    "    labels_pop += [i+1]*c\n",
    "\n",
    "simulated_genotype[\"populations\"] = labels_pop\n",
    "simulated_genotype['populations'] = simulated_genotype['populations'].apply(lambda x: 1 if x in [1, 2] else 2)"
   ]
  },
  {
   "cell_type": "code",
   "execution_count": 137,
   "id": "1b5959a4-4a83-4758-98ca-17424b81da0c",
   "metadata": {},
   "outputs": [],
   "source": [
    "complete['pop'] = simulated_genotype['populations']\n",
    "\n",
    "p2s_dfs = []\n",
    "q2s_dfs = []\n",
    "twopqs_dfs = []\n",
    "\n",
    "for pop in complete['pop'].unique():\n",
    "    temp = complete[complete['pop'] == pop].drop(\"pop\", axis=1)\n",
    "\n",
    "    # Count the number of major, heterozygous, and minor alleles\n",
    "    counts = temp.apply(pd.Series.value_counts).fillna(0)\n",
    "\n",
    "    num_maj = counts.loc[1.0]\n",
    "    num_het = counts.loc[0.0]\n",
    "    num_min = counts.loc[-1.0]\n",
    "\n",
    "    total_humans = num_maj + num_het + num_min\n",
    "\n",
    "    # Normalize to get frequencies instead of counts\n",
    "    p2s = num_maj / total_humans\n",
    "    twopqs = num_het / total_humans\n",
    "    q2s = num_min / total_humans\n",
    "\n",
    "    # Expand the normalized values across all rows for each population\n",
    "    p2s_dfs.append(pd.DataFrame([p2s] * temp.shape[0], index=temp.index, columns=temp.columns))\n",
    "    twopqs_dfs.append(pd.DataFrame([twopqs] * temp.shape[0], index=temp.index, columns=temp.columns))\n",
    "    q2s_dfs.append(pd.DataFrame([q2s] * temp.shape[0], index=temp.index, columns=temp.columns))\n",
    "\n",
    "# Drop \"pop\" from the original DataFrame\n",
    "complete = complete.drop(\"pop\", axis=1)\n",
    "\n",
    "# Concatenate all population-specific DataFrames\n",
    "true_p2s = pd.concat(p2s_dfs)\n",
    "true_twopqs = pd.concat(twopqs_dfs)\n",
    "true_q2s = pd.concat(q2s_dfs)"
   ]
  },
  {
   "cell_type": "code",
   "execution_count": 138,
   "id": "8a21a7f8-8365-4287-b9b1-1aa5088dbb6a",
   "metadata": {},
   "outputs": [],
   "source": [
    "first_snp = list(complete.columns)[0]"
   ]
  },
  {
   "cell_type": "code",
   "execution_count": 139,
   "id": "be1eec0e-780f-41d2-829e-f748f5b42425",
   "metadata": {},
   "outputs": [],
   "source": [
    "geno = complete[[first_snp]]"
   ]
  },
  {
   "cell_type": "code",
   "execution_count": 140,
   "id": "6f191e9a-3c7d-4561-92ec-60a59451b491",
   "metadata": {},
   "outputs": [],
   "source": [
    "p2_min_q2 = true_p2s - true_q2s\n",
    "p2_min_q2 = p2_min_q2[[first_snp]]"
   ]
  },
  {
   "cell_type": "code",
   "execution_count": 141,
   "id": "52919932-7c07-4dbe-a04d-f6f52dc59f11",
   "metadata": {},
   "outputs": [],
   "source": [
    "populations = simulated_genotype[['populations']]"
   ]
  },
  {
   "cell_type": "code",
   "execution_count": 142,
   "id": "560c1f14-5166-44e4-9999-926e76e95b3c",
   "metadata": {},
   "outputs": [
    {
     "name": "stderr",
     "output_type": "stream",
     "text": [
      "/tmp/ipykernel_1223592/377721189.py:1: SettingWithCopyWarning: \n",
      "A value is trying to be set on a copy of a slice from a DataFrame.\n",
      "Try using .loc[row_indexer,col_indexer] = value instead\n",
      "\n",
      "See the caveats in the documentation: https://pandas.pydata.org/pandas-docs/stable/user_guide/indexing.html#returning-a-view-versus-a-copy\n",
      "  populations['x'] = populations['populations']\n",
      "/tmp/ipykernel_1223592/377721189.py:2: SettingWithCopyWarning: \n",
      "A value is trying to be set on a copy of a slice from a DataFrame.\n",
      "Try using .loc[row_indexer,col_indexer] = value instead\n",
      "\n",
      "See the caveats in the documentation: https://pandas.pydata.org/pandas-docs/stable/user_guide/indexing.html#returning-a-view-versus-a-copy\n",
      "  populations['y'] = 1\n",
      "/tmp/ipykernel_1223592/377721189.py:3: SettingWithCopyWarning: \n",
      "A value is trying to be set on a copy of a slice from a DataFrame.\n",
      "Try using .loc[row_indexer,col_indexer] = value instead\n",
      "\n",
      "See the caveats in the documentation: https://pandas.pydata.org/pandas-docs/stable/user_guide/indexing.html#returning-a-view-versus-a-copy\n",
      "  populations['z'] = 0.5\n"
     ]
    }
   ],
   "source": [
    "\n",
    "populations['x'] = populations['populations']\n",
    "populations['y'] = 1\n",
    "populations['z'] = 0.5"
   ]
  },
  {
   "cell_type": "code",
   "execution_count": 143,
   "id": "5b01886a-9d4a-4935-a9d2-bef6247a7b32",
   "metadata": {},
   "outputs": [],
   "source": [
    "palette = [map_to_color(x, y, z, populations) for x, y, z in zip(populations['x'], populations['y'], populations['z'])]"
   ]
  },
  {
   "cell_type": "code",
   "execution_count": 144,
   "id": "5f1523be-278a-4152-a2b4-7884200269f9",
   "metadata": {},
   "outputs": [
    {
     "data": {
      "image/png": "[encoded data removed]",
      "text/plain": [
       "<Figure size 1000x1000 with 1 Axes>"
      ]
     },
     "metadata": {},
     "output_type": "display_data"
    }
   ],
   "source": [
    "# Check the grid\n",
    "df_agg = populations.groupby(['x', 'y']).agg({'populations': 'mean'}).reset_index()\n",
    "\n",
    "# Now, pivot the aggregated DataFrame\n",
    "grid_df = df_agg.pivot(index='y', columns='x', values='populations')\n",
    "\n",
    "# Use seaborn to create the heatmap\n",
    "plt.figure(figsize=(10, 10))\n",
    "heatmap = sns.heatmap(grid_df, cmap=palette, linewidths=.5, square=True, cbar=False)\n",
    "\n",
    "# Add a title to the heatmap\n",
    "plt.title('Population Grid', fontsize=16)\n",
    "plt.gca().invert_yaxis()  # Sometimes it's necessary to invert the y-axis for correct orientation\n",
    "plt.show()\n",
    "plt.close()"
   ]
  },
  {
   "cell_type": "code",
   "execution_count": 145,
   "id": "3c719225-4c72-41b8-958a-00c0655a2766",
   "metadata": {},
   "outputs": [],
   "source": [
    "scaler = StandardScaler()\n",
    "scaled_complete = scaler.fit_transform(complete)\n",
    "n_components = max(min(complete.shape[1], 50), 4)\n",
    "pca = PCA(n_components=n_components)\n",
    "pc_labels_complete = [f\"PC{i}\" for i in range(1, n_components + 1)]\n",
    "PC_complete = pca.fit_transform(scaled_complete)\n",
    "PC_complete = pd.DataFrame(data=PC_complete, columns=pc_labels_complete)"
   ]
  },
  {
   "cell_type": "code",
   "execution_count": 146,
   "id": "ce3677cd-af5f-4e8e-afa5-22dd1d23ecb2",
   "metadata": {},
   "outputs": [
    {
     "data": {
      "text/html": [
       "<div>\n",
       "<style scoped>\n",
       "    .dataframe tbody tr th:only-of-type {\n",
       "        vertical-align: middle;\n",
       "    }\n",
       "\n",
       "    .dataframe tbody tr th {\n",
       "        vertical-align: top;\n",
       "    }\n",
       "\n",
       "    .dataframe thead th {\n",
       "        text-align: right;\n",
       "    }\n",
       "</style>\n",
       "<table border=\"1\" class=\"dataframe\">\n",
       "  <thead>\n",
       "    <tr style=\"text-align: right;\">\n",
       "      <th></th>\n",
       "      <th>populations</th>\n",
       "      <th>x</th>\n",
       "      <th>y</th>\n",
       "      <th>z</th>\n",
       "    </tr>\n",
       "  </thead>\n",
       "  <tbody>\n",
       "    <tr>\n",
       "      <th>0</th>\n",
       "      <td>1</td>\n",
       "      <td>1</td>\n",
       "      <td>1</td>\n",
       "      <td>0.5</td>\n",
       "    </tr>\n",
       "    <tr>\n",
       "      <th>1</th>\n",
       "      <td>1</td>\n",
       "      <td>1</td>\n",
       "      <td>1</td>\n",
       "      <td>0.5</td>\n",
       "    </tr>\n",
       "    <tr>\n",
       "      <th>2</th>\n",
       "      <td>1</td>\n",
       "      <td>1</td>\n",
       "      <td>1</td>\n",
       "      <td>0.5</td>\n",
       "    </tr>\n",
       "    <tr>\n",
       "      <th>3</th>\n",
       "      <td>1</td>\n",
       "      <td>1</td>\n",
       "      <td>1</td>\n",
       "      <td>0.5</td>\n",
       "    </tr>\n",
       "    <tr>\n",
       "      <th>4</th>\n",
       "      <td>1</td>\n",
       "      <td>1</td>\n",
       "      <td>1</td>\n",
       "      <td>0.5</td>\n",
       "    </tr>\n",
       "    <tr>\n",
       "      <th>...</th>\n",
       "      <td>...</td>\n",
       "      <td>...</td>\n",
       "      <td>...</td>\n",
       "      <td>...</td>\n",
       "    </tr>\n",
       "    <tr>\n",
       "      <th>195</th>\n",
       "      <td>2</td>\n",
       "      <td>2</td>\n",
       "      <td>1</td>\n",
       "      <td>0.5</td>\n",
       "    </tr>\n",
       "    <tr>\n",
       "      <th>196</th>\n",
       "      <td>2</td>\n",
       "      <td>2</td>\n",
       "      <td>1</td>\n",
       "      <td>0.5</td>\n",
       "    </tr>\n",
       "    <tr>\n",
       "      <th>197</th>\n",
       "      <td>2</td>\n",
       "      <td>2</td>\n",
       "      <td>1</td>\n",
       "      <td>0.5</td>\n",
       "    </tr>\n",
       "    <tr>\n",
       "      <th>198</th>\n",
       "      <td>2</td>\n",
       "      <td>2</td>\n",
       "      <td>1</td>\n",
       "      <td>0.5</td>\n",
       "    </tr>\n",
       "    <tr>\n",
       "      <th>199</th>\n",
       "      <td>2</td>\n",
       "      <td>2</td>\n",
       "      <td>1</td>\n",
       "      <td>0.5</td>\n",
       "    </tr>\n",
       "  </tbody>\n",
       "</table>\n",
       "<p>200 rows × 4 columns</p>\n",
       "</div>"
      ],
      "text/plain": [
       "     populations  x  y    z\n",
       "0              1  1  1  0.5\n",
       "1              1  1  1  0.5\n",
       "2              1  1  1  0.5\n",
       "3              1  1  1  0.5\n",
       "4              1  1  1  0.5\n",
       "..           ... .. ..  ...\n",
       "195            2  2  1  0.5\n",
       "196            2  2  1  0.5\n",
       "197            2  2  1  0.5\n",
       "198            2  2  1  0.5\n",
       "199            2  2  1  0.5\n",
       "\n",
       "[200 rows x 4 columns]"
      ]
     },
     "execution_count": 146,
     "metadata": {},
     "output_type": "execute_result"
    }
   ],
   "source": [
    "populations"
   ]
  },
  {
   "cell_type": "code",
   "execution_count": 147,
   "id": "2884256b-ad13-443b-b32b-0178104fd83c",
   "metadata": {},
   "outputs": [],
   "source": [
    "to_have_collumns = ['populations', 'x', 'y']\n",
    "PC_complete[to_have_collumns] = populations[to_have_collumns]"
   ]
  },
  {
   "cell_type": "code",
   "execution_count": 148,
   "id": "71b27f26-9142-4cf5-93f8-01189aa82ece",
   "metadata": {},
   "outputs": [
    {
     "data": {
      "image/png": "[encoded data removed]",
      "text/plain": [
       "<Figure size 640x480 with 1 Axes>"
      ]
     },
     "metadata": {},
     "output_type": "display_data"
    }
   ],
   "source": [
    "sns.scatterplot(x='PC1', y='PC2', data=PC_complete, color=palette, linewidth=0)\n",
    "\n",
    "# Adjust layout\n",
    "plt.tight_layout()\n",
    "plt.title(f\"Vizualizing populations with migration rate = {M}\")\n",
    "plt.show()\n",
    "plt.close()"
   ]
  },
  {
   "cell_type": "code",
   "execution_count": null,
   "id": "4835bca3-01d8-4419-aa4e-a8cafde16369",
   "metadata": {},
   "outputs": [],
   "source": []
  }
 ],
 "metadata": {
  "kernelspec": {
   "display_name": "Python 3 (ipykernel)",
   "language": "python",
   "name": "python3"
  },
  "language_info": {
   "codemirror_mode": {
    "name": "ipython",
    "version": 3
   },
   "file_extension": ".py",
   "mimetype": "text/x-python",
   "name": "python",
   "nbconvert_exporter": "python",
   "pygments_lexer": "ipython3",
   "version": "3.10.2"
  }
 },
 "nbformat": 4,
 "nbformat_minor": 5
}
