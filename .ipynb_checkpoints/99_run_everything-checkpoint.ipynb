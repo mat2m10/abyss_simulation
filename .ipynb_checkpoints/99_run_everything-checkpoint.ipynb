{
 "cells": [
  {
   "cell_type": "markdown",
   "id": "a99cc7ff-8114-4073-be19-b410afb7ba2b",
   "metadata": {},
   "source": [
    "# Import libraries"
   ]
  },
  {
   "cell_type": "code",
   "execution_count": 1,
   "id": "6177f429-a293-4dcd-a8eb-6016d2cc036a",
   "metadata": {},
   "outputs": [],
   "source": [
    "from nbconvert import PythonExporter\n",
    "import nbformat\n",
    "import sys\n",
    "import os\n",
    "import numpy as np\n",
    "import pandas as pd\n",
    "from helpers import parse_variables, get_risk_level, hi_gauss_blob_risk_fun, blob_risk_fun, NW_risk_fun, square_risk_fun, map_to_color\n",
    "import nbformat\n",
    "from nbconvert import PythonExporter\n",
    "from nbconvert.preprocessors import ExecutePreprocessor\n",
    "from IPython.core.interactiveshell import InteractiveShell\n",
    "\n",
    "original_stdout = sys.stdout\n",
    "sys.stdout = open('/dev/null', 'w') # Avoid the outputs from the terminal to be displayed"
   ]
  },
  {
   "cell_type": "markdown",
   "id": "14d16261-e5f1-4e02-ba76-0e402f54747d",
   "metadata": {},
   "source": [
    "# Start scripts"
   ]
  },
  {
   "cell_type": "code",
   "execution_count": 2,
   "id": "09795cd9-a546-42b4-84cd-7f500a0082d5",
   "metadata": {},
   "outputs": [],
   "source": [
    "\"\"\"\n",
    "function to run notebooks from a distance and to eventually pass variables\n",
    "example:\n",
    "variables = {'x': 10, 'y': 'hello'}\n",
    "run_notebook('your_notebook.ipynb', variables)                                                                                                                                                                                                                                                                                                                                                                                                                                                                                                                                                                                                                                                                                                                                                                                                                                                                                                                                                                                         \n",
    "\"\"\"\n",
    "\n",
    "def run_notebook(notebook_path, variables=None):\n",
    "    # Load the notebook\n",
    "    with open(notebook_path, 'r') as f:\n",
    "        notebook = nbformat.read(f, as_version=4)\n",
    "    \n",
    "    # Inject variables into the notebook\n",
    "    if variables:\n",
    "        for cell in notebook.cells:\n",
    "            if cell.cell_type == 'code':\n",
    "                cell.source = f\"{cell.source}\\n{';'.join([f'{var} = {repr(value)}' for var, value in variables.items()])}\"\n",
    "    \n",
    "    # Convert the notebook to a Python script\n",
    "    exporter = PythonExporter()\n",
    "    python_script, _ = exporter.from_notebook_node(notebook)\n",
    "    \n",
    "    # Execute the Python script\n",
    "    shell = InteractiveShell.instance()\n",
    "    output = shell.run_cell(python_script)\n",
    "    \n",
    "    # Check if the output has been captured\n",
    "    if output.success:\n",
    "        # Return the output\n",
    "        return output.result\n",
    "    else:\n",
    "        # If execution failed, print the error message\n",
    "        print(\"Error executing notebook cell:\", output.error_in_exec)\n",
    "        return None\n",
    "\n"
   ]
  },
  {
   "cell_type": "code",
   "execution_count": null,
   "id": "3614e2df-0b68-4776-824e-a8eca6c2a67c",
   "metadata": {},
   "outputs": [],
   "source": [
    "Ms = [0.2]\n",
    "Ks = [3]\n",
    "\n",
    "for M in Ms:\n",
    "    for k in Ks:\n",
    "        variables = {'M': M, 'k':k}\n",
    "        run_notebook(\"01 Create Synthetic Genotype.ipynb\", variables)\n",
    "        run_notebook(\"02 Simulate population structure.ipynb\", variables)\n",
    "        run_notebook(\"03 Create and Visualise PCs.ipynb\", variables)\n",
    "        run_notebook(\"04 Simulate environmental risk.ipynb\", variables)\n",
    "        run_notebook(\"05 Abyss lower dimensionnality.ipynb\", variables)\n",
    "        run_notebook(\"06 Create LD blocks.ipynb\", variables)\n",
    "        run_notebook(\"07 Create MAF estimations.ipynb\", variables)\n",
    "        run_notebook(\"08 Concat esti mafs.ipynb\", variables)\n",
    "        run_notebook(\"09 full analysis loop.ipynb\", variables)"
   ]
  },
  {
   "cell_type": "code",
   "execution_count": null,
   "id": "0933f0ec-4445-430a-8f88-f9f3974815c7",
   "metadata": {},
   "outputs": [],
   "source": []
  },
  {
   "cell_type": "code",
   "execution_count": null,
   "id": "8fd6b819-189f-4935-ae98-fdb52a2dcf2c",
   "metadata": {},
   "outputs": [],
   "source": []
  },
  {
   "cell_type": "code",
   "execution_count": null,
   "id": "25b3808d-2505-4dde-bd93-266bc56ff7e5",
   "metadata": {},
   "outputs": [],
   "source": []
  },
  {
   "cell_type": "code",
   "execution_count": null,
   "id": "93bb544e-83dc-4022-a14b-8ff79a82ab70",
   "metadata": {},
   "outputs": [],
   "source": []
  },
  {
   "cell_type": "code",
   "execution_count": null,
   "id": "0d6a5526-4718-4777-a6a0-eec90ce7107e",
   "metadata": {},
   "outputs": [],
   "source": []
  },
  {
   "cell_type": "code",
   "execution_count": null,
   "id": "0e731c9d-1ee7-4700-904c-00b3142f4c0f",
   "metadata": {},
   "outputs": [],
   "source": []
  },
  {
   "cell_type": "code",
   "execution_count": null,
   "id": "92764db0-f1e7-44f9-a976-8f3594ac03ce",
   "metadata": {},
   "outputs": [],
   "source": []
  },
  {
   "cell_type": "code",
   "execution_count": null,
   "id": "5a799521-4aa3-41a1-8ed2-91057f4e249a",
   "metadata": {},
   "outputs": [],
   "source": []
  },
  {
   "cell_type": "code",
   "execution_count": null,
   "id": "faa96966-a1f3-4456-89e7-2f5c39302e2a",
   "metadata": {},
   "outputs": [],
   "source": []
  },
  {
   "cell_type": "code",
   "execution_count": null,
   "id": "4807005e-65f8-461f-93f1-c22dffc11c17",
   "metadata": {},
   "outputs": [],
   "source": []
  },
  {
   "cell_type": "code",
   "execution_count": null,
   "id": "f623a5c6-6997-46c0-bda5-4358655ec5b6",
   "metadata": {},
   "outputs": [],
   "source": []
  },
  {
   "cell_type": "code",
   "execution_count": null,
   "id": "ed552c7f-d619-4042-816d-4a9ac30fc65c",
   "metadata": {},
   "outputs": [],
   "source": []
  },
  {
   "cell_type": "code",
   "execution_count": null,
   "id": "61ba3f02-4380-4077-a470-3062db9b83fc",
   "metadata": {},
   "outputs": [],
   "source": []
  },
  {
   "cell_type": "code",
   "execution_count": null,
   "id": "2370a7e5-6805-49b6-8a4a-26659cbd0730",
   "metadata": {},
   "outputs": [],
   "source": []
  },
  {
   "cell_type": "code",
   "execution_count": null,
   "id": "3e52d892-1692-4d67-99ce-9d7cb0aa6d4f",
   "metadata": {},
   "outputs": [],
   "source": []
  },
  {
   "cell_type": "code",
   "execution_count": null,
   "id": "223bbc9c-a328-402a-a2df-faa23aeb048a",
   "metadata": {},
   "outputs": [],
   "source": []
  },
  {
   "cell_type": "code",
   "execution_count": null,
   "id": "9a660f98-5804-4efc-8579-3d7d2c25e0ff",
   "metadata": {},
   "outputs": [],
   "source": []
  },
  {
   "cell_type": "code",
   "execution_count": null,
   "id": "11277171-5464-4f20-9ff5-13e44808ec1e",
   "metadata": {},
   "outputs": [],
   "source": []
  },
  {
   "cell_type": "code",
   "execution_count": null,
   "id": "cb23f039-d034-41e5-a090-ad0f57556087",
   "metadata": {},
   "outputs": [],
   "source": []
  }
 ],
 "metadata": {
  "kernelspec": {
   "display_name": "Python 3 (ipykernel)",
   "language": "python",
   "name": "python3"
  },
  "language_info": {
   "codemirror_mode": {
    "name": "ipython",
    "version": 3
   },
   "file_extension": ".py",
   "mimetype": "text/x-python",
   "name": "python",
   "nbconvert_exporter": "python",
   "pygments_lexer": "ipython3",
   "version": "3.10.2"
  }
 },
 "nbformat": 4,
 "nbformat_minor": 5
}
