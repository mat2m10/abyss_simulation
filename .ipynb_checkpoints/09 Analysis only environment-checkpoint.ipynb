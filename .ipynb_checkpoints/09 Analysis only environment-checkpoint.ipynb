{
 "cells": [
  {
   "cell_type": "markdown",
   "id": "88c7bce4-6976-468e-bd48-9aa23eb7071a",
   "metadata": {},
   "source": [
    "# Import libraries"
   ]
  },
  {
   "cell_type": "code",
   "execution_count": 1,
   "id": "2227d507-afd9-4bfe-9bba-a8e710b92b08",
   "metadata": {},
   "outputs": [
    {
     "name": "stderr",
     "output_type": "stream",
     "text": [
      "2024-07-01 13:48:15.910960: I external/local_tsl/tsl/cuda/cudart_stub.cc:32] Could not find cuda drivers on your machine, GPU will not be used.\n",
      "2024-07-01 13:48:15.917954: I external/local_tsl/tsl/cuda/cudart_stub.cc:32] Could not find cuda drivers on your machine, GPU will not be used.\n",
      "2024-07-01 13:48:15.938317: E external/local_xla/xla/stream_executor/cuda/cuda_fft.cc:479] Unable to register cuFFT factory: Attempting to register factory for plugin cuFFT when one has already been registered\n",
      "2024-07-01 13:48:15.982648: E external/local_xla/xla/stream_executor/cuda/cuda_dnn.cc:10575] Unable to register cuDNN factory: Attempting to register factory for plugin cuDNN when one has already been registered\n",
      "2024-07-01 13:48:15.982804: E external/local_xla/xla/stream_executor/cuda/cuda_blas.cc:1442] Unable to register cuBLAS factory: Attempting to register factory for plugin cuBLAS when one has already been registered\n",
      "2024-07-01 13:48:16.017780: I tensorflow/core/platform/cpu_feature_guard.cc:210] This TensorFlow binary is optimized to use available CPU instructions in performance-critical operations.\n",
      "To enable the following instructions: AVX2 FMA, in other operations, rebuild TensorFlow with the appropriate compiler flags.\n",
      "2024-07-01 13:48:18.411631: W tensorflow/compiler/tf2tensorrt/utils/py_utils.cc:38] TF-TRT Warning: Could not find TensorRT\n"
     ]
    }
   ],
   "source": [
    "import os\n",
    "import pandas as pd\n",
    "import numpy as np\n",
    "from sklearn.preprocessing import StandardScaler\n",
    "from sklearn.decomposition import PCA\n",
    "import seaborn as sns\n",
    "import matplotlib.pyplot as plt\n",
    "import statsmodels.api as sm\n",
    "from sklearn.linear_model import LinearRegression\n",
    "from sklearn.linear_model import LogisticRegression\n",
    "import tensorflow as tf\n",
    "\n",
    "from helpers import parse_variables, get_risk_level, map_to_color, lin_reg, simulate_quant_trait\n",
    "from models import no_corr, rare_pc, pc, gc, abyss_bottle_linreg, abyss_maf_linreg\n",
    "from deep_learning_models import abyss, deep_abyss\n",
    "\n",
    "import warnings\n",
    "from scipy.stats import t\n",
    "from scipy import stats\n",
    "\n",
    "warnings.filterwarnings(\"ignore\")"
   ]
  },
  {
   "cell_type": "code",
   "execution_count": 2,
   "id": "a2344990-e520-4dbe-91dd-858e0ea99734",
   "metadata": {},
   "outputs": [],
   "source": [
    "naming_dict = {\n",
    "    \"no_risk\": \"no environmental risk\",\n",
    "    \"NW_risk\": \"Smooth linear North-West environmental risk\",\n",
    "    \"N_risk\" : \"Smooth linear North environmental risk\",\n",
    "    \"blob_risk\": \"Localised big blob risk\",\n",
    "    \"center_risk\": \"Localised big central risk\",\n",
    "    \"big_square_risk\": \"big square risk\",\n",
    "    \"square_risk\" : \"Tiny square risk\",\n",
    "    'hi_square_risk' : \"Tiny square risk\",\n",
    "    \"hi_gauss_blob_risk\": \"Global Gaussian Risk\",\n",
    "    \"two_square_risk\": \"Two tiny risks\"\n",
    "}"
   ]
  },
  {
   "cell_type": "markdown",
   "id": "864ed947-1d5c-4118-964f-11efaf4fe54b",
   "metadata": {},
   "source": [
    "# Load genotype"
   ]
  },
  {
   "cell_type": "code",
   "execution_count": 3,
   "id": "98e6f3d0-5a9c-49d7-a4ce-e888e28c147e",
   "metadata": {},
   "outputs": [],
   "source": [
    "dict = parse_variables('geno_simulation.txt')\n",
    "G = int(dict['G'])\n",
    "L = int(dict['L'])\n",
    "c = int(dict['c'])\n",
    "k = int(dict['k'])\n",
    "M = float(dict['M'])\n",
    "\n",
    "# Thresholds\n",
    "very_rare_threshold_L = float(dict['very_rare_threshold_L'])\n",
    "very_rare_threshold_H = float(dict['very_rare_threshold_H'])\n",
    "\n",
    "rare_threshold_L = float(dict['rare_threshold_L'])\n",
    "rare_threshold_H = float(dict['rare_threshold_H'])\n",
    "\n",
    "common_threshold_L = float(dict['common_threshold_L'])\n",
    "common_threshold_H = float(dict['common_threshold_H'])\n",
    "\n",
    "number_of_snps = (G*L)/2 # one loci per chromosome\n",
    "number_of_individuals = c*k*k"
   ]
  },
  {
   "cell_type": "code",
   "execution_count": 4,
   "id": "24f564f7-ccd1-4b33-bc3c-25de0646ce60",
   "metadata": {},
   "outputs": [
    {
     "data": {
      "text/plain": [
       "'NW_risk'"
      ]
     },
     "execution_count": 4,
     "metadata": {},
     "output_type": "execute_result"
    }
   ],
   "source": [
    "risk_level = get_risk_level()\n",
    "risk_level = risk_level.split(\"\\n\")[-1]\n",
    "name_risk = risk_level.split('_fun')[0]\n",
    "name_risk"
   ]
  },
  {
   "cell_type": "code",
   "execution_count": 5,
   "id": "e318376e-ab9c-4d79-947e-cfb139f6cc7b",
   "metadata": {},
   "outputs": [],
   "source": [
    "nr_common_PCs = 5\n",
    "pc_columns = ['PC{}'.format(i) for i in range(1, nr_common_PCs+1)]\n",
    "nr_rare_PCs = 5\n",
    "rare_pc_columns = ['PC{}'.format(i) for i in range(1, nr_rare_PCs+1)]"
   ]
  },
  {
   "cell_type": "code",
   "execution_count": 6,
   "id": "b54b364d-76a9-4e4e-87c5-1b8593c763d7",
   "metadata": {},
   "outputs": [],
   "source": [
    "very_rare = pd.read_pickle(f\"data/G{G}_L{L}_c{c}_k{k}_M{M}/genotype/02_veryrare_genotype_AF_{very_rare_threshold_L}_{very_rare_threshold_H}.pkl\")\n",
    "rare = pd.read_pickle(f\"data/G{G}_L{L}_c{c}_k{k}_M{M}/genotype/02_rare_genotype_AF_{rare_threshold_L}_{rare_threshold_H}.pkl\")\n",
    "common = pd.read_pickle(f\"data/G{G}_L{L}_c{c}_k{k}_M{M}/genotype/02_common_genotype_AF_{common_threshold_L}_{common_threshold_H}.pkl\")"
   ]
  },
  {
   "cell_type": "code",
   "execution_count": 7,
   "id": "ad6b8e47-23ff-419e-a6be-a32efeb00590",
   "metadata": {},
   "outputs": [],
   "source": [
    "very_rare = very_rare.rename(columns=lambda x: 'VR' + x)/2\n",
    "rare = rare.rename(columns=lambda x: 'R' + x)/2\n",
    "common = common.rename(columns=lambda x: 'C' + x)/2\n",
    "complete = pd.concat([common, rare, very_rare], axis=1)"
   ]
  },
  {
   "cell_type": "markdown",
   "id": "dde15ba2-256e-4605-913a-d859ec2aa1da",
   "metadata": {},
   "source": [
    "# Load environmental risk"
   ]
  },
  {
   "cell_type": "code",
   "execution_count": 8,
   "id": "5e5f5306-e8ff-4a74-a38d-50bc7483cd73",
   "metadata": {},
   "outputs": [],
   "source": [
    "risk = pd.read_pickle(f\"data/G{G}_L{L}_c{c}_k{k}_M{M}/phenotype/environmental_risks/risk_{name_risk}.pkl\")"
   ]
  },
  {
   "cell_type": "markdown",
   "id": "19d54c4c-9da2-499d-b0b5-898051030418",
   "metadata": {},
   "source": [
    "# Create phenotype only ENV dependent"
   ]
  },
  {
   "cell_type": "code",
   "execution_count": 9,
   "id": "82a3a247-fa0d-43c7-9798-557a22049d02",
   "metadata": {},
   "outputs": [],
   "source": [
    "mu= np.zeros(complete.shape[0])\n",
    "beta = np.zeros(complete.shape[1])\n",
    "y = np.array(simulate_quant_trait(mu, np.array(complete), beta, np.array(risk[name_risk])))\n",
    "populations = pd.read_pickle(f\"data/G{G}_L{L}_c{c}_k{k}_M{M}/phenotype/01_population_structure.pkl\")"
   ]
  },
  {
   "cell_type": "code",
   "execution_count": 10,
   "id": "8ff7176c-6b26-4757-89f5-a74c11776ef4",
   "metadata": {},
   "outputs": [
    {
     "data": {
      "image/png": "[encoded data removed]",
      "text/plain": [
       "<Figure size 640x480 with 1 Axes>"
      ]
     },
     "metadata": {},
     "output_type": "display_data"
    }
   ],
   "source": [
    "sns.scatterplot(x=list(y), y=list(np.array(risk[name_risk])))\n",
    "plt.xlabel('True Global Minor Allele Frequencies')\n",
    "plt.ylabel('Mean of Estimated Allele Frequencies')\n",
    "plt.title('Comparison of True and Estimated Allele Frequencies of Deep learning model')\n",
    "plt.show()"
   ]
  },
  {
   "cell_type": "code",
   "execution_count": null,
   "id": "3af5ceb2-4343-4bbc-9bb7-f81cd1653f14",
   "metadata": {},
   "outputs": [],
   "source": []
  },
  {
   "cell_type": "code",
   "execution_count": null,
   "id": "c68eeda7-f898-409d-80b7-d47e696534bd",
   "metadata": {},
   "outputs": [],
   "source": []
  },
  {
   "cell_type": "code",
   "execution_count": null,
   "id": "ca112f6b-9558-4a60-a4f0-66163eb1f9e7",
   "metadata": {},
   "outputs": [],
   "source": []
  },
  {
   "cell_type": "code",
   "execution_count": null,
   "id": "973ccf93-3f97-43b4-98f7-fcc64f2d501b",
   "metadata": {},
   "outputs": [],
   "source": []
  },
  {
   "cell_type": "code",
   "execution_count": null,
   "id": "121f6152-b16b-402a-bc16-4928a631a630",
   "metadata": {},
   "outputs": [],
   "source": []
  },
  {
   "cell_type": "markdown",
   "id": "a858e67c-e27d-4eaf-b2bb-29b87c774029",
   "metadata": {},
   "source": [
    "# Analysis"
   ]
  },
  {
   "cell_type": "code",
   "execution_count": 11,
   "id": "3f2ea6c4-9953-4827-abc8-525cc38b5b12",
   "metadata": {},
   "outputs": [],
   "source": [
    "# No correction\n",
    "df_no_corr = no_corr(complete, y)"
   ]
  },
  {
   "cell_type": "code",
   "execution_count": 12,
   "id": "d565fb98-65d6-4176-a4ea-b7115f3e4c79",
   "metadata": {},
   "outputs": [],
   "source": [
    "# rare PCA\n",
    "PC_veryrare = pd.read_pickle(f\"data/G{G}_L{L}_c{c}_k{k}_M{M}/phenotype/PCs/veryrare_genotype_AF_{very_rare_threshold_L}_{very_rare_threshold_H}.pkl\")\n",
    "df_rare_PCs = rare_pc(complete, y , PC_veryrare, rare_pc_columns)"
   ]
  },
  {
   "cell_type": "code",
   "execution_count": 13,
   "id": "8368a798-86ff-48c7-afb0-7052ad4b4586",
   "metadata": {},
   "outputs": [],
   "source": [
    "# PCA\n",
    "PC_common= pd.read_pickle(f\"data/G{G}_L{L}_c{c}_k{k}_M{M}/phenotype/PCs/common_genotype_AF_{common_threshold_L}_{common_threshold_H}.pkl\")\n",
    "df_PCs = rare_pc(complete, y , PC_common, pc_columns)"
   ]
  },
  {
   "cell_type": "code",
   "execution_count": 14,
   "id": "d5709e32-82bb-4de9-8e9a-be726110047a",
   "metadata": {},
   "outputs": [],
   "source": [
    "# Genomic control\n",
    "df_GC = gc(df_no_corr)"
   ]
  },
  {
   "cell_type": "code",
   "execution_count": null,
   "id": "db22d2b3-dc76-4cb2-8a53-df03ebef4122",
   "metadata": {},
   "outputs": [],
   "source": []
  },
  {
   "cell_type": "code",
   "execution_count": null,
   "id": "af527265-0b77-4c5c-9f7b-baaea3fb35e3",
   "metadata": {},
   "outputs": [],
   "source": []
  },
  {
   "cell_type": "code",
   "execution_count": null,
   "id": "5c50157e-6909-41c0-bd76-28078694e03b",
   "metadata": {},
   "outputs": [],
   "source": []
  },
  {
   "cell_type": "code",
   "execution_count": null,
   "id": "f2f356b1-c1a1-4117-a25a-07ab8914cf00",
   "metadata": {},
   "outputs": [],
   "source": []
  },
  {
   "cell_type": "code",
   "execution_count": null,
   "id": "94f1356e-fa4a-4d98-ae93-468ea651ed28",
   "metadata": {},
   "outputs": [],
   "source": []
  },
  {
   "cell_type": "code",
   "execution_count": null,
   "id": "f5968488-8b65-4c88-9b56-7e6df33d08dd",
   "metadata": {},
   "outputs": [],
   "source": []
  },
  {
   "cell_type": "code",
   "execution_count": null,
   "id": "eee3b5ab-c6d5-47c9-b73b-55fd7c543776",
   "metadata": {},
   "outputs": [],
   "source": []
  },
  {
   "cell_type": "code",
   "execution_count": 15,
   "id": "81cc1e3e-b691-4472-b4e9-6e175cc74b14",
   "metadata": {},
   "outputs": [],
   "source": [
    "from tensorflow.keras import regularizers\n",
    "from sklearn.model_selection import train_test_split\n",
    "from tensorflow.keras.callbacks import EarlyStopping\n",
    "import tensorflow as tf\n",
    "\n",
    "from tensorflow.keras import Input, Model, layers, regularizers"
   ]
  },
  {
   "cell_type": "code",
   "execution_count": 21,
   "id": "4c2b128c-4cda-48fb-a6cd-f087664414dc",
   "metadata": {},
   "outputs": [],
   "source": [
    "def abyss(geno, bottleneck_nr, epoch, patience):\n",
    "    # Split the data into training and testing sets\n",
    "    X_train, X_test, y_train, y_test = train_test_split(geno, geno, test_size=0.2, random_state=42)\n",
    "    \n",
    "    # Regularization parameter\n",
    "    l2_regularizer = 0.001\n",
    "    \n",
    "    # Original autoencoder model with L2 regularization\n",
    "    autoencoder = tf.keras.Sequential([\n",
    "        tf.keras.layers.Dense(bottleneck_nr, activation='elu', name='bottleneck', input_shape=(geno.shape[1],), kernel_regularizer=regularizers.l2(l2_regularizer)),  # Bottleneck layer with L2 regularization\n",
    "        layers.BatchNormalization(),\n",
    "        tf.keras.layers.Activation('elu'),\n",
    "        tf.keras.layers.Dense(geno.shape[1], activation='tanh', kernel_regularizer=regularizers.l2(l2_regularizer))\n",
    "    ])\n",
    "    \n",
    "    # Compile the original model with L2 regularization\n",
    "    autoencoder.compile(optimizer='adam',\n",
    "                        loss='mean_squared_error',\n",
    "                        metrics=['mean_absolute_error'])\n",
    "    \n",
    "    # Define Early Stopping\n",
    "    early_stopping = EarlyStopping(monitor='val_loss', patience=patience, restore_best_weights=True)\n",
    "    \n",
    "    # Fit the original model with Early Stopping\n",
    "    history = autoencoder.fit(X_train, y_train, epochs=epoch, batch_size=32, validation_split=0.2, callbacks=[early_stopping], verbose=0)\n",
    "\n",
    "    # Extract the bottleneck layer after fitting the model\n",
    "    bottleneck_model = tf.keras.Model(inputs=autoencoder.inputs, outputs=autoencoder.get_layer('bottleneck').output)\n",
    "    \n",
    "    return autoencoder, bottleneck_model, history"
   ]
  },
  {
   "cell_type": "code",
   "execution_count": 27,
   "id": "9479483c-b3ba-4ebe-a949-6a3452aa3203",
   "metadata": {},
   "outputs": [
    {
     "data": {
      "text/plain": [
       "[<KerasTensor shape=(None, 863), dtype=float32, sparse=None, name=keras_tensor_15>]"
      ]
     },
     "execution_count": 27,
     "metadata": {},
     "output_type": "execute_result"
    }
   ],
   "source": [
    "autoencoder.inputs"
   ]
  },
  {
   "cell_type": "code",
   "execution_count": 23,
   "id": "e46292d5-817f-4f2d-a805-df1bd113416f",
   "metadata": {},
   "outputs": [
    {
     "data": {
      "text/plain": [
       "<Sequential name=sequential_3, built=True>"
      ]
     },
     "execution_count": 23,
     "metadata": {},
     "output_type": "execute_result"
    }
   ],
   "source": [
    "autoencoder"
   ]
  },
  {
   "cell_type": "code",
   "execution_count": 28,
   "id": "6773c209-5f7c-49f4-adde-2f963c94d90d",
   "metadata": {},
   "outputs": [],
   "source": [
    "# minimalist abyss\n",
    "bottleneck_nr = 2\n",
    "epoch = 5\n",
    "patience = 2\n",
    "dim_columns = ['dim{}'.format(i) for i in range(1, bottleneck_nr+1)]\n",
    "autoencoder, history = abyss(complete*2 - 1, bottleneck_nr, epoch, patience)\n",
    "# Extract the bottleneck layer after fitting the model\n",
    "bottleneck_model = tf.keras.Model(inputs=autoencoder.inputs, outputs=autoencoder.get_layer('bottleneck').output)\n",
    "\n",
    "abyss_bottle = bottleneck_model(tf.convert_to_tensor(complete*2 - 1, dtype=tf.float32))\n",
    "abyss_MAF = autoencoder(tf.convert_to_tensor(complete*2 - 1, dtype=tf.float32))\n",
    "probmaf = (pd.DataFrame(data=abyss_MAF, columns = complete.columns)+1)/2\n",
    "\n",
    "df_abyss_bottle = abyss_bottle_linreg(complete, y, abyss_bottle)\n",
    "df_abyss_maf = abyss_maf_linreg(complete, y, probmaf)"
   ]
  },
  {
   "cell_type": "code",
   "execution_count": 30,
   "id": "c5e30492-2686-4f01-8cd2-701faad1a206",
   "metadata": {},
   "outputs": [
    {
     "data": {
      "text/plain": [
       "<tf.Tensor: shape=(20000, 2), dtype=float32, numpy=\n",
       "array([[0.19684556, 0.29879403],\n",
       "       [0.17846128, 0.3148662 ],\n",
       "       [0.18749806, 0.29766762],\n",
       "       ...,\n",
       "       [3.0874534 , 3.5638144 ],\n",
       "       [3.053445  , 3.5534184 ],\n",
       "       [3.0704489 , 3.6035533 ]], dtype=float32)>"
      ]
     },
     "execution_count": 30,
     "metadata": {},
     "output_type": "execute_result"
    }
   ],
   "source": [
    "abyss_bottle"
   ]
  },
  {
   "cell_type": "code",
   "execution_count": null,
   "id": "f97f10ab-e7b6-46aa-9d9e-bf9043619b11",
   "metadata": {},
   "outputs": [],
   "source": [
    "    "
   ]
  },
  {
   "cell_type": "code",
   "execution_count": 11,
   "id": "d4890506-55ae-4cc7-9a3f-31615015f806",
   "metadata": {},
   "outputs": [
    {
     "ename": "NameError",
     "evalue": "name 'Dense' is not defined",
     "output_type": "error",
     "traceback": [
      "\u001b[0;31m---------------------------------------------------------------------------\u001b[0m",
      "\u001b[0;31mNameError\u001b[0m                                 Traceback (most recent call last)",
      "Cell \u001b[0;32mIn[11], line 7\u001b[0m\n\u001b[1;32m      4\u001b[0m patience \u001b[38;5;241m=\u001b[39m \u001b[38;5;241m2\u001b[39m\n\u001b[1;32m      5\u001b[0m dim_columns \u001b[38;5;241m=\u001b[39m [\u001b[38;5;124m'\u001b[39m\u001b[38;5;124mdim\u001b[39m\u001b[38;5;132;01m{}\u001b[39;00m\u001b[38;5;124m'\u001b[39m\u001b[38;5;241m.\u001b[39mformat(i) \u001b[38;5;28;01mfor\u001b[39;00m i \u001b[38;5;129;01min\u001b[39;00m \u001b[38;5;28mrange\u001b[39m(\u001b[38;5;241m1\u001b[39m, bottleneck_nr\u001b[38;5;241m+\u001b[39m\u001b[38;5;241m1\u001b[39m)]\n\u001b[0;32m----> 7\u001b[0m deep_autoencoder, deep_bottleneck_model, deep_history \u001b[38;5;241m=\u001b[39m \u001b[43mdeep_abyss\u001b[49m\u001b[43m(\u001b[49m\u001b[43mcomplete\u001b[49m\u001b[38;5;241;43m*\u001b[39;49m\u001b[38;5;241;43m2\u001b[39;49m\u001b[43m \u001b[49m\u001b[38;5;241;43m-\u001b[39;49m\u001b[43m \u001b[49m\u001b[38;5;241;43m1\u001b[39;49m\u001b[43m,\u001b[49m\u001b[43m \u001b[49m\u001b[43mbottleneck_nr\u001b[49m\u001b[43m,\u001b[49m\u001b[43m \u001b[49m\u001b[43mepoch\u001b[49m\u001b[43m,\u001b[49m\u001b[43m \u001b[49m\u001b[43mpatience\u001b[49m\u001b[43m,\u001b[49m\u001b[43m \u001b[49m\u001b[43mrisk\u001b[49m\u001b[43m[\u001b[49m\u001b[43m[\u001b[49m\u001b[43mname_risk\u001b[49m\u001b[43m]\u001b[49m\u001b[43m]\u001b[49m\u001b[43m)\u001b[49m\n\u001b[1;32m      8\u001b[0m [deep_abyss_MAF, deep_abyss_pred] \u001b[38;5;241m=\u001b[39m deep_autoencoder(tf\u001b[38;5;241m.\u001b[39mconvert_to_tensor(complete\u001b[38;5;241m*\u001b[39m\u001b[38;5;241m2\u001b[39m \u001b[38;5;241m-\u001b[39m \u001b[38;5;241m1\u001b[39m, dtype\u001b[38;5;241m=\u001b[39mtf\u001b[38;5;241m.\u001b[39mfloat32))\n\u001b[1;32m      9\u001b[0m deep_abyss_bottle \u001b[38;5;241m=\u001b[39m deep_bottleneck_model(tf\u001b[38;5;241m.\u001b[39mconvert_to_tensor(complete\u001b[38;5;241m*\u001b[39m\u001b[38;5;241m2\u001b[39m \u001b[38;5;241m-\u001b[39m \u001b[38;5;241m1\u001b[39m, dtype\u001b[38;5;241m=\u001b[39mtf\u001b[38;5;241m.\u001b[39mfloat32))\n",
      "File \u001b[0;32m~/code/abyss_simulation/deep_learning_models.py:57\u001b[0m, in \u001b[0;36mdeep_abyss\u001b[0;34m(geno, bottle, epoch, patience, pheno)\u001b[0m\n\u001b[1;32m     54\u001b[0m input_layer_pheno \u001b[38;5;241m=\u001b[39m Input(shape\u001b[38;5;241m=\u001b[39minput_shape_pheno, name\u001b[38;5;241m=\u001b[39m\u001b[38;5;124m'\u001b[39m\u001b[38;5;124minput_pheno\u001b[39m\u001b[38;5;124m'\u001b[39m)\n\u001b[1;32m     56\u001b[0m \u001b[38;5;66;03m# Create layers\u001b[39;00m\n\u001b[0;32m---> 57\u001b[0m encoder_init_1 \u001b[38;5;241m=\u001b[39m \u001b[43mDense\u001b[49m(bottle, \n\u001b[1;32m     58\u001b[0m                        activation\u001b[38;5;241m=\u001b[39m\u001b[38;5;124m\"\u001b[39m\u001b[38;5;124melu\u001b[39m\u001b[38;5;124m\"\u001b[39m, \n\u001b[1;32m     59\u001b[0m                        name\u001b[38;5;241m=\u001b[39m\u001b[38;5;124m\"\u001b[39m\u001b[38;5;124mencoder_init_1\u001b[39m\u001b[38;5;124m\"\u001b[39m,\n\u001b[1;32m     60\u001b[0m                        kernel_regularizer\u001b[38;5;241m=\u001b[39mregularizers\u001b[38;5;241m.\u001b[39ml2(l2_lambda))\n\u001b[1;32m     62\u001b[0m decoder_init_2 \u001b[38;5;241m=\u001b[39m Dense(input_shape_geno[\u001b[38;5;241m0\u001b[39m], \n\u001b[1;32m     63\u001b[0m                        activation\u001b[38;5;241m=\u001b[39m\u001b[38;5;124m\"\u001b[39m\u001b[38;5;124mtanh\u001b[39m\u001b[38;5;124m\"\u001b[39m, \n\u001b[1;32m     64\u001b[0m                        name\u001b[38;5;241m=\u001b[39m\u001b[38;5;124m\"\u001b[39m\u001b[38;5;124mdecoder_init_2\u001b[39m\u001b[38;5;124m\"\u001b[39m,\n\u001b[1;32m     65\u001b[0m                        kernel_regularizer\u001b[38;5;241m=\u001b[39mregularizers\u001b[38;5;241m.\u001b[39ml2(l2_lambda))\n\u001b[1;32m     67\u001b[0m predictor \u001b[38;5;241m=\u001b[39m Dense(input_shape_pheno[\u001b[38;5;241m0\u001b[39m], \n\u001b[1;32m     68\u001b[0m                        activation\u001b[38;5;241m=\u001b[39m\u001b[38;5;124m\"\u001b[39m\u001b[38;5;124mlinear\u001b[39m\u001b[38;5;124m\"\u001b[39m, \n\u001b[1;32m     69\u001b[0m                        name\u001b[38;5;241m=\u001b[39m\u001b[38;5;124m\"\u001b[39m\u001b[38;5;124mpredictor\u001b[39m\u001b[38;5;124m\"\u001b[39m,\n\u001b[1;32m     70\u001b[0m                        kernel_regularizer\u001b[38;5;241m=\u001b[39mregularizers\u001b[38;5;241m.\u001b[39ml2(l2_lambda))\n",
      "\u001b[0;31mNameError\u001b[0m: name 'Dense' is not defined"
     ]
    }
   ],
   "source": [
    "# deep abyss\n",
    "bottleneck_nr = 2\n",
    "epoch = 100\n",
    "patience = 2\n",
    "dim_columns = ['dim{}'.format(i) for i in range(1, bottleneck_nr+1)]\n",
    "\n",
    "deep_autoencoder, deep_bottleneck_model, deep_history = deep_abyss(complete*2 - 1, bottleneck_nr, epoch, patience, risk[[name_risk]])\n",
    "[deep_abyss_MAF, deep_abyss_pred] = deep_autoencoder(tf.convert_to_tensor(complete*2 - 1, dtype=tf.float32))\n",
    "deep_abyss_bottle = deep_bottleneck_model(tf.convert_to_tensor(complete*2 - 1, dtype=tf.float32))"
   ]
  },
  {
   "cell_type": "code",
   "execution_count": null,
   "id": "e91d4697-3a57-43a0-9240-59f45bea814d",
   "metadata": {},
   "outputs": [],
   "source": [
    "bottle_df = pd.DataFrame(deep_abyss_bottle, columns=dim_columns)\n",
    "populations['population_number'] = populations['populations'].str.extract('(\\d+)').astype(int)\n",
    "populations['population'] = populations['population_number']/(k*k)\n",
    "to_have_collumns = ['populations','population_number', 'x', 'y','z','population']\n",
    "bottle_df[to_have_collumns] = populations[to_have_collumns]"
   ]
  },
  {
   "cell_type": "code",
   "execution_count": null,
   "id": "9442d68e-db3c-4b45-82e6-437b8a853272",
   "metadata": {},
   "outputs": [],
   "source": [
    "from scipy.stats import entropy\n",
    "# Function to calculate entropy of a column\n",
    "def calculate_entropy(column):\n",
    "    counts = column.value_counts()\n",
    "    return entropy(counts)\n",
    "\n",
    "temp = bottle_df.round(2)\n",
    "# Calculate entropy for each column\n",
    "entropy_values = temp.apply(calculate_entropy)\n",
    "\n",
    "# Rank the columns based on entropy\n",
    "ranked_columns_entropy = entropy_values.sort_values(ascending=False)\n",
    "most_explaining_dims = list(ranked_columns_entropy.keys())\n",
    "most_explaining_dims = [f for f in most_explaining_dims if f.startswith('dim')]"
   ]
  },
  {
   "cell_type": "code",
   "execution_count": null,
   "id": "a621e96f-6836-4e25-8654-5ccee4f9d320",
   "metadata": {},
   "outputs": [],
   "source": [
    "# Create a figure\n",
    "plt.figure(figsize=(8, 6))\n",
    "\n",
    "# Count the unique values in the 'populations' column\n",
    "unique_populations = bottle_df['populations'].nunique()\n",
    "\n",
    "# Plotting the principal components with colors\n",
    "colors = [map_to_color(x, y, z, bottle_df) for x, y, z in zip(bottle_df['x'], bottle_df['y'], bottle_df['z'])]\n",
    "plt.scatter(x=bottle_df[most_explaining_dims[0]], y=bottle_df[most_explaining_dims[1]], c=colors, s=40)\n",
    "\n",
    "plt.title('Complete Dataset')  # Set the title for the plot\n",
    "plt.xlabel(f\"{most_explaining_dims[0]}\")\n",
    "plt.ylabel(f\"{most_explaining_dims[1]}\")\n",
    "\n",
    "# Only show the legend if there are 16 or fewer unique populations\n",
    "if unique_populations <= 16:\n",
    "    plt.legend(title='Population', bbox_to_anchor=(1.05, 1), loc='upper left')\n",
    "else:\n",
    "    plt.legend([], [], frameon=False)  # This hides the legend\n",
    "\n",
    "# Show the plot\n",
    "plt.show()"
   ]
  },
  {
   "cell_type": "code",
   "execution_count": null,
   "id": "d5afafb9-85b6-4a89-a07b-1d543e6f9d7c",
   "metadata": {},
   "outputs": [],
   "source": [
    "# Create a figure\n",
    "plt.figure(figsize=(8, 6))\n",
    "\n",
    "# Count the unique values in the 'populations' column\n",
    "unique_populations = bottle_df['populations'].nunique()\n",
    "\n",
    "# Plotting the principal components with colors\n",
    "colors = [map_to_color(x, y, z, bottle_df) for x, y, z in zip(bottle_df['x'], bottle_df['y'], bottle_df['z'])]\n",
    "plt.scatter(x=bottle_df[most_explaining_dims[-1]], y=bottle_df[most_explaining_dims[-2]], c=colors, s=40)\n",
    "\n",
    "plt.title('Least explaining dimensions')  # Set the title for the plot\n",
    "plt.xlabel(f\"{most_explaining_dims[-1]}\")\n",
    "plt.ylabel(f\"{most_explaining_dims[-2]}\")\n",
    "\n",
    "# Only show the legend if there are 16 or fewer unique populations\n",
    "if unique_populations <= 16:\n",
    "    plt.legend(title='Population', bbox_to_anchor=(1.05, 1), loc='upper left')\n",
    "else:\n",
    "    plt.legend([], [], frameon=False)  # This hides the legend\n",
    "\n",
    "# Show the plot\n",
    "plt.show()"
   ]
  },
  {
   "cell_type": "code",
   "execution_count": null,
   "id": "a6bbfcaf-435f-4ae7-85d3-9e78eadaf8fc",
   "metadata": {},
   "outputs": [],
   "source": [
    "deep_abyss_pred"
   ]
  },
  {
   "cell_type": "code",
   "execution_count": null,
   "id": "1fc2b313-fe00-49a2-a3c5-04d38e586d34",
   "metadata": {},
   "outputs": [],
   "source": [
    "sns.scatterplot(x=list(risk[name_risk]), y=list(np.array(deep_abyss_pred).flatten().tolist()))\n",
    "plt.xlabel('True Global Minor Allele Frequencies')\n",
    "plt.ylabel('Mean of Estimated Allele Frequencies')\n",
    "plt.title('Comparison of True and Estimated Allele Frequencies of Deep learning model')\n",
    "plt.show()"
   ]
  },
  {
   "cell_type": "code",
   "execution_count": null,
   "id": "29e0718a-086e-4e52-ac0f-a52180b29c4c",
   "metadata": {},
   "outputs": [],
   "source": [
    "y"
   ]
  },
  {
   "cell_type": "code",
   "execution_count": null,
   "id": "9989b397-6ff0-4bc0-90ee-3e8c488ad5d1",
   "metadata": {},
   "outputs": [],
   "source": [
    "sns.scatterplot(x=list(y), y=list(np.array(deep_abyss_pred).flatten().tolist()))\n",
    "plt.xlabel('True Global Minor Allele Frequencies')\n",
    "plt.ylabel('Mean of Estimated Allele Frequencies')\n",
    "plt.title('Comparison of True and Estimated Allele Frequencies of Deep learning model')\n",
    "plt.show()"
   ]
  },
  {
   "cell_type": "code",
   "execution_count": null,
   "id": "323076be-add2-4294-8ab5-b687e6b6f917",
   "metadata": {},
   "outputs": [],
   "source": [
    "sns.scatterplot(x=list(risk[name_risk]), y=list(y))\n",
    "plt.xlabel('True Global Minor Allele Frequencies')\n",
    "plt.ylabel('Mean of Estimated Allele Frequencies')\n",
    "plt.title('Comparison of True and Estimated Allele Frequencies of Deep learning model')\n",
    "plt.show()"
   ]
  },
  {
   "cell_type": "code",
   "execution_count": null,
   "id": "a6230490-4ddc-48e7-8219-24aa8560abd2",
   "metadata": {},
   "outputs": [],
   "source": [
    "y = np.array(simulate_quant_trait(mu, np.array(complete), beta, np.array(risk[name_risk])))\n"
   ]
  },
  {
   "cell_type": "code",
   "execution_count": null,
   "id": "bb41f919-b0fa-410f-af3d-2dbf5887293e",
   "metadata": {},
   "outputs": [],
   "source": [
    "risk[name_risk]"
   ]
  },
  {
   "cell_type": "code",
   "execution_count": null,
   "id": "7f51af3f-ac79-4266-9ac9-ee2edbdc3b12",
   "metadata": {},
   "outputs": [],
   "source": [
    "sns.scatterplot(x=list(risk[name_risk]), y=list(risk[name_risk]))\n",
    "plt.xlabel('True Global Minor Allele Frequencies')\n",
    "plt.ylabel('Mean of Estimated Allele Frequencies')\n",
    "plt.title('Comparison of True and Estimated Allele Frequencies of Deep learning model')\n",
    "plt.show()"
   ]
  },
  {
   "cell_type": "code",
   "execution_count": null,
   "id": "98e2af11-2969-409f-af3c-6de5f0519d76",
   "metadata": {},
   "outputs": [],
   "source": [
    "# Example original data (for demonstration)\n",
    "data = pd.Series([0.1, 0.2, 0.3, 0.4, 0.5] * 4000, name=\"NW_risk\")\n",
    "\n",
    "# Parameters\n",
    "std_deviation = 0.05  # Define a standard deviation for the randomness\n",
    "\n",
    "# Generate continuous phenotype\n",
    "continuous_phenotype = np.random.normal(loc=data.values, scale=std_deviation)\n",
    "\n",
    "# Convert to pandas Series for consistency\n",
    "continuous_phenotype_series = pd.Series(continuous_phenotype, name=\"Continuous_Phenotype\")\n",
    "\n",
    "# Display the first few values\n",
    "print(continuous_phenotype_series.head())"
   ]
  },
  {
   "cell_type": "code",
   "execution_count": null,
   "id": "b2ed6cdf-c6e5-42d3-bb0a-ad36d1a732a6",
   "metadata": {},
   "outputs": [],
   "source": []
  },
  {
   "cell_type": "code",
   "execution_count": null,
   "id": "5bd377f7-59a7-4f4b-b894-aa740bac0517",
   "metadata": {},
   "outputs": [],
   "source": []
  }
 ],
 "metadata": {
  "kernelspec": {
   "display_name": "Python 3 (ipykernel)",
   "language": "python",
   "name": "python3"
  },
  "language_info": {
   "codemirror_mode": {
    "name": "ipython",
    "version": 3
   },
   "file_extension": ".py",
   "mimetype": "text/x-python",
   "name": "python",
   "nbconvert_exporter": "python",
   "pygments_lexer": "ipython3",
   "version": "3.10.2"
  }
 },
 "nbformat": 4,
 "nbformat_minor": 5
}
