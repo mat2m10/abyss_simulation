{
 "cells": [
  {
   "cell_type": "code",
   "execution_count": 1,
   "id": "a7686b3c-ce84-4e1d-9991-07380db7ffe6",
   "metadata": {},
   "outputs": [],
   "source": [
    "import os\n",
    "import pandas as pd\n",
    "import numpy as np\n",
    "\n",
    "import seaborn as sns\n",
    "import matplotlib.pyplot as plt\n",
    "from helpers import parse_variables, get_risk_level\n",
    "import subprocess\n",
    "from scipy import stats"
   ]
  },
  {
   "cell_type": "code",
   "execution_count": 2,
   "id": "439d2adc-ec07-427e-90ea-2c3a58e5becf",
   "metadata": {},
   "outputs": [],
   "source": [
    "naming_dict = {\n",
    "    \"no_risk\": \"no environmental risk\",\n",
    "    \"NW_risk\": \"Smooth linear North-West environmental risk\",\n",
    "    \"N_risk\" : \"Smooth linear North environmental risk\",\n",
    "    \"blob_risk\": \"Localised big blob risk\",\n",
    "    \"center_risk\": \"Localised big central risk\",\n",
    "    \"big_square_risk\": \"big square risk\",\n",
    "    \"square_risk\" : \"Tiny square risk\",\n",
    "    'hi_square_risk' : \"Tiny square risk\",\n",
    "    \"hi_gauss_blob_risk\": \"Global Gaussian Risk\"\n",
    "}"
   ]
  },
  {
   "cell_type": "code",
   "execution_count": 3,
   "id": "f907da85-f4f4-4ed7-bd70-bb01be4216d0",
   "metadata": {},
   "outputs": [],
   "source": [
    "dict = parse_variables('geno_simulation.txt')\n",
    "G = int(dict['G'])\n",
    "L = int(dict['L'])\n",
    "c = int(dict['c'])\n",
    "k = int(dict['k'])\n",
    "M = float(dict['M'])\n",
    "\n",
    "# Thresholds\n",
    "very_rare_threshold_L = float(dict['very_rare_threshold_L'])\n",
    "very_rare_threshold_H = float(dict['very_rare_threshold_H'])\n",
    "\n",
    "rare_threshold_L = float(dict['rare_threshold_L'])\n",
    "rare_threshold_H = float(dict['rare_threshold_H'])\n",
    "\n",
    "common_threshold_L = float(dict['common_threshold_L'])\n",
    "common_threshold_H = float(dict['common_threshold_H'])"
   ]
  },
  {
   "cell_type": "code",
   "execution_count": 4,
   "id": "d5462596-6d9f-4566-b4d1-6f06b5df5ff9",
   "metadata": {},
   "outputs": [
    {
     "data": {
      "text/plain": [
       "'hi_gauss_blob_risk'"
      ]
     },
     "execution_count": 4,
     "metadata": {},
     "output_type": "execute_result"
    }
   ],
   "source": [
    "risk_level = get_risk_level()\n",
    "risk_level = risk_level.split(\"\\n\")[-1]\n",
    "name_risk = risk_level.split('_fun')[0]\n",
    "name_risk"
   ]
  },
  {
   "cell_type": "code",
   "execution_count": 5,
   "id": "6b62b10d-8883-4a55-b412-44bbe3d9bb2a",
   "metadata": {},
   "outputs": [],
   "source": [
    "end_name_file = f\"_pvals_nocorr_PC_rarePC_pheno_{name_risk}_G{G}_L{L}_c{c}_k{k}_M{M}.pkl\""
   ]
  },
  {
   "cell_type": "code",
   "execution_count": 6,
   "id": "3a088f96-6a0e-4633-a622-2f64b6e9db9f",
   "metadata": {},
   "outputs": [],
   "source": [
    "iterations = 5"
   ]
  },
  {
   "cell_type": "code",
   "execution_count": 7,
   "id": "124510f8-0114-4f41-8d2f-ce6297c5aadc",
   "metadata": {},
   "outputs": [],
   "source": [
    "nr_common_PCs = 2\n",
    "nr_rare_PCs = 3"
   ]
  },
  {
   "cell_type": "markdown",
   "id": "ace47224-510e-4290-bc76-d6fe897fb765",
   "metadata": {},
   "source": [
    "# Expected P_values"
   ]
  },
  {
   "cell_type": "code",
   "execution_count": 8,
   "id": "5c396bc7-7206-44a3-8dc4-c2b87d936877",
   "metadata": {},
   "outputs": [],
   "source": [
    "# Define the command to execute\n",
    "#command = f\"cd scripts && python '01_iterate_no_covs_no_risk.py' {iterations}\""
   ]
  },
  {
   "cell_type": "code",
   "execution_count": 9,
   "id": "1821913b-50db-4001-8745-0eefd7dcea0a",
   "metadata": {},
   "outputs": [],
   "source": [
    "# Execute the command\n",
    "#process = subprocess.Popen(command, shell=True)\n",
    "\n",
    "# Wait for the process to finish\n",
    "#process.wait()\n",
    "\n",
    "# Once the process is finished, you can continue with the rest of your code\n",
    "#print(\"The Python script has finished executing.\")"
   ]
  },
  {
   "cell_type": "code",
   "execution_count": 10,
   "id": "2a27be81-f6f7-4031-9312-105621273ad1",
   "metadata": {},
   "outputs": [],
   "source": [
    "#expected_p_values = pd.read_pickle(f\"data/iterative_pvalues/pvals_expected_pheno_no_risk_G{G}_L{L}_c{c}_k{k}_M{M}.pkl\")\n",
    "#expected_p_values"
   ]
  },
  {
   "cell_type": "markdown",
   "id": "82894d13-fbdb-4be3-843e-3b811c3cdbff",
   "metadata": {},
   "source": [
    "# No correction"
   ]
  },
  {
   "cell_type": "code",
   "execution_count": 11,
   "id": "f1c35420-c032-40e4-a238-0000a283703a",
   "metadata": {},
   "outputs": [],
   "source": [
    "# Define the command to execute\n",
    "command = f\"cd scripts && python '02_iterate_no_correction.py' {iterations}\""
   ]
  },
  {
   "cell_type": "code",
   "execution_count": 12,
   "id": "37fdb7dc-e6da-461d-af60-4da3def2a0a8",
   "metadata": {},
   "outputs": [
    {
     "name": "stdout",
     "output_type": "stream",
     "text": [
      "Singular matrix\n",
      "The Python script has finished executing.\n"
     ]
    }
   ],
   "source": [
    "# Execute the command\n",
    "process = subprocess.Popen(command, shell=True)\n",
    "\n",
    "# Wait for the process to finish\n",
    "process.wait()\n",
    "\n",
    "# Once the process is finished, you can continue with the rest of your code\n",
    "print(\"The Python script has finished executing.\")"
   ]
  },
  {
   "cell_type": "code",
   "execution_count": 13,
   "id": "d87ad9ec-097d-411f-b827-1c1caa777eb9",
   "metadata": {},
   "outputs": [
    {
     "data": {
      "text/html": [
       "<div>\n",
       "<style scoped>\n",
       "    .dataframe tbody tr th:only-of-type {\n",
       "        vertical-align: middle;\n",
       "    }\n",
       "\n",
       "    .dataframe tbody tr th {\n",
       "        vertical-align: top;\n",
       "    }\n",
       "\n",
       "    .dataframe thead th {\n",
       "        text-align: right;\n",
       "    }\n",
       "</style>\n",
       "<table border=\"1\" class=\"dataframe\">\n",
       "  <thead>\n",
       "    <tr style=\"text-align: right;\">\n",
       "      <th></th>\n",
       "      <th>snps</th>\n",
       "      <th>-logP_no_corr</th>\n",
       "      <th>P_val</th>\n",
       "    </tr>\n",
       "  </thead>\n",
       "  <tbody>\n",
       "    <tr>\n",
       "      <th>0</th>\n",
       "      <td>G1</td>\n",
       "      <td>0.000544</td>\n",
       "      <td>4.769297e-02</td>\n",
       "    </tr>\n",
       "    <tr>\n",
       "      <th>1</th>\n",
       "      <td>G2</td>\n",
       "      <td>0.002068</td>\n",
       "      <td>1.056511e-12</td>\n",
       "    </tr>\n",
       "    <tr>\n",
       "      <th>2</th>\n",
       "      <td>G3</td>\n",
       "      <td>0.003134</td>\n",
       "      <td>2.406087e-01</td>\n",
       "    </tr>\n",
       "    <tr>\n",
       "      <th>3</th>\n",
       "      <td>G4</td>\n",
       "      <td>0.006605</td>\n",
       "      <td>2.288548e-04</td>\n",
       "    </tr>\n",
       "    <tr>\n",
       "      <th>4</th>\n",
       "      <td>G5</td>\n",
       "      <td>0.009104</td>\n",
       "      <td>1.946101e-02</td>\n",
       "    </tr>\n",
       "    <tr>\n",
       "      <th>...</th>\n",
       "      <td>...</td>\n",
       "      <td>...</td>\n",
       "      <td>...</td>\n",
       "    </tr>\n",
       "    <tr>\n",
       "      <th>971</th>\n",
       "      <td>G996</td>\n",
       "      <td>29.335425</td>\n",
       "      <td>2.476976e-03</td>\n",
       "    </tr>\n",
       "    <tr>\n",
       "      <th>972</th>\n",
       "      <td>G997</td>\n",
       "      <td>29.571263</td>\n",
       "      <td>1.463527e-05</td>\n",
       "    </tr>\n",
       "    <tr>\n",
       "      <th>973</th>\n",
       "      <td>G998</td>\n",
       "      <td>29.987786</td>\n",
       "      <td>9.297625e-08</td>\n",
       "    </tr>\n",
       "    <tr>\n",
       "      <th>974</th>\n",
       "      <td>G999</td>\n",
       "      <td>32.802037</td>\n",
       "      <td>6.002253e-13</td>\n",
       "    </tr>\n",
       "    <tr>\n",
       "      <th>975</th>\n",
       "      <td>G1000</td>\n",
       "      <td>35.408240</td>\n",
       "      <td>1.300610e-11</td>\n",
       "    </tr>\n",
       "  </tbody>\n",
       "</table>\n",
       "<p>976 rows × 3 columns</p>\n",
       "</div>"
      ],
      "text/plain": [
       "      snps  -logP_no_corr         P_val\n",
       "0       G1       0.000544  4.769297e-02\n",
       "1       G2       0.002068  1.056511e-12\n",
       "2       G3       0.003134  2.406087e-01\n",
       "3       G4       0.006605  2.288548e-04\n",
       "4       G5       0.009104  1.946101e-02\n",
       "..     ...            ...           ...\n",
       "971   G996      29.335425  2.476976e-03\n",
       "972   G997      29.571263  1.463527e-05\n",
       "973   G998      29.987786  9.297625e-08\n",
       "974   G999      32.802037  6.002253e-13\n",
       "975  G1000      35.408240  1.300610e-11\n",
       "\n",
       "[976 rows x 3 columns]"
      ]
     },
     "execution_count": 13,
     "metadata": {},
     "output_type": "execute_result"
    }
   ],
   "source": [
    "nocorr_p_values = pd.read_pickle(f\"data/iterative_pvalues/pvals_nocorr_pheno_{name_risk}_G{G}_L{L}_c{c}_k{k}_M{M}.pkl\")\n",
    "nocorr_p_values"
   ]
  },
  {
   "cell_type": "code",
   "execution_count": null,
   "id": "b1831719-e9e7-4edf-a593-b5ce84f9073b",
   "metadata": {},
   "outputs": [],
   "source": []
  },
  {
   "cell_type": "markdown",
   "id": "9c3c131a-8ff3-4f02-acca-f637d7ae1912",
   "metadata": {},
   "source": [
    "# Genomic control"
   ]
  },
  {
   "cell_type": "code",
   "execution_count": 14,
   "id": "53bf3d3c-3140-4494-845a-f732c7486906",
   "metadata": {},
   "outputs": [
    {
     "name": "stderr",
     "output_type": "stream",
     "text": [
      "/tmp/ipykernel_114846/3150923309.py:8: SettingWithCopyWarning: \n",
      "A value is trying to be set on a copy of a slice from a DataFrame.\n",
      "Try using .loc[row_indexer,col_indexer] = value instead\n",
      "\n",
      "See the caveats in the documentation: https://pandas.pydata.org/pandas-docs/stable/user_guide/indexing.html#returning-a-view-versus-a-copy\n",
      "  genomic_control_p_values['P_val_GC'] = list(corrected_p_values)\n",
      "/home/mat2m10/miniconda3/lib/python3.11/site-packages/pandas/core/arraylike.py:396: RuntimeWarning: divide by zero encountered in log10\n",
      "  result = getattr(ufunc, method)(*inputs, **kwargs)\n"
     ]
    },
    {
     "data": {
      "text/html": [
       "<div>\n",
       "<style scoped>\n",
       "    .dataframe tbody tr th:only-of-type {\n",
       "        vertical-align: middle;\n",
       "    }\n",
       "\n",
       "    .dataframe tbody tr th {\n",
       "        vertical-align: top;\n",
       "    }\n",
       "\n",
       "    .dataframe thead th {\n",
       "        text-align: right;\n",
       "    }\n",
       "</style>\n",
       "<table border=\"1\" class=\"dataframe\">\n",
       "  <thead>\n",
       "    <tr style=\"text-align: right;\">\n",
       "      <th></th>\n",
       "      <th>snps</th>\n",
       "      <th>P_val_GC</th>\n",
       "      <th>-logP_GC</th>\n",
       "    </tr>\n",
       "  </thead>\n",
       "  <tbody>\n",
       "    <tr>\n",
       "      <th>0</th>\n",
       "      <td>G1</td>\n",
       "      <td>0.261352</td>\n",
       "      <td>0.046482</td>\n",
       "    </tr>\n",
       "    <tr>\n",
       "      <th>1</th>\n",
       "      <td>G2</td>\n",
       "      <td>0.000053</td>\n",
       "      <td>0.072956</td>\n",
       "    </tr>\n",
       "    <tr>\n",
       "      <th>2</th>\n",
       "      <td>G3</td>\n",
       "      <td>0.505638</td>\n",
       "      <td>0.080201</td>\n",
       "    </tr>\n",
       "    <tr>\n",
       "      <th>3</th>\n",
       "      <td>G4</td>\n",
       "      <td>0.036599</td>\n",
       "      <td>0.084678</td>\n",
       "    </tr>\n",
       "    <tr>\n",
       "      <th>4</th>\n",
       "      <td>G5</td>\n",
       "      <td>0.185033</td>\n",
       "      <td>0.088528</td>\n",
       "    </tr>\n",
       "    <tr>\n",
       "      <th>...</th>\n",
       "      <td>...</td>\n",
       "      <td>...</td>\n",
       "      <td>...</td>\n",
       "    </tr>\n",
       "    <tr>\n",
       "      <th>971</th>\n",
       "      <td>G996</td>\n",
       "      <td>0.086058</td>\n",
       "      <td>inf</td>\n",
       "    </tr>\n",
       "    <tr>\n",
       "      <th>972</th>\n",
       "      <td>G997</td>\n",
       "      <td>0.013952</td>\n",
       "      <td>inf</td>\n",
       "    </tr>\n",
       "    <tr>\n",
       "      <th>973</th>\n",
       "      <td>G998</td>\n",
       "      <td>0.002453</td>\n",
       "      <td>inf</td>\n",
       "    </tr>\n",
       "    <tr>\n",
       "      <th>974</th>\n",
       "      <td>G999</td>\n",
       "      <td>0.000044</td>\n",
       "      <td>inf</td>\n",
       "    </tr>\n",
       "    <tr>\n",
       "      <th>975</th>\n",
       "      <td>G1000</td>\n",
       "      <td>0.000123</td>\n",
       "      <td>inf</td>\n",
       "    </tr>\n",
       "  </tbody>\n",
       "</table>\n",
       "<p>976 rows × 3 columns</p>\n",
       "</div>"
      ],
      "text/plain": [
       "      snps  P_val_GC  -logP_GC\n",
       "0       G1  0.261352  0.046482\n",
       "1       G2  0.000053  0.072956\n",
       "2       G3  0.505638  0.080201\n",
       "3       G4  0.036599  0.084678\n",
       "4       G5  0.185033  0.088528\n",
       "..     ...       ...       ...\n",
       "971   G996  0.086058       inf\n",
       "972   G997  0.013952       inf\n",
       "973   G998  0.002453       inf\n",
       "974   G999  0.000044       inf\n",
       "975  G1000  0.000123       inf\n",
       "\n",
       "[976 rows x 3 columns]"
      ]
     },
     "execution_count": 14,
     "metadata": {},
     "output_type": "execute_result"
    }
   ],
   "source": [
    "median_chi2 = np.median(stats.chi2.ppf(1 - nocorr_p_values[\"P_val\"], 1))\n",
    "expected_median = stats.chi2.ppf(0.5, 1)\n",
    "lambda_gc = median_chi2 / expected_median\n",
    "#percent = 5\n",
    "#lambda_gc = lambda_gc/100 * percent\n",
    "corrected_p_values = stats.chi2.sf((stats.chi2.ppf(1 - nocorr_p_values[\"P_val\"], 1)) / np.sqrt(lambda_gc), 1)\n",
    "genomic_control_p_values = nocorr_p_values[['snps']]\n",
    "genomic_control_p_values['P_val_GC'] = list(corrected_p_values)\n",
    "genomic_control_p_values['-logP_GC'] = np.sort(-np.log10(genomic_control_p_values['P_val_GC']))\n",
    "genomic_control_p_values"
   ]
  },
  {
   "cell_type": "code",
   "execution_count": 15,
   "id": "20e1ec60-05f8-4844-a17a-b4846317ca96",
   "metadata": {},
   "outputs": [],
   "source": [
    "epsilon = 1e-100  # Small constant to prevent division by zero\n",
    "\n",
    "# Add a small constant to p-values to avoid division by zero or extremely small values\n",
    "p_values_with_epsilon = nocorr_p_values[\"P_val\"] + epsilon\n",
    "\n",
    "# Calculate the median chi-squared value\n",
    "median_chi2 = np.median(stats.chi2.ppf(1 - p_values_with_epsilon, 1))\n",
    "expected_median = stats.chi2.ppf(0.5, 1)\n",
    "lambda_gc = median_chi2 / expected_median\n",
    "percent = 20\n",
    "lambda_gc = (lambda_gc / 100)*percent\n",
    "# Correct test statistics\n",
    "corrected_p_values = stats.chi2.sf((stats.chi2.ppf(1 - p_values_with_epsilon, 1)) / np.sqrt(lambda_gc), 1)\n",
    "\n",
    "# Create DataFrame for genomic control corrected p-values\n",
    "genomic_control_p_values = pd.DataFrame({\n",
    "    'snps': nocorr_p_values['snps'],\n",
    "    'P_val_GC': corrected_p_values+ epsilon,\n",
    "    '-logP_GC': np.sort(-np.log10(corrected_p_values+ epsilon))\n",
    "})"
   ]
  },
  {
   "cell_type": "code",
   "execution_count": null,
   "id": "26e10905-2123-416e-9cec-8e8c9e5a9763",
   "metadata": {},
   "outputs": [],
   "source": []
  },
  {
   "cell_type": "markdown",
   "id": "776bba74-7b01-4622-98c1-be47654e7b00",
   "metadata": {},
   "source": [
    "# Classical PCA"
   ]
  },
  {
   "cell_type": "code",
   "execution_count": 16,
   "id": "737bc26c-5aa4-4221-8110-5737f3f39591",
   "metadata": {},
   "outputs": [],
   "source": [
    "# Define the command to execute\n",
    "command = f\"cd scripts && python '03_iterate_commonPCs.py' {iterations} {nr_common_PCs}\""
   ]
  },
  {
   "cell_type": "code",
   "execution_count": 17,
   "id": "171d44b1-90fe-4b1d-8128-2eb3bb3ca6ca",
   "metadata": {},
   "outputs": [
    {
     "name": "stdout",
     "output_type": "stream",
     "text": [
      "Singular matrix\n",
      "The Python script has finished executing.\n"
     ]
    }
   ],
   "source": [
    "# Execute the command\n",
    "process = subprocess.Popen(command, shell=True)\n",
    "\n",
    "# Wait for the process to finish\n",
    "process.wait()\n",
    "\n",
    "# Once the process is finished, you can continue with the rest of your code\n",
    "print(\"The Python script has finished executing.\")"
   ]
  },
  {
   "cell_type": "code",
   "execution_count": 18,
   "id": "929bfe18-b301-49f5-b847-b7c900b362e1",
   "metadata": {},
   "outputs": [
    {
     "data": {
      "text/html": [
       "<div>\n",
       "<style scoped>\n",
       "    .dataframe tbody tr th:only-of-type {\n",
       "        vertical-align: middle;\n",
       "    }\n",
       "\n",
       "    .dataframe tbody tr th {\n",
       "        vertical-align: top;\n",
       "    }\n",
       "\n",
       "    .dataframe thead th {\n",
       "        text-align: right;\n",
       "    }\n",
       "</style>\n",
       "<table border=\"1\" class=\"dataframe\">\n",
       "  <thead>\n",
       "    <tr style=\"text-align: right;\">\n",
       "      <th></th>\n",
       "      <th>snps</th>\n",
       "      <th>-logP_common_PC</th>\n",
       "    </tr>\n",
       "  </thead>\n",
       "  <tbody>\n",
       "    <tr>\n",
       "      <th>0</th>\n",
       "      <td>G1</td>\n",
       "      <td>0.000567</td>\n",
       "    </tr>\n",
       "    <tr>\n",
       "      <th>1</th>\n",
       "      <td>G2</td>\n",
       "      <td>0.001289</td>\n",
       "    </tr>\n",
       "    <tr>\n",
       "      <th>2</th>\n",
       "      <td>G3</td>\n",
       "      <td>0.001744</td>\n",
       "    </tr>\n",
       "    <tr>\n",
       "      <th>3</th>\n",
       "      <td>G4</td>\n",
       "      <td>0.002199</td>\n",
       "    </tr>\n",
       "    <tr>\n",
       "      <th>4</th>\n",
       "      <td>G5</td>\n",
       "      <td>0.002782</td>\n",
       "    </tr>\n",
       "    <tr>\n",
       "      <th>...</th>\n",
       "      <td>...</td>\n",
       "      <td>...</td>\n",
       "    </tr>\n",
       "    <tr>\n",
       "      <th>970</th>\n",
       "      <td>G995</td>\n",
       "      <td>6.330377</td>\n",
       "    </tr>\n",
       "    <tr>\n",
       "      <th>971</th>\n",
       "      <td>G996</td>\n",
       "      <td>6.580175</td>\n",
       "    </tr>\n",
       "    <tr>\n",
       "      <th>972</th>\n",
       "      <td>G997</td>\n",
       "      <td>7.028405</td>\n",
       "    </tr>\n",
       "    <tr>\n",
       "      <th>973</th>\n",
       "      <td>G998</td>\n",
       "      <td>7.560326</td>\n",
       "    </tr>\n",
       "    <tr>\n",
       "      <th>974</th>\n",
       "      <td>G999</td>\n",
       "      <td>8.001396</td>\n",
       "    </tr>\n",
       "  </tbody>\n",
       "</table>\n",
       "<p>975 rows × 2 columns</p>\n",
       "</div>"
      ],
      "text/plain": [
       "     snps  -logP_common_PC\n",
       "0      G1         0.000567\n",
       "1      G2         0.001289\n",
       "2      G3         0.001744\n",
       "3      G4         0.002199\n",
       "4      G5         0.002782\n",
       "..    ...              ...\n",
       "970  G995         6.330377\n",
       "971  G996         6.580175\n",
       "972  G997         7.028405\n",
       "973  G998         7.560326\n",
       "974  G999         8.001396\n",
       "\n",
       "[975 rows x 2 columns]"
      ]
     },
     "execution_count": 18,
     "metadata": {},
     "output_type": "execute_result"
    }
   ],
   "source": [
    "commonPC_p_values = pd.read_pickle(f\"data/iterative_pvalues/pvals_PCcommon_pheno_{name_risk}_G{G}_L{L}_c{c}_k{k}_M{M}.pkl\")\n",
    "commonPC_p_values"
   ]
  },
  {
   "cell_type": "markdown",
   "id": "9fe3b64d-1db0-4914-bbbc-0344d0c1fcc3",
   "metadata": {},
   "source": [
    "# Rare PCA"
   ]
  },
  {
   "cell_type": "code",
   "execution_count": 19,
   "id": "fcba20d6-696f-498d-a44a-4d514fc41091",
   "metadata": {},
   "outputs": [],
   "source": [
    "# Define the command to execute\n",
    "command = f\"cd scripts && python '04_iterate_rarePCs.py' {iterations} {nr_rare_PCs}\""
   ]
  },
  {
   "cell_type": "code",
   "execution_count": 20,
   "id": "9b62a0f7-d0aa-4d2f-bb2c-c5528a2a5c70",
   "metadata": {},
   "outputs": [
    {
     "name": "stdout",
     "output_type": "stream",
     "text": [
      "Singular matrix\n",
      "Singular matrix\n",
      "Singular matrix\n",
      "The Python script has finished executing.\n"
     ]
    }
   ],
   "source": [
    "# Execute the command\n",
    "process = subprocess.Popen(command, shell=True)\n",
    "\n",
    "# Wait for the process to finish\n",
    "process.wait()\n",
    "\n",
    "# Once the process is finished, you can continue with the rest of your code\n",
    "print(\"The Python script has finished executing.\")"
   ]
  },
  {
   "cell_type": "code",
   "execution_count": 21,
   "id": "8c507444-4670-41fe-adf5-c466a4083d51",
   "metadata": {},
   "outputs": [
    {
     "data": {
      "text/html": [
       "<div>\n",
       "<style scoped>\n",
       "    .dataframe tbody tr th:only-of-type {\n",
       "        vertical-align: middle;\n",
       "    }\n",
       "\n",
       "    .dataframe tbody tr th {\n",
       "        vertical-align: top;\n",
       "    }\n",
       "\n",
       "    .dataframe thead th {\n",
       "        text-align: right;\n",
       "    }\n",
       "</style>\n",
       "<table border=\"1\" class=\"dataframe\">\n",
       "  <thead>\n",
       "    <tr style=\"text-align: right;\">\n",
       "      <th></th>\n",
       "      <th>snps</th>\n",
       "      <th>-logP_rare_PC</th>\n",
       "    </tr>\n",
       "  </thead>\n",
       "  <tbody>\n",
       "    <tr>\n",
       "      <th>0</th>\n",
       "      <td>G1</td>\n",
       "      <td>0.001050</td>\n",
       "    </tr>\n",
       "    <tr>\n",
       "      <th>1</th>\n",
       "      <td>G2</td>\n",
       "      <td>0.002478</td>\n",
       "    </tr>\n",
       "    <tr>\n",
       "      <th>2</th>\n",
       "      <td>G3</td>\n",
       "      <td>0.003962</td>\n",
       "    </tr>\n",
       "    <tr>\n",
       "      <th>3</th>\n",
       "      <td>G4</td>\n",
       "      <td>0.006023</td>\n",
       "    </tr>\n",
       "    <tr>\n",
       "      <th>4</th>\n",
       "      <td>G5</td>\n",
       "      <td>0.006884</td>\n",
       "    </tr>\n",
       "    <tr>\n",
       "      <th>...</th>\n",
       "      <td>...</td>\n",
       "      <td>...</td>\n",
       "    </tr>\n",
       "    <tr>\n",
       "      <th>971</th>\n",
       "      <td>G997</td>\n",
       "      <td>13.452291</td>\n",
       "    </tr>\n",
       "    <tr>\n",
       "      <th>972</th>\n",
       "      <td>G998</td>\n",
       "      <td>14.094265</td>\n",
       "    </tr>\n",
       "    <tr>\n",
       "      <th>973</th>\n",
       "      <td>G999</td>\n",
       "      <td>14.704228</td>\n",
       "    </tr>\n",
       "    <tr>\n",
       "      <th>974</th>\n",
       "      <td>G1000</td>\n",
       "      <td>15.687327</td>\n",
       "    </tr>\n",
       "    <tr>\n",
       "      <th>975</th>\n",
       "      <td>NaN</td>\n",
       "      <td>16.050666</td>\n",
       "    </tr>\n",
       "  </tbody>\n",
       "</table>\n",
       "<p>976 rows × 2 columns</p>\n",
       "</div>"
      ],
      "text/plain": [
       "      snps  -logP_rare_PC\n",
       "0       G1       0.001050\n",
       "1       G2       0.002478\n",
       "2       G3       0.003962\n",
       "3       G4       0.006023\n",
       "4       G5       0.006884\n",
       "..     ...            ...\n",
       "971   G997      13.452291\n",
       "972   G998      14.094265\n",
       "973   G999      14.704228\n",
       "974  G1000      15.687327\n",
       "975    NaN      16.050666\n",
       "\n",
       "[976 rows x 2 columns]"
      ]
     },
     "execution_count": 21,
     "metadata": {},
     "output_type": "execute_result"
    }
   ],
   "source": [
    "rarePC_p_values = pd.read_pickle(f\"data/iterative_pvalues/pvals_PCrare_pheno_{name_risk}_G{G}_L{L}_c{c}_k{k}_M{M}.pkl\")\n",
    "rarePC_p_values"
   ]
  },
  {
   "cell_type": "markdown",
   "id": "0bfc03e4-ec7d-4776-b742-973f2bb41411",
   "metadata": {},
   "source": [
    "# Abyss"
   ]
  },
  {
   "cell_type": "code",
   "execution_count": 22,
   "id": "66cdacc7-97e8-4bf7-8ed6-f4f640020b88",
   "metadata": {},
   "outputs": [
    {
     "name": "stdout",
     "output_type": "stream",
     "text": [
      "Singular matrix\n",
      "Singular matrix\n",
      "Singular matrix\n",
      "Singular matrix\n",
      "The Python script has finished executing.\n"
     ]
    }
   ],
   "source": [
    "command = f\"cd scripts && python '05_iterate_abyss.py' {iterations}\"\n",
    "# Execute the command\n",
    "process = subprocess.Popen(command, shell=True)\n",
    "\n",
    "# Wait for the process to finish\n",
    "process.wait()\n",
    "\n",
    "# Once the process is finished, you can continue with the rest of your code\n",
    "print(\"The Python script has finished executing.\")"
   ]
  },
  {
   "cell_type": "code",
   "execution_count": 23,
   "id": "081b2ba9-4806-4dd4-981f-5f34d39f5fe2",
   "metadata": {},
   "outputs": [
    {
     "data": {
      "text/html": [
       "<div>\n",
       "<style scoped>\n",
       "    .dataframe tbody tr th:only-of-type {\n",
       "        vertical-align: middle;\n",
       "    }\n",
       "\n",
       "    .dataframe tbody tr th {\n",
       "        vertical-align: top;\n",
       "    }\n",
       "\n",
       "    .dataframe thead th {\n",
       "        text-align: right;\n",
       "    }\n",
       "</style>\n",
       "<table border=\"1\" class=\"dataframe\">\n",
       "  <thead>\n",
       "    <tr style=\"text-align: right;\">\n",
       "      <th></th>\n",
       "      <th>snps</th>\n",
       "      <th>-logP_abyss</th>\n",
       "    </tr>\n",
       "  </thead>\n",
       "  <tbody>\n",
       "    <tr>\n",
       "      <th>0</th>\n",
       "      <td>G1</td>\n",
       "      <td>0.000421</td>\n",
       "    </tr>\n",
       "    <tr>\n",
       "      <th>1</th>\n",
       "      <td>G2</td>\n",
       "      <td>0.000823</td>\n",
       "    </tr>\n",
       "    <tr>\n",
       "      <th>2</th>\n",
       "      <td>G3</td>\n",
       "      <td>0.001544</td>\n",
       "    </tr>\n",
       "    <tr>\n",
       "      <th>3</th>\n",
       "      <td>G4</td>\n",
       "      <td>0.002231</td>\n",
       "    </tr>\n",
       "    <tr>\n",
       "      <th>4</th>\n",
       "      <td>G5</td>\n",
       "      <td>0.003197</td>\n",
       "    </tr>\n",
       "    <tr>\n",
       "      <th>...</th>\n",
       "      <td>...</td>\n",
       "      <td>...</td>\n",
       "    </tr>\n",
       "    <tr>\n",
       "      <th>971</th>\n",
       "      <td>G996</td>\n",
       "      <td>5.569939</td>\n",
       "    </tr>\n",
       "    <tr>\n",
       "      <th>972</th>\n",
       "      <td>G997</td>\n",
       "      <td>5.917267</td>\n",
       "    </tr>\n",
       "    <tr>\n",
       "      <th>973</th>\n",
       "      <td>G998</td>\n",
       "      <td>6.319283</td>\n",
       "    </tr>\n",
       "    <tr>\n",
       "      <th>974</th>\n",
       "      <td>G999</td>\n",
       "      <td>6.794674</td>\n",
       "    </tr>\n",
       "    <tr>\n",
       "      <th>975</th>\n",
       "      <td>G1000</td>\n",
       "      <td>30.823574</td>\n",
       "    </tr>\n",
       "  </tbody>\n",
       "</table>\n",
       "<p>976 rows × 2 columns</p>\n",
       "</div>"
      ],
      "text/plain": [
       "      snps  -logP_abyss\n",
       "0       G1     0.000421\n",
       "1       G2     0.000823\n",
       "2       G3     0.001544\n",
       "3       G4     0.002231\n",
       "4       G5     0.003197\n",
       "..     ...          ...\n",
       "971   G996     5.569939\n",
       "972   G997     5.917267\n",
       "973   G998     6.319283\n",
       "974   G999     6.794674\n",
       "975  G1000    30.823574\n",
       "\n",
       "[976 rows x 2 columns]"
      ]
     },
     "execution_count": 23,
     "metadata": {},
     "output_type": "execute_result"
    }
   ],
   "source": [
    "abyss_p_values = pd.read_pickle(f\"data/iterative_pvalues/pvals_abyss_pheno_{name_risk}_G{G}_L{L}_c{c}_k{k}_M{M}.pkl\")\n",
    "abyss_p_values"
   ]
  },
  {
   "cell_type": "markdown",
   "id": "a34c1bb2-727b-4235-8f60-bccee5af70a2",
   "metadata": {},
   "source": [
    "# Deep Abyss"
   ]
  },
  {
   "cell_type": "code",
   "execution_count": 24,
   "id": "9ee86687-8bd2-4e5b-8d97-507b6d158031",
   "metadata": {},
   "outputs": [
    {
     "name": "stdout",
     "output_type": "stream",
     "text": [
      "Singular matrix\n",
      "Singular matrix\n",
      "Singular matrix\n",
      "Singular matrix\n",
      "Singular matrix\n",
      "The Python script has finished executing.\n"
     ]
    }
   ],
   "source": [
    "command = f\"cd scripts && python '06_iterate_deep_abyss.py' {iterations}\"\n",
    "# Execute the command\n",
    "process = subprocess.Popen(command, shell=True)\n",
    "\n",
    "# Wait for the process to finish\n",
    "process.wait()\n",
    "\n",
    "# Once the process is finished, you can continue with the rest of your code\n",
    "print(\"The Python script has finished executing.\")"
   ]
  },
  {
   "cell_type": "code",
   "execution_count": 25,
   "id": "ba387d85-f4aa-468d-a805-6529188d157e",
   "metadata": {},
   "outputs": [
    {
     "data": {
      "text/html": [
       "<div>\n",
       "<style scoped>\n",
       "    .dataframe tbody tr th:only-of-type {\n",
       "        vertical-align: middle;\n",
       "    }\n",
       "\n",
       "    .dataframe tbody tr th {\n",
       "        vertical-align: top;\n",
       "    }\n",
       "\n",
       "    .dataframe thead th {\n",
       "        text-align: right;\n",
       "    }\n",
       "</style>\n",
       "<table border=\"1\" class=\"dataframe\">\n",
       "  <thead>\n",
       "    <tr style=\"text-align: right;\">\n",
       "      <th></th>\n",
       "      <th>snps</th>\n",
       "      <th>-logP_abyss_deep</th>\n",
       "    </tr>\n",
       "  </thead>\n",
       "  <tbody>\n",
       "    <tr>\n",
       "      <th>0</th>\n",
       "      <td>G1</td>\n",
       "      <td>0.000358</td>\n",
       "    </tr>\n",
       "    <tr>\n",
       "      <th>1</th>\n",
       "      <td>G2</td>\n",
       "      <td>0.000810</td>\n",
       "    </tr>\n",
       "    <tr>\n",
       "      <th>2</th>\n",
       "      <td>G3</td>\n",
       "      <td>0.001661</td>\n",
       "    </tr>\n",
       "    <tr>\n",
       "      <th>3</th>\n",
       "      <td>G4</td>\n",
       "      <td>0.002107</td>\n",
       "    </tr>\n",
       "    <tr>\n",
       "      <th>4</th>\n",
       "      <td>G5</td>\n",
       "      <td>0.002892</td>\n",
       "    </tr>\n",
       "    <tr>\n",
       "      <th>...</th>\n",
       "      <td>...</td>\n",
       "      <td>...</td>\n",
       "    </tr>\n",
       "    <tr>\n",
       "      <th>970</th>\n",
       "      <td>G995</td>\n",
       "      <td>5.860957</td>\n",
       "    </tr>\n",
       "    <tr>\n",
       "      <th>971</th>\n",
       "      <td>G996</td>\n",
       "      <td>6.117963</td>\n",
       "    </tr>\n",
       "    <tr>\n",
       "      <th>972</th>\n",
       "      <td>G997</td>\n",
       "      <td>6.343771</td>\n",
       "    </tr>\n",
       "    <tr>\n",
       "      <th>973</th>\n",
       "      <td>G998</td>\n",
       "      <td>6.589598</td>\n",
       "    </tr>\n",
       "    <tr>\n",
       "      <th>974</th>\n",
       "      <td>G999</td>\n",
       "      <td>7.075667</td>\n",
       "    </tr>\n",
       "  </tbody>\n",
       "</table>\n",
       "<p>975 rows × 2 columns</p>\n",
       "</div>"
      ],
      "text/plain": [
       "     snps  -logP_abyss_deep\n",
       "0      G1          0.000358\n",
       "1      G2          0.000810\n",
       "2      G3          0.001661\n",
       "3      G4          0.002107\n",
       "4      G5          0.002892\n",
       "..    ...               ...\n",
       "970  G995          5.860957\n",
       "971  G996          6.117963\n",
       "972  G997          6.343771\n",
       "973  G998          6.589598\n",
       "974  G999          7.075667\n",
       "\n",
       "[975 rows x 2 columns]"
      ]
     },
     "execution_count": 25,
     "metadata": {},
     "output_type": "execute_result"
    }
   ],
   "source": [
    "deep_abyss_p_values = pd.read_pickle(f\"data/iterative_pvalues/pvals_abyss_deep_pheno_{name_risk}_G{G}_L{L}_c{c}_k{k}_M{M}.pkl\")\n",
    "deep_abyss_p_values"
   ]
  },
  {
   "cell_type": "code",
   "execution_count": null,
   "id": "6cfa921a-a8f4-4e3a-ac1c-cd311cc45171",
   "metadata": {},
   "outputs": [],
   "source": []
  },
  {
   "cell_type": "code",
   "execution_count": 26,
   "id": "7f44ba39-28cb-4808-8eba-31a12b88f6ef",
   "metadata": {},
   "outputs": [],
   "source": [
    "try:\n",
    "    # Merge df and df_PC on 'snps'\n",
    "    temp1 = pd.merge(expected_p_values, nocorr_p_values, on='snps')\n",
    "\n",
    "    # Merge df_Ps_PCs with the already merged dataframe on 'snps'\n",
    "    temp2 = pd.merge(temp1, commonPC_p_values, on='snps')\n",
    "except:\n",
    "    temp2 = pd.merge(nocorr_p_values, commonPC_p_values, on='snps')\n",
    "    temp3 = pd.merge(temp2, rarePC_p_values, on='snps')\n",
    "    temp4 = pd.merge(temp3, genomic_control_p_values[['snps','-logP_GC']], on='snps')\n",
    "    temp5 = pd.merge(temp4, abyss_p_values[['snps','-logP_abyss']], on='snps')\n",
    "    final_merged = pd.merge(temp5, deep_abyss_p_values[['snps','-logP_abyss_deep']], on='snps')"
   ]
  },
  {
   "cell_type": "code",
   "execution_count": null,
   "id": "4457111e-81d0-4845-8e2d-21c72466dd6a",
   "metadata": {},
   "outputs": [],
   "source": []
  },
  {
   "cell_type": "code",
   "execution_count": 27,
   "id": "3dabfc0f-f390-4d35-a4bd-d420ad1d5d0c",
   "metadata": {},
   "outputs": [],
   "source": [
    "n = len(final_merged)\n",
    "expected_quantiles = np.arange(1, n + 1) / n\n",
    "expected_quantiles = np.sort(-np.log10(expected_quantiles))\n",
    "final_merged[\"expected_log_P\"] = expected_quantiles"
   ]
  },
  {
   "cell_type": "code",
   "execution_count": 30,
   "id": "bb6700ea-eba4-4298-9f7c-6ec9dbd7e77d",
   "metadata": {},
   "outputs": [
    {
     "data": {
      "image/png": "[encoded data removed]",
      "text/plain": [
       "<Figure size 640x480 with 1 Axes>"
      ]
     },
     "metadata": {},
     "output_type": "display_data"
    }
   ],
   "source": [
    "# Plot log10_p_no_corr\n",
    "sns.scatterplot(x='expected_log_P', y='-logP_no_corr', data=final_merged, color='blue', label='No Correction')\n",
    "\n",
    "# Plot log10_p_PCs\n",
    "sns.scatterplot(x='expected_log_P', y='-logP_common_PC', data=final_merged, color='green', label='PCA')\n",
    "\n",
    "# Plot log10_p_rare_PCs\n",
    "sns.scatterplot(x='expected_log_P', y='-logP_rare_PC', data=final_merged, color='red', label='Rare PCA')\n",
    "\n",
    "#sns.scatterplot(x='expected_log_P', y='-logP_GC', data=final_merged, color='orange', label='Genomic Control')\n",
    "\n",
    "sns.scatterplot(x='expected_log_P', y='-logP_abyss', data=final_merged, color='purple', label='Abyss')\n",
    "\n",
    "sns.scatterplot(x='expected_log_P', y='-logP_abyss_deep', data=final_merged, color='yellow', label='Deep Abyss')\n",
    "\n",
    "\n",
    "# Plot diagonal reference line\n",
    "plt.plot([min(final_merged['expected_log_P']), max(final_merged['expected_log_P'])], \n",
    "         [min(final_merged['expected_log_P']), max(final_merged['expected_log_P'])], \n",
    "         color='red', linestyle='--')\n",
    "\n",
    "# Set plot labels and title\n",
    "plt.xlabel('Expected')\n",
    "plt.ylabel('-Log10(P) Values')\n",
    "plt.title(f\"QQ Plot of Log Values - {naming_dict[name_risk]}\")\n",
    "\n",
    "# Show legend\n",
    "plt.legend()\n",
    "plt.savefig(f\"data/plots/qq_pheno_{name_risk}_iter_{iterations}_G{G}_L{L}_c{c}_k{k}_M{M}.png\", dpi=100)\n",
    "# Show plot\n",
    "plt.show()"
   ]
  },
  {
   "cell_type": "code",
   "execution_count": null,
   "id": "b4702289-4a6d-4ee6-8376-dc5105bca273",
   "metadata": {},
   "outputs": [],
   "source": []
  },
  {
   "cell_type": "code",
   "execution_count": null,
   "id": "6a9cb021-8c5f-4d59-ac2d-f524aecaf214",
   "metadata": {},
   "outputs": [],
   "source": []
  },
  {
   "cell_type": "code",
   "execution_count": null,
   "id": "2d5b593d-0f2d-4be1-be76-adde031319ce",
   "metadata": {},
   "outputs": [],
   "source": []
  },
  {
   "cell_type": "code",
   "execution_count": null,
   "id": "70665a4e-cc10-4805-b57c-08fbba4fe0dd",
   "metadata": {},
   "outputs": [],
   "source": []
  }
 ],
 "metadata": {
  "kernelspec": {
   "display_name": "Python 3 (ipykernel)",
   "language": "python",
   "name": "python3"
  },
  "language_info": {
   "codemirror_mode": {
    "name": "ipython",
    "version": 3
   },
   "file_extension": ".py",
   "mimetype": "text/x-python",
   "name": "python",
   "nbconvert_exporter": "python",
   "pygments_lexer": "ipython3",
   "version": "3.11.5"
  }
 },
 "nbformat": 4,
 "nbformat_minor": 5
}
