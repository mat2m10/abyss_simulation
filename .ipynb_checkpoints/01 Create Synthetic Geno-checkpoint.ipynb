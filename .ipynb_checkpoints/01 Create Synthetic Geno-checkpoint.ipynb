{
 "cells": [
  {
   "cell_type": "markdown",
   "id": "73e42e5c-950c-42a6-83ae-0fbb1709d916",
   "metadata": {},
   "source": [
    "# Import libraries"
   ]
  },
  {
   "cell_type": "code",
   "execution_count": 1,
   "id": "6d5f79d6-151a-4154-bb89-9c27ed06c34e",
   "metadata": {},
   "outputs": [],
   "source": [
    "import subprocess\n",
    "import os\n",
    "from helpers import parse_variables"
   ]
  },
  {
   "cell_type": "markdown",
   "id": "393ebc14-8659-40ea-b26b-4262a377a6ef",
   "metadata": {},
   "source": [
    "# Load simulation parameters"
   ]
  },
  {
   "cell_type": "code",
   "execution_count": 2,
   "id": "1a3336e1-94fd-44d2-95de-87c10c374c52",
   "metadata": {},
   "outputs": [
    {
     "name": "stdout",
     "output_type": "stream",
     "text": [
      "\n",
      "> print(paste(\"G:\", G))\n",
      "[1] \"G: 20\"\n",
      "\n",
      "> print(paste(\"L:\", L))\n",
      "[1] \"L: 50\"\n",
      "\n",
      "> print(paste(\"c:\", c))\n",
      "[1] \"c: 50\"\n",
      "\n",
      "> print(paste(\"k:\", k))\n",
      "[1] \"k: 20\"\n",
      "\n",
      "> print(paste(\"M:\", M))\n",
      "[1] \"M: 0.1\"\n",
      "\n",
      "> example_rep <- rep(1:G, times = k)\n",
      "\n",
      "> print(example_rep)\n",
      "  [1]  1  2  3  4  5  6  7  8  9 10 11 12 13 14 15 16 17 18 19 20  1  2  3  4  5\n",
      " [26]  6  7  8  9 10 11 12 13 14 15 16 17 18 19 20  1  2  3  4  5  6  7  8  9 10\n",
      " [51] 11 12 13 14 15 16 17 18 19 20  1  2  3  4  5  6  7  8  9 10 11 12 13 14 15\n",
      " [76] 16 17 18 19 20  1  2  3  4  5  6  7  8  9 10 11 12 13 14 15 16 17 18 19 20\n",
      "[101]  1  2  3  4  5  6  7  8  9 10 11 12 13 14 15 16 17 18 19 20  1  2  3  4  5\n",
      "[126]  6  7  8  9 10 11 12 13 14 15 16 17 18 19 20  1  2  3  4  5  6  7  8  9 10\n",
      "[151] 11 12 13 14 15 16 17 18 19 20  1  2  3  4  5  6  7  8  9 10 11 12 13 14 15\n",
      "[176] 16 17 18 19 20  1  2  3  4  5  6  7  8  9 10 11 12 13 14 15 16 17 18 19 20\n",
      "[201]  1  2  3  4  5  6  7  8  9 10 11 12 13 14 15 16 17 18 19 20  1  2  3  4  5\n",
      "[226]  6  7  8  9 10 11 12 13 14 15 16 17 18 19 20  1  2  3  4  5  6  7  8  9 10\n",
      "[251] 11 12 13 14 15 16 17 18 19 20  1  2  3  4  5  6  7  8  9 10 11 12 13 14 15\n",
      "[276] 16 17 18 19 20  1  2  3  4  5  6  7  8  9 10 11 12 13 14 15 16 17 18 19 20\n",
      "[301]  1  2  3  4  5  6  7  8  9 10 11 12 13 14 15 16 17 18 19 20  1  2  3  4  5\n",
      "[326]  6  7  8  9 10 11 12 13 14 15 16 17 18 19 20  1  2  3  4  5  6  7  8  9 10\n",
      "[351] 11 12 13 14 15 16 17 18 19 20  1  2  3  4  5  6  7  8  9 10 11 12 13 14 15\n",
      "[376] 16 17 18 19 20  1  2  3  4  5  6  7  8  9 10 11 12 13 14 15 16 17 18 19 20\n",
      "\n",
      "> example_rep <- rep(1:G, times = k)\n",
      "\n",
      "> print(example_rep)\n",
      "  [1]  1  2  3  4  5  6  7  8  9 10 11 12 13 14 15 16 17 18 19 20  1  2  3  4  5\n",
      " [26]  6  7  8  9 10 11 12 13 14 15 16 17 18 19 20  1  2  3  4  5  6  7  8  9 10\n",
      " [51] 11 12 13 14 15 16 17 18 19 20  1  2  3  4  5  6  7  8  9 10 11 12 13 14 15\n",
      " [76] 16 17 18 19 20  1  2  3  4  5  6  7  8  9 10 11 12 13 14 15 16 17 18 19 20\n",
      "[101]  1  2  3  4  5  6  7  8  9 10 11 12 13 14 15 16 17 18 19 20  1  2  3  4  5\n",
      "[126]  6  7  8  9 10 11 12 13 14 15 16 17 18 19 20  1  2  3  4  5  6  7  8  9 10\n",
      "[151] 11 12 13 14 15 16 17 18 19 20  1  2  3  4  5  6  7  8  9 10 11 12 13 14 15\n",
      "[176] 16 17 18 19 20  1  2  3  4  5  6  7  8  9 10 11 12 13 14 15 16 17 18 19 20\n",
      "[201]  1  2  3  4  5  6  7  8  9 10 11 12 13 14 15 16 17 18 19 20  1  2  3  4  5\n",
      "[226]  6  7  8  9 10 11 12 13 14 15 16 17 18 19 20  1  2  3  4  5  6  7  8  9 10\n",
      "[251] 11 12 13 14 15 16 17 18 19 20  1  2  3  4  5  6  7  8  9 10 11 12 13 14 15\n",
      "[276] 16 17 18 19 20  1  2  3  4  5  6  7  8  9 10 11 12 13 14 15 16 17 18 19 20\n",
      "[301]  1  2  3  4  5  6  7  8  9 10 11 12 13 14 15 16 17 18 19 20  1  2  3  4  5\n",
      "[326]  6  7  8  9 10 11 12 13 14 15 16 17 18 19 20  1  2  3  4  5  6  7  8  9 10\n",
      "[351] 11 12 13 14 15 16 17 18 19 20  1  2  3  4  5  6  7  8  9 10 11 12 13 14 15\n",
      "[376] 16 17 18 19 20  1  2  3  4  5  6  7  8  9 10 11 12 13 14 15 16 17 18 19 20\n",
      "\n",
      "> source(\"association.R\")\n",
      "\n",
      "> dyn.load(\"kpop.so\")\n",
      "\n",
      "> simulate_and_save_csv <- function(G, L, c, k, M) {\n",
      "+     gt <- simulate.genotypes(G, L, c, k, M)\n",
      "+     file_name <- paste(\"simulated_genotypes_G\", G .... [TRUNCATED] \n",
      "\n",
      "> simulate_and_save_csv(G, L, c, k, M)\n",
      "Simulated genotypes saved as: simulated_genotypes_G20_L50_c50_k20_M0.1.csv \n",
      "\n"
     ]
    }
   ],
   "source": [
    "dict = parse_variables('geno_simulation.txt')\n",
    "G = int(dict['G'])\n",
    "L = int(dict['L'])\n",
    "c = int(dict['c'])\n",
    "k = int(dict['k'])\n",
    "M = float(dict['M'])\n",
    "\n",
    "# Define the R commands to run, passing parameters as arguments\n",
    "commands = [\n",
    "    f\"source('geno_simulation.txt')\",\n",
    "    f\"source('create_geno.R', echo=TRUE)\",\n",
    "]\n",
    "\n",
    "\n",
    "commands = [\n",
    "    \"source('geno_simulation.txt')\",\n",
    "    f\"G <- {G}\",\n",
    "    f\"L <- {L}\",\n",
    "    f\"c <- {c}\",\n",
    "    f\"k <- {k}\",\n",
    "    f\"M <- {M}\",\n",
    "    \"source('create_geno.R', echo=TRUE)\"\n",
    "]\n",
    "\n",
    "# Concatenate commands into a single string\n",
    "r_script = \";\".join(commands)\n",
    "\n",
    "# Run the R script\n",
    "result = subprocess.run(['Rscript', '-e', r_script], capture_output=True, text=True)\n",
    "\n",
    "# Print the output\n",
    "#print(result.stdout)\n",
    "\n",
    "# Check for errors\n",
    "if result.returncode != 0:\n",
    "    #print(\"Error executing R script:\")\n",
    "    #print(result.stderr)\n",
    "    pass"
   ]
  },
  {
   "cell_type": "code",
   "execution_count": 3,
   "id": "d16d6559-4a98-4a14-a856-145d8a6b5558",
   "metadata": {},
   "outputs": [],
   "source": [
    "os.makedirs(f\"data/raw\",exist_ok=True)"
   ]
  },
  {
   "cell_type": "code",
   "execution_count": 4,
   "id": "f77cf4f3-a62b-4421-ad86-930a4f7ddcb2",
   "metadata": {},
   "outputs": [
    {
     "data": {
      "text/plain": [
       "0"
      ]
     },
     "execution_count": 4,
     "metadata": {},
     "output_type": "execute_result"
    }
   ],
   "source": [
    "os.system(f\"mv simulated_genotypes_G{G}_L{L}_c{c}_k{k}_M{M}.csv data/raw/\")"
   ]
  }
 ],
 "metadata": {
  "kernelspec": {
   "display_name": "Python 3 (ipykernel)",
   "language": "python",
   "name": "python3"
  },
  "language_info": {
   "codemirror_mode": {
    "name": "ipython",
    "version": 3
   },
   "file_extension": ".py",
   "mimetype": "text/x-python",
   "name": "python",
   "nbconvert_exporter": "python",
   "pygments_lexer": "ipython3",
   "version": "3.11.5"
  }
 },
 "nbformat": 4,
 "nbformat_minor": 5
}
