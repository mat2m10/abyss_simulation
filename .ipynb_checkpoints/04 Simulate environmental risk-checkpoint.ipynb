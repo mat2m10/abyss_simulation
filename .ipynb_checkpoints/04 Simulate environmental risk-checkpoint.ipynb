{
 "cells": [
  {
   "cell_type": "markdown",
   "id": "f5fc2c09-359c-4709-b3e7-7f31960d18a0",
   "metadata": {},
   "source": [
    "# Import Libraries"
   ]
  },
  {
   "cell_type": "code",
   "execution_count": 2,
   "id": "e3e3e1bc-fa5e-48f1-a5f1-5b6f3a47fdca",
   "metadata": {},
   "outputs": [],
   "source": [
    "import os\n",
    "import pandas as pd\n",
    "import numpy as np\n",
    "from sklearn.preprocessing import StandardScaler\n",
    "from sklearn.decomposition import PCA\n",
    "import seaborn as sns\n",
    "import matplotlib.pyplot as plt\n",
    "import statsmodels.api as sm\n",
    "from helpers import parse_variables, get_risk_level, hi_gauss_blob_risk_fun, blob_risk_fun, NW_risk_fun, square_risk_fun, simulate_cc_status\n",
    "from matplotlib.colors import LinearSegmentedColormap\n",
    "import importlib.util"
   ]
  },
  {
   "cell_type": "markdown",
   "id": "cb6e4016-52b0-4578-8db6-5d0e0cc42b35",
   "metadata": {},
   "source": [
    "# Load populations"
   ]
  },
  {
   "cell_type": "code",
   "execution_count": 3,
   "id": "2b6b1f7a-648b-43c3-90bc-40fe82088f68",
   "metadata": {},
   "outputs": [],
   "source": [
    "dict = parse_variables('geno_simulation.txt')\n",
    "G = int(dict['G'])\n",
    "L = int(dict['L'])\n",
    "c = int(dict['c'])\n",
    "if 'k' not in globals():\n",
    "    k = int(dict['k'])\n",
    "    \n",
    "if 'M' not in globals():\n",
    "    M = float(dict['M'])\n",
    "HWE = int(dict['HWE'])"
   ]
  },
  {
   "cell_type": "code",
   "execution_count": 4,
   "id": "0bcf5115-13bc-449e-8a6f-58bf79b7b4e0",
   "metadata": {},
   "outputs": [
    {
     "ename": "FileNotFoundError",
     "evalue": "[Errno 2] No such file or directory: 'data/G50_L50_c50_k2_M0.1_HWE1/phenotype/01_population_structure.pkl'",
     "output_type": "error",
     "traceback": [
      "\u001b[0;31m---------------------------------------------------------------------------\u001b[0m",
      "\u001b[0;31mFileNotFoundError\u001b[0m                         Traceback (most recent call last)",
      "Cell \u001b[0;32mIn[4], line 1\u001b[0m\n\u001b[0;32m----> 1\u001b[0m populations \u001b[38;5;241m=\u001b[39m \u001b[43mpd\u001b[49m\u001b[38;5;241;43m.\u001b[39;49m\u001b[43mread_pickle\u001b[49m\u001b[43m(\u001b[49m\u001b[38;5;124;43mf\u001b[39;49m\u001b[38;5;124;43m\"\u001b[39;49m\u001b[38;5;124;43mdata/G\u001b[39;49m\u001b[38;5;132;43;01m{\u001b[39;49;00m\u001b[43mG\u001b[49m\u001b[38;5;132;43;01m}\u001b[39;49;00m\u001b[38;5;124;43m_L\u001b[39;49m\u001b[38;5;132;43;01m{\u001b[39;49;00m\u001b[43mL\u001b[49m\u001b[38;5;132;43;01m}\u001b[39;49;00m\u001b[38;5;124;43m_c\u001b[39;49m\u001b[38;5;132;43;01m{\u001b[39;49;00m\u001b[43mc\u001b[49m\u001b[38;5;132;43;01m}\u001b[39;49;00m\u001b[38;5;124;43m_k\u001b[39;49m\u001b[38;5;132;43;01m{\u001b[39;49;00m\u001b[43mk\u001b[49m\u001b[38;5;132;43;01m}\u001b[39;49;00m\u001b[38;5;124;43m_M\u001b[39;49m\u001b[38;5;132;43;01m{\u001b[39;49;00m\u001b[43mM\u001b[49m\u001b[38;5;132;43;01m}\u001b[39;49;00m\u001b[38;5;124;43m_HWE\u001b[39;49m\u001b[38;5;132;43;01m{\u001b[39;49;00m\u001b[43mHWE\u001b[49m\u001b[38;5;132;43;01m}\u001b[39;49;00m\u001b[38;5;124;43m/phenotype/01_population_structure.pkl\u001b[39;49m\u001b[38;5;124;43m\"\u001b[39;49m\u001b[43m)\u001b[49m\n\u001b[1;32m      2\u001b[0m populations\n",
      "File \u001b[0;32m~/.pyenv/versions/3.10.2/envs/abyss_simul/lib/python3.10/site-packages/pandas/io/pickle.py:185\u001b[0m, in \u001b[0;36mread_pickle\u001b[0;34m(filepath_or_buffer, compression, storage_options)\u001b[0m\n\u001b[1;32m    123\u001b[0m \u001b[38;5;250m\u001b[39m\u001b[38;5;124;03m\"\"\"\u001b[39;00m\n\u001b[1;32m    124\u001b[0m \u001b[38;5;124;03mLoad pickled pandas object (or any object) from file.\u001b[39;00m\n\u001b[1;32m    125\u001b[0m \n\u001b[0;32m   (...)\u001b[0m\n\u001b[1;32m    182\u001b[0m \u001b[38;5;124;03m4    4    9\u001b[39;00m\n\u001b[1;32m    183\u001b[0m \u001b[38;5;124;03m\"\"\"\u001b[39;00m\n\u001b[1;32m    184\u001b[0m excs_to_catch \u001b[38;5;241m=\u001b[39m (\u001b[38;5;167;01mAttributeError\u001b[39;00m, \u001b[38;5;167;01mImportError\u001b[39;00m, \u001b[38;5;167;01mModuleNotFoundError\u001b[39;00m, \u001b[38;5;167;01mTypeError\u001b[39;00m)\n\u001b[0;32m--> 185\u001b[0m \u001b[38;5;28;01mwith\u001b[39;00m \u001b[43mget_handle\u001b[49m\u001b[43m(\u001b[49m\n\u001b[1;32m    186\u001b[0m \u001b[43m    \u001b[49m\u001b[43mfilepath_or_buffer\u001b[49m\u001b[43m,\u001b[49m\n\u001b[1;32m    187\u001b[0m \u001b[43m    \u001b[49m\u001b[38;5;124;43m\"\u001b[39;49m\u001b[38;5;124;43mrb\u001b[39;49m\u001b[38;5;124;43m\"\u001b[39;49m\u001b[43m,\u001b[49m\n\u001b[1;32m    188\u001b[0m \u001b[43m    \u001b[49m\u001b[43mcompression\u001b[49m\u001b[38;5;241;43m=\u001b[39;49m\u001b[43mcompression\u001b[49m\u001b[43m,\u001b[49m\n\u001b[1;32m    189\u001b[0m \u001b[43m    \u001b[49m\u001b[43mis_text\u001b[49m\u001b[38;5;241;43m=\u001b[39;49m\u001b[38;5;28;43;01mFalse\u001b[39;49;00m\u001b[43m,\u001b[49m\n\u001b[1;32m    190\u001b[0m \u001b[43m    \u001b[49m\u001b[43mstorage_options\u001b[49m\u001b[38;5;241;43m=\u001b[39;49m\u001b[43mstorage_options\u001b[49m\u001b[43m,\u001b[49m\n\u001b[1;32m    191\u001b[0m \u001b[43m\u001b[49m\u001b[43m)\u001b[49m \u001b[38;5;28;01mas\u001b[39;00m handles:\n\u001b[1;32m    192\u001b[0m     \u001b[38;5;66;03m# 1) try standard library Pickle\u001b[39;00m\n\u001b[1;32m    193\u001b[0m     \u001b[38;5;66;03m# 2) try pickle_compat (older pandas version) to handle subclass changes\u001b[39;00m\n\u001b[1;32m    194\u001b[0m     \u001b[38;5;66;03m# 3) try pickle_compat with latin-1 encoding upon a UnicodeDecodeError\u001b[39;00m\n\u001b[1;32m    196\u001b[0m     \u001b[38;5;28;01mtry\u001b[39;00m:\n\u001b[1;32m    197\u001b[0m         \u001b[38;5;66;03m# TypeError for Cython complaints about object.__new__ vs Tick.__new__\u001b[39;00m\n\u001b[1;32m    198\u001b[0m         \u001b[38;5;28;01mtry\u001b[39;00m:\n",
      "File \u001b[0;32m~/.pyenv/versions/3.10.2/envs/abyss_simul/lib/python3.10/site-packages/pandas/io/common.py:882\u001b[0m, in \u001b[0;36mget_handle\u001b[0;34m(path_or_buf, mode, encoding, compression, memory_map, is_text, errors, storage_options)\u001b[0m\n\u001b[1;32m    873\u001b[0m         handle \u001b[38;5;241m=\u001b[39m \u001b[38;5;28mopen\u001b[39m(\n\u001b[1;32m    874\u001b[0m             handle,\n\u001b[1;32m    875\u001b[0m             ioargs\u001b[38;5;241m.\u001b[39mmode,\n\u001b[0;32m   (...)\u001b[0m\n\u001b[1;32m    878\u001b[0m             newline\u001b[38;5;241m=\u001b[39m\u001b[38;5;124m\"\u001b[39m\u001b[38;5;124m\"\u001b[39m,\n\u001b[1;32m    879\u001b[0m         )\n\u001b[1;32m    880\u001b[0m     \u001b[38;5;28;01melse\u001b[39;00m:\n\u001b[1;32m    881\u001b[0m         \u001b[38;5;66;03m# Binary mode\u001b[39;00m\n\u001b[0;32m--> 882\u001b[0m         handle \u001b[38;5;241m=\u001b[39m \u001b[38;5;28;43mopen\u001b[39;49m\u001b[43m(\u001b[49m\u001b[43mhandle\u001b[49m\u001b[43m,\u001b[49m\u001b[43m \u001b[49m\u001b[43mioargs\u001b[49m\u001b[38;5;241;43m.\u001b[39;49m\u001b[43mmode\u001b[49m\u001b[43m)\u001b[49m\n\u001b[1;32m    883\u001b[0m     handles\u001b[38;5;241m.\u001b[39mappend(handle)\n\u001b[1;32m    885\u001b[0m \u001b[38;5;66;03m# Convert BytesIO or file objects passed with an encoding\u001b[39;00m\n",
      "\u001b[0;31mFileNotFoundError\u001b[0m: [Errno 2] No such file or directory: 'data/G50_L50_c50_k2_M0.1_HWE1/phenotype/01_population_structure.pkl'"
     ]
    }
   ],
   "source": [
    "populations = pd.read_pickle(f\"data/G{G}_L{L}_c{c}_k{k}_M{M}_HWE{HWE}/phenotype/01_population_structure.pkl\")\n",
    "populations"
   ]
  },
  {
   "cell_type": "markdown",
   "id": "40384c49-add5-4770-8c96-06e65f987310",
   "metadata": {},
   "source": [
    "# create risk"
   ]
  },
  {
   "cell_type": "code",
   "execution_count": 4,
   "id": "f8718edc-502f-4b6d-8a04-7bd51471d0e2",
   "metadata": {},
   "outputs": [],
   "source": [
    "existing_risks = [\n",
    "    \"no_risk_fun\",\n",
    "    \"NW_risk_fun\",\n",
    "    \"N_risk_fun\",\n",
    "    \"blob_risk_fun\",\n",
    "    \"center_risk_fun\",\n",
    "    \"big_square_risk_fun\",\n",
    "    \"square_risk_fun\",\n",
    "    \"hi_square_risk_fun\",\n",
    "    \"mid_square_risk_fun\",\n",
    "    \"mid_mid_square_risk_fun\",\n",
    "    \"mid_mid_mid_square_risk_fun\",\n",
    "    \"big_bad_square_risk_fun\",\n",
    "    \"big_square_risk_fun_updated\",\n",
    "    \"big_big_square_risk_fun\",\n",
    "    \"big_big_big_square_risk_fun\",\n",
    "    \"two_square_risk_fun\",\n",
    "    \"three_square_risk_fun\",\n",
    "    \"four_square_risk_fun\",\n",
    "    \"as_big_blob_risk_fun\",\n",
    "    \"six_square_risk_fun\",\n",
    "    \"gauss_blob_risk_fun\",\n",
    "    \"hi_gauss_blob_risk_fun\"\n",
    "]"
   ]
  },
  {
   "cell_type": "code",
   "execution_count": 1,
   "id": "61d88e78-3ebc-4d62-9d85-bf732f797f46",
   "metadata": {},
   "outputs": [
    {
     "ename": "NameError",
     "evalue": "name 'importlib' is not defined",
     "output_type": "error",
     "traceback": [
      "\u001b[0;31m---------------------------------------------------------------------------\u001b[0m",
      "\u001b[0;31mNameError\u001b[0m                                 Traceback (most recent call last)",
      "Cell \u001b[0;32mIn[1], line 3\u001b[0m\n\u001b[1;32m      1\u001b[0m \u001b[38;5;66;03m# Dynamically import the function based on the risk level\u001b[39;00m\n\u001b[1;32m      2\u001b[0m module_name \u001b[38;5;241m=\u001b[39m \u001b[38;5;124m'\u001b[39m\u001b[38;5;124mhelpers\u001b[39m\u001b[38;5;124m'\u001b[39m\n\u001b[0;32m----> 3\u001b[0m module_spec \u001b[38;5;241m=\u001b[39m \u001b[43mimportlib\u001b[49m\u001b[38;5;241m.\u001b[39mutil\u001b[38;5;241m.\u001b[39mspec_from_file_location(module_name, \u001b[38;5;124m'\u001b[39m\u001b[38;5;124mhelpers.py\u001b[39m\u001b[38;5;124m'\u001b[39m)\n\u001b[1;32m      4\u001b[0m helpers \u001b[38;5;241m=\u001b[39m importlib\u001b[38;5;241m.\u001b[39mutil\u001b[38;5;241m.\u001b[39mmodule_from_spec(module_spec)\n\u001b[1;32m      5\u001b[0m module_spec\u001b[38;5;241m.\u001b[39mloader\u001b[38;5;241m.\u001b[39mexec_module(helpers)\n",
      "\u001b[0;31mNameError\u001b[0m: name 'importlib' is not defined"
     ]
    }
   ],
   "source": [
    "# Dynamically import the function based on the risk level\n",
    "module_name = 'helpers'\n",
    "module_spec = importlib.util.spec_from_file_location(module_name, 'helpers.py')\n",
    "helpers = importlib.util.module_from_spec(module_spec)\n",
    "module_spec.loader.exec_module(helpers)\n",
    "\n",
    "for risk in existing_risks:\n",
    "    risk_function = getattr(helpers, risk)\n",
    "    name_risk = risk.split('_fun')[0]\n",
    "    populations['x_temp'] = populations['x']/k\n",
    "    populations['y_temp'] = populations['y']/k\n",
    "    populations[name_risk] = list(populations.apply(lambda row: risk_function(row['x_temp'], row['y_temp']), axis=1))\n",
    "    populations[name_risk] = populations[name_risk].astype('float')\n",
    "    os.makedirs(f\"data/G{G}_L{L}_c{c}_k{k}_M{M}_HWE{HWE}/phenotype/environmental_risks/\", exist_ok=True)\n",
    "    populations[[name_risk]].to_pickle(f\"data/G{G}_L{L}_c{c}_k{k}_M{M}_HWE{HWE}/phenotype/environmental_risks/risk_{name_risk}.pkl\")\n",
    "    # Create subplots for each risk\n",
    "    fig, axs = plt.subplots(1, 1, figsize=(14, 12))\n",
    "    # Aggregate by x and y and calculate mean for each risk\n",
    "    df_agg = populations.groupby(['x', 'y']).agg({name_risk: 'mean'}).reset_index()\n",
    "    grid_df = df_agg.pivot(index='y', columns='x', values=name_risk)\n",
    "    sns.heatmap(grid_df, cmap='rocket_r', linewidths=.5, square=True, cbar=False)\n",
    "    \n",
    "    # Set the title dynamically based on the value of name_risk\n",
    "    axs.set_title(name_risk, fontsize=16)\n",
    "    \n",
    "    # Invert the y-axis\n",
    "    axs.invert_yaxis()\n",
    "    \n",
    "    # Adjust layout\n",
    "    plt.tight_layout()\n",
    "    #plt.show()\n",
    "    plt.close()"
   ]
  },
  {
   "cell_type": "code",
   "execution_count": null,
   "id": "3dd27b6d-8e57-427e-8f18-8ce41f0e4866",
   "metadata": {},
   "outputs": [],
   "source": []
  },
  {
   "cell_type": "code",
   "execution_count": null,
   "id": "7b6f3b3f-bab2-4fcf-a52c-e33824c5f7bd",
   "metadata": {},
   "outputs": [],
   "source": []
  },
  {
   "cell_type": "code",
   "execution_count": null,
   "id": "c9de2c65-203e-45d0-8c68-cc9a3917ca01",
   "metadata": {},
   "outputs": [],
   "source": []
  },
  {
   "cell_type": "code",
   "execution_count": null,
   "id": "94100497-13e1-4619-be1d-3320a80b5dda",
   "metadata": {},
   "outputs": [],
   "source": []
  },
  {
   "cell_type": "code",
   "execution_count": null,
   "id": "bdb453da-aba2-4b40-86e5-41ddf8f9ceff",
   "metadata": {},
   "outputs": [],
   "source": []
  },
  {
   "cell_type": "code",
   "execution_count": null,
   "id": "a0a46e86-2d4c-4bc4-8bc8-30e634d560e3",
   "metadata": {},
   "outputs": [],
   "source": []
  },
  {
   "cell_type": "code",
   "execution_count": null,
   "id": "59c6d367-cb78-4d8b-86f5-b86035b0a69f",
   "metadata": {},
   "outputs": [],
   "source": []
  },
  {
   "cell_type": "code",
   "execution_count": null,
   "id": "bdab377e-8963-4f28-a891-b99f2e557873",
   "metadata": {},
   "outputs": [],
   "source": []
  },
  {
   "cell_type": "markdown",
   "id": "42d4f65f-711f-4e8c-bd14-2ededaa2d028",
   "metadata": {},
   "source": [
    "# Visualise some examples"
   ]
  },
  {
   "cell_type": "code",
   "execution_count": 6,
   "id": "73649896-28ce-4dc5-ab3d-55d68fbac81c",
   "metadata": {},
   "outputs": [],
   "source": [
    "populations['gauss_blob_risk'] = list(populations.apply(lambda row: hi_gauss_blob_risk_fun(row['x_temp'], row['y_temp']), axis=1))\n",
    "populations['gauss_blob_risk'] = populations['gauss_blob_risk'].astype('float')\n",
    "\n",
    "populations['blob_risk'] = list(populations.apply(lambda row: blob_risk_fun(row['x_temp'], row['y_temp']), axis=1))\n",
    "populations['blob_risk'] = populations['blob_risk'].astype('float')\n",
    "\n",
    "populations['NW_risk'] = list(populations.apply(lambda row: NW_risk_fun(row['x_temp'], row['y_temp']), axis=1))\n",
    "populations['NW_risk'] = populations['NW_risk'].astype('float')\n",
    "\n",
    "populations['square_risk'] = list(populations.apply(lambda row: square_risk_fun(row['x_temp'], row['y_temp']), axis=1))\n",
    "populations['square_risk'] = populations['square_risk'].astype('float')"
   ]
  },
  {
   "cell_type": "code",
   "execution_count": 7,
   "id": "dc098ad8-62dd-41fd-b2bd-d038b2820abf",
   "metadata": {},
   "outputs": [
    {
     "data": {
      "image/png": "[encoded data removed]",
      "text/plain": [
       "<Figure size 1400x1200 with 4 Axes>"
      ]
     },
     "metadata": {},
     "output_type": "display_data"
    }
   ],
   "source": [
    "# Aggregate by x and y and calculate mean for each risk\n",
    "df_agg = populations.groupby(['x', 'y']).agg({'gauss_blob_risk': 'mean', \n",
    "                                     'blob_risk': 'mean', \n",
    "                                     'NW_risk': 'mean', \n",
    "                                     'square_risk': 'mean'}).reset_index()\n",
    "\n",
    "# Now, pivot the aggregated DataFrame for each risk\n",
    "grid_df_gauss_blob = df_agg.pivot(index='y', columns='x', values='gauss_blob_risk')\n",
    "grid_df_blob = df_agg.pivot(index='y', columns='x', values='blob_risk')\n",
    "grid_df_hi_square = df_agg.pivot(index='y', columns='x', values='NW_risk')\n",
    "grid_df_square = df_agg.pivot(index='y', columns='x', values='square_risk')\n",
    "\n",
    "# Create subplots for each risk\n",
    "fig, axs = plt.subplots(2, 2, figsize=(14, 12))\n",
    "\n",
    "# Plot for gauss_blob_risk\n",
    "sns.heatmap(grid_df_gauss_blob, cmap='rocket_r', linewidths=.5, square=True, cbar=False, ax=axs[0, 0])\n",
    "axs[0, 0].set_title('Gauss Blob Risk', fontsize=16)\n",
    "axs[0, 0].invert_yaxis()\n",
    "\n",
    "# Plot for blob_risk\n",
    "sns.heatmap(grid_df_blob, cmap='rocket_r', linewidths=.5, square=True, cbar=False, ax=axs[0, 1])\n",
    "axs[0, 1].set_title('Blob Risk', fontsize=16)\n",
    "axs[0, 1].invert_yaxis()\n",
    "\n",
    "# Plot for hi_square_risk\n",
    "sns.heatmap(grid_df_hi_square, cmap='rocket_r', linewidths=.5, square=True, cbar=False, ax=axs[1, 0])\n",
    "axs[1, 0].set_title('Smooth Risk', fontsize=16)\n",
    "axs[1, 0].invert_yaxis()\n",
    "\n",
    "# Plot for square_risk\n",
    "sns.heatmap(grid_df_square, cmap='rocket_r', linewidths=.5, square=True, cbar=False, ax=axs[1, 1])\n",
    "axs[1, 1].set_title('Square Risk', fontsize=16)\n",
    "axs[1, 1].invert_yaxis()\n",
    "\n",
    "# Adjust layout\n",
    "plt.tight_layout()\n",
    "#plt.show()\n",
    "plt.close()"
   ]
  },
  {
   "cell_type": "code",
   "execution_count": null,
   "id": "ca6ac82a-0e0e-46d8-83d0-671047d76cb0",
   "metadata": {},
   "outputs": [],
   "source": []
  },
  {
   "cell_type": "code",
   "execution_count": null,
   "id": "43b4aaf9-e1bb-4c57-9963-f15d27e016cd",
   "metadata": {},
   "outputs": [],
   "source": []
  },
  {
   "cell_type": "code",
   "execution_count": null,
   "id": "1861dbc8-a1bc-4c31-9595-7905d2b8ff99",
   "metadata": {},
   "outputs": [],
   "source": []
  }
 ],
 "metadata": {
  "kernelspec": {
   "display_name": "Python 3 (ipykernel)",
   "language": "python",
   "name": "python3"
  },
  "language_info": {
   "codemirror_mode": {
    "name": "ipython",
    "version": 3
   },
   "file_extension": ".py",
   "mimetype": "text/x-python",
   "name": "python",
   "nbconvert_exporter": "python",
   "pygments_lexer": "ipython3",
   "version": "3.10.2"
  }
 },
 "nbformat": 4,
 "nbformat_minor": 5
}
