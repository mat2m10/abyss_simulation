{
 "cells": [
  {
   "cell_type": "markdown",
   "id": "e709376f-58f6-451b-b035-5e8ee7eca98e",
   "metadata": {},
   "source": [
    "# Import libraries"
   ]
  },
  {
   "cell_type": "code",
   "execution_count": null,
   "id": "55f5ae49-7552-4db3-89f7-e4d2f079f162",
   "metadata": {},
   "outputs": [],
   "source": [
    "import os\n",
    "import subprocess\n",
    "from helpers import parse_variables\n",
    "import pandas as pd\n",
    "import numpy as np\n",
    "from sklearn.preprocessing import StandardScaler\n",
    "from sklearn.decomposition import PCA\n",
    "import seaborn as sns\n",
    "import matplotlib.pyplot as plt\n",
    "import statsmodels.api as sm\n",
    "from helpers import parse_variables\n",
    "import scipy.stats as stats\n",
    "from sklearn.preprocessing import StandardScaler\n",
    "from sklearn.decomposition import PCA\n",
    "from helpers import parse_variables, get_risk_level, hi_gauss_blob_risk_fun, blob_risk_fun, NW_risk_fun, square_risk_fun, map_to_color\n",
    "from matplotlib.colors import LinearSegmentedColormap\n",
    "import importlib.util\n",
    "from models import ols_regression, manhattan_linear, gc"
   ]
  },
  {
   "cell_type": "code",
   "execution_count": null,
   "id": "3d1b2bbd-06e1-473c-a069-62104421b67d",
   "metadata": {},
   "outputs": [],
   "source": [
    "# Function to pair SNPs and summarize genotype\n",
    "def summarize_genotypes(df):\n",
    "    summarized_genotypes = {}\n",
    "    # Iterate over pairs of columns\n",
    "    for i in range(1, df.shape[1], 2):\n",
    "        pair_sum = df.iloc[:, i-1] + df.iloc[:, i]\n",
    "        # Apply the genotype summarization logic\n",
    "        summarized_genotypes[f'G{i//2 + 1}'] = np.where(pair_sum == 2, 2, pair_sum)\n",
    "    return pd.DataFrame(summarized_genotypes)\n",
    "\n",
    "# Function to flip 0s to 2s and 2s to 0s\n",
    "def flip_genotypes(row):\n",
    "    if row['AFs'] > 0.5:\n",
    "        # Apply transformation for the condition\n",
    "        row[:-1] = row[:-1].replace({0: 2, 2: 0})\n",
    "        row['AFs'] = 1 - row['AFs']  # Adjust allele frequency\n",
    "    return row\n",
    "\n",
    "def contains_all_genotypes(series, genotypes={0.0, 1.0, 2.0}):\n",
    "    return genotypes.issubset(series.unique())"
   ]
  },
  {
   "cell_type": "code",
   "execution_count": null,
   "id": "b3a821d8-ea33-4335-9e02-29d0f0b7d5bd",
   "metadata": {},
   "outputs": [],
   "source": [
    "existing_risks = [\n",
    "    \"no_risk_fun\",\n",
    "    \"NW_risk_fun\",\n",
    "    \"N_risk_fun\",\n",
    "    \"blob_risk_fun\",\n",
    "    \"center_risk_fun\",\n",
    "    \"big_square_risk_fun\",\n",
    "    \"square_risk_fun\",\n",
    "    \"hi_square_risk_fun\",\n",
    "    \"mid_square_risk_fun\",\n",
    "    \"mid_mid_square_risk_fun\",\n",
    "    \"mid_mid_mid_square_risk_fun\",\n",
    "    \"big_bad_square_risk_fun\",\n",
    "    \"big_square_risk_fun_updated\",\n",
    "    \"big_big_square_risk_fun\",\n",
    "    \"big_big_big_square_risk_fun\",\n",
    "    \"two_square_risk_fun\",\n",
    "    \"three_square_risk_fun\",\n",
    "    \"four_square_risk_fun\",\n",
    "    \"as_big_blob_risk_fun\",\n",
    "    \"six_square_risk_fun\",\n",
    "    \"gauss_blob_risk_fun\",\n",
    "    \"hi_gauss_blob_risk_fun\"\n",
    "]"
   ]
  },
  {
   "cell_type": "code",
   "execution_count": null,
   "id": "689b3f07-912a-421a-a87f-5984ee1175b3",
   "metadata": {},
   "outputs": [],
   "source": [
    "dict = parse_variables('geno_simulation.txt')\n",
    "G = 10\n",
    "L = 10\n",
    "c = 50\n",
    "k = 2\n",
    "M = .1\n",
    "HWE = 1\n",
    "\n",
    "# Define the R commands to run, passing parameters as arguments\n",
    "commands = [\n",
    "    f\"source('geno_simulation.txt')\",\n",
    "    f\"source('create_geno.R', echo=TRUE)\",\n",
    "]\n",
    "\n",
    "\n",
    "commands = [\n",
    "    \"source('geno_simulation.txt')\",\n",
    "    f\"G <- {G}\",\n",
    "    f\"L <- {L}\",\n",
    "    f\"c <- {c}\",\n",
    "    f\"k <- {k}\",\n",
    "    f\"M <- {M}\",\n",
    "    \"source('create_geno.R', echo=TRUE)\"\n",
    "]\n",
    "\n",
    "# Concatenate commands into a single string\n",
    "r_script = \";\".join(commands)\n",
    "\n",
    "# Run the R script\n",
    "result = subprocess.run(['Rscript', '-e', r_script], capture_output=True, text=True)\n",
    "\n",
    "# Print the output\n",
    "#print(result.stdout)\n",
    "\n",
    "# Check for errors\n",
    "if result.returncode != 0:\n",
    "    print(\"Error executing R script:\")\n",
    "    print(result.stderr)\n",
    "    pass\n",
    "\n",
    "os.makedirs(f\"data/concept/genotype/raw\",exist_ok=True)\n",
    "os.system(f\"mv simulated_genotypes_G{G}_L{L}_c{c}_k{k}_M{M}.csv data/concept/genotype/raw/\")\n",
    "\n",
    "# Thresholds\n",
    "very_rare_threshold_L = float(dict['very_rare_threshold_L'])\n",
    "very_rare_threshold_H = float(dict['very_rare_threshold_H'])\n",
    "\n",
    "rare_threshold_L = float(dict['rare_threshold_L'])\n",
    "rare_threshold_H = float(dict['rare_threshold_H'])\n",
    "\n",
    "common_threshold_L = float(dict['common_threshold_L'])\n",
    "common_threshold_H = float(dict['common_threshold_H'])\n",
    "\n",
    "file = f\"data/concept/genotype/raw/simulated_genotypes_G{G}_L{L}_c{c}_k{k}_M{M}.csv\"\n",
    "path_simulated_file = \"./\"+ file\n",
    "number_of_loci = G*L\n",
    "number_of_individuals = c*k*k\n",
    "simulated_loci= pd.read_csv(path_simulated_file)"
   ]
  },
  {
   "cell_type": "code",
   "execution_count": null,
   "id": "782a28ec-b0a8-41f2-86fc-73f5856f5af3",
   "metadata": {},
   "outputs": [],
   "source": [
    "# Apply the function to the sample DataFrame\n",
    "simulated_genotype = summarize_genotypes(simulated_loci)\n",
    "columns_to_drop  = simulated_genotype.columns[simulated_genotype.nunique() == 1] # If double columns delete it \n",
    "simulated_genotype = simulated_genotype.drop(columns=columns_to_drop)"
   ]
  },
  {
   "cell_type": "code",
   "execution_count": null,
   "id": "b25318c5-6d34-43fd-afa6-8dc688b4672c",
   "metadata": {},
   "outputs": [],
   "source": [
    "number_of_populations = k*k\n",
    "labels_pop = []\n",
    "for i in range(number_of_populations):\n",
    "    labels_pop += [i+1]*c\n",
    "\n",
    "simulated_genotype[\"populations\"] = labels_pop\n",
    "simulated_genotype['populations'] = simulated_genotype['populations'].apply(lambda x: 1 if x in [1, 2] else 2)"
   ]
  },
  {
   "cell_type": "code",
   "execution_count": null,
   "id": "e7a7e6c2-ab1a-4e79-a57a-c11cd8ecf0d5",
   "metadata": {},
   "outputs": [],
   "source": [
    "unique_pops = simulated_genotype['populations'].unique()\n",
    "unique_pops.sort()\n",
    "dfs = []\n",
    "required_values = {0, 1, 2}\n",
    "\n",
    "# Optimization: Cache the set operation result\n",
    "simulated_genotype_sets = {col: set(simulated_genotype[col]) for col in simulated_genotype.columns}\n",
    "\n",
    "if HWE == 1:\n",
    "    for pop in unique_pops:\n",
    "        temp_pop = simulated_genotype[simulated_genotype[\"populations\"] == pop].drop('populations', axis=1)\n",
    "        \n",
    "        for col in temp_pop.columns:\n",
    "            column_values = simulated_genotype_sets[col]\n",
    "            \n",
    "            if not required_values.issubset(column_values):\n",
    "                # Optimization: Vectorized random choice and assignment\n",
    "                indices = np.random.choice(temp_pop.index, size=3, replace=False)\n",
    "                temp_pop.loc[indices[0], col] = 0\n",
    "                temp_pop.loc[indices[1], col] = 1\n",
    "                temp_pop.loc[indices[2], col] = 2\n",
    "\n",
    "            # Calculate frequencies\n",
    "            value_counts = temp_pop[col].value_counts().reindex([0, 1, 2], fill_value=0)\n",
    "            total = value_counts.sum()\n",
    "            q = (2*value_counts[2] + value_counts[1])/ (2*total)\n",
    "            if q > 0.5:\n",
    "                q = 1-q\n",
    "            p = 1 - q\n",
    "            freq_maj = p ** 2\n",
    "            freq_het = 2 * p * q\n",
    "            freq_min = q ** 2\n",
    "\n",
    "            # Optimization: Vectorized assignment of new genotypes\n",
    "            pop_geno = np.random.choice([1.0, 0.0, -1.0], size=total, p=[freq_maj, freq_het, freq_min])\n",
    "            temp_pop[col] = pop_geno\n",
    "\n",
    "        dfs.append(temp_pop)\n",
    "\n",
    "else:\n",
    "    print(\"HWE\")\n",
    "    for pop in unique_pops:\n",
    "        temp_pop = simulated_genotype[simulated_genotype[\"populations\"] == pop].drop('populations', axis=1)\n",
    "        \n",
    "        for col in temp_pop.columns:\n",
    "            column_values = simulated_genotype_sets[col]\n",
    "            \n",
    "            if not required_values.issubset(column_values):\n",
    "                # Optimization: Vectorized random choice and assignment\n",
    "                indices = np.random.choice(temp_pop.index, size=3, replace=False)\n",
    "                temp_pop.loc[indices[0], col] = 0\n",
    "                temp_pop.loc[indices[1], col] = 1\n",
    "                temp_pop.loc[indices[2], col] = 2\n",
    "\n",
    "            # Calculate frequencies\n",
    "            value_counts = temp_pop[col].value_counts().reindex([0, 1, 2], fill_value=0)\n",
    "            total = value_counts.sum()\n",
    "            q = (2*value_counts[2] + value_counts[1])/ (2*total)\n",
    "            if q > 0.5:\n",
    "                q = 1-q\n",
    "            p = 1 - q\n",
    "            freq_maj = p ** 2\n",
    "            freq_het = q ** 2\n",
    "            freq_min = 2 * p * q\n",
    "\n",
    "            # Optimization: Vectorized assignment of new genotypes\n",
    "            pop_geno = np.random.choice([1.0, 0.0, -1.0], size=total, p=[freq_maj, freq_het, freq_min])\n",
    "            temp_pop[col] = pop_geno\n",
    "\n",
    "        dfs.append(temp_pop)\n",
    "\n",
    "# Concatenate all dataframes if needed\n",
    "simulated_genotype = pd.concat(dfs, ignore_index=True)"
   ]
  },
  {
   "cell_type": "code",
   "execution_count": null,
   "id": "9834b3c6-a5f9-463d-b5d4-2dcb019dc752",
   "metadata": {},
   "outputs": [],
   "source": [
    "simulated_genotype = simulated_genotype+1"
   ]
  },
  {
   "cell_type": "code",
   "execution_count": null,
   "id": "942e4628-d0d0-456e-a844-290c447a8da3",
   "metadata": {},
   "outputs": [],
   "source": [
    "# calculate when AF is > 0.5 and change the genotype\n",
    "# Initialize a dictionary to store allele frequencies\n",
    "allele_frequencies = {}\n",
    "\n",
    "# Calculate allele frequencies for each SNP column\n",
    "for snp in simulated_genotype.columns:\n",
    "    total_alleles = 2 * len(simulated_genotype[snp])  # Total number of alleles (2 alleles per sample)\n",
    "    minor_allele_count = (2 * simulated_genotype[snp].value_counts().get(0, 0)) + simulated_genotype[snp].value_counts().get(1, 0)\n",
    "    allele_frequency = minor_allele_count / total_alleles\n",
    "    allele_frequencies[snp] = allele_frequency"
   ]
  },
  {
   "cell_type": "code",
   "execution_count": null,
   "id": "8e2a5275-fdf0-481d-949f-d0f4d681647c",
   "metadata": {},
   "outputs": [],
   "source": [
    "temp = simulated_genotype.T\n",
    "temp['AFs'] = allele_frequencies"
   ]
  },
  {
   "cell_type": "code",
   "execution_count": null,
   "id": "89b2bdf2-4a9a-4582-aec1-253cc424dacb",
   "metadata": {},
   "outputs": [],
   "source": [
    "# Apply the function across the DataFrame, row-wise\n",
    "df_transformed = temp.apply(flip_genotypes, axis=1)"
   ]
  },
  {
   "cell_type": "code",
   "execution_count": null,
   "id": "693e8b66-9e49-4495-8252-a79c88b84b98",
   "metadata": {},
   "outputs": [],
   "source": [
    "simulated_genotype = df_transformed.drop('AFs', axis=1).T\n",
    "columns_to_drop  = simulated_genotype.columns[simulated_genotype.nunique() == 1] # If double columns delete it \n",
    "simulated_genotype = simulated_genotype.drop(columns=columns_to_drop)"
   ]
  },
  {
   "cell_type": "code",
   "execution_count": null,
   "id": "d325eeaf-29c1-44cb-aea7-676b75339d00",
   "metadata": {},
   "outputs": [],
   "source": [
    "simulated_genotype = simulated_genotype[[col for col in simulated_genotype.columns if contains_all_genotypes(simulated_genotype[col])]]"
   ]
  },
  {
   "cell_type": "code",
   "execution_count": null,
   "id": "9763ef5b-0cb2-4bc1-ae43-7e0811c11579",
   "metadata": {},
   "outputs": [],
   "source": [
    "# calculate when AF is > 0.5 and change the genotype\n",
    "# Initialize a dictionary to store allele frequencies\n",
    "allele_frequencies = {}\n",
    "\n",
    "# Calculate allele frequencies for each SNP column\n",
    "for snp in simulated_genotype.columns:\n",
    "    total_alleles = 2 * len(simulated_genotype[snp])  # Total number of alleles (2 alleles per sample)\n",
    "    minor_allele_count = (2 * simulated_genotype[snp].value_counts().get(0, 0)) + simulated_genotype[snp].value_counts().get(1, 0)\n",
    "    allele_frequency = minor_allele_count / total_alleles\n",
    "    allele_frequencies[snp] = allele_frequency"
   ]
  },
  {
   "cell_type": "code",
   "execution_count": null,
   "id": "48471c11-d8a1-4c19-9636-9efe49fa33ee",
   "metadata": {},
   "outputs": [],
   "source": [
    "temp = simulated_genotype.T\n",
    "temp['AFs'] = allele_frequencies\n",
    "AFs = temp[['AFs']]"
   ]
  },
  {
   "cell_type": "code",
   "execution_count": null,
   "id": "0eb8a9f2-05c6-482e-9bc0-e6b369dec272",
   "metadata": {},
   "outputs": [],
   "source": [
    "# Create slices as copies to avoid SettingWithCopyWarning\n",
    "very_rare = temp[(temp['AFs'] > very_rare_threshold_L) & (temp['AFs'] <= very_rare_threshold_H)].copy()\n",
    "rare = temp[(temp['AFs'] > rare_threshold_L) & (temp['AFs'] <= rare_threshold_H)].copy()\n",
    "common = temp[(temp['AFs'] > common_threshold_L) & (temp['AFs'] <= common_threshold_H)].copy()\n",
    "\n",
    "# Modify 'snps' column using .loc to avoid warnings\n",
    "very_rare.loc[:, 'snps'] = very_rare.index + '_AF_' + very_rare['AFs'].astype(str)\n",
    "very_rare.set_index('snps', inplace=True)\n",
    "very_rare_to_save = very_rare.drop('AFs', axis=1).T\n",
    "very_rare_afs = very_rare[['AFs']]\n",
    "\n",
    "rare.loc[:, 'snps'] = rare.index + '_AF_' + rare['AFs'].astype(str)\n",
    "rare.set_index('snps', inplace=True)\n",
    "rare_to_save = rare.drop('AFs', axis=1).T\n",
    "rare_afs = rare[['AFs']]\n",
    "\n",
    "common.loc[:, 'snps'] = common.index + '_AF_' + common['AFs'].astype(str)\n",
    "common.set_index('snps', inplace=True)\n",
    "common_to_save = common.drop('AFs', axis=1).T\n",
    "common_afs = common[['AFs']]"
   ]
  },
  {
   "cell_type": "code",
   "execution_count": null,
   "id": "149e754b-bb42-4496-999b-bdadc551dfea",
   "metadata": {},
   "outputs": [],
   "source": [
    "very_rare_to_save = very_rare_to_save.rename(columns=lambda x: 'VR' + x)/2\n",
    "rare_to_save = rare_to_save.rename(columns=lambda x: 'R' + x)/2\n",
    "common_to_save = common_to_save.rename(columns=lambda x: 'C' + x)/2\n",
    "complete = pd.concat([common_to_save, rare_to_save, very_rare_to_save], axis=1)\n",
    "complete = ((complete*2)-1)"
   ]
  },
  {
   "cell_type": "code",
   "execution_count": null,
   "id": "4f4e3535-9613-491e-96a5-4d735d54080d",
   "metadata": {},
   "outputs": [],
   "source": [
    "number_of_populations = k*k\n",
    "labels_pop = []\n",
    "for i in range(number_of_populations):\n",
    "    labels_pop += [i+1]*c\n",
    "\n",
    "simulated_genotype[\"populations\"] = labels_pop\n",
    "simulated_genotype['populations'] = simulated_genotype['populations'].apply(lambda x: 1 if x in [1, 2] else 2)"
   ]
  },
  {
   "cell_type": "code",
   "execution_count": null,
   "id": "1b5959a4-4a83-4758-98ca-17424b81da0c",
   "metadata": {},
   "outputs": [],
   "source": [
    "complete['pop'] = simulated_genotype['populations']\n",
    "\n",
    "p2s_dfs = []\n",
    "q2s_dfs = []\n",
    "twopqs_dfs = []\n",
    "\n",
    "for pop in complete['pop'].unique():\n",
    "    temp = complete[complete['pop'] == pop].drop(\"pop\", axis=1)\n",
    "\n",
    "    # Count the number of major, heterozygous, and minor alleles\n",
    "    counts = temp.apply(pd.Series.value_counts).fillna(0)\n",
    "\n",
    "    num_maj = counts.loc[1.0]\n",
    "    num_het = counts.loc[0.0]\n",
    "    num_min = counts.loc[-1.0]\n",
    "\n",
    "    total_humans = num_maj + num_het + num_min\n",
    "\n",
    "    # Normalize to get frequencies instead of counts\n",
    "    p2s = num_maj / total_humans\n",
    "    twopqs = num_het / total_humans\n",
    "    q2s = num_min / total_humans\n",
    "\n",
    "    # Expand the normalized values across all rows for each population\n",
    "    p2s_dfs.append(pd.DataFrame([p2s] * temp.shape[0], index=temp.index, columns=temp.columns))\n",
    "    twopqs_dfs.append(pd.DataFrame([twopqs] * temp.shape[0], index=temp.index, columns=temp.columns))\n",
    "    q2s_dfs.append(pd.DataFrame([q2s] * temp.shape[0], index=temp.index, columns=temp.columns))\n",
    "\n",
    "# Drop \"pop\" from the original DataFrame\n",
    "complete = complete.drop(\"pop\", axis=1)\n",
    "\n",
    "# Concatenate all population-specific DataFrames\n",
    "true_p2s = pd.concat(p2s_dfs)\n",
    "true_twopqs = pd.concat(twopqs_dfs)\n",
    "true_q2s = pd.concat(q2s_dfs)"
   ]
  },
  {
   "cell_type": "code",
   "execution_count": null,
   "id": "8a21a7f8-8365-4287-b9b1-1aa5088dbb6a",
   "metadata": {},
   "outputs": [],
   "source": [
    "first_snp = list(complete.columns)[0]"
   ]
  },
  {
   "cell_type": "code",
   "execution_count": null,
   "id": "be1eec0e-780f-41d2-829e-f748f5b42425",
   "metadata": {},
   "outputs": [],
   "source": [
    "geno = complete[[first_snp]]"
   ]
  },
  {
   "cell_type": "code",
   "execution_count": null,
   "id": "6f191e9a-3c7d-4561-92ec-60a59451b491",
   "metadata": {},
   "outputs": [],
   "source": [
    "p2_min_q2 = true_p2s - true_q2s\n",
    "p2_min_q2 = p2_min_q2[[first_snp]]"
   ]
  },
  {
   "cell_type": "code",
   "execution_count": null,
   "id": "52919932-7c07-4dbe-a04d-f6f52dc59f11",
   "metadata": {},
   "outputs": [],
   "source": [
    "populations = simulated_genotype[['populations']]"
   ]
  },
  {
   "cell_type": "code",
   "execution_count": null,
   "id": "560c1f14-5166-44e4-9999-926e76e95b3c",
   "metadata": {},
   "outputs": [],
   "source": [
    "\n",
    "populations['x'] = populations['populations']\n",
    "populations['y'] = 1\n",
    "populations['z'] = 0.5"
   ]
  },
  {
   "cell_type": "code",
   "execution_count": null,
   "id": "5b01886a-9d4a-4935-a9d2-bef6247a7b32",
   "metadata": {},
   "outputs": [],
   "source": [
    "palette = [map_to_color(x, y, z, populations) for x, y, z in zip(populations['x'], populations['y'], populations['z'])]"
   ]
  },
  {
   "cell_type": "code",
   "execution_count": null,
   "id": "5f1523be-278a-4152-a2b4-7884200269f9",
   "metadata": {},
   "outputs": [],
   "source": [
    "# Check the grid\n",
    "df_agg = populations.groupby(['x', 'y']).agg({'populations': 'mean'}).reset_index()\n",
    "\n",
    "# Now, pivot the aggregated DataFrame\n",
    "grid_df = df_agg.pivot(index='y', columns='x', values='populations')\n",
    "\n",
    "# Use seaborn to create the heatmap\n",
    "plt.figure(figsize=(10, 10))\n",
    "heatmap = sns.heatmap(grid_df, cmap=palette, linewidths=.5, square=True, cbar=False)\n",
    "\n",
    "# Add a title to the heatmap\n",
    "plt.title('Population Grid', fontsize=16)\n",
    "plt.gca().invert_yaxis()  # Sometimes it's necessary to invert the y-axis for correct orientation\n",
    "plt.show()\n",
    "plt.close()"
   ]
  },
  {
   "cell_type": "code",
   "execution_count": null,
   "id": "3c719225-4c72-41b8-958a-00c0655a2766",
   "metadata": {},
   "outputs": [],
   "source": [
    "scaler = StandardScaler()\n",
    "scaled_complete = scaler.fit_transform(complete)\n",
    "n_components = max(min(complete.shape[1], 50), 4)\n",
    "pca = PCA(n_components=n_components)\n",
    "pc_labels_complete = [f\"PC{i}\" for i in range(1, n_components + 1)]\n",
    "PC_complete = pca.fit_transform(scaled_complete)\n",
    "PC_complete = pd.DataFrame(data=PC_complete, columns=pc_labels_complete)"
   ]
  },
  {
   "cell_type": "code",
   "execution_count": null,
   "id": "2884256b-ad13-443b-b32b-0178104fd83c",
   "metadata": {},
   "outputs": [],
   "source": [
    "to_have_collumns = ['populations', 'x', 'y']\n",
    "PC_complete[to_have_collumns] = populations[to_have_collumns]"
   ]
  },
  {
   "cell_type": "code",
   "execution_count": null,
   "id": "71b27f26-9142-4cf5-93f8-01189aa82ece",
   "metadata": {},
   "outputs": [],
   "source": [
    "sns.scatterplot(x='PC1', y='PC2', data=PC_complete, color=palette, linewidth=0)\n",
    "\n",
    "# Adjust layout\n",
    "plt.tight_layout()\n",
    "plt.title(f\"Vizualizing populations with migration rate = {M}\")\n",
    "plt.show()\n",
    "plt.close()"
   ]
  },
  {
   "cell_type": "code",
   "execution_count": null,
   "id": "d32ac3c1-baeb-4914-808c-4008d3f92643",
   "metadata": {},
   "outputs": [],
   "source": [
    "PC_complete['mafs'] = true_q2s[[first_snp]].apply(np.sqrt).round(2)"
   ]
  },
  {
   "cell_type": "code",
   "execution_count": null,
   "id": "5d84ebbd-6940-4132-b89c-35f8db8ee066",
   "metadata": {},
   "outputs": [],
   "source": [
    "sns.scatterplot(x='PC1', y='PC2', data=PC_complete, hue = 'mafs', linewidth=0)\n",
    "\n",
    "# Adjust layout\n",
    "plt.tight_layout()\n",
    "plt.title(f\"Vizualizing minor allele frequencies variations for SNP {first_snp}\")\n",
    "plt.show()\n",
    "plt.close()"
   ]
  },
  {
   "cell_type": "code",
   "execution_count": null,
   "id": "8ab43c0a-bba7-4da8-877d-6e5b2ce29f90",
   "metadata": {},
   "outputs": [],
   "source": [
    "risk = existing_risks[1]\n",
    "risk"
   ]
  },
  {
   "cell_type": "code",
   "execution_count": null,
   "id": "d6f5f0f9-90fa-424f-acac-f58a48654004",
   "metadata": {},
   "outputs": [],
   "source": [
    "# Dynamically import the function based on the risk level\n",
    "module_name = 'helpers'\n",
    "module_spec = importlib.util.spec_from_file_location(module_name, 'helpers.py')\n",
    "helpers = importlib.util.module_from_spec(module_spec)\n",
    "module_spec.loader.exec_module(helpers)\n"
   ]
  },
  {
   "cell_type": "code",
   "execution_count": null,
   "id": "9d337956-c534-4fa3-9497-f461bd940d07",
   "metadata": {},
   "outputs": [],
   "source": [
    "risk_function = getattr(helpers, risk)\n",
    "name_risk = risk.split('_fun')[0]\n",
    "populations['x_temp'] = populations['x']/k\n",
    "populations['y_temp'] = populations['y']/k\n",
    "populations[name_risk] = list(populations.apply(lambda row: risk_function(row['x_temp'], row['y_temp']), axis=1))\n",
    "populations[name_risk] = populations[name_risk].astype('float')"
   ]
  },
  {
   "cell_type": "code",
   "execution_count": null,
   "id": "965e29e3-57cc-4fd4-97f1-3a2c2410da3b",
   "metadata": {},
   "outputs": [],
   "source": [
    "PC_complete['risk'] = populations['NW_risk']"
   ]
  },
  {
   "cell_type": "code",
   "execution_count": null,
   "id": "efbc8b4b-b18f-4cf9-be9f-64f38d04add9",
   "metadata": {},
   "outputs": [],
   "source": [
    "sns.scatterplot(x='PC1', y='PC2', data=PC_complete, hue = 'risk', linewidth=0)\n",
    "\n",
    "# Adjust layout\n",
    "plt.tight_layout()\n",
    "plt.title(f\"Vizualizing different environmental risk between populations\")\n",
    "plt.show()\n",
    "plt.close()"
   ]
  },
  {
   "cell_type": "code",
   "execution_count": null,
   "id": "487e8398-f5ab-4491-b48e-d82107084c00",
   "metadata": {},
   "outputs": [],
   "source": [
    "# manually calculate the betas "
   ]
  },
  {
   "cell_type": "code",
   "execution_count": null,
   "id": "7fd70f97-bc41-4c0b-9e2f-9e8c01f5f096",
   "metadata": {},
   "outputs": [],
   "source": [
    "from sklearn.preprocessing import MinMaxScaler, StandardScaler\n",
    "scaler = MinMaxScaler()\n",
    "scaler = StandardScaler()\n",
    "PC_complete['risk_scaled'] = scaler.fit_transform(PC_complete[['risk']])"
   ]
  },
  {
   "cell_type": "code",
   "execution_count": null,
   "id": "d521fe21-b757-44e6-890d-85c980a83f55",
   "metadata": {},
   "outputs": [],
   "source": [
    "PC_complete['snp'] = complete[first_snp]\n",
    "mean_risk_per_pop = {}\n",
    "nr_people_per_pop = {}\n",
    "maj_afs = {}\n",
    "min_afs = {}\n",
    "het_afs = {}\n",
    "total_nr_peeps = 0\n",
    "mean_global_risk = 0\n",
    "for unique_pop in PC_complete.populations.unique():\n",
    "    temp = PC_complete[PC_complete['populations'] == unique_pop]\n",
    "\n",
    "\n",
    "    total_alleles = len(temp['snp'])  # Total number of alleles (2 alleles per sample)\n",
    "    q2_freq = (temp['snp'].value_counts().get(-1, 0))/total_alleles\n",
    "    pq_freq = (temp['snp'].value_counts().get(0, 0))/total_alleles\n",
    "    p2_freq = (temp['snp'].value_counts().get(1, 0))/total_alleles\n",
    "\n",
    "    \n",
    "    mean_risk_per_pop[unique_pop] = temp['risk_scaled'].mean()\n",
    "    mean_global_risk += temp['risk_scaled'].mean()\n",
    "    nr_people_per_pop[unique_pop] = len(temp)\n",
    "    total_nr_peeps += len(temp)\n",
    "    maj_afs[unique_pop] = p2_freq\n",
    "    min_afs[unique_pop] = q2_freq\n",
    "    het_afs[unique_pop] = pq_freq\n",
    "\n",
    "mean_risk_per_pop['global_mean'] = mean_global_risk/len(PC_complete.populations.unique())\n",
    "nr_people_per_pop['total'] = total_nr_peeps\n",
    "\n",
    "total_alleles = len(PC_complete['snp'])  # Total number of alleles (2 alleles per sample)\n",
    "q2_freq = (PC_complete['snp'].value_counts().get(-1, 0))/total_alleles\n",
    "pq_freq = (PC_complete['snp'].value_counts().get(0, 0))/total_alleles\n",
    "p2_freq = (PC_complete['snp'].value_counts().get(1, 0))/total_alleles\n",
    "\n",
    "maj_afs['mean'] = p2_freq\n",
    "min_afs['mean'] = q2_freq\n",
    "het_afs['mean'] = pq_freq\n"
   ]
  },
  {
   "cell_type": "code",
   "execution_count": null,
   "id": "2efd6ea0-7093-41d3-9f5e-958a9e2792fc",
   "metadata": {},
   "outputs": [],
   "source": [
    "mean_risk_per_pop"
   ]
  },
  {
   "cell_type": "code",
   "execution_count": null,
   "id": "bfdb232e-76a0-482a-ae41-85e8c8762c5e",
   "metadata": {},
   "outputs": [],
   "source": [
    "nr_people_per_pop"
   ]
  },
  {
   "cell_type": "code",
   "execution_count": null,
   "id": "1b0aca51-9f5c-4861-a6d5-ceadf061c43f",
   "metadata": {},
   "outputs": [],
   "source": [
    "maj_afs"
   ]
  },
  {
   "cell_type": "code",
   "execution_count": null,
   "id": "2f279bcc-72ac-4596-aa29-14b24be63b29",
   "metadata": {},
   "outputs": [],
   "source": [
    "min_afs"
   ]
  },
  {
   "cell_type": "code",
   "execution_count": null,
   "id": "55a8405f-47a6-466b-8bd0-11edd01a3571",
   "metadata": {},
   "outputs": [],
   "source": [
    "het_afs"
   ]
  },
  {
   "cell_type": "code",
   "execution_count": null,
   "id": "aca566ee-3427-4559-bf44-6d4cf2e2c66a",
   "metadata": {},
   "outputs": [],
   "source": [
    "pheno_minor_pop1 = (nr_people_per_pop[1]/nr_people_per_pop['total'])*(min_afs[1]/min_afs['mean'])*mean_risk_per_pop[1]\n",
    "pheno_minor_pop2 = (nr_people_per_pop[2]/nr_people_per_pop['total'])*(min_afs[2]/min_afs['mean'])*mean_risk_per_pop[2]"
   ]
  },
  {
   "cell_type": "code",
   "execution_count": null,
   "id": "5259b2f3-75ea-4b30-b04a-1c43db78dd0b",
   "metadata": {},
   "outputs": [],
   "source": [
    "pheno_minor = pheno_minor_pop1+pheno_minor_pop2\n",
    "pheno_minor"
   ]
  },
  {
   "cell_type": "code",
   "execution_count": null,
   "id": "01e29348-7dbb-4ec7-9510-fa711e45b450",
   "metadata": {},
   "outputs": [],
   "source": [
    "pheno_het_pop1 = (nr_people_per_pop[1]/nr_people_per_pop['total'])*(het_afs[1]/het_afs['mean'])*mean_risk_per_pop[1]\n",
    "pheno_het_pop2 = (nr_people_per_pop[2]/nr_people_per_pop['total'])*(het_afs[2]/het_afs['mean'])*mean_risk_per_pop[2]\n",
    "pheno_het = pheno_het_pop1+pheno_het_pop2\n",
    "pheno_het"
   ]
  },
  {
   "cell_type": "code",
   "execution_count": null,
   "id": "0ad474dd-f718-41b5-9067-c71a5140430e",
   "metadata": {},
   "outputs": [],
   "source": [
    "pheno_maj_pop1 = (nr_people_per_pop[1]/nr_people_per_pop['total'])*(maj_afs[1]/maj_afs['mean'])*mean_risk_per_pop[1]\n",
    "pheno_maj_pop2 = (nr_people_per_pop[2]/nr_people_per_pop['total'])*(maj_afs[2]/maj_afs['mean'])*mean_risk_per_pop[2]\n",
    "pheno_maj = pheno_maj_pop1+pheno_maj_pop2\n",
    "pheno_maj"
   ]
  },
  {
   "cell_type": "code",
   "execution_count": null,
   "id": "d147f807-5861-43a0-a978-9bc5affcf932",
   "metadata": {},
   "outputs": [],
   "source": [
    "geno_minor = -1\n",
    "geno_het = 0\n",
    "geno_major = 1"
   ]
  },
  {
   "cell_type": "code",
   "execution_count": null,
   "id": "ecda8213-09a1-4b3e-b4ed-cd7d1c72c1e5",
   "metadata": {},
   "outputs": [],
   "source": [
    "sum_x = geno_minor + geno_het + geno_major\n",
    "sum_y = pheno_minor + pheno_het + pheno_maj\n",
    "sum_xy = geno_minor*pheno_minor + geno_het*pheno_het + geno_major*pheno_maj\n",
    "sum_x2 = geno_minor**2 + geno_het**2 + geno_minor**2"
   ]
  },
  {
   "cell_type": "code",
   "execution_count": null,
   "id": "65f403ad-0ed3-4d4a-ada3-d342c2768670",
   "metadata": {},
   "outputs": [],
   "source": [
    "(3*sum_xy-sum_x*sum_y)/(3*sum_x2 - sum_x**2)"
   ]
  },
  {
   "cell_type": "code",
   "execution_count": null,
   "id": "58b7e379-da65-4083-8b13-205cdfc9e871",
   "metadata": {},
   "outputs": [],
   "source": [
    "only_risk_via_snps = manhattan_linear(complete[[first_snp]], PC_complete[['risk_scaled']])\n",
    "only_risk_via_snps"
   ]
  },
  {
   "cell_type": "code",
   "execution_count": null,
   "id": "77b6927e-2776-4956-9aa1-92110934b246",
   "metadata": {},
   "outputs": [],
   "source": [
    "only_risk_via_snps = manhattan_linear(p2_min_q2[[first_snp]]*6, PC_complete[['risk_scaled']])\n",
    "only_risk_via_snps"
   ]
  },
  {
   "cell_type": "code",
   "execution_count": null,
   "id": "a715babd-b84b-4112-be2a-9214987a269f",
   "metadata": {},
   "outputs": [],
   "source": [
    "only_risk_via_snps['coefs'][0]"
   ]
  },
  {
   "cell_type": "code",
   "execution_count": null,
   "id": "6a39aa41-bb0b-4bcb-b252-2aef42a87a6f",
   "metadata": {},
   "outputs": [],
   "source": [
    "betas_calculated = []\n",
    "betas_snps = []\n",
    "betas_mafs = []\n",
    "for first_snp in complete.columns:\n",
    "    PC_complete['snp'] = complete[first_snp]\n",
    "    mean_risk_per_pop = {}\n",
    "    nr_people_per_pop = {}\n",
    "    maj_afs = {}\n",
    "    min_afs = {}\n",
    "    het_afs = {}\n",
    "    total_nr_peeps = 0\n",
    "    mean_global_risk = 0\n",
    "    for unique_pop in PC_complete.populations.unique():\n",
    "        temp = PC_complete[PC_complete['populations'] == unique_pop]\n",
    "    \n",
    "    \n",
    "        total_alleles = len(temp['snp'])  # Total number of alleles (2 alleles per sample)\n",
    "        q2_freq = (temp['snp'].value_counts().get(-1, 0))/total_alleles\n",
    "        pq_freq = (temp['snp'].value_counts().get(0, 0))/total_alleles\n",
    "        p2_freq = (temp['snp'].value_counts().get(1, 0))/total_alleles\n",
    "    \n",
    "        \n",
    "        mean_risk_per_pop[unique_pop] = temp['risk_scaled'].mean()\n",
    "        mean_global_risk += temp['risk_scaled'].mean()\n",
    "        nr_people_per_pop[unique_pop] = len(temp)\n",
    "        total_nr_peeps += len(temp)\n",
    "        maj_afs[unique_pop] = p2_freq\n",
    "        min_afs[unique_pop] = q2_freq\n",
    "        het_afs[unique_pop] = pq_freq\n",
    "    \n",
    "    mean_risk_per_pop['global_mean'] = mean_global_risk/len(PC_complete.populations.unique())\n",
    "    nr_people_per_pop['total'] = total_nr_peeps\n",
    "    \n",
    "    total_alleles = len(PC_complete['snp'])  # Total number of alleles (2 alleles per sample)\n",
    "    q2_freq = (PC_complete['snp'].value_counts().get(-1, 0))/total_alleles\n",
    "    pq_freq = (PC_complete['snp'].value_counts().get(0, 0))/total_alleles\n",
    "    p2_freq = (PC_complete['snp'].value_counts().get(1, 0))/total_alleles\n",
    "    \n",
    "    maj_afs['mean'] = p2_freq\n",
    "    min_afs['mean'] = q2_freq\n",
    "    het_afs['mean'] = pq_freq\n",
    "\n",
    "    pheno_minor = 0\n",
    "    pheno_het = 0\n",
    "    pheno_major = 0\n",
    "    for unique_pop in PC_complete.populations.unique():\n",
    "        pheno_minor += (nr_people_per_pop[unique_pop]/nr_people_per_pop['total'])*(min_afs[unique_pop]/min_afs['mean'])*mean_risk_per_pop[unique_pop]\n",
    "        pheno_het += (nr_people_per_pop[unique_pop]/nr_people_per_pop['total'])*(het_afs[unique_pop]/het_afs['mean'])*mean_risk_per_pop[unique_pop]\n",
    "        pheno_major += (nr_people_per_pop[unique_pop]/nr_people_per_pop['total'])*(maj_afs[unique_pop]/maj_afs['mean'])*mean_risk_per_pop[unique_pop]\n",
    "        \n",
    "    geno_minor = -1\n",
    "    geno_het = 0\n",
    "    geno_major = 1\n",
    "\n",
    "    sum_x = geno_minor + geno_het + geno_major\n",
    "    sum_y = pheno_minor + pheno_het + pheno_maj\n",
    "    sum_xy = geno_minor*pheno_minor + geno_het*pheno_het + geno_major*pheno_maj\n",
    "    sum_x2 = geno_minor**2 + geno_het**2 + geno_minor**2\n",
    "\n",
    "    beta_calculated = (3*sum_xy-sum_x*sum_y)/(3*sum_x2 - sum_x**2)\n",
    "    betas_calculated.append(beta_calculated)\n",
    "    beta_snps = manhattan_linear(complete[[first_snp]], PC_complete[['risk_scaled']])\n",
    "    betas_snps.append(beta_snps['coefs'][0])\n",
    "\n",
    "    beta_maf = manhattan_linear(p2_min_q2[[first_snp]]*6, PC_complete[['risk_scaled']])\n",
    "    betas_mafs.append(beta_maf['coefs'][0])"
   ]
  },
  {
   "cell_type": "code",
   "execution_count": null,
   "id": "e0fbb1b4-98ec-4a67-bfc9-6dd2508c25a5",
   "metadata": {},
   "outputs": [],
   "source": []
  },
  {
   "cell_type": "code",
   "execution_count": null,
   "id": "c9cbe919-2076-4e78-bb34-c544fc756d42",
   "metadata": {},
   "outputs": [],
   "source": []
  },
  {
   "cell_type": "code",
   "execution_count": null,
   "id": "4b0a0dfa-d1ee-43ef-84aa-a77162cb4559",
   "metadata": {},
   "outputs": [],
   "source": []
  },
  {
   "cell_type": "code",
   "execution_count": null,
   "id": "dc34d947-5d58-4f74-92eb-423b5c360a35",
   "metadata": {},
   "outputs": [],
   "source": []
  },
  {
   "cell_type": "code",
   "execution_count": 45,
   "id": "b3be3072-6cfe-4f0f-ae01-3e99be28924e",
   "metadata": {},
   "outputs": [],
   "source": [
    "# lets see what happens when we do a linear regression on this one SNP with different AF per pops"
   ]
  },
  {
   "cell_type": "code",
   "execution_count": null,
   "id": "d6d7caff-c6a1-4bef-a769-8f36107fce56",
   "metadata": {},
   "outputs": [],
   "source": []
  },
  {
   "cell_type": "code",
   "execution_count": 48,
   "id": "f8505337-b223-40c7-8f41-4a92c237d18b",
   "metadata": {},
   "outputs": [],
   "source": [
    "to_test = (complete[[first_snp]].copy() + 1)/2\n",
    "\n",
    "to_test[f\"{first_snp}_homozyg\"] = p2_min_q2[[first_snp]]\n",
    "to_test[f\"{first_snp}_heterozyg\"] = true_twopqs[[first_snp]]\n",
    "to_test['has_hetero'] = 0\n",
    "to_test.loc[to_test[first_snp] == 0.0, 'has_hetero'] = 1\n",
    "to_test['pheno'] = PC_complete[['risk']]\n",
    "to_test['pheno_updated'] = to_test['pheno']\n",
    "to_test.loc[to_test[first_snp] == 0.0, 'pheno_updated'] = to_test['pheno'].mean()"
   ]
  },
  {
   "cell_type": "code",
   "execution_count": 49,
   "id": "64ac0f7b-cab7-4641-aa66-8843a19af782",
   "metadata": {},
   "outputs": [
    {
     "data": {
      "text/html": [
       "<div>\n",
       "<style scoped>\n",
       "    .dataframe tbody tr th:only-of-type {\n",
       "        vertical-align: middle;\n",
       "    }\n",
       "\n",
       "    .dataframe tbody tr th {\n",
       "        vertical-align: top;\n",
       "    }\n",
       "\n",
       "    .dataframe thead th {\n",
       "        text-align: right;\n",
       "    }\n",
       "</style>\n",
       "<table border=\"1\" class=\"dataframe\">\n",
       "  <thead>\n",
       "    <tr style=\"text-align: right;\">\n",
       "      <th>snps</th>\n",
       "      <th>CG4_AF_0.3725</th>\n",
       "      <th>CG4_AF_0.3725_homozyg</th>\n",
       "      <th>CG4_AF_0.3725_heterozyg</th>\n",
       "      <th>has_hetero</th>\n",
       "      <th>pheno</th>\n",
       "      <th>pheno_updated</th>\n",
       "    </tr>\n",
       "  </thead>\n",
       "  <tbody>\n",
       "    <tr>\n",
       "      <th>0</th>\n",
       "      <td>0.0</td>\n",
       "      <td>-0.05</td>\n",
       "      <td>0.43</td>\n",
       "      <td>1</td>\n",
       "      <td>0.250</td>\n",
       "      <td>0.1875</td>\n",
       "    </tr>\n",
       "    <tr>\n",
       "      <th>1</th>\n",
       "      <td>0.5</td>\n",
       "      <td>-0.05</td>\n",
       "      <td>0.43</td>\n",
       "      <td>0</td>\n",
       "      <td>0.250</td>\n",
       "      <td>0.2500</td>\n",
       "    </tr>\n",
       "    <tr>\n",
       "      <th>2</th>\n",
       "      <td>1.0</td>\n",
       "      <td>-0.05</td>\n",
       "      <td>0.43</td>\n",
       "      <td>0</td>\n",
       "      <td>0.250</td>\n",
       "      <td>0.2500</td>\n",
       "    </tr>\n",
       "    <tr>\n",
       "      <th>3</th>\n",
       "      <td>0.5</td>\n",
       "      <td>-0.05</td>\n",
       "      <td>0.43</td>\n",
       "      <td>0</td>\n",
       "      <td>0.250</td>\n",
       "      <td>0.2500</td>\n",
       "    </tr>\n",
       "    <tr>\n",
       "      <th>4</th>\n",
       "      <td>0.0</td>\n",
       "      <td>-0.05</td>\n",
       "      <td>0.43</td>\n",
       "      <td>1</td>\n",
       "      <td>0.250</td>\n",
       "      <td>0.1875</td>\n",
       "    </tr>\n",
       "    <tr>\n",
       "      <th>...</th>\n",
       "      <td>...</td>\n",
       "      <td>...</td>\n",
       "      <td>...</td>\n",
       "      <td>...</td>\n",
       "      <td>...</td>\n",
       "      <td>...</td>\n",
       "    </tr>\n",
       "    <tr>\n",
       "      <th>195</th>\n",
       "      <td>1.0</td>\n",
       "      <td>0.56</td>\n",
       "      <td>0.34</td>\n",
       "      <td>0</td>\n",
       "      <td>0.125</td>\n",
       "      <td>0.1250</td>\n",
       "    </tr>\n",
       "    <tr>\n",
       "      <th>196</th>\n",
       "      <td>1.0</td>\n",
       "      <td>0.56</td>\n",
       "      <td>0.34</td>\n",
       "      <td>0</td>\n",
       "      <td>0.125</td>\n",
       "      <td>0.1250</td>\n",
       "    </tr>\n",
       "    <tr>\n",
       "      <th>197</th>\n",
       "      <td>0.5</td>\n",
       "      <td>0.56</td>\n",
       "      <td>0.34</td>\n",
       "      <td>0</td>\n",
       "      <td>0.125</td>\n",
       "      <td>0.1250</td>\n",
       "    </tr>\n",
       "    <tr>\n",
       "      <th>198</th>\n",
       "      <td>1.0</td>\n",
       "      <td>0.56</td>\n",
       "      <td>0.34</td>\n",
       "      <td>0</td>\n",
       "      <td>0.125</td>\n",
       "      <td>0.1250</td>\n",
       "    </tr>\n",
       "    <tr>\n",
       "      <th>199</th>\n",
       "      <td>0.5</td>\n",
       "      <td>0.56</td>\n",
       "      <td>0.34</td>\n",
       "      <td>0</td>\n",
       "      <td>0.125</td>\n",
       "      <td>0.1250</td>\n",
       "    </tr>\n",
       "  </tbody>\n",
       "</table>\n",
       "<p>200 rows × 6 columns</p>\n",
       "</div>"
      ],
      "text/plain": [
       "snps  CG4_AF_0.3725  CG4_AF_0.3725_homozyg  CG4_AF_0.3725_heterozyg  \\\n",
       "0               0.0                  -0.05                     0.43   \n",
       "1               0.5                  -0.05                     0.43   \n",
       "2               1.0                  -0.05                     0.43   \n",
       "3               0.5                  -0.05                     0.43   \n",
       "4               0.0                  -0.05                     0.43   \n",
       "..              ...                    ...                      ...   \n",
       "195             1.0                   0.56                     0.34   \n",
       "196             1.0                   0.56                     0.34   \n",
       "197             0.5                   0.56                     0.34   \n",
       "198             1.0                   0.56                     0.34   \n",
       "199             0.5                   0.56                     0.34   \n",
       "\n",
       "snps  has_hetero  pheno  pheno_updated  \n",
       "0              1  0.250         0.1875  \n",
       "1              0  0.250         0.2500  \n",
       "2              0  0.250         0.2500  \n",
       "3              0  0.250         0.2500  \n",
       "4              1  0.250         0.1875  \n",
       "..           ...    ...            ...  \n",
       "195            0  0.125         0.1250  \n",
       "196            0  0.125         0.1250  \n",
       "197            0  0.125         0.1250  \n",
       "198            0  0.125         0.1250  \n",
       "199            0  0.125         0.1250  \n",
       "\n",
       "[200 rows x 6 columns]"
      ]
     },
     "execution_count": 49,
     "metadata": {},
     "output_type": "execute_result"
    }
   ],
   "source": [
    "to_test"
   ]
  },
  {
   "cell_type": "code",
   "execution_count": 50,
   "id": "0665643e-33c6-4187-a6c2-17942a896b5a",
   "metadata": {},
   "outputs": [
    {
     "data": {
      "text/html": [
       "<div>\n",
       "<style scoped>\n",
       "    .dataframe tbody tr th:only-of-type {\n",
       "        vertical-align: middle;\n",
       "    }\n",
       "\n",
       "    .dataframe tbody tr th {\n",
       "        vertical-align: top;\n",
       "    }\n",
       "\n",
       "    .dataframe thead th {\n",
       "        text-align: right;\n",
       "    }\n",
       "</style>\n",
       "<table border=\"1\" class=\"dataframe\">\n",
       "  <thead>\n",
       "    <tr style=\"text-align: right;\">\n",
       "      <th></th>\n",
       "      <th>snp</th>\n",
       "      <th>coefs</th>\n",
       "      <th>AFs</th>\n",
       "      <th>Ps</th>\n",
       "      <th>-logPs</th>\n",
       "    </tr>\n",
       "  </thead>\n",
       "  <tbody>\n",
       "    <tr>\n",
       "      <th>0</th>\n",
       "      <td>CG4</td>\n",
       "      <td>-0.069321</td>\n",
       "      <td>0.3725</td>\n",
       "      <td>1.451754e-09</td>\n",
       "      <td>8.838107</td>\n",
       "    </tr>\n",
       "  </tbody>\n",
       "</table>\n",
       "</div>"
      ],
      "text/plain": [
       "   snp     coefs     AFs            Ps    -logPs\n",
       "0  CG4 -0.069321  0.3725  1.451754e-09  8.838107"
      ]
     },
     "execution_count": 50,
     "metadata": {},
     "output_type": "execute_result"
    }
   ],
   "source": [
    "only_risk_via_snps = manhattan_linear(to_test[[first_snp]], to_test[['pheno']])\n",
    "only_risk_via_snps"
   ]
  },
  {
   "cell_type": "code",
   "execution_count": 51,
   "id": "6b73dc1f-fea1-48bc-ade5-3b20892008c1",
   "metadata": {},
   "outputs": [
    {
     "data": {
      "text/html": [
       "<div>\n",
       "<style scoped>\n",
       "    .dataframe tbody tr th:only-of-type {\n",
       "        vertical-align: middle;\n",
       "    }\n",
       "\n",
       "    .dataframe tbody tr th {\n",
       "        vertical-align: top;\n",
       "    }\n",
       "\n",
       "    .dataframe thead th {\n",
       "        text-align: right;\n",
       "    }\n",
       "</style>\n",
       "<table border=\"1\" class=\"dataframe\">\n",
       "  <thead>\n",
       "    <tr style=\"text-align: right;\">\n",
       "      <th></th>\n",
       "      <th>snp</th>\n",
       "      <th>coefs</th>\n",
       "      <th>AFs</th>\n",
       "      <th>Ps</th>\n",
       "      <th>-logPs</th>\n",
       "    </tr>\n",
       "  </thead>\n",
       "  <tbody>\n",
       "    <tr>\n",
       "      <th>0</th>\n",
       "      <td>CG4</td>\n",
       "      <td>-0.204918</td>\n",
       "      <td>0.3725_homozyg</td>\n",
       "      <td>0.0</td>\n",
       "      <td>inf</td>\n",
       "    </tr>\n",
       "  </tbody>\n",
       "</table>\n",
       "</div>"
      ],
      "text/plain": [
       "   snp     coefs             AFs   Ps  -logPs\n",
       "0  CG4 -0.204918  0.3725_homozyg  0.0     inf"
      ]
     },
     "execution_count": 51,
     "metadata": {},
     "output_type": "execute_result"
    }
   ],
   "source": [
    "only_risk_via_maf = manhattan_linear(to_test[[f\"{first_snp}_homozyg\"]], to_test[['pheno']])\n",
    "only_risk_via_maf"
   ]
  },
  {
   "cell_type": "code",
   "execution_count": 52,
   "id": "c4104475-12f7-4b6e-bd4b-293322657c86",
   "metadata": {},
   "outputs": [],
   "source": [
    "# If we update the pheno"
   ]
  },
  {
   "cell_type": "code",
   "execution_count": 53,
   "id": "bdc3234b-1906-498c-b1ce-55ffd9a75990",
   "metadata": {},
   "outputs": [
    {
     "data": {
      "text/html": [
       "<div>\n",
       "<style scoped>\n",
       "    .dataframe tbody tr th:only-of-type {\n",
       "        vertical-align: middle;\n",
       "    }\n",
       "\n",
       "    .dataframe tbody tr th {\n",
       "        vertical-align: top;\n",
       "    }\n",
       "\n",
       "    .dataframe thead th {\n",
       "        text-align: right;\n",
       "    }\n",
       "</style>\n",
       "<table border=\"1\" class=\"dataframe\">\n",
       "  <thead>\n",
       "    <tr style=\"text-align: right;\">\n",
       "      <th></th>\n",
       "      <th>snp</th>\n",
       "      <th>coefs</th>\n",
       "      <th>AFs</th>\n",
       "      <th>Ps</th>\n",
       "      <th>-logPs</th>\n",
       "    </tr>\n",
       "  </thead>\n",
       "  <tbody>\n",
       "    <tr>\n",
       "      <th>0</th>\n",
       "      <td>CG4</td>\n",
       "      <td>-0.03224</td>\n",
       "      <td>0.3725</td>\n",
       "      <td>0.002409</td>\n",
       "      <td>2.618252</td>\n",
       "    </tr>\n",
       "  </tbody>\n",
       "</table>\n",
       "</div>"
      ],
      "text/plain": [
       "   snp    coefs     AFs        Ps    -logPs\n",
       "0  CG4 -0.03224  0.3725  0.002409  2.618252"
      ]
     },
     "execution_count": 53,
     "metadata": {},
     "output_type": "execute_result"
    }
   ],
   "source": [
    "only_risk_via_snps = manhattan_linear(to_test[[first_snp]], to_test[['pheno_updated']])\n",
    "only_risk_via_snps"
   ]
  },
  {
   "cell_type": "code",
   "execution_count": 82,
   "id": "8899bf67-1f90-4b81-9185-eb287eef3c00",
   "metadata": {},
   "outputs": [
    {
     "data": {
      "text/html": [
       "<div>\n",
       "<style scoped>\n",
       "    .dataframe tbody tr th:only-of-type {\n",
       "        vertical-align: middle;\n",
       "    }\n",
       "\n",
       "    .dataframe tbody tr th {\n",
       "        vertical-align: top;\n",
       "    }\n",
       "\n",
       "    .dataframe thead th {\n",
       "        text-align: right;\n",
       "    }\n",
       "</style>\n",
       "<table border=\"1\" class=\"dataframe\">\n",
       "  <thead>\n",
       "    <tr style=\"text-align: right;\">\n",
       "      <th></th>\n",
       "      <th>snp</th>\n",
       "      <th>coefs</th>\n",
       "      <th>AFs</th>\n",
       "      <th>Ps</th>\n",
       "      <th>-logPs</th>\n",
       "    </tr>\n",
       "  </thead>\n",
       "  <tbody>\n",
       "    <tr>\n",
       "      <th>0</th>\n",
       "      <td>CG2</td>\n",
       "      <td>3.791667</td>\n",
       "      <td>0.2775_homozyg</td>\n",
       "      <td>1.568572e-105</td>\n",
       "      <td>104.804495</td>\n",
       "    </tr>\n",
       "  </tbody>\n",
       "</table>\n",
       "</div>"
      ],
      "text/plain": [
       "   snp     coefs             AFs             Ps      -logPs\n",
       "0  CG2  3.791667  0.2775_homozyg  1.568572e-105  104.804495"
      ]
     },
     "execution_count": 82,
     "metadata": {},
     "output_type": "execute_result"
    }
   ],
   "source": [
    "only_risk_via_maf = manhattan_linear(to_test[[f\"{first_snp}_homozyg\"]], to_test[['pheno_updated']])\n",
    "only_risk_via_maf"
   ]
  },
  {
   "cell_type": "code",
   "execution_count": null,
   "id": "4b77461f-f7b6-4577-aa6c-7fe6745d3ccb",
   "metadata": {},
   "outputs": [],
   "source": []
  },
  {
   "cell_type": "code",
   "execution_count": null,
   "id": "50fe3c1d-5c7b-438e-b897-5636ae2c4202",
   "metadata": {},
   "outputs": [],
   "source": []
  },
  {
   "cell_type": "code",
   "execution_count": null,
   "id": "de4905e3-3c14-4e21-90ad-3f83ca5775e8",
   "metadata": {},
   "outputs": [],
   "source": []
  },
  {
   "cell_type": "markdown",
   "id": "c4740a78-0f80-4039-853b-343d5e681c3b",
   "metadata": {},
   "source": [
    "# Now with SNP causality"
   ]
  },
  {
   "cell_type": "code",
   "execution_count": 53,
   "id": "8c09b8b3-5161-412d-9ce5-4e5730051e75",
   "metadata": {},
   "outputs": [],
   "source": [
    "def divi(arr, effectsize):\n",
    "    return [(1 / (num + 0.001)) * effectsize for num in arr]"
   ]
  },
  {
   "cell_type": "code",
   "execution_count": 54,
   "id": "546e2bc3-5227-4550-9aa7-2173b74afacf",
   "metadata": {},
   "outputs": [],
   "source": [
    "effectsize = 1\n",
    "numbers_af = [float(col.split('_AF_')[1]) for col in complete.columns if '_AF_' in col]\n",
    "snp_names = [col.split('_AF_')[0] for col in complete.columns if '_AF_' in col]\n",
    "\n",
    "beta_values = divi(numbers_af, effectsize)\n",
    "data = {'snp': snp_names, 'Beta': beta_values}\n",
    "betas = pd.DataFrame(data)"
   ]
  },
  {
   "cell_type": "code",
   "execution_count": 55,
   "id": "5dc41174-6162-428d-800c-0473f8e91953",
   "metadata": {},
   "outputs": [],
   "source": [
    "all_snps = list(complete.columns)\n",
    "phenos_mono = []\n",
    "for snp in all_snps:\n",
    "    index_snp = snp.split('_')[0]\n",
    "    beta_value = betas.loc[betas['snp'] == index_snp, 'Beta'].values[0]\n",
    "    phenos_mono.append(complete[snp] * beta_value)\n",
    "\n",
    "# Converting phenos_mono list of series to DataFrame directly\n",
    "phenos_mono = pd.concat(phenos_mono, axis=1)\n",
    "phenos_mono.columns = complete.columns\n",
    "\n",
    "# Add noise\n",
    "n = len(phenos_mono)\n",
    "for snp in list(phenos_mono.columns):\n",
    "    var_effect = np.var(phenos_mono[snp])\n",
    "    total_variance = var_effect / 0.001\n",
    "    var_noise = total_variance - var_effect\n",
    "    sd_noise = np.sqrt(var_noise)\n",
    "    # Generate phenotype with noise\n",
    "    phenos_mono[snp] = phenos_mono[snp] + np.random.normal(0, sd_noise, n)\n",
    "    std_dev = np.std(phenos_mono[snp])\n",
    "    mean = np.mean(phenos_mono[snp])\n",
    "    phenos_mono[snp] = (phenos_mono[snp] - mean) / std_dev"
   ]
  },
  {
   "cell_type": "code",
   "execution_count": 56,
   "id": "dcb30d05-00b4-4f65-9a0a-b51427d7a093",
   "metadata": {},
   "outputs": [],
   "source": [
    "# Beta value first snp"
   ]
  },
  {
   "cell_type": "code",
   "execution_count": 57,
   "id": "82014e62-8cdf-461e-8323-682318994436",
   "metadata": {},
   "outputs": [
    {
     "data": {
      "text/plain": [
       "2.101"
      ]
     },
     "execution_count": 57,
     "metadata": {},
     "output_type": "execute_result"
    }
   ],
   "source": [
    "beta_value = betas.loc[betas['snp'] == first_snp.split('_AF_')[0], 'Beta'].values[0]\n",
    "np.round(beta_value,3)"
   ]
  },
  {
   "cell_type": "code",
   "execution_count": 58,
   "id": "54542190-3a43-4a17-a9af-23a51bb59916",
   "metadata": {},
   "outputs": [
    {
     "data": {
      "text/html": [
       "<div>\n",
       "<style scoped>\n",
       "    .dataframe tbody tr th:only-of-type {\n",
       "        vertical-align: middle;\n",
       "    }\n",
       "\n",
       "    .dataframe tbody tr th {\n",
       "        vertical-align: top;\n",
       "    }\n",
       "\n",
       "    .dataframe thead th {\n",
       "        text-align: right;\n",
       "    }\n",
       "</style>\n",
       "<table border=\"1\" class=\"dataframe\">\n",
       "  <thead>\n",
       "    <tr style=\"text-align: right;\">\n",
       "      <th>snps</th>\n",
       "      <th>CG3_AF_0.475</th>\n",
       "    </tr>\n",
       "  </thead>\n",
       "  <tbody>\n",
       "    <tr>\n",
       "      <th>0</th>\n",
       "      <td>1.507857</td>\n",
       "    </tr>\n",
       "    <tr>\n",
       "      <th>1</th>\n",
       "      <td>0.494576</td>\n",
       "    </tr>\n",
       "    <tr>\n",
       "      <th>2</th>\n",
       "      <td>0.733947</td>\n",
       "    </tr>\n",
       "    <tr>\n",
       "      <th>3</th>\n",
       "      <td>0.808082</td>\n",
       "    </tr>\n",
       "    <tr>\n",
       "      <th>4</th>\n",
       "      <td>-0.790511</td>\n",
       "    </tr>\n",
       "    <tr>\n",
       "      <th>...</th>\n",
       "      <td>...</td>\n",
       "    </tr>\n",
       "    <tr>\n",
       "      <th>195</th>\n",
       "      <td>-0.196744</td>\n",
       "    </tr>\n",
       "    <tr>\n",
       "      <th>196</th>\n",
       "      <td>0.408876</td>\n",
       "    </tr>\n",
       "    <tr>\n",
       "      <th>197</th>\n",
       "      <td>1.267499</td>\n",
       "    </tr>\n",
       "    <tr>\n",
       "      <th>198</th>\n",
       "      <td>2.635205</td>\n",
       "    </tr>\n",
       "    <tr>\n",
       "      <th>199</th>\n",
       "      <td>1.060282</td>\n",
       "    </tr>\n",
       "  </tbody>\n",
       "</table>\n",
       "<p>200 rows × 1 columns</p>\n",
       "</div>"
      ],
      "text/plain": [
       "snps  CG3_AF_0.475\n",
       "0         1.507857\n",
       "1         0.494576\n",
       "2         0.733947\n",
       "3         0.808082\n",
       "4        -0.790511\n",
       "..             ...\n",
       "195      -0.196744\n",
       "196       0.408876\n",
       "197       1.267499\n",
       "198       2.635205\n",
       "199       1.060282\n",
       "\n",
       "[200 rows x 1 columns]"
      ]
     },
     "execution_count": 58,
     "metadata": {},
     "output_type": "execute_result"
    }
   ],
   "source": [
    "phenos_mono[[first_snp]]"
   ]
  },
  {
   "cell_type": "code",
   "execution_count": 59,
   "id": "647fa42d-a532-4c72-b947-176c61bb5c24",
   "metadata": {},
   "outputs": [
    {
     "data": {
      "image/png": "[encoded data removed]",
      "text/plain": [
       "<Figure size 640x480 with 1 Axes>"
      ]
     },
     "metadata": {},
     "output_type": "display_data"
    }
   ],
   "source": [
    "PC_complete['pheno_due_to_snp_effect'] = phenos_mono[[first_snp]]\n",
    "sns.scatterplot(x='PC1', y='PC2', data=PC_complete, hue = 'pheno_due_to_snp_effect', linewidth=0)\n",
    "\n",
    "# Adjust layout\n",
    "plt.tight_layout()\n",
    "plt.title(f\"Vizualizing different phenotypes due to snps effects ({np.round(beta_value,3)}) between populations\")\n",
    "plt.show()\n",
    "plt.close()"
   ]
  },
  {
   "cell_type": "code",
   "execution_count": 60,
   "id": "f0927c3f-ab24-4ccb-a358-1fb3cffd59e5",
   "metadata": {},
   "outputs": [
    {
     "data": {
      "image/png": "[encoded data removed]",
      "text/plain": [
       "<Figure size 640x480 with 1 Axes>"
      ]
     },
     "metadata": {},
     "output_type": "display_data"
    }
   ],
   "source": [
    "mean_snp_effect_per_pop = PC_complete.groupby('populations')['pheno_due_to_snp_effect'].transform('mean')\n",
    "\n",
    "# Add the calculated mean as a new column\n",
    "PC_complete['mean pheno'] = mean_snp_effect_per_pop\n",
    "\n",
    "sns.scatterplot(x='PC1', y='PC2', data=PC_complete, hue = 'mean pheno', linewidth=0)\n",
    "\n",
    "# Adjust layout\n",
    "plt.tight_layout()\n",
    "plt.title(f\"Vizualizing different phenotypes due to snps effects ({np.round(beta_value,3)}) between populations\")\n",
    "plt.show()\n",
    "plt.close()"
   ]
  },
  {
   "cell_type": "code",
   "execution_count": 61,
   "id": "6bea7021-0989-415d-9940-febb07ef835d",
   "metadata": {},
   "outputs": [],
   "source": [
    "to_test = to_test = complete[[first_snp]].copy()"
   ]
  },
  {
   "cell_type": "code",
   "execution_count": 62,
   "id": "4b1a663b-2a1c-4c5b-81b2-9f85586035c6",
   "metadata": {},
   "outputs": [],
   "source": [
    "to_test['pheno'] = PC_complete['pheno_due_to_snp_effect']"
   ]
  },
  {
   "cell_type": "code",
   "execution_count": 63,
   "id": "bcb49da3-23f8-40ee-afb4-4a92a57576f6",
   "metadata": {},
   "outputs": [
    {
     "data": {
      "text/html": [
       "<div>\n",
       "<style scoped>\n",
       "    .dataframe tbody tr th:only-of-type {\n",
       "        vertical-align: middle;\n",
       "    }\n",
       "\n",
       "    .dataframe tbody tr th {\n",
       "        vertical-align: top;\n",
       "    }\n",
       "\n",
       "    .dataframe thead th {\n",
       "        text-align: right;\n",
       "    }\n",
       "</style>\n",
       "<table border=\"1\" class=\"dataframe\">\n",
       "  <thead>\n",
       "    <tr style=\"text-align: right;\">\n",
       "      <th></th>\n",
       "      <th>snp</th>\n",
       "      <th>coefs</th>\n",
       "      <th>AFs</th>\n",
       "      <th>Ps</th>\n",
       "      <th>-logPs</th>\n",
       "    </tr>\n",
       "  </thead>\n",
       "  <tbody>\n",
       "    <tr>\n",
       "      <th>0</th>\n",
       "      <td>CG3</td>\n",
       "      <td>0.077094</td>\n",
       "      <td>0.475</td>\n",
       "      <td>0.290918</td>\n",
       "      <td>0.536229</td>\n",
       "    </tr>\n",
       "  </tbody>\n",
       "</table>\n",
       "</div>"
      ],
      "text/plain": [
       "   snp     coefs    AFs        Ps    -logPs\n",
       "0  CG3  0.077094  0.475  0.290918  0.536229"
      ]
     },
     "execution_count": 63,
     "metadata": {},
     "output_type": "execute_result"
    }
   ],
   "source": [
    "only_risk_via_snps = manhattan_linear(to_test[[first_snp]], to_test[['pheno']])\n",
    "only_risk_via_snps "
   ]
  },
  {
   "cell_type": "code",
   "execution_count": null,
   "id": "c31672fc-28e3-4bdf-be08-eb361c68b107",
   "metadata": {},
   "outputs": [],
   "source": []
  },
  {
   "cell_type": "code",
   "execution_count": null,
   "id": "66f9d127-8ff3-46cb-8ad9-c0f3759fb67f",
   "metadata": {},
   "outputs": [],
   "source": []
  },
  {
   "cell_type": "code",
   "execution_count": null,
   "id": "aed90591-766f-40b2-a8db-01b979c3f635",
   "metadata": {},
   "outputs": [],
   "source": []
  },
  {
   "cell_type": "code",
   "execution_count": null,
   "id": "87fe4dc7-9039-4ca9-9be0-3ff642e847ff",
   "metadata": {},
   "outputs": [],
   "source": []
  },
  {
   "cell_type": "code",
   "execution_count": null,
   "id": "6b2ac3e3-20b2-4cf7-b352-4e3e268778f0",
   "metadata": {},
   "outputs": [],
   "source": []
  },
  {
   "cell_type": "code",
   "execution_count": null,
   "id": "9a3b9f63-aae3-483d-938b-443c87922930",
   "metadata": {},
   "outputs": [],
   "source": []
  },
  {
   "cell_type": "code",
   "execution_count": null,
   "id": "76914651-f20e-4285-8d07-ae079acc3256",
   "metadata": {},
   "outputs": [],
   "source": []
  },
  {
   "cell_type": "code",
   "execution_count": null,
   "id": "621f8f94-951b-4a39-b233-de2a920d9fb1",
   "metadata": {},
   "outputs": [],
   "source": []
  },
  {
   "cell_type": "code",
   "execution_count": null,
   "id": "55184e31-2a78-417c-b41b-c13b48ce9fa6",
   "metadata": {},
   "outputs": [],
   "source": []
  },
  {
   "cell_type": "code",
   "execution_count": null,
   "id": "ef1dcb8a-05df-41b5-82ab-c501b127d191",
   "metadata": {},
   "outputs": [],
   "source": []
  },
  {
   "cell_type": "code",
   "execution_count": 64,
   "id": "2bde849c-c20f-4fd1-b334-51ce8c5855a4",
   "metadata": {},
   "outputs": [
    {
     "data": {
      "image/png": "[encoded data removed]",
      "text/plain": [
       "<Figure size 1400x1200 with 1 Axes>"
      ]
     },
     "metadata": {},
     "output_type": "display_data"
    }
   ],
   "source": [
    "# Create subplots for each risk\n",
    "fig, axs = plt.subplots(1, 1, figsize=(14, 12))\n",
    "# Aggregate by x and y and calculate mean for each risk\n",
    "df_agg = populations.groupby(['x', 'y']).agg({name_risk: 'mean'}).reset_index()\n",
    "grid_df = df_agg.pivot(index='y', columns='x', values=name_risk)\n",
    "sns.heatmap(grid_df, cmap='rocket_r', linewidths=.5, square=True, cbar=False)\n",
    "\n",
    "# Set the title dynamically based on the value of name_risk\n",
    "axs.set_title(name_risk, fontsize=16)\n",
    "\n",
    "# Invert the y-axis\n",
    "axs.invert_yaxis()\n",
    "\n",
    "# Adjust layout\n",
    "plt.tight_layout()\n",
    "plt.show()\n",
    "plt.close()"
   ]
  },
  {
   "cell_type": "code",
   "execution_count": null,
   "id": "6f7d9ada-a687-434a-9f61-1a6719c00be0",
   "metadata": {},
   "outputs": [],
   "source": []
  }
 ],
 "metadata": {
  "kernelspec": {
   "display_name": "Python 3 (ipykernel)",
   "language": "python",
   "name": "python3"
  },
  "language_info": {
   "codemirror_mode": {
    "name": "ipython",
    "version": 3
   },
   "file_extension": ".py",
   "mimetype": "text/x-python",
   "name": "python",
   "nbconvert_exporter": "python",
   "pygments_lexer": "ipython3",
   "version": "3.10.2"
  }
 },
 "nbformat": 4,
 "nbformat_minor": 5
}
