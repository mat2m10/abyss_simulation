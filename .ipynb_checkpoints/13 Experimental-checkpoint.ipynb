{
 "cells": [
  {
   "cell_type": "code",
   "execution_count": 116,
   "id": "a2ceffe4-5cd4-4283-a425-9a710c8655ad",
   "metadata": {},
   "outputs": [],
   "source": [
    "import os\n",
    "import pandas as pd\n",
    "import numpy as np\n",
    "import seaborn as sns\n",
    "import matplotlib.pyplot as plt\n",
    "from sklearn.linear_model import LinearRegression\n",
    "import statsmodels.api as sm\n",
    "from models import ols_regression, manhattan_linear, gc"
   ]
  },
  {
   "cell_type": "code",
   "execution_count": 117,
   "id": "6d52930f-44c6-4e5f-80a9-f69f33d2d0ce",
   "metadata": {},
   "outputs": [],
   "source": [
    "def min_max_scaling(X,min_val,max_val):\n",
    "    X = np.array(X)\n",
    "    X_min = np.min(X)\n",
    "    X_max = np.max(X)\n",
    "    \n",
    "    # If the column has constant values (min == max), return the original values unscaled\n",
    "    if X_min == X_max:\n",
    "        return X\n",
    "    \n",
    "    # Perform scaling if min != max\n",
    "    X_scaled = (X - X_min) / (X_max - X_min) * (max_val - min_val) + min_val\n",
    "\n",
    "    \n",
    "    return X_scaled"
   ]
  },
  {
   "cell_type": "code",
   "execution_count": 118,
   "id": "ff259778-9194-4f4d-b5b6-87b9ba17530c",
   "metadata": {},
   "outputs": [],
   "source": [
    "nr_people_pop1 = 500\n",
    "nr_people_pop2 = 10\n",
    "nr_people_pop3 = 300\n",
    "total_humans = nr_people_pop1+ nr_people_pop2+nr_people_pop3\n",
    "minaf_pop1 = 0.1\n",
    "minaf_pop2 = 0.1\n",
    "minaf_pop3 = 0.1\n",
    "\n",
    "majaf_pop1 = 0.4\n",
    "majaf_pop2 = 0.6\n",
    "majaf_pop3 = 0.1\n",
    "\n",
    "hetaf_pop1 = 1 - minaf_pop1 - majaf_pop1\n",
    "hetaf_pop2 = 1 - minaf_pop2 - majaf_pop2\n",
    "hetaf_pop3 = 1 - minaf_pop3 - majaf_pop3\n",
    "\n",
    "pheno_pop1 = 0.3\n",
    "pheno_pop2 = 0.7\n",
    "pheno_pop3 = 0.1"
   ]
  },
  {
   "cell_type": "code",
   "execution_count": 119,
   "id": "89b26e02-a173-42ed-ae34-2a8856c4a9bf",
   "metadata": {},
   "outputs": [],
   "source": [
    "# make snp\n",
    "pop1_snps = [-1]*int(nr_people_pop1*minaf_pop1) + [0]*int(nr_people_pop1*hetaf_pop1) + [1]*int(nr_people_pop1*majaf_pop1)\n",
    "pop2_snps = [-1]*int(nr_people_pop2*minaf_pop2) + [0]*int(nr_people_pop2*hetaf_pop2) + [1]*int(nr_people_pop2*majaf_pop2)\n",
    "pop3_snps = [-1]*int(nr_people_pop3*minaf_pop3) + [0]*int(nr_people_pop3*hetaf_pop3) + [1]*int(nr_people_pop3*majaf_pop3)\n",
    "nr_pop1_snps = [int(nr_people_pop1*minaf_pop1)]*int(nr_people_pop1*minaf_pop1) + [int(nr_people_pop1*hetaf_pop1)]*int(nr_people_pop1*hetaf_pop1) + [int(nr_people_pop1*majaf_pop1)]*int(nr_people_pop1*majaf_pop1)\n",
    "nr_pop2_snps = [int(nr_people_pop2*minaf_pop2)]*int(nr_people_pop2*minaf_pop2) + [int(nr_people_pop2*hetaf_pop2)]*int(nr_people_pop2*hetaf_pop2) + [int(nr_people_pop2*majaf_pop2)]*int(nr_people_pop2*majaf_pop2)\n",
    "nr_pop3_snps = [int(nr_people_pop3*minaf_pop3)]*int(nr_people_pop3*minaf_pop3) + [int(nr_people_pop3*hetaf_pop3)]*int(nr_people_pop3*hetaf_pop3) + [int(nr_people_pop3*majaf_pop3)]*int(nr_people_pop3*majaf_pop3)\n",
    "\n",
    "snps = pop1_snps + pop2_snps + pop3_snps\n",
    "snps_nr = nr_pop1_snps + nr_pop2_snps + nr_pop3_snps\n"
   ]
  },
  {
   "cell_type": "code",
   "execution_count": 120,
   "id": "328f4307-7b90-4b93-b677-181204ca6712",
   "metadata": {},
   "outputs": [],
   "source": [
    "minaf = [minaf_pop1]*nr_people_pop1 + [minaf_pop2]*nr_people_pop2 + [minaf_pop3]*nr_people_pop3\n",
    "hetaf = [hetaf_pop1]*nr_people_pop1 + [hetaf_pop2]*nr_people_pop2 + [hetaf_pop3]*nr_people_pop3\n",
    "majaf = [majaf_pop1]*nr_people_pop1 + [majaf_pop2]*nr_people_pop2 + [majaf_pop3]*nr_people_pop3"
   ]
  },
  {
   "cell_type": "code",
   "execution_count": 121,
   "id": "69aedfbf-da76-4ffd-a3b4-3ce2614f78dd",
   "metadata": {},
   "outputs": [],
   "source": [
    "pop = ['pop1']*nr_people_pop1 + ['pop2']*nr_people_pop2 +  ['pop3']*nr_people_pop3\n",
    "pop_nr = [nr_people_pop1]*nr_people_pop1 + [nr_people_pop2]*nr_people_pop2 +  [nr_people_pop3]*nr_people_pop3\n",
    "risk = [pheno_pop1]*nr_people_pop1 + [pheno_pop2]*nr_people_pop2 +  [pheno_pop3]*nr_people_pop3"
   ]
  },
  {
   "cell_type": "code",
   "execution_count": 122,
   "id": "35b2dc03-a6b4-4119-8f8c-17bc442f69e3",
   "metadata": {},
   "outputs": [],
   "source": [
    "humans = pd.DataFrame()\n",
    "humans['snp'] = snps\n",
    "humans = pd.get_dummies(humans, columns=['snp'], dtype=int)\n",
    "humans['snp'] = snps\n",
    "humans['snp_nr'] = snps_nr\n",
    "humans['snp_nr'] = humans['snp_nr']/humans['snp_nr'].max()\n",
    "\n",
    "humans['minaf'] = minaf\n",
    "humans['hetaf'] = hetaf\n",
    "humans['majaf'] = majaf\n",
    "humans['pop'] = pop\n",
    "humans['pop_quantity'] = pop_nr\n",
    "humans['risk'] = risk\n",
    "#humans['risk'] = min_max_scaling(humans['risk'],-1,1)\n",
    "#humans['risk'] = (humans['risk'] - humans['risk'].mean()) / humans['risk'].std()"
   ]
  },
  {
   "cell_type": "code",
   "execution_count": 123,
   "id": "31a8651a-c6d1-428a-bbba-29232bae06a2",
   "metadata": {},
   "outputs": [],
   "source": [
    "count_total_AFs = humans[['snp']].apply(pd.Series.value_counts)/len(humans)\n",
    "total_minor = count_total_AFs.loc[-1].snp\n",
    "total_het = count_total_AFs.loc[0].snp\n",
    "total_major = count_total_AFs.loc[1].snp"
   ]
  },
  {
   "cell_type": "code",
   "execution_count": 124,
   "id": "8207a442-f30a-4533-bd31-39d73733b234",
   "metadata": {},
   "outputs": [],
   "source": [
    "humans['snp'] = humans['snp']-humans['snp'].mean()"
   ]
  },
  {
   "cell_type": "code",
   "execution_count": 125,
   "id": "d0a3ebf9-dbef-439f-bcaa-57acf78eefb5",
   "metadata": {},
   "outputs": [
    {
     "data": {
      "text/html": [
       "<div>\n",
       "<style scoped>\n",
       "    .dataframe tbody tr th:only-of-type {\n",
       "        vertical-align: middle;\n",
       "    }\n",
       "\n",
       "    .dataframe tbody tr th {\n",
       "        vertical-align: top;\n",
       "    }\n",
       "\n",
       "    .dataframe thead th {\n",
       "        text-align: right;\n",
       "    }\n",
       "</style>\n",
       "<table border=\"1\" class=\"dataframe\">\n",
       "  <thead>\n",
       "    <tr style=\"text-align: right;\">\n",
       "      <th></th>\n",
       "      <th>snp_-1</th>\n",
       "      <th>snp_0</th>\n",
       "      <th>snp_1</th>\n",
       "      <th>snp</th>\n",
       "      <th>snp_nr</th>\n",
       "      <th>minaf</th>\n",
       "      <th>hetaf</th>\n",
       "      <th>majaf</th>\n",
       "      <th>pop</th>\n",
       "      <th>pop_quantity</th>\n",
       "      <th>risk</th>\n",
       "    </tr>\n",
       "  </thead>\n",
       "  <tbody>\n",
       "    <tr>\n",
       "      <th>0</th>\n",
       "      <td>1</td>\n",
       "      <td>0</td>\n",
       "      <td>0</td>\n",
       "      <td>-0.981818</td>\n",
       "      <td>0.20</td>\n",
       "      <td>0.1</td>\n",
       "      <td>0.5</td>\n",
       "      <td>0.4</td>\n",
       "      <td>pop1</td>\n",
       "      <td>500</td>\n",
       "      <td>0.3</td>\n",
       "    </tr>\n",
       "    <tr>\n",
       "      <th>1</th>\n",
       "      <td>1</td>\n",
       "      <td>0</td>\n",
       "      <td>0</td>\n",
       "      <td>-0.981818</td>\n",
       "      <td>0.20</td>\n",
       "      <td>0.1</td>\n",
       "      <td>0.5</td>\n",
       "      <td>0.4</td>\n",
       "      <td>pop1</td>\n",
       "      <td>500</td>\n",
       "      <td>0.3</td>\n",
       "    </tr>\n",
       "    <tr>\n",
       "      <th>2</th>\n",
       "      <td>1</td>\n",
       "      <td>0</td>\n",
       "      <td>0</td>\n",
       "      <td>-0.981818</td>\n",
       "      <td>0.20</td>\n",
       "      <td>0.1</td>\n",
       "      <td>0.5</td>\n",
       "      <td>0.4</td>\n",
       "      <td>pop1</td>\n",
       "      <td>500</td>\n",
       "      <td>0.3</td>\n",
       "    </tr>\n",
       "    <tr>\n",
       "      <th>3</th>\n",
       "      <td>1</td>\n",
       "      <td>0</td>\n",
       "      <td>0</td>\n",
       "      <td>-0.981818</td>\n",
       "      <td>0.20</td>\n",
       "      <td>0.1</td>\n",
       "      <td>0.5</td>\n",
       "      <td>0.4</td>\n",
       "      <td>pop1</td>\n",
       "      <td>500</td>\n",
       "      <td>0.3</td>\n",
       "    </tr>\n",
       "    <tr>\n",
       "      <th>4</th>\n",
       "      <td>1</td>\n",
       "      <td>0</td>\n",
       "      <td>0</td>\n",
       "      <td>-0.981818</td>\n",
       "      <td>0.20</td>\n",
       "      <td>0.1</td>\n",
       "      <td>0.5</td>\n",
       "      <td>0.4</td>\n",
       "      <td>pop1</td>\n",
       "      <td>500</td>\n",
       "      <td>0.3</td>\n",
       "    </tr>\n",
       "    <tr>\n",
       "      <th>...</th>\n",
       "      <td>...</td>\n",
       "      <td>...</td>\n",
       "      <td>...</td>\n",
       "      <td>...</td>\n",
       "      <td>...</td>\n",
       "      <td>...</td>\n",
       "      <td>...</td>\n",
       "      <td>...</td>\n",
       "      <td>...</td>\n",
       "      <td>...</td>\n",
       "      <td>...</td>\n",
       "    </tr>\n",
       "    <tr>\n",
       "      <th>1095</th>\n",
       "      <td>0</td>\n",
       "      <td>0</td>\n",
       "      <td>1</td>\n",
       "      <td>1.018182</td>\n",
       "      <td>0.04</td>\n",
       "      <td>0.3</td>\n",
       "      <td>0.6</td>\n",
       "      <td>0.1</td>\n",
       "      <td>pop3</td>\n",
       "      <td>100</td>\n",
       "      <td>0.1</td>\n",
       "    </tr>\n",
       "    <tr>\n",
       "      <th>1096</th>\n",
       "      <td>0</td>\n",
       "      <td>0</td>\n",
       "      <td>1</td>\n",
       "      <td>1.018182</td>\n",
       "      <td>0.04</td>\n",
       "      <td>0.3</td>\n",
       "      <td>0.6</td>\n",
       "      <td>0.1</td>\n",
       "      <td>pop3</td>\n",
       "      <td>100</td>\n",
       "      <td>0.1</td>\n",
       "    </tr>\n",
       "    <tr>\n",
       "      <th>1097</th>\n",
       "      <td>0</td>\n",
       "      <td>0</td>\n",
       "      <td>1</td>\n",
       "      <td>1.018182</td>\n",
       "      <td>0.04</td>\n",
       "      <td>0.3</td>\n",
       "      <td>0.6</td>\n",
       "      <td>0.1</td>\n",
       "      <td>pop3</td>\n",
       "      <td>100</td>\n",
       "      <td>0.1</td>\n",
       "    </tr>\n",
       "    <tr>\n",
       "      <th>1098</th>\n",
       "      <td>0</td>\n",
       "      <td>0</td>\n",
       "      <td>1</td>\n",
       "      <td>1.018182</td>\n",
       "      <td>0.04</td>\n",
       "      <td>0.3</td>\n",
       "      <td>0.6</td>\n",
       "      <td>0.1</td>\n",
       "      <td>pop3</td>\n",
       "      <td>100</td>\n",
       "      <td>0.1</td>\n",
       "    </tr>\n",
       "    <tr>\n",
       "      <th>1099</th>\n",
       "      <td>0</td>\n",
       "      <td>0</td>\n",
       "      <td>1</td>\n",
       "      <td>1.018182</td>\n",
       "      <td>0.04</td>\n",
       "      <td>0.3</td>\n",
       "      <td>0.6</td>\n",
       "      <td>0.1</td>\n",
       "      <td>pop3</td>\n",
       "      <td>100</td>\n",
       "      <td>0.1</td>\n",
       "    </tr>\n",
       "  </tbody>\n",
       "</table>\n",
       "<p>1100 rows × 11 columns</p>\n",
       "</div>"
      ],
      "text/plain": [
       "      snp_-1  snp_0  snp_1       snp  snp_nr  minaf  hetaf  majaf   pop  \\\n",
       "0          1      0      0 -0.981818    0.20    0.1    0.5    0.4  pop1   \n",
       "1          1      0      0 -0.981818    0.20    0.1    0.5    0.4  pop1   \n",
       "2          1      0      0 -0.981818    0.20    0.1    0.5    0.4  pop1   \n",
       "3          1      0      0 -0.981818    0.20    0.1    0.5    0.4  pop1   \n",
       "4          1      0      0 -0.981818    0.20    0.1    0.5    0.4  pop1   \n",
       "...      ...    ...    ...       ...     ...    ...    ...    ...   ...   \n",
       "1095       0      0      1  1.018182    0.04    0.3    0.6    0.1  pop3   \n",
       "1096       0      0      1  1.018182    0.04    0.3    0.6    0.1  pop3   \n",
       "1097       0      0      1  1.018182    0.04    0.3    0.6    0.1  pop3   \n",
       "1098       0      0      1  1.018182    0.04    0.3    0.6    0.1  pop3   \n",
       "1099       0      0      1  1.018182    0.04    0.3    0.6    0.1  pop3   \n",
       "\n",
       "      pop_quantity  risk  \n",
       "0              500   0.3  \n",
       "1              500   0.3  \n",
       "2              500   0.3  \n",
       "3              500   0.3  \n",
       "4              500   0.3  \n",
       "...            ...   ...  \n",
       "1095           100   0.1  \n",
       "1096           100   0.1  \n",
       "1097           100   0.1  \n",
       "1098           100   0.1  \n",
       "1099           100   0.1  \n",
       "\n",
       "[1100 rows x 11 columns]"
      ]
     },
     "execution_count": 125,
     "metadata": {},
     "output_type": "execute_result"
    }
   ],
   "source": [
    "humans"
   ]
  },
  {
   "cell_type": "code",
   "execution_count": 126,
   "id": "96e87be8-5e42-4771-9f3d-bce564a79fa6",
   "metadata": {},
   "outputs": [],
   "source": [
    "pheno_pop1 = humans[humans['pop']=='pop1']['risk'].mean()\n",
    "pheno_pop2 = humans[humans['pop']=='pop2']['risk'].mean()\n",
    "pheno_pop3 = humans[humans['pop']=='pop3']['risk'].mean()"
   ]
  },
  {
   "cell_type": "code",
   "execution_count": 127,
   "id": "95eeebe2-512e-4960-bb29-56b5873f708f",
   "metadata": {},
   "outputs": [],
   "source": [
    "humans['risk'] = humans['risk']-humans['risk'].mean()"
   ]
  },
  {
   "cell_type": "code",
   "execution_count": 128,
   "id": "6dfc0bf3-6f2a-4c2c-9a46-cc8b374a2e0a",
   "metadata": {},
   "outputs": [
    {
     "name": "stdout",
     "output_type": "stream",
     "text": [
      "-0.08243320068220582\n"
     ]
    }
   ],
   "source": [
    "X = humans[['snp']]  # Predictor variable\n",
    "y = humans['risk']    # Response variable\n",
    "\n",
    "# Add a constant to the predictor variable (for intercept)\n",
    "X = sm.add_constant(X)\n",
    "\n",
    "# Fit the model using statsmodels\n",
    "model = sm.OLS(y, X).fit()\n",
    "\n",
    "# Extract beta (slope), intercept, and p-value\n",
    "beta = model.params['snp']\n",
    "print(beta)\n",
    "intercept = model.params['const']\n",
    "p_value = model.pvalues['snp']\n",
    "logp_value = np.round(-np.log10(p_value),4)\n",
    "\n",
    "humans['predicted_risk'] = model.predict(X)"
   ]
  },
  {
   "cell_type": "code",
   "execution_count": 129,
   "id": "cde1495a-21fa-4086-a9af-12ee583fe3dd",
   "metadata": {},
   "outputs": [
    {
     "data": {
      "image/png": "[encoded data removed]",
      "text/plain": [
       "<Figure size 640x480 with 1 Axes>"
      ]
     },
     "metadata": {},
     "output_type": "display_data"
    }
   ],
   "source": [
    "# Create the scatter plot with seaborn, using size to represent pop_quantity\n",
    "sns.scatterplot(x='snp', y='risk', data=humans, size='snp_nr', hue='pop',sizes=(20, 200), linewidth=0, legend=False)\n",
    "\n",
    "# Add the regression line to the plot (no size argument here, as it's a line)\n",
    "plt.plot(humans['snp'], humans['predicted_risk'], color='red', label=f' Beta = {beta:.2f}\\n intercept = {intercept:.2f}')\n",
    "\n",
    "# Add thin gray lines at x = 0 and y = 0\n",
    "plt.axvline(x=0, color='gray', linestyle='-', linewidth=0.5)  # Vertical line at x = 0\n",
    "plt.axhline(y=intercept, color='gray', linestyle='-', linewidth=0.5)  # Vertical line at x = 0\n",
    "plt.axhline(y=0, color='gray', linestyle='-', linewidth=0.5)\n",
    "\n",
    "# Adjust layout\n",
    "plt.tight_layout()\n",
    "plt.title(f\"Environmental risk only -logP={logp_value}\")\n",
    "plt.legend()\n",
    "\n",
    "# Show the plot\n",
    "plt.show()\n",
    "plt.close()"
   ]
  },
  {
   "cell_type": "markdown",
   "id": "5cf26f4c-b1c3-4c5e-bc82-23d74a9490ad",
   "metadata": {},
   "source": [
    "# correction"
   ]
  },
  {
   "cell_type": "code",
   "execution_count": 130,
   "id": "00ec0302-9935-4ddb-9cf0-cb88e8b2d58c",
   "metadata": {},
   "outputs": [],
   "source": [
    "humans['corr'] = humans['snp_-1']*humans['minaf'] + humans['snp_1']*humans['majaf'] + humans['snp_0']*humans['hetaf'] "
   ]
  },
  {
   "cell_type": "code",
   "execution_count": 131,
   "id": "f2cbda08-dd7b-43a4-9225-e1589c5af2f1",
   "metadata": {},
   "outputs": [],
   "source": [
    "humans['corr'] = humans['snp']/humans['corr']"
   ]
  },
  {
   "cell_type": "code",
   "execution_count": 132,
   "id": "f7983639-1f74-4591-907b-a11b8deee3d2",
   "metadata": {},
   "outputs": [],
   "source": [
    "# calibrating\n",
    "X = humans[['corr']]  # Predictor variable\n",
    "y = humans['snp']    # Response variable\n",
    "\n",
    "# Add a constant to the predictor variable (for intercept)\n",
    "X = sm.add_constant(X)\n",
    "\n",
    "# Fit the model using statsmodels\n",
    "model = sm.OLS(y, X).fit()\n",
    "\n",
    "# Extract beta (slope), intercept, and p-value\n",
    "beta = model.params['corr']\n",
    "humans['corr'] = humans['corr'] = humans['corr']*beta"
   ]
  },
  {
   "cell_type": "code",
   "execution_count": 133,
   "id": "e4e9e8e0-4df0-4e71-beba-bdf32e4d2501",
   "metadata": {},
   "outputs": [
    {
     "name": "stdout",
     "output_type": "stream",
     "text": [
      "3.2569433261464553e-16\n"
     ]
    }
   ],
   "source": [
    "X = humans[['corr']]  # Predictor variable\n",
    "y = humans['risk']    # Response variable\n",
    "\n",
    "# Add a constant to the predictor variable (for intercept)\n",
    "X = sm.add_constant(X)\n",
    "\n",
    "# Fit the model using statsmodels\n",
    "model = sm.OLS(y, X).fit()\n",
    "\n",
    "# Extract beta (slope), intercept, and p-value\n",
    "beta = model.params['corr']\n",
    "print(beta)\n",
    "intercept = model.params['const']\n",
    "p_value = model.pvalues['corr']\n",
    "logp_value = np.round(-np.log10(p_value),4)\n",
    "\n",
    "humans['predicted_risk'] = model.predict(X)"
   ]
  },
  {
   "cell_type": "code",
   "execution_count": 134,
   "id": "b9d26070-17bc-4c45-82f4-cdf909d1c5e8",
   "metadata": {},
   "outputs": [
    {
     "data": {
      "image/png": "[encoded data removed]",
      "text/plain": [
       "<Figure size 640x480 with 1 Axes>"
      ]
     },
     "metadata": {},
     "output_type": "display_data"
    }
   ],
   "source": [
    "# Create the scatter plot with seaborn, using size to represent pop_quantity\n",
    "sns.scatterplot(x='corr', y='risk', data=humans, size='snp_nr', hue='pop',sizes=(20, 200), linewidth=0, legend=False)\n",
    "\n",
    "# Add thin gray lines at x = 0 and y = 0\n",
    "plt.axvline(x=0, color='gray', linestyle='-', linewidth=0.5)  # Vertical line at x = 0\n",
    "plt.axhline(y=intercept, color='gray', linestyle='-', linewidth=0.5)  # Vertical line at x = 0\n",
    "plt.axhline(y=0, color='gray', linestyle='-', linewidth=0.5)\n",
    "\n",
    "# Add the regression line to the plot (no size argument here, as it's a line)\n",
    "plt.plot(humans['corr'], humans['predicted_risk'], color='red', label=f' Beta = {beta:.2f}\\n intercept = {intercept:.2f}', linewidth=2)\n",
    "\n",
    "# Adjust layout\n",
    "plt.tight_layout()\n",
    "plt.title(f\"Environmental risk only -logP={logp_value}\")\n",
    "plt.legend()\n",
    "\n",
    "# Show the plot\n",
    "plt.show()\n",
    "plt.close()"
   ]
  },
  {
   "cell_type": "code",
   "execution_count": null,
   "id": "8d13e9b4-8dc9-4b83-bd1f-660b2aeeb272",
   "metadata": {},
   "outputs": [],
   "source": []
  }
 ],
 "metadata": {
  "kernelspec": {
   "display_name": "Python 3 (ipykernel)",
   "language": "python",
   "name": "python3"
  },
  "language_info": {
   "codemirror_mode": {
    "name": "ipython",
    "version": 3
   },
   "file_extension": ".py",
   "mimetype": "text/x-python",
   "name": "python",
   "nbconvert_exporter": "python",
   "pygments_lexer": "ipython3",
   "version": "3.10.6"
  }
 },
 "nbformat": 4,
 "nbformat_minor": 5
}
