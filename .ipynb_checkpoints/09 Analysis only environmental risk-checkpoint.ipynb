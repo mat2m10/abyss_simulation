{
 "cells": [
  {
   "cell_type": "markdown",
   "id": "42ed312c-86a1-43b2-b87d-72025a402e58",
   "metadata": {},
   "source": [
    "# Import libraries"
   ]
  },
  {
   "cell_type": "code",
   "execution_count": 1,
   "id": "6beecb43-402f-4ef1-a58e-6a6208b4e4c5",
   "metadata": {},
   "outputs": [
    {
     "name": "stderr",
     "output_type": "stream",
     "text": [
      "2024-08-08 12:09:34.120905: I external/local_tsl/tsl/cuda/cudart_stub.cc:32] Could not find cuda drivers on your machine, GPU will not be used.\n",
      "2024-08-08 12:09:34.242350: I external/local_tsl/tsl/cuda/cudart_stub.cc:32] Could not find cuda drivers on your machine, GPU will not be used.\n",
      "2024-08-08 12:09:34.408506: E external/local_xla/xla/stream_executor/cuda/cuda_fft.cc:479] Unable to register cuFFT factory: Attempting to register factory for plugin cuFFT when one has already been registered\n",
      "2024-08-08 12:09:34.527398: E external/local_xla/xla/stream_executor/cuda/cuda_dnn.cc:10575] Unable to register cuDNN factory: Attempting to register factory for plugin cuDNN when one has already been registered\n",
      "2024-08-08 12:09:34.528317: E external/local_xla/xla/stream_executor/cuda/cuda_blas.cc:1442] Unable to register cuBLAS factory: Attempting to register factory for plugin cuBLAS when one has already been registered\n",
      "2024-08-08 12:09:34.762924: I tensorflow/core/platform/cpu_feature_guard.cc:210] This TensorFlow binary is optimized to use available CPU instructions in performance-critical operations.\n",
      "To enable the following instructions: AVX2 FMA, in other operations, rebuild TensorFlow with the appropriate compiler flags.\n",
      "2024-08-08 12:09:36.009061: W tensorflow/compiler/tf2tensorrt/utils/py_utils.cc:38] TF-TRT Warning: Could not find TensorRT\n"
     ]
    }
   ],
   "source": [
    "import warnings\n",
    "warnings.filterwarnings(\"ignore\")\n",
    "\n",
    "import os\n",
    "import pandas as pd\n",
    "import numpy as np\n",
    "from sklearn.preprocessing import StandardScaler\n",
    "from sklearn.decomposition import PCA\n",
    "import seaborn as sns\n",
    "import matplotlib.pyplot as plt\n",
    "import statsmodels.api as sm\n",
    "from sklearn.linear_model import LinearRegression\n",
    "from sklearn.linear_model import LogisticRegression\n",
    "import tensorflow as tf\n",
    "\n",
    "from helpers import parse_variables, get_risk_level, map_to_color, simulate_quant_trait\n",
    "from models import ols_regression, manhattan_linear, gc\n",
    "from deep_learning_models import abyss, deep_abyss\n",
    "\n",
    "from scipy.stats import t\n",
    "from scipy import stats\n",
    "from scipy.stats import entropy\n",
    "\n",
    "from tensorflow.keras import regularizers\n",
    "from sklearn.model_selection import train_test_split\n",
    "from tensorflow.keras.callbacks import EarlyStopping\n",
    "import tensorflow as tf\n",
    "\n",
    "from tensorflow.keras import Input, Model, layers, regularizers\n",
    "from tensorflow.keras.layers import Input, Dense\n"
   ]
  },
  {
   "cell_type": "code",
   "execution_count": 2,
   "id": "150a3146-cc65-452e-af38-2e41a485ca34",
   "metadata": {},
   "outputs": [],
   "source": [
    "# Names of the environmental risks\n",
    "naming_dict = {\n",
    "    \"no_risk\": \"no environmental risk\",\n",
    "    \"NW_risk\": \"Smooth linear North-West environmental risk\",\n",
    "    \"N_risk\" : \"Smooth linear North environmental risk\",\n",
    "    \"blob_risk\": \"Localised big blob risk\",\n",
    "    \"center_risk\": \"Localised big central risk\",\n",
    "    \"big_square_risk\": \"big square risk\",\n",
    "    \"square_risk\" : \"Tiny square risk\",\n",
    "    'hi_square_risk' : \"Tiny square risk\",\n",
    "    \"hi_gauss_blob_risk\": \"Global Gaussian Risk\",\n",
    "    \"two_square_risk\": \"Two tiny risks\",\n",
    "    \"gauss_blob_risk\" : \"Gaussian Risk\",\n",
    "    \"three_square_risk\": \"Three localized Risks\",\n",
    "    \"mid_mid_square_risk\": \"Mid square risk\"\n",
    "}"
   ]
  },
  {
   "cell_type": "markdown",
   "id": "abfde8ac-0b8b-4b45-993a-54983a48c9b4",
   "metadata": {},
   "source": [
    "# Load genotype"
   ]
  },
  {
   "cell_type": "code",
   "execution_count": 3,
   "id": "aa595d7c-97d8-4364-a873-35bca3d74233",
   "metadata": {},
   "outputs": [],
   "source": [
    "dict = parse_variables('geno_simulation.txt')\n",
    "G = int(dict['G'])\n",
    "L = int(dict['L'])\n",
    "c = int(dict['c'])\n",
    "k = int(dict['k'])\n",
    "M = float(dict['M'])\n",
    "\n",
    "# Thresholds\n",
    "very_rare_threshold_L = float(dict['very_rare_threshold_L'])\n",
    "very_rare_threshold_H = float(dict['very_rare_threshold_H'])\n",
    "\n",
    "rare_threshold_L = float(dict['rare_threshold_L'])\n",
    "rare_threshold_H = float(dict['rare_threshold_H'])\n",
    "\n",
    "common_threshold_L = float(dict['common_threshold_L'])\n",
    "common_threshold_H = float(dict['common_threshold_H'])\n",
    "\n",
    "number_of_snps = (G*L)/2 # one loci per chromosome\n",
    "number_of_individuals = c*k*k"
   ]
  },
  {
   "cell_type": "code",
   "execution_count": 4,
   "id": "3d027c04-9c4e-4b22-bab7-8d30c20e4e34",
   "metadata": {},
   "outputs": [],
   "source": [
    "very_rare = pd.read_pickle(f\"data/G{G}_L{L}_c{c}_k{k}_M{M}/genotype/02_veryrare_genotype_AF_{very_rare_threshold_L}_{very_rare_threshold_H}.pkl\")\n",
    "rare = pd.read_pickle(f\"data/G{G}_L{L}_c{c}_k{k}_M{M}/genotype/02_rare_genotype_AF_{rare_threshold_L}_{rare_threshold_H}.pkl\")\n",
    "common = pd.read_pickle(f\"data/G{G}_L{L}_c{c}_k{k}_M{M}/genotype/02_common_genotype_AF_{common_threshold_L}_{common_threshold_H}.pkl\")"
   ]
  },
  {
   "cell_type": "code",
   "execution_count": 5,
   "id": "e9cd10d9-e74f-4aab-8c50-dd9e034250e5",
   "metadata": {},
   "outputs": [],
   "source": [
    "very_rare = very_rare.rename(columns=lambda x: 'VR' + x)/2\n",
    "#very_rare = very_rare.iloc[::-1].reset_index(drop=True)\n",
    "rare = rare.rename(columns=lambda x: 'R' + x)/2\n",
    "common = common.rename(columns=lambda x: 'C' + x)/2\n",
    "complete = pd.concat([common, rare, very_rare], axis=1)\n",
    "complete = ((complete*2)-1)"
   ]
  },
  {
   "cell_type": "markdown",
   "id": "25773f05-614c-4084-984e-9fa80add2391",
   "metadata": {},
   "source": [
    "# load population"
   ]
  },
  {
   "cell_type": "code",
   "execution_count": 6,
   "id": "dcb6a0c9-0e5f-4cf5-8bb2-7e114a9ec1d5",
   "metadata": {},
   "outputs": [
    {
     "data": {
      "image/png": "[encoded data removed]",
      "text/plain": [
       "<Figure size 640x480 with 1 Axes>"
      ]
     },
     "metadata": {},
     "output_type": "display_data"
    }
   ],
   "source": [
    "populations = pd.read_pickle(f\"data/G{G}_L{L}_c{c}_k{k}_M{M}/phenotype/01_population_structure.pkl\")\n",
    "populations['population_number'] = populations['populations'].str.extract('(\\d+)').astype(int)\n",
    "# Calculating X and Y coordinates\n",
    "populations['x'] = ((populations['population_number'] - 1) % k) + 1\n",
    "populations['y'] = ((populations['population_number'] - 1) // k) + 1\n",
    "populations['z'] = 0.5\n",
    "populations['population'] = populations['population_number']/(k*k)\n",
    "palette = [map_to_color(x, y, z, populations) for x, y, z in zip(populations['x'], populations['y'], populations['z'])]\n",
    "\n",
    "# Standardize the vector\n",
    "std_dev = np.std(populations['x'])\n",
    "mean = np.mean(populations['x'])\n",
    "populations['x'] = np.round((populations['x'] - mean) / std_dev,2)\n",
    "\n",
    "std_dev = np.std(populations['y'])\n",
    "mean = np.mean(populations['y'])\n",
    "populations['y'] = np.round((populations['y'] - mean) / std_dev,2)\n",
    "\n",
    "# Check the grid\n",
    "df_agg = populations.groupby(['x', 'y']).agg({'population': 'mean'}).reset_index()\n",
    "\n",
    "# Now, pivot the aggregated DataFrame\n",
    "grid_df = df_agg.pivot(index='y', columns='x', values='population')\n",
    "\n",
    "\n",
    "heatmap = sns.heatmap(grid_df, cmap=palette, linewidths=.5, square=True, cbar=False)\n",
    "\n",
    "# Add a title to the heatmap\n",
    "plt.title('Population Grid', fontsize=16)\n",
    "plt.gca().invert_yaxis()  # Sometimes it's necessary to invert the y-axis for correct orientation\n",
    "plt.show()"
   ]
  },
  {
   "cell_type": "markdown",
   "id": "98158093-063b-49cc-a7d8-599196dc18f6",
   "metadata": {},
   "source": [
    "# Load environmental risk"
   ]
  },
  {
   "cell_type": "code",
   "execution_count": 7,
   "id": "dc810afc-22e6-4a1e-b787-e23f76a32112",
   "metadata": {},
   "outputs": [
    {
     "data": {
      "image/png": "[encoded data removed]",
      "text/plain": [
       "<Figure size 640x480 with 1 Axes>"
      ]
     },
     "metadata": {},
     "output_type": "display_data"
    }
   ],
   "source": [
    "risk_level = get_risk_level()\n",
    "risk_level = risk_level.split(\"\\n\")[-1]\n",
    "name_risk = risk_level.split('_fun')[0]\n",
    "risk = pd.read_pickle(f\"data/G{G}_L{L}_c{c}_k{k}_M{M}/phenotype/environmental_risks/risk_{name_risk}.pkl\")\n",
    "populations[name_risk] = risk[name_risk]\n",
    "df_agg = populations.groupby(['x', 'y']).agg({name_risk: 'mean'}).reset_index()\n",
    "grid_df = df_agg.pivot(index='y', columns='x', values=name_risk)\n",
    "sns.heatmap(grid_df, cmap='rocket_r', linewidths=.5, square=True, cbar=False)\n",
    "\n",
    "# Add a title to the heatmap\n",
    "plt.title(f\"{naming_dict[name_risk]}\", fontsize=16)\n",
    "plt.gca().invert_yaxis()  # Sometimes it's necessary to invert the y-axis for correct orientation\n",
    "plt.show()"
   ]
  },
  {
   "cell_type": "markdown",
   "id": "2ba91821-d91a-4676-9531-8bd60cec1967",
   "metadata": {},
   "source": [
    "# Find true allele frequency per population block (by counting)"
   ]
  },
  {
   "cell_type": "code",
   "execution_count": 10,
   "id": "694d143a-d426-40dd-ae5e-a48943a9d662",
   "metadata": {},
   "outputs": [],
   "source": [
    "\"\"\"\n",
    "complete['pop'] = populations['population_number']\n",
    "\n",
    "p2s_dfs = []\n",
    "q2s_dfs = []\n",
    "twopqs_dfs = []\n",
    "for pop in list(populations['population_number'].unique()):\n",
    "    snps = []\n",
    "    p2s = []\n",
    "    twopqs = []\n",
    "    q2s = []\n",
    "    temp = complete[complete['pop'] == pop]\n",
    "    temp.drop(\"pop\", axis=1, inplace=True)\n",
    "    for snp in list(temp.columns):\n",
    "        try:\n",
    "            num_maj = temp[[snp]].value_counts()[1]\n",
    "        except Exception as e:\n",
    "            num_maj = 0 \n",
    "        try:\n",
    "            num_het = temp[[snp]].value_counts()[0]\n",
    "        except Exception as e:\n",
    "            num_het = 0\n",
    "        try:\n",
    "            num_min = temp[[snp]].value_counts()[-1]\n",
    "        except Exception as e:\n",
    "            num_min = 0\n",
    "        total_humans = num_maj + num_het + num_min\n",
    "        p2 = [num_maj/total_humans]*total_humans\n",
    "        twopq = [num_het/total_humans]*total_humans\n",
    "        q2 = [num_min/total_humans]*total_humans\n",
    "        p2s.append(p2)\n",
    "        twopqs.append(twopq)\n",
    "        q2s.append(q2)\n",
    "        snps.append(snp)\n",
    "    p2s = pd.DataFrame(p2s).T\n",
    "    p2s.index = temp.index\n",
    "    p2s.columns = snps\n",
    "\n",
    "    twopqs = pd.DataFrame(twopqs).T\n",
    "    twopqs.index = temp.index\n",
    "    twopqs.columns = snps\n",
    "\n",
    "    q2s = pd.DataFrame(q2s).T\n",
    "    q2s.index = temp.index\n",
    "    q2s.columns = snps\n",
    "\n",
    "    p2s_dfs.append(p2s)\n",
    "    twopqs_dfs.append(twopqs)\n",
    "    q2s_dfs.append(q2s)\n",
    "\n",
    "complete.drop(\"pop\", axis=1, inplace=True)\n",
    "\n",
    "true_p2s = pd.concat(p2s_dfs)\n",
    "true_twopqs = pd.concat(twopqs_dfs)\n",
    "true_q2s = pd.concat(q2s_dfs)\n",
    "\n",
    "true_p2s.to_pickle(f\"data/G{G}_L{L}_c{c}_k{k}_M{M}/genotype/complete_truep2.pkl\")\n",
    "true_twopqs.to_pickle(f\"data/G{G}_L{L}_c{c}_k{k}_M{M}/genotype/complete_truetwopq.pkl\")\n",
    "true_q2s.to_pickle(f\"data/G{G}_L{L}_c{c}_k{k}_M{M}/genotype/complete_trueq2.pkl\")\n",
    "\"\"\""
   ]
  },
  {
   "cell_type": "code",
   "execution_count": 11,
   "id": "f0df9bd7-cb08-4cf9-958f-3765d3fe3c00",
   "metadata": {},
   "outputs": [],
   "source": [
    "true_p2s = pd.read_pickle(f\"data/G{G}_L{L}_c{c}_k{k}_M{M}/genotype/complete_truep2.pkl\")\n",
    "true_twopqs = pd.read_pickle(f\"data/G{G}_L{L}_c{c}_k{k}_M{M}/genotype/complete_truetwopq.pkl\")\n",
    "true_q2s = pd.read_pickle(f\"data/G{G}_L{L}_c{c}_k{k}_M{M}/genotype/complete_trueq2.pkl\")"
   ]
  },
  {
   "cell_type": "markdown",
   "id": "64b8cf4d-84a7-4845-a11e-08fc3d937743",
   "metadata": {},
   "source": [
    "# Create environment dependend phenotype"
   ]
  },
  {
   "cell_type": "code",
   "execution_count": 12,
   "id": "fab62420-346f-4a5c-82fa-b8e71d18236e",
   "metadata": {},
   "outputs": [],
   "source": [
    "mu= np.zeros(complete.shape[0])\n",
    "beta = np.zeros(complete.shape[1])\n",
    "precision = 0.05\n",
    "y = np.array(simulate_quant_trait(mu, np.array(complete), beta, np.array(risk[name_risk]), precision))\n",
    "# Calculate the standard deviation and mean\n",
    "std_dev = np.std(y)\n",
    "mean = np.mean(y)\n",
    "# Standardize\n",
    "y = (y - mean) / std_dev\n",
    "risk['pheno'] = y\n",
    "populations = pd.read_pickle(f\"data/G{G}_L{L}_c{c}_k{k}_M{M}/phenotype/01_population_structure.pkl\")"
   ]
  },
  {
   "cell_type": "code",
   "execution_count": 13,
   "id": "4a01e08c-bf3f-4ab2-a884-03b14de07290",
   "metadata": {},
   "outputs": [
    {
     "data": {
      "image/png": "[encoded data removed]",
      "text/plain": [
       "<Figure size 640x480 with 1 Axes>"
      ]
     },
     "metadata": {},
     "output_type": "display_data"
    }
   ],
   "source": [
    "sns.scatterplot(x=list(y), y=list(np.array(risk[name_risk])))\n",
    "plt.xlabel('Simulated phenotype only environment dependent')\n",
    "plt.ylabel('Environment risk factor')\n",
    "plt.title('Simulated pheno vs environmental risk factor')\n",
    "plt.show()"
   ]
  },
  {
   "cell_type": "markdown",
   "id": "f8ee3d15-90a9-4429-854d-8dc735c9956b",
   "metadata": {},
   "source": [
    "# Comparaisons"
   ]
  },
  {
   "cell_type": "code",
   "execution_count": 14,
   "id": "67e8bd6b-9c77-48f4-b78e-5c1a69203cc4",
   "metadata": {},
   "outputs": [
    {
     "name": "stdout",
     "output_type": "stream",
     "text": [
      "Global phenotype\n",
      "No Covs!\n"
     ]
    }
   ],
   "source": [
    "# No correction\n",
    "df_no_corr = manhattan_linear(complete, risk[['pheno']])"
   ]
  },
  {
   "cell_type": "code",
   "execution_count": 15,
   "id": "7a16169c-1418-41fe-b5e2-e730d263e580",
   "metadata": {},
   "outputs": [
    {
     "name": "stdout",
     "output_type": "stream",
     "text": [
      "Pheno is not None and not a dataframe\n",
      "Covs\n"
     ]
    }
   ],
   "source": [
    "# X and Y axis as covaraites\n",
    "pops = populations[['x','y']]\n",
    "df_pops = manhattan_linear(complete, y , pops)"
   ]
  },
  {
   "cell_type": "code",
   "execution_count": 16,
   "id": "c23f1856-3bdc-4080-91e8-97bd3baa5c72",
   "metadata": {},
   "outputs": [
    {
     "data": {
      "text/html": [
       "<div>\n",
       "<style scoped>\n",
       "    .dataframe tbody tr th:only-of-type {\n",
       "        vertical-align: middle;\n",
       "    }\n",
       "\n",
       "    .dataframe tbody tr th {\n",
       "        vertical-align: top;\n",
       "    }\n",
       "\n",
       "    .dataframe thead th {\n",
       "        text-align: right;\n",
       "    }\n",
       "</style>\n",
       "<table border=\"1\" class=\"dataframe\">\n",
       "  <thead>\n",
       "    <tr style=\"text-align: right;\">\n",
       "      <th></th>\n",
       "      <th>CG34_AF_0.32671875</th>\n",
       "      <th>CG47_AF_0.27078125</th>\n",
       "      <th>CG81_AF_0.33859375</th>\n",
       "      <th>CG97_AF_0.33953125</th>\n",
       "      <th>CG117_AF_0.365</th>\n",
       "      <th>CG138_AF_0.3371875</th>\n",
       "      <th>CG140_AF_0.38703125</th>\n",
       "      <th>CG143_AF_0.4365625</th>\n",
       "      <th>CG167_AF_0.36015625</th>\n",
       "      <th>CG181_AF_0.3053125</th>\n",
       "      <th>...</th>\n",
       "      <th>VRG1931_AF_0.03625</th>\n",
       "      <th>VRG1939_AF_0.039375</th>\n",
       "      <th>VRG1945_AF_0.02859375</th>\n",
       "      <th>VRG1973_AF_0.02484375</th>\n",
       "      <th>VRG1980_AF_0.0459375</th>\n",
       "      <th>VRG1981_AF_0.02609375</th>\n",
       "      <th>VRG1986_AF_0.03125</th>\n",
       "      <th>VRG1989_AF_0.03859375</th>\n",
       "      <th>VRG1992_AF_0.0453125</th>\n",
       "      <th>VRG1999_AF_0.03125</th>\n",
       "    </tr>\n",
       "  </thead>\n",
       "  <tbody>\n",
       "    <tr>\n",
       "      <th>0</th>\n",
       "      <td>0.28</td>\n",
       "      <td>0.04</td>\n",
       "      <td>0.04</td>\n",
       "      <td>0.08</td>\n",
       "      <td>0.06</td>\n",
       "      <td>0.18</td>\n",
       "      <td>0.02</td>\n",
       "      <td>0.06</td>\n",
       "      <td>0.36</td>\n",
       "      <td>0.08</td>\n",
       "      <td>...</td>\n",
       "      <td>0.02</td>\n",
       "      <td>0.04</td>\n",
       "      <td>0.04</td>\n",
       "      <td>0.08</td>\n",
       "      <td>0.00</td>\n",
       "      <td>0.06</td>\n",
       "      <td>0.04</td>\n",
       "      <td>0.06</td>\n",
       "      <td>0.06</td>\n",
       "      <td>0.02</td>\n",
       "    </tr>\n",
       "    <tr>\n",
       "      <th>1</th>\n",
       "      <td>0.28</td>\n",
       "      <td>0.04</td>\n",
       "      <td>0.04</td>\n",
       "      <td>0.08</td>\n",
       "      <td>0.06</td>\n",
       "      <td>0.18</td>\n",
       "      <td>0.02</td>\n",
       "      <td>0.06</td>\n",
       "      <td>0.36</td>\n",
       "      <td>0.08</td>\n",
       "      <td>...</td>\n",
       "      <td>0.02</td>\n",
       "      <td>0.04</td>\n",
       "      <td>0.04</td>\n",
       "      <td>0.08</td>\n",
       "      <td>0.00</td>\n",
       "      <td>0.06</td>\n",
       "      <td>0.04</td>\n",
       "      <td>0.06</td>\n",
       "      <td>0.06</td>\n",
       "      <td>0.02</td>\n",
       "    </tr>\n",
       "    <tr>\n",
       "      <th>2</th>\n",
       "      <td>0.28</td>\n",
       "      <td>0.04</td>\n",
       "      <td>0.04</td>\n",
       "      <td>0.08</td>\n",
       "      <td>0.06</td>\n",
       "      <td>0.18</td>\n",
       "      <td>0.02</td>\n",
       "      <td>0.06</td>\n",
       "      <td>0.36</td>\n",
       "      <td>0.08</td>\n",
       "      <td>...</td>\n",
       "      <td>0.02</td>\n",
       "      <td>0.04</td>\n",
       "      <td>0.04</td>\n",
       "      <td>0.08</td>\n",
       "      <td>0.00</td>\n",
       "      <td>0.06</td>\n",
       "      <td>0.04</td>\n",
       "      <td>0.06</td>\n",
       "      <td>0.06</td>\n",
       "      <td>0.02</td>\n",
       "    </tr>\n",
       "    <tr>\n",
       "      <th>3</th>\n",
       "      <td>0.28</td>\n",
       "      <td>0.04</td>\n",
       "      <td>0.04</td>\n",
       "      <td>0.08</td>\n",
       "      <td>0.06</td>\n",
       "      <td>0.18</td>\n",
       "      <td>0.02</td>\n",
       "      <td>0.06</td>\n",
       "      <td>0.36</td>\n",
       "      <td>0.08</td>\n",
       "      <td>...</td>\n",
       "      <td>0.02</td>\n",
       "      <td>0.04</td>\n",
       "      <td>0.04</td>\n",
       "      <td>0.08</td>\n",
       "      <td>0.00</td>\n",
       "      <td>0.06</td>\n",
       "      <td>0.04</td>\n",
       "      <td>0.06</td>\n",
       "      <td>0.06</td>\n",
       "      <td>0.02</td>\n",
       "    </tr>\n",
       "    <tr>\n",
       "      <th>4</th>\n",
       "      <td>0.28</td>\n",
       "      <td>0.04</td>\n",
       "      <td>0.04</td>\n",
       "      <td>0.08</td>\n",
       "      <td>0.06</td>\n",
       "      <td>0.18</td>\n",
       "      <td>0.02</td>\n",
       "      <td>0.06</td>\n",
       "      <td>0.36</td>\n",
       "      <td>0.08</td>\n",
       "      <td>...</td>\n",
       "      <td>0.02</td>\n",
       "      <td>0.04</td>\n",
       "      <td>0.04</td>\n",
       "      <td>0.08</td>\n",
       "      <td>0.00</td>\n",
       "      <td>0.06</td>\n",
       "      <td>0.04</td>\n",
       "      <td>0.06</td>\n",
       "      <td>0.06</td>\n",
       "      <td>0.02</td>\n",
       "    </tr>\n",
       "    <tr>\n",
       "      <th>...</th>\n",
       "      <td>...</td>\n",
       "      <td>...</td>\n",
       "      <td>...</td>\n",
       "      <td>...</td>\n",
       "      <td>...</td>\n",
       "      <td>...</td>\n",
       "      <td>...</td>\n",
       "      <td>...</td>\n",
       "      <td>...</td>\n",
       "      <td>...</td>\n",
       "      <td>...</td>\n",
       "      <td>...</td>\n",
       "      <td>...</td>\n",
       "      <td>...</td>\n",
       "      <td>...</td>\n",
       "      <td>...</td>\n",
       "      <td>...</td>\n",
       "      <td>...</td>\n",
       "      <td>...</td>\n",
       "      <td>...</td>\n",
       "      <td>...</td>\n",
       "    </tr>\n",
       "    <tr>\n",
       "      <th>3195</th>\n",
       "      <td>0.52</td>\n",
       "      <td>0.16</td>\n",
       "      <td>0.30</td>\n",
       "      <td>0.22</td>\n",
       "      <td>0.24</td>\n",
       "      <td>0.30</td>\n",
       "      <td>0.04</td>\n",
       "      <td>0.30</td>\n",
       "      <td>0.10</td>\n",
       "      <td>0.08</td>\n",
       "      <td>...</td>\n",
       "      <td>0.04</td>\n",
       "      <td>0.04</td>\n",
       "      <td>0.00</td>\n",
       "      <td>0.04</td>\n",
       "      <td>0.02</td>\n",
       "      <td>0.00</td>\n",
       "      <td>0.02</td>\n",
       "      <td>0.00</td>\n",
       "      <td>0.02</td>\n",
       "      <td>0.00</td>\n",
       "    </tr>\n",
       "    <tr>\n",
       "      <th>3196</th>\n",
       "      <td>0.52</td>\n",
       "      <td>0.16</td>\n",
       "      <td>0.30</td>\n",
       "      <td>0.22</td>\n",
       "      <td>0.24</td>\n",
       "      <td>0.30</td>\n",
       "      <td>0.04</td>\n",
       "      <td>0.30</td>\n",
       "      <td>0.10</td>\n",
       "      <td>0.08</td>\n",
       "      <td>...</td>\n",
       "      <td>0.04</td>\n",
       "      <td>0.04</td>\n",
       "      <td>0.00</td>\n",
       "      <td>0.04</td>\n",
       "      <td>0.02</td>\n",
       "      <td>0.00</td>\n",
       "      <td>0.02</td>\n",
       "      <td>0.00</td>\n",
       "      <td>0.02</td>\n",
       "      <td>0.00</td>\n",
       "    </tr>\n",
       "    <tr>\n",
       "      <th>3197</th>\n",
       "      <td>0.52</td>\n",
       "      <td>0.16</td>\n",
       "      <td>0.30</td>\n",
       "      <td>0.22</td>\n",
       "      <td>0.24</td>\n",
       "      <td>0.30</td>\n",
       "      <td>0.04</td>\n",
       "      <td>0.30</td>\n",
       "      <td>0.10</td>\n",
       "      <td>0.08</td>\n",
       "      <td>...</td>\n",
       "      <td>0.04</td>\n",
       "      <td>0.04</td>\n",
       "      <td>0.00</td>\n",
       "      <td>0.04</td>\n",
       "      <td>0.02</td>\n",
       "      <td>0.00</td>\n",
       "      <td>0.02</td>\n",
       "      <td>0.00</td>\n",
       "      <td>0.02</td>\n",
       "      <td>0.00</td>\n",
       "    </tr>\n",
       "    <tr>\n",
       "      <th>3198</th>\n",
       "      <td>0.52</td>\n",
       "      <td>0.16</td>\n",
       "      <td>0.30</td>\n",
       "      <td>0.22</td>\n",
       "      <td>0.24</td>\n",
       "      <td>0.30</td>\n",
       "      <td>0.04</td>\n",
       "      <td>0.30</td>\n",
       "      <td>0.10</td>\n",
       "      <td>0.08</td>\n",
       "      <td>...</td>\n",
       "      <td>0.04</td>\n",
       "      <td>0.04</td>\n",
       "      <td>0.00</td>\n",
       "      <td>0.04</td>\n",
       "      <td>0.02</td>\n",
       "      <td>0.00</td>\n",
       "      <td>0.02</td>\n",
       "      <td>0.00</td>\n",
       "      <td>0.02</td>\n",
       "      <td>0.00</td>\n",
       "    </tr>\n",
       "    <tr>\n",
       "      <th>3199</th>\n",
       "      <td>0.52</td>\n",
       "      <td>0.16</td>\n",
       "      <td>0.30</td>\n",
       "      <td>0.22</td>\n",
       "      <td>0.24</td>\n",
       "      <td>0.30</td>\n",
       "      <td>0.04</td>\n",
       "      <td>0.30</td>\n",
       "      <td>0.10</td>\n",
       "      <td>0.08</td>\n",
       "      <td>...</td>\n",
       "      <td>0.04</td>\n",
       "      <td>0.04</td>\n",
       "      <td>0.00</td>\n",
       "      <td>0.04</td>\n",
       "      <td>0.02</td>\n",
       "      <td>0.00</td>\n",
       "      <td>0.02</td>\n",
       "      <td>0.00</td>\n",
       "      <td>0.02</td>\n",
       "      <td>0.00</td>\n",
       "    </tr>\n",
       "  </tbody>\n",
       "</table>\n",
       "<p>3200 rows × 1646 columns</p>\n",
       "</div>"
      ],
      "text/plain": [
       "      CG34_AF_0.32671875  CG47_AF_0.27078125  CG81_AF_0.33859375  \\\n",
       "0                   0.28                0.04                0.04   \n",
       "1                   0.28                0.04                0.04   \n",
       "2                   0.28                0.04                0.04   \n",
       "3                   0.28                0.04                0.04   \n",
       "4                   0.28                0.04                0.04   \n",
       "...                  ...                 ...                 ...   \n",
       "3195                0.52                0.16                0.30   \n",
       "3196                0.52                0.16                0.30   \n",
       "3197                0.52                0.16                0.30   \n",
       "3198                0.52                0.16                0.30   \n",
       "3199                0.52                0.16                0.30   \n",
       "\n",
       "      CG97_AF_0.33953125  CG117_AF_0.365  CG138_AF_0.3371875  \\\n",
       "0                   0.08            0.06                0.18   \n",
       "1                   0.08            0.06                0.18   \n",
       "2                   0.08            0.06                0.18   \n",
       "3                   0.08            0.06                0.18   \n",
       "4                   0.08            0.06                0.18   \n",
       "...                  ...             ...                 ...   \n",
       "3195                0.22            0.24                0.30   \n",
       "3196                0.22            0.24                0.30   \n",
       "3197                0.22            0.24                0.30   \n",
       "3198                0.22            0.24                0.30   \n",
       "3199                0.22            0.24                0.30   \n",
       "\n",
       "      CG140_AF_0.38703125  CG143_AF_0.4365625  CG167_AF_0.36015625  \\\n",
       "0                    0.02                0.06                 0.36   \n",
       "1                    0.02                0.06                 0.36   \n",
       "2                    0.02                0.06                 0.36   \n",
       "3                    0.02                0.06                 0.36   \n",
       "4                    0.02                0.06                 0.36   \n",
       "...                   ...                 ...                  ...   \n",
       "3195                 0.04                0.30                 0.10   \n",
       "3196                 0.04                0.30                 0.10   \n",
       "3197                 0.04                0.30                 0.10   \n",
       "3198                 0.04                0.30                 0.10   \n",
       "3199                 0.04                0.30                 0.10   \n",
       "\n",
       "      CG181_AF_0.3053125  ...  VRG1931_AF_0.03625  VRG1939_AF_0.039375  \\\n",
       "0                   0.08  ...                0.02                 0.04   \n",
       "1                   0.08  ...                0.02                 0.04   \n",
       "2                   0.08  ...                0.02                 0.04   \n",
       "3                   0.08  ...                0.02                 0.04   \n",
       "4                   0.08  ...                0.02                 0.04   \n",
       "...                  ...  ...                 ...                  ...   \n",
       "3195                0.08  ...                0.04                 0.04   \n",
       "3196                0.08  ...                0.04                 0.04   \n",
       "3197                0.08  ...                0.04                 0.04   \n",
       "3198                0.08  ...                0.04                 0.04   \n",
       "3199                0.08  ...                0.04                 0.04   \n",
       "\n",
       "      VRG1945_AF_0.02859375  VRG1973_AF_0.02484375  VRG1980_AF_0.0459375  \\\n",
       "0                      0.04                   0.08                  0.00   \n",
       "1                      0.04                   0.08                  0.00   \n",
       "2                      0.04                   0.08                  0.00   \n",
       "3                      0.04                   0.08                  0.00   \n",
       "4                      0.04                   0.08                  0.00   \n",
       "...                     ...                    ...                   ...   \n",
       "3195                   0.00                   0.04                  0.02   \n",
       "3196                   0.00                   0.04                  0.02   \n",
       "3197                   0.00                   0.04                  0.02   \n",
       "3198                   0.00                   0.04                  0.02   \n",
       "3199                   0.00                   0.04                  0.02   \n",
       "\n",
       "      VRG1981_AF_0.02609375  VRG1986_AF_0.03125  VRG1989_AF_0.03859375  \\\n",
       "0                      0.06                0.04                   0.06   \n",
       "1                      0.06                0.04                   0.06   \n",
       "2                      0.06                0.04                   0.06   \n",
       "3                      0.06                0.04                   0.06   \n",
       "4                      0.06                0.04                   0.06   \n",
       "...                     ...                 ...                    ...   \n",
       "3195                   0.00                0.02                   0.00   \n",
       "3196                   0.00                0.02                   0.00   \n",
       "3197                   0.00                0.02                   0.00   \n",
       "3198                   0.00                0.02                   0.00   \n",
       "3199                   0.00                0.02                   0.00   \n",
       "\n",
       "      VRG1992_AF_0.0453125  VRG1999_AF_0.03125  \n",
       "0                     0.06                0.02  \n",
       "1                     0.06                0.02  \n",
       "2                     0.06                0.02  \n",
       "3                     0.06                0.02  \n",
       "4                     0.06                0.02  \n",
       "...                    ...                 ...  \n",
       "3195                  0.02                0.00  \n",
       "3196                  0.02                0.00  \n",
       "3197                  0.02                0.00  \n",
       "3198                  0.02                0.00  \n",
       "3199                  0.02                0.00  \n",
       "\n",
       "[3200 rows x 1646 columns]"
      ]
     },
     "execution_count": 16,
     "metadata": {},
     "output_type": "execute_result"
    }
   ],
   "source": [
    "true_twopqs"
   ]
  },
  {
   "cell_type": "code",
   "execution_count": 17,
   "id": "3123f2ba-e491-4088-89c9-fb5536a11418",
   "metadata": {},
   "outputs": [
    {
     "name": "stdout",
     "output_type": "stream",
     "text": [
      "Pheno is not None and not a dataframe\n",
      "Dictionary Match!\n"
     ]
    }
   ],
   "source": [
    "# p2 - q2 and 2pq as covariates\n",
    "covariate_dictionary = {}\n",
    "for snp in list(complete.columns):\n",
    "    temp = complete[[snp]].copy()\n",
    "    temp[f\"{snp}_cov_p_q\"] = true_p2s[snp] - true_q2s[snp]\n",
    "    temp[f\"{snp}_cov_2pq\"] = true_twopqs[snp]\n",
    "    temp = temp.drop(columns=[snp])\n",
    "    covariate_dictionary[snp] = temp\n",
    "df_p_q_2pq_covs_via_true_pops = manhattan_linear(complete, y, covariate_dictionary)"
   ]
  },
  {
   "cell_type": "code",
   "execution_count": 18,
   "id": "494659d3-c5b9-49a5-a153-2221534bbbb1",
   "metadata": {},
   "outputs": [
    {
     "name": "stdout",
     "output_type": "stream",
     "text": [
      "Pheno is not None and not a dataframe\n",
      "Covs\n"
     ]
    }
   ],
   "source": [
    "# Dummies per population\n",
    "onehotpops = pd.get_dummies(populations[['populations']], columns=['populations']).astype(int)\n",
    "df_pops_onehot = manhattan_linear(complete, y , onehotpops)"
   ]
  },
  {
   "cell_type": "code",
   "execution_count": 19,
   "id": "c1b90588-0c60-463d-84ba-35c37260875c",
   "metadata": {},
   "outputs": [],
   "source": [
    "# Streamline abyss"
   ]
  },
  {
   "cell_type": "code",
   "execution_count": null,
   "id": "2336097c-9769-4f11-8426-2f743e57c2e6",
   "metadata": {},
   "outputs": [],
   "source": []
  },
  {
   "cell_type": "code",
   "execution_count": 20,
   "id": "b4999c94-14b9-4b0a-973b-f8211e2f654c",
   "metadata": {},
   "outputs": [],
   "source": [
    "def abyss(geno_in, geno_out, bottleneck_nr, epoch, patience):\n",
    "    # Split the data into training and testing sets\n",
    "    X_train, X_test, y_train, y_test = train_test_split(geno_in, geno_out, test_size=0.2, random_state=42)\n",
    "    \n",
    "    # Regularization parameter\n",
    "    l2_regularizer = 0.001\n",
    "    \n",
    "    # Original autoencoder model with L2 regularization\n",
    "    autoencoder = tf.keras.Sequential([\n",
    "        tf.keras.layers.Dense(200, activation='elu', input_shape=(geno_in.shape[1],), kernel_regularizer=regularizers.l2(l2_regularizer)),  # First hidden layer with L2 regularization\n",
    "        #layers.BatchNormalization(),\n",
    "        #tf.keras.layers.Activation('elu'),\n",
    "        tf.keras.layers.Dense(bottleneck_nr, activation='elu', name='bottleneck', kernel_regularizer=regularizers.l2(l2_regularizer)),  # Bottleneck layer with L2 regularization\n",
    "        layers.BatchNormalization(),\n",
    "        tf.keras.layers.Activation('elu'),\n",
    "        tf.keras.layers.Dense(200, activation='elu', kernel_regularizer=regularizers.l2(l2_regularizer)),  # Second hidden layer with L2 regularization\n",
    "        #layers.BatchNormalization(),\n",
    "        #tf.keras.layers.Activation('elu'),\n",
    "        tf.keras.layers.Dense(geno_out.shape[1], activation='linear', kernel_regularizer=regularizers.l2(l2_regularizer))  # Output layer\n",
    "    ])\n",
    "    \n",
    "    # Compile the original model with L2 regularization\n",
    "    autoencoder.compile(optimizer='adam',\n",
    "                        loss='mean_squared_error',\n",
    "                        metrics=['mean_absolute_error'])\n",
    "    \n",
    "    # Define Early Stopping\n",
    "    early_stopping = EarlyStopping(monitor='val_loss', patience=patience, restore_best_weights=True)\n",
    "    \n",
    "    # Fit the original model with Early Stopping\n",
    "    history = autoencoder.fit(X_train, y_train, epochs=epoch, batch_size=32, validation_split=0.2, callbacks=[early_stopping], verbose=0)\n",
    "\n",
    "    # Extract the bottleneck layer after fitting the model\n",
    "    bottleneck_model = tf.keras.Model(inputs=autoencoder.inputs, outputs=autoencoder.get_layer('bottleneck').output)\n",
    "    \n",
    "    return autoencoder, bottleneck_model, history"
   ]
  },
  {
   "cell_type": "code",
   "execution_count": 21,
   "id": "257b4fdc-b6b6-4669-accd-f9c11197f661",
   "metadata": {},
   "outputs": [],
   "source": [
    "# visualise first\n",
    "bottleneck_nr = 2\n",
    "epoch = 200\n",
    "patience = 10\n",
    "dim_labels = [f\"dim{i}\" for i in range(1, bottleneck_nr + 1)]"
   ]
  },
  {
   "cell_type": "code",
   "execution_count": 22,
   "id": "59467561-6946-4f70-9b85-7b5c03bc6ffc",
   "metadata": {},
   "outputs": [],
   "source": [
    "autoencoder, bottleneck_model, history = abyss(complete, complete, bottleneck_nr, epoch, patience)"
   ]
  },
  {
   "cell_type": "code",
   "execution_count": 23,
   "id": "db0a6957-1d5d-4172-8829-85d40182c587",
   "metadata": {},
   "outputs": [],
   "source": [
    "bottle = pd.DataFrame(data=bottleneck_model(complete), columns = dim_labels)"
   ]
  },
  {
   "cell_type": "code",
   "execution_count": 24,
   "id": "a2eb546e-caac-4cec-bd77-dfc22d6e1417",
   "metadata": {},
   "outputs": [
    {
     "data": {
      "image/png": "[encoded data removed]",
      "text/plain": [
       "<Figure size 640x480 with 1 Axes>"
      ]
     },
     "metadata": {},
     "output_type": "display_data"
    }
   ],
   "source": [
    "colors = [map_to_color(x, y, z, populations) for x, y, z in zip(populations['x'], populations['y'], populations['z'])]\n",
    "sns.scatterplot(x='dim1', y='dim2', data=bottle, color=colors, linewidth=0)\n",
    "\n",
    "# Adjust layout\n",
    "plt.tight_layout()\n",
    "plt.title(f\"Autoencoder bottleneck\")\n",
    "\n",
    "# Show the plots\n",
    "plt.show()"
   ]
  },
  {
   "cell_type": "code",
   "execution_count": null,
   "id": "8de34996-0709-42e5-b219-bf198b09b9a0",
   "metadata": {},
   "outputs": [],
   "source": []
  },
  {
   "cell_type": "code",
   "execution_count": 23,
   "id": "48ca2d62-6a56-43a2-8609-7da57c8ea8b7",
   "metadata": {},
   "outputs": [
    {
     "data": {
      "text/plain": [
       "\"\\n# to check the mafs\\nmafs = []\\nfor snp_id in list(complete.columns):\\n    try:\\n        num_maj = complete[[snp_id]].value_counts()[1.0]\\n    except Exception as e:\\n        print(e)\\n        num_maj = 0\\n    try:\\n        num_het = complete[[snp_id]].value_counts()[0.0]\\n    except Exception as e:\\n        num_het = 0\\n    try:\\n        num_min = complete[[snp_id]].value_counts()[-1.0]\\n    except Exception as e:\\n        num_min = 0\\n    total_humans = num_maj + num_het + num_min\\n    maf = (num_min*2 + num_het)/(total_humans*2)\\n    mafs.append(maf)\\n\\n\\nautoencoder, bottleneck_model, history = abyss((complete +1)/2, (complete +1)/2, bottleneck_nr, epoch, patience)\\np = autoencoder(tf.convert_to_tensor((complete +1)/2, dtype=tf.float32))\\nps = pd.DataFrame(data=p, columns = complete.columns)\\n\\nautoencoder, bottleneck_model, history = abyss((complete -1)/-2, (complete -1)/-2, bottleneck_nr, epoch, patience)\\nq = autoencoder(tf.convert_to_tensor((complete -1)/-2, dtype=tf.float32))\\nqs = pd.DataFrame(data=q, columns = complete.columns)\\n\\ncompare = pd.DataFrame()\\n\\ncompare['counted_mafs'] = mafs\\n\\ncompare['autoencoder_ps'] = list(1-ps.mean())\\ncompare['autoencoder_qs'] = list(qs.mean())\\n\\nsns.scatterplot(x='counted_mafs', y='autoencoder_ps', data=compare, color='blue', linewidth=0)\\nsns.scatterplot(x='counted_mafs', y='autoencoder_qs', data=compare, color='red', linewidth=0)\\n\""
      ]
     },
     "execution_count": 23,
     "metadata": {},
     "output_type": "execute_result"
    }
   ],
   "source": [
    "\"\"\"\n",
    "# to check the mafs\n",
    "mafs = []\n",
    "for snp_id in list(complete.columns):\n",
    "    try:\n",
    "        num_maj = complete[[snp_id]].value_counts()[1.0]\n",
    "    except Exception as e:\n",
    "        print(e)\n",
    "        num_maj = 0\n",
    "    try:\n",
    "        num_het = complete[[snp_id]].value_counts()[0.0]\n",
    "    except Exception as e:\n",
    "        num_het = 0\n",
    "    try:\n",
    "        num_min = complete[[snp_id]].value_counts()[-1.0]\n",
    "    except Exception as e:\n",
    "        num_min = 0\n",
    "    total_humans = num_maj + num_het + num_min\n",
    "    maf = (num_min*2 + num_het)/(total_humans*2)\n",
    "    mafs.append(maf)\n",
    "\n",
    "\n",
    "autoencoder, bottleneck_model, history = abyss((complete +1)/2, (complete +1)/2, bottleneck_nr, epoch, patience)\n",
    "p = autoencoder(tf.convert_to_tensor((complete +1)/2, dtype=tf.float32))\n",
    "ps = pd.DataFrame(data=p, columns = complete.columns)\n",
    "\n",
    "autoencoder, bottleneck_model, history = abyss((complete -1)/-2, (complete -1)/-2, bottleneck_nr, epoch, patience)\n",
    "q = autoencoder(tf.convert_to_tensor((complete -1)/-2, dtype=tf.float32))\n",
    "qs = pd.DataFrame(data=q, columns = complete.columns)\n",
    "\n",
    "compare = pd.DataFrame()\n",
    "\n",
    "compare['counted_mafs'] = mafs\n",
    "\n",
    "compare['autoencoder_ps'] = list(1-ps.mean())\n",
    "compare['autoencoder_qs'] = list(qs.mean())\n",
    "\n",
    "sns.scatterplot(x='counted_mafs', y='autoencoder_ps', data=compare, color='blue', linewidth=0)\n",
    "sns.scatterplot(x='counted_mafs', y='autoencoder_qs', data=compare, color='red', linewidth=0)\n",
    "\"\"\""
   ]
  },
  {
   "cell_type": "code",
   "execution_count": null,
   "id": "266d7b99-893f-48bc-9242-07123fada77a",
   "metadata": {},
   "outputs": [],
   "source": []
  },
  {
   "cell_type": "code",
   "execution_count": null,
   "id": "dabd7842-a4e9-42a2-8f08-fa5274ca9b30",
   "metadata": {},
   "outputs": [],
   "source": []
  },
  {
   "cell_type": "code",
   "execution_count": null,
   "id": "da8611c0-eea1-49c2-a2dd-1385ee6450aa",
   "metadata": {},
   "outputs": [],
   "source": []
  },
  {
   "cell_type": "code",
   "execution_count": null,
   "id": "a3fa90af-3597-43c3-868f-872c477354ce",
   "metadata": {},
   "outputs": [],
   "source": []
  },
  {
   "cell_type": "code",
   "execution_count": null,
   "id": "54b4bea2-cc1c-4c74-a947-a0588e1029dc",
   "metadata": {},
   "outputs": [],
   "source": []
  },
  {
   "cell_type": "code",
   "execution_count": null,
   "id": "e0ea588a-329a-4397-9b7f-e16964b0083c",
   "metadata": {},
   "outputs": [],
   "source": []
  },
  {
   "cell_type": "code",
   "execution_count": null,
   "id": "d3783f51-09f8-4a66-823d-bdabb13327ef",
   "metadata": {},
   "outputs": [],
   "source": []
  },
  {
   "cell_type": "code",
   "execution_count": null,
   "id": "e42d5712-bd2e-4f7f-90ba-2f4e4bea0f6e",
   "metadata": {},
   "outputs": [],
   "source": []
  },
  {
   "cell_type": "code",
   "execution_count": null,
   "id": "ae97bb59-6357-433b-bb40-f2b13e86c916",
   "metadata": {},
   "outputs": [],
   "source": []
  },
  {
   "cell_type": "code",
   "execution_count": null,
   "id": "15fd85b1-49bf-4ace-a127-6dacb0f8f7d0",
   "metadata": {},
   "outputs": [],
   "source": []
  },
  {
   "cell_type": "code",
   "execution_count": 25,
   "id": "91b57a30-640a-42d7-a13e-d79954864a61",
   "metadata": {},
   "outputs": [],
   "source": [
    "# Function to ensure minimum cluster size\n",
    "def ensure_min_cluster_size(data, labels, min_size):\n",
    "    unique_labels, counts = np.unique(labels, return_counts=True)\n",
    "    small_clusters = unique_labels[counts < min_size]\n",
    "    \n",
    "    # Reassign points from small clusters to the nearest large cluster\n",
    "    for cluster in small_clusters:\n",
    "        indices = np.where(labels == cluster)[0]\n",
    "        for index in indices:\n",
    "            # Find nearest large cluster\n",
    "            nearest_large_cluster = None\n",
    "            nearest_distance = float('inf')\n",
    "            for label in unique_labels:\n",
    "                if label not in small_clusters:\n",
    "                    distance = np.linalg.norm(data.iloc[index] - kmeans.cluster_centers_[label])\n",
    "                    if distance < nearest_distance:\n",
    "                        nearest_distance = distance\n",
    "                        nearest_large_cluster = label\n",
    "            labels[index] = nearest_large_cluster\n",
    "    \n",
    "    return labels"
   ]
  },
  {
   "cell_type": "code",
   "execution_count": 26,
   "id": "5ec23706-1b19-4562-a9b6-0f0b09deb2d7",
   "metadata": {},
   "outputs": [],
   "source": [
    "from sklearn.cluster import KMeans\n",
    "n_clusters = 8\n",
    "kmeans = KMeans(n_clusters=n_clusters, random_state=42)\n",
    "kmeans.fit(bottle)\n",
    "\n",
    "# Step 3: Assign the cluster labels to each data point\n",
    "labels = kmeans.labels_\n",
    "\n",
    "# Step 4: Ensure minimum cluster size\n",
    "min_size = c  # Set your desired minimum cluster size\n",
    "labels = ensure_min_cluster_size(bottle, labels, min_size)"
   ]
  },
  {
   "cell_type": "code",
   "execution_count": 27,
   "id": "e5fb90c8-2316-4267-8bfe-b21325888991",
   "metadata": {},
   "outputs": [],
   "source": [
    "\n",
    "complete['populations'] = labels\n",
    "unique_pops = list(complete['populations'].unique())\n",
    "bottleneck_nr = 256\n",
    "dim_labels = [f\"dim{i}\" for i in range(1, bottleneck_nr + 1)]\n",
    "epoch = 50\n",
    "patience = 15\n",
    "ps = []\n",
    "qs = []\n",
    "\n",
    "for pop in unique_pops:\n",
    "    temp_geno = complete[complete['populations'] == pop]\n",
    "    temp_geno.drop(\"populations\", axis=1, inplace=True)\n",
    "    \n",
    "    autoencoder, bottleneck_model, history = abyss((temp_geno +1)/2, (temp_geno +1)/2, bottleneck_nr, epoch, patience)\n",
    "    p = autoencoder(tf.convert_to_tensor((temp_geno +1)/2, dtype=tf.float32))\n",
    "    p = pd.DataFrame(data=p, columns = temp_geno.columns)\n",
    "    p.index = temp_geno.index\n",
    "    ps.append(p)\n",
    "\n",
    "    autoencoder, bottleneck_model, history = abyss((temp_geno -1)/-2, (temp_geno -1)/-2, bottleneck_nr, epoch, patience)\n",
    "    q = autoencoder(tf.convert_to_tensor((temp_geno -1)/-2, dtype=tf.float32))\n",
    "    q = pd.DataFrame(data=q, columns = temp_geno.columns)\n",
    "    q.index = temp_geno.index\n",
    "    qs.append(q)\n",
    "ps = pd.concat(ps)\n",
    "qs = pd.concat(qs)\n",
    "\n",
    "ps.to_pickle(f\"data/G{G}_L{L}_c{c}_k{k}_M{M}/genotype/estimated_ps_via_estimated_pop.pkl\")\n",
    "qs.to_pickle(f\"data/G{G}_L{L}_c{c}_k{k}_M{M}/genotype/estimated_qs_via_estimated_pop.pkl\")\n",
    "\n",
    "complete.drop(\"populations\", axis=1, inplace=True)\n"
   ]
  },
  {
   "cell_type": "code",
   "execution_count": 36,
   "id": "1afab35e-1d98-4219-83d2-35b1bcea73cf",
   "metadata": {},
   "outputs": [],
   "source": [
    "ps = pd.read_pickle(f\"data/G{G}_L{L}_c{c}_k{k}_M{M}/genotype/estimated_ps_via_estimated_pop.pkl\")\n",
    "qs = pd.read_pickle(f\"data/G{G}_L{L}_c{c}_k{k}_M{M}/genotype/estimated_qs_via_estimated_pop.pkl\")"
   ]
  },
  {
   "cell_type": "code",
   "execution_count": 32,
   "id": "d3f2bc1a-e252-4c97-9a52-8a8bedd35117",
   "metadata": {},
   "outputs": [
    {
     "data": {
      "text/plain": [
       "snps\n",
       "CG34_AF_0.32671875       0.274791\n",
       "CG47_AF_0.27078125       0.203340\n",
       "CG81_AF_0.33859375       0.273342\n",
       "CG97_AF_0.33953125       0.272531\n",
       "CG117_AF_0.365           0.280300\n",
       "                           ...   \n",
       "VRG1981_AF_0.02609375    0.022278\n",
       "VRG1986_AF_0.03125       0.034576\n",
       "VRG1989_AF_0.03859375    0.032044\n",
       "VRG1992_AF_0.0453125     0.042380\n",
       "VRG1999_AF_0.03125       0.024061\n",
       "Length: 1646, dtype: float32"
      ]
     },
     "execution_count": 32,
     "metadata": {},
     "output_type": "execute_result"
    }
   ],
   "source": [
    "qs.mean()"
   ]
  },
  {
   "cell_type": "code",
   "execution_count": 33,
   "id": "fdf222a5-f12c-43b1-9a38-cce2fb055216",
   "metadata": {},
   "outputs": [
    {
     "data": {
      "text/plain": [
       "snps\n",
       "CG34_AF_0.32671875       0.365730\n",
       "CG47_AF_0.27078125       0.390346\n",
       "CG81_AF_0.33859375       0.415650\n",
       "CG97_AF_0.33953125       0.402717\n",
       "CG117_AF_0.365           0.425986\n",
       "                           ...   \n",
       "VRG1981_AF_0.02609375    0.069604\n",
       "VRG1986_AF_0.03125       0.179421\n",
       "VRG1989_AF_0.03859375    0.199066\n",
       "VRG1992_AF_0.0453125     0.150031\n",
       "VRG1999_AF_0.03125       0.109866\n",
       "Length: 1646, dtype: float32"
      ]
     },
     "execution_count": 33,
     "metadata": {},
     "output_type": "execute_result"
    }
   ],
   "source": [
    "(1-ps).mean()"
   ]
  },
  {
   "cell_type": "code",
   "execution_count": 35,
   "id": "1ae77749-ffff-4489-9959-6e4e4cad2432",
   "metadata": {},
   "outputs": [],
   "source": [
    "covariate_dictionary = {}\n",
    "for snp in list(complete.columns):\n",
    "    temp = complete[[snp]].copy()\n",
    "    temp[f\"{snp}_cov_p2\"] = ps[snp]**2\n",
    "    temp[f\"{snp}_cov_q2\"] = qs[snp]**2\n",
    "    temp[f\"{snp}_cov_2pq\"] = 2*ps[snp]*qs[snp]\n",
    "    temp = temp.drop(columns=[snp])\n",
    "    covariate_dictionary[snp] = temp"
   ]
  },
  {
   "cell_type": "code",
   "execution_count": 36,
   "id": "6eb21923-595b-4956-a9d1-7b2ab3ccf6bc",
   "metadata": {},
   "outputs": [
    {
     "name": "stdout",
     "output_type": "stream",
     "text": [
      "Pheno is not None and not a dataframe\n",
      "Dictionary Match!\n"
     ]
    }
   ],
   "source": [
    "df_abyss_p_q_covs_via_esti_pop = manhattan_linear(complete, y, covariate_dictionary)"
   ]
  },
  {
   "cell_type": "code",
   "execution_count": 37,
   "id": "bfbc42ff-ab39-40b2-ba79-e06e8ee98c6e",
   "metadata": {},
   "outputs": [
    {
     "name": "stdout",
     "output_type": "stream",
     "text": [
      "Pheno is not None and not a dataframe\n",
      "Covs\n"
     ]
    }
   ],
   "source": [
    "# PCA\n",
    "nr_common_PCs = 24\n",
    "pc_columns = ['PC{}'.format(i) for i in range(1, nr_common_PCs+1)]\n",
    "PC_common= pd.read_pickle(f\"data/G{G}_L{L}_c{c}_k{k}_M{M}/phenotype/PCs/common_genotype_AF_{common_threshold_L}_{common_threshold_H}.pkl\")\n",
    "df_PCs = manhattan_linear(complete, y , PC_common[pc_columns])"
   ]
  },
  {
   "cell_type": "code",
   "execution_count": 45,
   "id": "37393f12-1655-4ae9-beb1-e55abd505ff6",
   "metadata": {},
   "outputs": [
    {
     "data": {
      "text/plain": [
       "'\\n# Create db_minor\\ndb_minor = complete.copy()\\ndb_minor = db_minor.applymap(lambda x: 1 if x == -1.0 else 0)\\n\\n# Create db_het\\ndb_het = complete.copy()\\ndb_het = db_het.applymap(lambda x: 1 if x == 0.0 else 0)\\n\\n# Create db_major\\ndb_major = complete.copy()\\ndb_major = db_major.applymap(lambda x: 1 if x == 1.0 else 0)\\n\\ndb_minor.to_pickle(f\"data/G{G}_L{L}_c{c}_k{k}_M{M}/genotype/db_minor.pkl\")\\ndb_het.to_pickle(f\"data/G{G}_L{L}_c{c}_k{k}_M{M}/genotype/db_het.pkl\")\\ndb_major.to_pickle(f\"data/G{G}_L{L}_c{c}_k{k}_M{M}/genotype/db_major.pkl\")\\n'"
      ]
     },
     "execution_count": 45,
     "metadata": {},
     "output_type": "execute_result"
    }
   ],
   "source": [
    "\"\"\"\n",
    "# Create db_minor\n",
    "db_minor = complete.copy()\n",
    "db_minor = db_minor.applymap(lambda x: 1 if x == -1.0 else 0)\n",
    "\n",
    "# Create db_het\n",
    "db_het = complete.copy()\n",
    "db_het = db_het.applymap(lambda x: 1 if x == 0.0 else 0)\n",
    "\n",
    "# Create db_major\n",
    "db_major = complete.copy()\n",
    "db_major = db_major.applymap(lambda x: 1 if x == 1.0 else 0)\n",
    "\n",
    "db_minor.to_pickle(f\"data/G{G}_L{L}_c{c}_k{k}_M{M}/genotype/db_minor.pkl\")\n",
    "db_het.to_pickle(f\"data/G{G}_L{L}_c{c}_k{k}_M{M}/genotype/db_het.pkl\")\n",
    "db_major.to_pickle(f\"data/G{G}_L{L}_c{c}_k{k}_M{M}/genotype/db_major.pkl\")\n",
    "\"\"\""
   ]
  },
  {
   "cell_type": "code",
   "execution_count": 46,
   "id": "b152c5c0-cd3b-47a8-841e-e9b1593e5f2a",
   "metadata": {},
   "outputs": [],
   "source": [
    "db_minor = pd.read_pickle(f\"data/G{G}_L{L}_c{c}_k{k}_M{M}/genotype/db_minor.pkl\")\n",
    "db_het = pd.read_pickle(f\"data/G{G}_L{L}_c{c}_k{k}_M{M}/genotype/db_het.pkl\")\n",
    "db_major = pd.read_pickle(f\"data/G{G}_L{L}_c{c}_k{k}_M{M}/genotype/db_major.pkl\")"
   ]
  },
  {
   "cell_type": "code",
   "execution_count": 47,
   "id": "01e07b21-cf54-4a9b-a163-d848012b3269",
   "metadata": {},
   "outputs": [],
   "source": [
    "def abyss(geno_in, geno_out, bottleneck_nr, epoch, patience):\n",
    "    # Split the data into training and testing sets\n",
    "    X_train, X_test, y_train, y_test = train_test_split(geno_in, geno_out, test_size=0.2, random_state=42)\n",
    "    \n",
    "    # Regularization parameter\n",
    "    l2_regularizer = 0.001\n",
    "    \n",
    "    # Original autoencoder model with L2 regularization\n",
    "    autoencoder = tf.keras.Sequential([\n",
    "        tf.keras.layers.Dense(200, activation='elu', input_shape=(geno_in.shape[1],), kernel_regularizer=regularizers.l2(l2_regularizer)),  # First hidden layer with L2 regularization\n",
    "        #layers.BatchNormalization(),\n",
    "        #tf.keras.layers.Activation('elu'),\n",
    "        tf.keras.layers.Dense(bottleneck_nr, activation='elu', name='bottleneck', kernel_regularizer=regularizers.l2(l2_regularizer)),  # Bottleneck layer with L2 regularization\n",
    "        layers.BatchNormalization(),\n",
    "        tf.keras.layers.Activation('elu'),\n",
    "        tf.keras.layers.Dense(200, activation='elu', kernel_regularizer=regularizers.l2(l2_regularizer)),  # Second hidden layer with L2 regularization\n",
    "        #layers.BatchNormalization(),\n",
    "        #tf.keras.layers.Activation('elu'),\n",
    "        tf.keras.layers.Dense(geno_out.shape[1], activation='linear', kernel_regularizer=regularizers.l2(l2_regularizer))  # Output layer\n",
    "    ])\n",
    "    \n",
    "    # Compile the original model with L2 regularization\n",
    "    autoencoder.compile(optimizer='adam',\n",
    "                        loss='mean_squared_error',\n",
    "                        metrics=['mean_absolute_error'])\n",
    "    \n",
    "    # Define Early Stopping\n",
    "    early_stopping = EarlyStopping(monitor='val_loss', patience=patience, restore_best_weights=True)\n",
    "    \n",
    "    # Fit the original model with Early Stopping\n",
    "    history = autoencoder.fit(X_train, y_train, epochs=epoch, batch_size=32, validation_split=0.2, callbacks=[early_stopping], verbose=0)\n",
    "\n",
    "    # Extract the bottleneck layer after fitting the model\n",
    "    bottleneck_model = tf.keras.Model(inputs=autoencoder.inputs, outputs=autoencoder.get_layer('bottleneck').output)\n",
    "    \n",
    "    return autoencoder, bottleneck_model, history"
   ]
  },
  {
   "cell_type": "code",
   "execution_count": 48,
   "id": "cdda1679-d2da-4bac-8bbe-12f81ffea449",
   "metadata": {},
   "outputs": [],
   "source": [
    "bottleneck_nr = 64\n",
    "epoch = 200\n",
    "patience = 10\n",
    "dim_labels = [f\"dim{i}\" for i in range(1, bottleneck_nr + 1)]\n",
    "autoencoder, bottleneck_model, history = abyss(complete, complete, bottleneck_nr, epoch, patience)\n",
    "bottle = pd.DataFrame(data=bottleneck_model(complete), columns = dim_labels)"
   ]
  },
  {
   "cell_type": "code",
   "execution_count": 49,
   "id": "3be334cd-60c4-4f50-b136-856d0ec14282",
   "metadata": {},
   "outputs": [],
   "source": [
    "# Function to ensure minimum cluster size\n",
    "def ensure_min_cluster_size(data, labels, min_size):\n",
    "    unique_labels, counts = np.unique(labels, return_counts=True)\n",
    "    small_clusters = unique_labels[counts < min_size]\n",
    "    \n",
    "    # Reassign points from small clusters to the nearest large cluster\n",
    "    for cluster in small_clusters:\n",
    "        indices = np.where(labels == cluster)[0]\n",
    "        for index in indices:\n",
    "            # Find nearest large cluster\n",
    "            nearest_large_cluster = None\n",
    "            nearest_distance = float('inf')\n",
    "            for label in unique_labels:\n",
    "                if label not in small_clusters:\n",
    "                    distance = np.linalg.norm(data.iloc[index] - kmeans.cluster_centers_[label])\n",
    "                    if distance < nearest_distance:\n",
    "                        nearest_distance = distance\n",
    "                        nearest_large_cluster = label\n",
    "            labels[index] = nearest_large_cluster\n",
    "    \n",
    "    return labels"
   ]
  },
  {
   "cell_type": "code",
   "execution_count": 50,
   "id": "d9d2bbf2-ee2f-4ed9-8dc1-1958a7995378",
   "metadata": {},
   "outputs": [],
   "source": [
    "from sklearn.cluster import KMeans\n",
    "n_clusters = 120\n",
    "kmeans = KMeans(n_clusters=n_clusters, random_state=42)\n",
    "kmeans.fit(bottle)\n",
    "\n",
    "# Step 3: Assign the cluster labels to each data point\n",
    "labels = kmeans.labels_\n",
    "\n",
    "# Step 4: Ensure minimum cluster size\n",
    "min_size = 10  # Set your desired minimum cluster size\n",
    "labels = ensure_min_cluster_size(bottle, labels, min_size)"
   ]
  },
  {
   "cell_type": "code",
   "execution_count": null,
   "id": "40c326a5-ec93-4c9c-8be1-0bd97fa3991d",
   "metadata": {},
   "outputs": [],
   "source": [
    "bottle['cluster'] = labels\n",
    "unique_pops = list(bottle['cluster'].unique())\n",
    "\n",
    "db_major['populations'] = bottle['cluster']\n",
    "db_het['populations'] = bottle['cluster']\n",
    "db_minor['populations'] = bottle['cluster']\n",
    "\n",
    "true_p2s['populations'] = bottle['cluster']\n",
    "true_twopqs['populations'] = bottle['cluster']\n",
    "true_q2s['populations'] = bottle['cluster']\n",
    "\n",
    "bottleneck_nr = 1\n",
    "dim_labels = [f\"dim{i}\" for i in range(1, bottleneck_nr + 1)]\n",
    "epoch = 500\n",
    "patience = 15\n",
    "p2s = []\n",
    "for pop in unique_pops:\n",
    "    temp_major = db_major[db_major['populations'] == pop]\n",
    "    temp_major.drop(\"populations\", axis=1, inplace=True)\n",
    "    temp_p2s = true_p2s[true_p2s['populations'] == pop]\n",
    "    temp_p2s.drop(\"populations\", axis=1, inplace=True)\n",
    "    autoencoder, bottleneck_model, history = abyss(temp_major, temp_major, bottleneck_nr, epoch, patience)\n",
    "    p2 = autoencoder(tf.convert_to_tensor(temp_major, dtype=tf.float32))\n",
    "    p2 = pd.DataFrame(data=p2, columns = complete.columns)\n",
    "    p2.index = temp_major.index\n",
    "    p2_bottle = pd.DataFrame(data=bottleneck_model(temp_major), columns = dim_labels)\n",
    "    p2_bottle.index = temp_major.index\n",
    "    p2s.append(p2)\n",
    "print(\"done with p2\")\n",
    "\n",
    "twopqs = []\n",
    "for pop in unique_pops:\n",
    "    temp_het = db_het[db_het['populations'] == pop]\n",
    "    temp_het.drop(\"populations\", axis=1, inplace=True)\n",
    "    temp_2pqs = true_twopqs[true_twopqs['populations'] == pop]\n",
    "    temp_2pqs.drop(\"populations\", axis=1, inplace=True)\n",
    "    autoencoder, bottleneck_model, history = abyss(temp_het, temp_het, bottleneck_nr, epoch, patience)\n",
    "    twopq = autoencoder(tf.convert_to_tensor(temp_het, dtype=tf.float32))\n",
    "    twopq = pd.DataFrame(data=twopq, columns = complete.columns)\n",
    "    twopq.index = temp_het.index\n",
    "    twopq_bottle = pd.DataFrame(data=bottleneck_model(temp_het), columns = dim_labels)\n",
    "    twopq_bottle.index = temp_het.index\n",
    "    twopqs.append(twopq)\n",
    "print(\"done with 2pq\")\n",
    "\n",
    "q2s = []\n",
    "for pop in unique_pops:\n",
    "    temp_minor = db_minor[db_minor['populations'] == pop]\n",
    "    temp_minor.drop(\"populations\", axis=1, inplace=True)\n",
    "    temp_q2s = true_q2s[true_q2s['populations'] == pop]\n",
    "    temp_q2s.drop(\"populations\", axis=1, inplace=True)\n",
    "    autoencoder, bottleneck_model, history = abyss(temp_minor, temp_minor, bottleneck_nr, epoch, patience)\n",
    "    q2 = autoencoder(tf.convert_to_tensor(temp_minor, dtype=tf.float32))\n",
    "    q2 = pd.DataFrame(data=q2, columns = complete.columns)\n",
    "    q2.index = temp_minor.index\n",
    "    q2_bottle = pd.DataFrame(data=bottleneck_model(temp_minor), columns = dim_labels)\n",
    "    q2_bottle.index = temp_minor.index\n",
    "    q2s.append(q2)\n",
    "\n",
    "print(\"done with q2\")\n",
    "\n",
    "\n",
    "p2 = pd.concat(p2s)\n",
    "twopq = pd.concat(twopqs)\n",
    "q2 = pd.concat(q2s)\n",
    "\n",
    "p2.to_pickle(f\"data/G{G}_L{L}_c{c}_k{k}_M{M}/genotype/estimated_truep2_via_estimated_pop.pkl\")\n",
    "twopq.to_pickle(f\"data/G{G}_L{L}_c{c}_k{k}_M{M}/genotype/estimated_true2pq_via_estimated_pop.pkl\")\n",
    "q2.to_pickle(f\"data/G{G}_L{L}_c{c}_k{k}_M{M}/genotype/estimated_trueq2_via_estimated_pop.pkl\")"
   ]
  },
  {
   "cell_type": "code",
   "execution_count": null,
   "id": "5886d4b8-cb69-462d-a3ff-f2e1e559e520",
   "metadata": {},
   "outputs": [],
   "source": [
    "p2 = pd.read_pickle(f\"data/G{G}_L{L}_c{c}_k{k}_M{M}/genotype/estimated_truep2_via_estimated_pop.pkl\")\n",
    "twopq = pd.read_pickle(f\"data/G{G}_L{L}_c{c}_k{k}_M{M}/genotype/estimated_true2pq_via_estimated_pop.pkl\")\n",
    "q2 = pd.read_pickle(f\"data/G{G}_L{L}_c{c}_k{k}_M{M}/genotype/estimated_trueq2_via_true_estimated.pkl\")"
   ]
  },
  {
   "cell_type": "code",
   "execution_count": null,
   "id": "384c2f53-3711-4a3c-993e-49d091022f09",
   "metadata": {},
   "outputs": [],
   "source": [
    "covariate_dictionary = {}\n",
    "for snp in list(complete.columns):\n",
    "    temp = complete[[snp]].copy()\n",
    "    temp[f\"{snp}_cov_p2\"] = p2[snp]\n",
    "    temp[f\"{snp}_cov_q2\"] = q2[snp]\n",
    "    temp[f\"{snp}_cov_2pq\"] = twopq[snp]\n",
    "    temp = temp.drop(columns=[snp])\n",
    "    covariate_dictionary[snp] = temp"
   ]
  },
  {
   "cell_type": "code",
   "execution_count": null,
   "id": "b5aaea55-7460-40a5-8ba7-2ced4800c2e3",
   "metadata": {},
   "outputs": [],
   "source": [
    "df_abyss_p_q_2pq_covs_via_esti_pop = manhattan_linear(complete, y, covariate_dictionary)"
   ]
  },
  {
   "cell_type": "code",
   "execution_count": null,
   "id": "039eea3a-1e61-4eb2-9cf3-5737ecc98d4e",
   "metadata": {},
   "outputs": [],
   "source": []
  },
  {
   "cell_type": "code",
   "execution_count": null,
   "id": "1e89eb81-e6eb-4618-98e1-46b607add10e",
   "metadata": {},
   "outputs": [],
   "source": []
  },
  {
   "cell_type": "code",
   "execution_count": null,
   "id": "950ca7b7-979b-4593-afbe-2a4f9e1e7452",
   "metadata": {},
   "outputs": [],
   "source": []
  },
  {
   "cell_type": "code",
   "execution_count": null,
   "id": "bfcc6474-78a4-4303-a88b-28972aee6830",
   "metadata": {},
   "outputs": [],
   "source": []
  },
  {
   "cell_type": "code",
   "execution_count": null,
   "id": "e5662b35-573d-4e0e-a146-d78c195910d9",
   "metadata": {},
   "outputs": [],
   "source": []
  },
  {
   "cell_type": "code",
   "execution_count": null,
   "id": "f5dfdc91-648f-4b86-97ea-42f8ac3fc765",
   "metadata": {},
   "outputs": [],
   "source": []
  },
  {
   "cell_type": "code",
   "execution_count": null,
   "id": "e11df823-3e79-4ba8-8197-bd1ffc820c17",
   "metadata": {},
   "outputs": [],
   "source": []
  },
  {
   "cell_type": "code",
   "execution_count": 39,
   "id": "e6cc45b0-84aa-4be9-9cb1-0016a27c5b76",
   "metadata": {},
   "outputs": [],
   "source": [
    "# Create QQ plot\n",
    "df_bests = pd.DataFrame()\n",
    "df_bests[\"-logP_no_corr\"] = np.sort(df_no_corr['-logPs'])\n",
    "df_bests[\"-logP_true_pop\"] = np.sort(df_pops['-logPs'])\n",
    "df_bests[\"-logP_true_pop_onehot\"] = np.sort(df_pops_onehot['-logPs'])\n",
    "df_bests[\"-logP_abyss_via_esti_pops\"] = np.sort(df_abyss_p_q_covs_via_esti_pop['-logPs'])\n",
    "df_bests[\"-logP_abyss_via_true_pops\"] = np.sort(df_p_q_covs_via_true_pops['-logPs'])\n",
    "df_bests[\"-logP_abyss_pq2pq_via_true_pops\"] = np.sort(df_p_q_2pq_covs_via_true_pops['-logPs'])\n",
    "\n",
    "\n",
    "df_bests[\"-logP_PCs\"] = np.sort(df_PCs['-logPs'])"
   ]
  },
  {
   "cell_type": "code",
   "execution_count": 40,
   "id": "c6c76699-87af-403c-a6c5-bc1bab6863cc",
   "metadata": {},
   "outputs": [],
   "source": [
    "# Find the maximum value in the DataFrame excluding inf and NaN\n",
    "max_value = df_bests.replace([np.inf, -np.inf], np.nan).max().max()\n",
    "\n",
    "# Replace inf values with the maximum value found\n",
    "df_bests.replace([np.inf, -np.inf], max_value, inplace=True)\n",
    "\n",
    "# Replace NaN values with the maximum value found\n",
    "df_bests.fillna(max_value, inplace=True)\n",
    "n = len(df_bests)\n",
    "expected_quantiles = np.arange(1, n + 1) / n\n",
    "expected_logP = np.sort(-np.log10(expected_quantiles))\n",
    "df_bests['expected_logP'] = expected_logP"
   ]
  },
  {
   "cell_type": "code",
   "execution_count": 42,
   "id": "c4ef1e52-c836-4c30-92da-93d95e969c63",
   "metadata": {},
   "outputs": [
    {
     "data": {
      "image/png": "[encoded data removed]",
      "text/plain": [
       "<Figure size 640x480 with 1 Axes>"
      ]
     },
     "metadata": {},
     "output_type": "display_data"
    }
   ],
   "source": [
    "sns.scatterplot(x='expected_logP', y='-logP_no_corr', data=df_bests, color='red', label='no covariate', linewidth=0)\n",
    "\n",
    "sns.scatterplot(x='expected_logP', y='-logP_true_pop', data=df_bests, color='darkblue', label='True populations x,y axis as covariate', linewidth=0)\n",
    "\n",
    "sns.scatterplot(x='expected_logP', y='-logP_true_pop_onehot', data=df_bests, color='lightblue', label='True populations dummies as covariates', linewidth=0)\n",
    "\n",
    "sns.scatterplot(x='expected_logP', y='-logP_abyss_via_esti_pops', data=df_bests, color='purple', label='Estimated MAFs as covs', linewidth=0)\n",
    "sns.scatterplot(x='expected_logP', y='-logP_abyss_via_true_pops', data=df_bests, color='orange', label='True MAFs as covs', linewidth=0)\n",
    "sns.scatterplot(x='expected_logP', y='-logP_abyss_pq2pq_via_true_pops', data=df_bests, color='yellow', label='Estimates p2, q2, 2pq as covs', linewidth=0)\n",
    "\n",
    "sns.scatterplot(x='expected_logP', y='-logP_PCs', data=df_bests, color='pink', label=f\"{nr_common_PCs} PCs as covariate\", linewidth=0)\n",
    "\n",
    "# Plot diagonal reference line\n",
    "plt.plot([min(df_bests['expected_logP']), max(df_bests['expected_logP'])], \n",
    "         [min(df_bests['expected_logP']), max(df_bests['expected_logP'])], \n",
    "         color='red', linestyle='--')\n",
    "\n",
    "# Set plot labels and title\n",
    "plt.xlabel('Expected')\n",
    "plt.ylabel('-Log10(P) Values')\n",
    "plt.title(f\"QQ Plot of Log Values - {naming_dict[name_risk]}\")\n",
    "\n",
    "# Show legend\n",
    "plt.legend()\n",
    "#plt.savefig(f\"data/plots/qq_pheno_{name_risk}_iter_{iterations}_G{G}_L{L}_c{c}_k{k}_M{M}.png\", dpi=100)\n",
    "# Show plot\n",
    "plt.show()"
   ]
  },
  {
   "cell_type": "code",
   "execution_count": null,
   "id": "3838190b-0161-4702-b9ee-3f6f8516d19e",
   "metadata": {},
   "outputs": [],
   "source": []
  },
  {
   "cell_type": "code",
   "execution_count": null,
   "id": "9a284139-c8b0-43e6-8817-1e8f2f87fc0e",
   "metadata": {},
   "outputs": [],
   "source": []
  }
 ],
 "metadata": {
  "kernelspec": {
   "display_name": "Python 3 (ipykernel)",
   "language": "python",
   "name": "python3"
  },
  "language_info": {
   "codemirror_mode": {
    "name": "ipython",
    "version": 3
   },
   "file_extension": ".py",
   "mimetype": "text/x-python",
   "name": "python",
   "nbconvert_exporter": "python",
   "pygments_lexer": "ipython3",
   "version": "3.10.2"
  }
 },
 "nbformat": 4,
 "nbformat_minor": 5
}
