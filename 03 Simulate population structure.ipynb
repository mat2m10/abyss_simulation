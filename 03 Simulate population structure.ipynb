{
 "cells": [
  {
   "cell_type": "markdown",
   "id": "9b8a6458-634d-479c-8945-100e2df228f5",
   "metadata": {},
   "source": [
    "# Import libraries"
   ]
  },
  {
   "cell_type": "code",
   "execution_count": 1,
   "id": "6edf61b9-416f-4dcc-8c1c-16be5ed2e50a",
   "metadata": {},
   "outputs": [],
   "source": [
    "import os\n",
    "import pandas as pd\n",
    "import numpy as np\n",
    "from sklearn.preprocessing import StandardScaler\n",
    "from sklearn.decomposition import PCA\n",
    "import seaborn as sns\n",
    "import matplotlib.pyplot as plt\n",
    "import statsmodels.api as sm\n",
    "from helpers import parse_variables, get_risk_level, hi_gauss_blob_risk_fun, blob_risk_fun, NW_risk_fun, square_risk_fun, map_to_color\n",
    "from matplotlib.colors import LinearSegmentedColormap\n",
    "import importlib.util"
   ]
  },
  {
   "cell_type": "markdown",
   "id": "bfd6bc7c-b020-44ac-bb12-2cac5b4fa4eb",
   "metadata": {},
   "source": [
    "# Create population grid"
   ]
  },
  {
   "cell_type": "code",
   "execution_count": 2,
   "id": "19afb241-7fe0-452e-8a29-c896449718cf",
   "metadata": {},
   "outputs": [],
   "source": [
    "dict = parse_variables('geno_simulation.txt')\n",
    "G = int(dict['G'])\n",
    "L = int(dict['L'])\n",
    "c = int(dict['c'])\n",
    "k = int(dict['k'])\n",
    "M = float(dict['M'])\n",
    "\n",
    "# Thresholds\n",
    "very_rare_threshold_L = float(dict['very_rare_threshold_L'])\n",
    "very_rare_threshold_H = float(dict['very_rare_threshold_H'])\n",
    "\n",
    "rare_threshold_L = float(dict['rare_threshold_L'])\n",
    "rare_threshold_H = float(dict['rare_threshold_H'])\n",
    "\n",
    "common_threshold_L = float(dict['common_threshold_L'])\n",
    "common_threshold_H = float(dict['common_threshold_H'])"
   ]
  },
  {
   "cell_type": "code",
   "execution_count": 3,
   "id": "d2d3b23e-454e-4a44-ae9b-4475fd751f53",
   "metadata": {},
   "outputs": [],
   "source": [
    "number_of_snps = (G*L)/2 # one loci per chromosome\n",
    "number_of_individuals = c*k*k"
   ]
  },
  {
   "cell_type": "markdown",
   "id": "c7fe8238-a7ec-4804-814f-33272a48a1f4",
   "metadata": {},
   "source": [
    "# Create populations"
   ]
  },
  {
   "cell_type": "code",
   "execution_count": 4,
   "id": "83244988-e4ce-433e-aa97-3218606892a5",
   "metadata": {},
   "outputs": [
    {
     "data": {
      "text/html": [
       "<div>\n",
       "<style scoped>\n",
       "    .dataframe tbody tr th:only-of-type {\n",
       "        vertical-align: middle;\n",
       "    }\n",
       "\n",
       "    .dataframe tbody tr th {\n",
       "        vertical-align: top;\n",
       "    }\n",
       "\n",
       "    .dataframe thead th {\n",
       "        text-align: right;\n",
       "    }\n",
       "</style>\n",
       "<table border=\"1\" class=\"dataframe\">\n",
       "  <thead>\n",
       "    <tr style=\"text-align: right;\">\n",
       "      <th></th>\n",
       "      <th>populations</th>\n",
       "    </tr>\n",
       "  </thead>\n",
       "  <tbody>\n",
       "    <tr>\n",
       "      <th>0</th>\n",
       "      <td>pop 1</td>\n",
       "    </tr>\n",
       "    <tr>\n",
       "      <th>1</th>\n",
       "      <td>pop 1</td>\n",
       "    </tr>\n",
       "    <tr>\n",
       "      <th>2</th>\n",
       "      <td>pop 1</td>\n",
       "    </tr>\n",
       "    <tr>\n",
       "      <th>3</th>\n",
       "      <td>pop 1</td>\n",
       "    </tr>\n",
       "    <tr>\n",
       "      <th>4</th>\n",
       "      <td>pop 1</td>\n",
       "    </tr>\n",
       "    <tr>\n",
       "      <th>...</th>\n",
       "      <td>...</td>\n",
       "    </tr>\n",
       "    <tr>\n",
       "      <th>3195</th>\n",
       "      <td>pop 64</td>\n",
       "    </tr>\n",
       "    <tr>\n",
       "      <th>3196</th>\n",
       "      <td>pop 64</td>\n",
       "    </tr>\n",
       "    <tr>\n",
       "      <th>3197</th>\n",
       "      <td>pop 64</td>\n",
       "    </tr>\n",
       "    <tr>\n",
       "      <th>3198</th>\n",
       "      <td>pop 64</td>\n",
       "    </tr>\n",
       "    <tr>\n",
       "      <th>3199</th>\n",
       "      <td>pop 64</td>\n",
       "    </tr>\n",
       "  </tbody>\n",
       "</table>\n",
       "<p>3200 rows × 1 columns</p>\n",
       "</div>"
      ],
      "text/plain": [
       "     populations\n",
       "0          pop 1\n",
       "1          pop 1\n",
       "2          pop 1\n",
       "3          pop 1\n",
       "4          pop 1\n",
       "...          ...\n",
       "3195      pop 64\n",
       "3196      pop 64\n",
       "3197      pop 64\n",
       "3198      pop 64\n",
       "3199      pop 64\n",
       "\n",
       "[3200 rows x 1 columns]"
      ]
     },
     "execution_count": 4,
     "metadata": {},
     "output_type": "execute_result"
    }
   ],
   "source": [
    "number_of_populations = k*k\n",
    "labels_pop = []\n",
    "for i in range(number_of_populations):\n",
    "    labels_pop += [f\"pop {i+1}\"]*c\n",
    "populations = pd.DataFrame(labels_pop, columns=['populations'])\n",
    "populations\n"
   ]
  },
  {
   "cell_type": "code",
   "execution_count": 5,
   "id": "56001b08-8f34-4780-8196-e167164f6cf0",
   "metadata": {},
   "outputs": [],
   "source": [
    "populations['population_number'] = populations['populations'].str.extract('(\\d+)').astype(int)\n",
    "# Calculating X and Y coordinates\n",
    "populations['x'] = ((populations['population_number'] - 1) % k) + 1\n",
    "populations['y'] = ((populations['population_number'] - 1) // k) + 1\n",
    "populations['z'] = 0.5\n",
    "populations['population'] = populations['population_number']/(k*k)"
   ]
  },
  {
   "cell_type": "code",
   "execution_count": 6,
   "id": "e773c39f-3d69-4752-9b8c-4f0544fd8b4d",
   "metadata": {},
   "outputs": [],
   "source": [
    "palette = [map_to_color(x, y, z, populations) for x, y, z in zip(populations['x'], populations['y'], populations['z'])]"
   ]
  },
  {
   "cell_type": "code",
   "execution_count": 7,
   "id": "aae812a1-e7a4-44a3-b8f7-7d20ea6c1167",
   "metadata": {},
   "outputs": [
    {
     "data": {
      "image/png": "[encoded data removed]",
      "text/plain": [
       "<Figure size 1000x1000 with 1 Axes>"
      ]
     },
     "metadata": {},
     "output_type": "display_data"
    }
   ],
   "source": [
    "# Check the grid\n",
    "df_agg = populations.groupby(['x', 'y']).agg({'population': 'mean'}).reset_index()\n",
    "\n",
    "# Now, pivot the aggregated DataFrame\n",
    "grid_df = df_agg.pivot(index='y', columns='x', values='population')\n",
    "\n",
    "# Use seaborn to create the heatmap\n",
    "plt.figure(figsize=(10, 10))\n",
    "heatmap = sns.heatmap(grid_df, cmap=palette, linewidths=.5, square=True, cbar=False)\n",
    "\n",
    "# Add a title to the heatmap\n",
    "plt.title('Population Grid', fontsize=16)\n",
    "plt.gca().invert_yaxis()  # Sometimes it's necessary to invert the y-axis for correct orientation\n",
    "plt.show()"
   ]
  },
  {
   "cell_type": "code",
   "execution_count": 8,
   "id": "1ee5b5a3-9b6e-4afd-b41f-607d7225d0d6",
   "metadata": {},
   "outputs": [],
   "source": [
    "os.makedirs(f\"data/G{G}_L{L}_c{c}_k{k}_M{M}/phenotype/\", exist_ok = True)"
   ]
  },
  {
   "cell_type": "code",
   "execution_count": 9,
   "id": "457ba90d-de38-43f0-8822-a5c3e8788e5c",
   "metadata": {},
   "outputs": [],
   "source": [
    "populations[['populations', 'x', 'y', 'z']].to_pickle(f\"data/G{G}_L{L}_c{c}_k{k}_M{M}/phenotype/01_population_structure.pkl\")"
   ]
  },
  {
   "cell_type": "code",
   "execution_count": null,
   "id": "b505b598-6c43-441e-940b-58a4498e1edc",
   "metadata": {},
   "outputs": [],
   "source": []
  },
  {
   "cell_type": "code",
   "execution_count": null,
   "id": "fd7cef7f-e1de-4969-adf1-57a02cc9b0c3",
   "metadata": {},
   "outputs": [],
   "source": []
  },
  {
   "cell_type": "code",
   "execution_count": null,
   "id": "d061d74c-e6a5-4f05-9734-7640ce2ebe9e",
   "metadata": {},
   "outputs": [],
   "source": []
  },
  {
   "cell_type": "code",
   "execution_count": null,
   "id": "5f6601d3-5759-4daf-8d6d-06900ba9bc4c",
   "metadata": {},
   "outputs": [],
   "source": []
  },
  {
   "cell_type": "code",
   "execution_count": null,
   "id": "b6d6fa68-7416-4e2c-ba42-0c544b4009f5",
   "metadata": {},
   "outputs": [],
   "source": []
  }
 ],
 "metadata": {
  "kernelspec": {
   "display_name": "Python 3 (ipykernel)",
   "language": "python",
   "name": "python3"
  },
  "language_info": {
   "codemirror_mode": {
    "name": "ipython",
    "version": 3
   },
   "file_extension": ".py",
   "mimetype": "text/x-python",
   "name": "python",
   "nbconvert_exporter": "python",
   "pygments_lexer": "ipython3",
   "version": "3.10.2"
  }
 },
 "nbformat": 4,
 "nbformat_minor": 5
}
