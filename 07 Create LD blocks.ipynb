{
 "cells": [
  {
   "cell_type": "markdown",
   "id": "58340ac8-a823-4774-a293-5a12cba212c0",
   "metadata": {},
   "source": [
    "# Import libraries"
   ]
  },
  {
   "cell_type": "code",
   "execution_count": 1,
   "id": "003c2c09-d157-4fb7-a81b-335d397d9569",
   "metadata": {},
   "outputs": [
    {
     "name": "stderr",
     "output_type": "stream",
     "text": [
      "2024-08-15 16:12:05.547753: I external/local_tsl/tsl/cuda/cudart_stub.cc:32] Could not find cuda drivers on your machine, GPU will not be used.\n",
      "2024-08-15 16:12:05.597431: I external/local_tsl/tsl/cuda/cudart_stub.cc:32] Could not find cuda drivers on your machine, GPU will not be used.\n",
      "2024-08-15 16:12:05.750384: E external/local_xla/xla/stream_executor/cuda/cuda_fft.cc:479] Unable to register cuFFT factory: Attempting to register factory for plugin cuFFT when one has already been registered\n",
      "2024-08-15 16:12:05.778375: E external/local_xla/xla/stream_executor/cuda/cuda_dnn.cc:10575] Unable to register cuDNN factory: Attempting to register factory for plugin cuDNN when one has already been registered\n",
      "2024-08-15 16:12:05.778410: E external/local_xla/xla/stream_executor/cuda/cuda_blas.cc:1442] Unable to register cuBLAS factory: Attempting to register factory for plugin cuBLAS when one has already been registered\n",
      "2024-08-15 16:12:05.793153: I tensorflow/core/platform/cpu_feature_guard.cc:210] This TensorFlow binary is optimized to use available CPU instructions in performance-critical operations.\n",
      "To enable the following instructions: AVX2 FMA, in other operations, rebuild TensorFlow with the appropriate compiler flags.\n",
      "2024-08-15 16:12:07.155008: W tensorflow/compiler/tf2tensorrt/utils/py_utils.cc:38] TF-TRT Warning: Could not find TensorRT\n"
     ]
    }
   ],
   "source": [
    "import os\n",
    "import pandas as pd\n",
    "import numpy as np\n",
    "from sklearn.preprocessing import StandardScaler\n",
    "from sklearn.decomposition import PCA\n",
    "import seaborn as sns\n",
    "import matplotlib.pyplot as plt\n",
    "import statsmodels.api as sm\n",
    "from helpers import parse_variables, get_risk_level, hi_gauss_blob_risk_fun, blob_risk_fun, NW_risk_fun, square_risk_fun, map_to_color\n",
    "from matplotlib.colors import LinearSegmentedColormap\n",
    "import importlib.util\n",
    "from k_means_constrained import KMeansConstrained\n",
    "\n",
    "\n",
    "import warnings\n",
    "warnings.filterwarnings(\"ignore\")\n",
    "\n",
    "import os\n",
    "import pandas as pd\n",
    "import numpy as np\n",
    "from sklearn.preprocessing import StandardScaler\n",
    "from sklearn.decomposition import PCA\n",
    "import seaborn as sns\n",
    "import matplotlib.pyplot as plt\n",
    "import statsmodels.api as sm\n",
    "from sklearn.linear_model import LinearRegression\n",
    "from sklearn.linear_model import LogisticRegression\n",
    "import tensorflow as tf\n",
    "\n",
    "from helpers import parse_variables, get_risk_level, map_to_color, simulate_quant_trait\n",
    "from models import ols_regression, manhattan_linear, gc\n",
    "from deep_learning_models import abyss, deep_abyss\n",
    "\n",
    "from scipy.stats import t\n",
    "from scipy import stats\n",
    "from scipy.stats import entropy\n",
    "\n",
    "from tensorflow.keras import regularizers\n",
    "from sklearn.model_selection import train_test_split\n",
    "from tensorflow.keras.callbacks import EarlyStopping\n",
    "import tensorflow as tf\n",
    "\n",
    "from tensorflow.keras import Input, Model, layers, regularizers\n",
    "from tensorflow.keras.layers import Input, Dense"
   ]
  },
  {
   "cell_type": "code",
   "execution_count": 2,
   "id": "2f4fe17f-3e8c-4c03-a363-c9da63f14666",
   "metadata": {},
   "outputs": [],
   "source": [
    "dict = parse_variables('geno_simulation.txt')\n",
    "G = int(dict['G'])\n",
    "L = int(dict['L'])\n",
    "c = int(dict['c'])\n",
    "k = int(dict['k'])\n",
    "M = float(dict['M'])\n",
    "\n",
    "# Thresholds\n",
    "very_rare_threshold_L = float(dict['very_rare_threshold_L'])\n",
    "very_rare_threshold_H = float(dict['very_rare_threshold_H'])\n",
    "\n",
    "rare_threshold_L = float(dict['rare_threshold_L'])\n",
    "rare_threshold_H = float(dict['rare_threshold_H'])\n",
    "\n",
    "common_threshold_L = float(dict['common_threshold_L'])\n",
    "common_threshold_H = float(dict['common_threshold_H'])\n",
    "\n",
    "number_of_snps = (G*L)/2 # one loci per chromosome\n",
    "number_of_individuals = c*k*k"
   ]
  },
  {
   "cell_type": "code",
   "execution_count": 3,
   "id": "24051924-4ec5-4766-9996-dc80d65aab03",
   "metadata": {},
   "outputs": [],
   "source": [
    "very_rare = pd.read_pickle(f\"data/G{G}_L{L}_c{c}_k{k}_M{M}/genotype/02_veryrare_genotype_AF_{very_rare_threshold_L}_{very_rare_threshold_H}.pkl\")\n",
    "rare = pd.read_pickle(f\"data/G{G}_L{L}_c{c}_k{k}_M{M}/genotype/02_rare_genotype_AF_{rare_threshold_L}_{rare_threshold_H}.pkl\")\n",
    "common = pd.read_pickle(f\"data/G{G}_L{L}_c{c}_k{k}_M{M}/genotype/02_common_genotype_AF_{common_threshold_L}_{common_threshold_H}.pkl\")"
   ]
  },
  {
   "cell_type": "code",
   "execution_count": 4,
   "id": "f43208c7-06c0-4c6a-b3b0-fd72f849cb11",
   "metadata": {},
   "outputs": [],
   "source": [
    "very_rare = very_rare.rename(columns=lambda x: 'VR' + x)/2\n",
    "rare = rare.rename(columns=lambda x: 'R' + x)/2\n",
    "common = common.rename(columns=lambda x: 'C' + x)/2\n",
    "complete = pd.concat([common, rare, very_rare], axis=1)\n",
    "complete = ((complete*2)-1)"
   ]
  },
  {
   "cell_type": "markdown",
   "id": "d1b44b11-6eb2-4b79-8f2c-64221969176b",
   "metadata": {},
   "source": [
    "# Divide in LD blocks"
   ]
  },
  {
   "cell_type": "code",
   "execution_count": 5,
   "id": "25802ac5-ee14-4673-ba1a-631d4a23ec78",
   "metadata": {},
   "outputs": [],
   "source": [
    "genos = complete.T"
   ]
  },
  {
   "cell_type": "code",
   "execution_count": 6,
   "id": "b770f8ea-a44c-4b1d-924f-5ec46f1a1c0f",
   "metadata": {},
   "outputs": [],
   "source": [
    "sample_size = 200\n",
    "n_components = 15\n",
    "size_min = sample_size - round(sample_size / 5)\n",
    "size_max = sample_size + round(sample_size / 5)"
   ]
  },
  {
   "cell_type": "code",
   "execution_count": 7,
   "id": "f647ee61-32e3-4f50-a528-d512e07aa6d4",
   "metadata": {},
   "outputs": [],
   "source": [
    "# Calculate the number of clusters based on sample size\n",
    "num_clus = round(genos.shape[0] / sample_size)"
   ]
  },
  {
   "cell_type": "code",
   "execution_count": 8,
   "id": "152771a9-db31-4845-8682-35f6b9e9f37e",
   "metadata": {},
   "outputs": [],
   "source": [
    "# Standardize the data\n",
    "scaler = StandardScaler()\n",
    "df_scaled = scaler.fit_transform(genos)"
   ]
  },
  {
   "cell_type": "code",
   "execution_count": 9,
   "id": "6a1dbbde-2fda-4369-a5ec-4ec8eac8b4b0",
   "metadata": {},
   "outputs": [
    {
     "data": {
      "text/plain": [
       "array([3, 6, 6, ..., 0, 0, 7], dtype=int32)"
      ]
     },
     "execution_count": 9,
     "metadata": {},
     "output_type": "execute_result"
    }
   ],
   "source": [
    "# Perform PCA with n components\n",
    "pca = PCA(n_components=n_components)\n",
    "principal_components = pca.fit_transform(df_scaled)\n",
    "\n",
    "# Create a new DataFrame to store the principal components\n",
    "pc_columns = [f'PC{i+1}' for i in range(n_components)]\n",
    "df_pca = pd.DataFrame(data=principal_components, columns=pc_columns)\n",
    "\n",
    "# Apply constrained K-Means clustering\n",
    "clf = KMeansConstrained(\n",
    "    n_clusters=num_clus,\n",
    "    size_min=size_min,\n",
    "    size_max=size_max,\n",
    "    random_state=0\n",
    ")\n",
    "clf.fit_predict(np.array(df_pca))\n"
   ]
  },
  {
   "cell_type": "code",
   "execution_count": 10,
   "id": "4fd54256-c64b-4e1f-930a-542ae9ff78d6",
   "metadata": {},
   "outputs": [],
   "source": [
    "genos['clusters_k_means'] = clf.labels_"
   ]
  },
  {
   "cell_type": "code",
   "execution_count": 11,
   "id": "73d58c03-510a-492b-9237-d9ae0af2684e",
   "metadata": {},
   "outputs": [],
   "source": [
    "PATH_output = f\"data/G{G}_L{L}_c{c}_k{k}_M{M}/genotype/LD_blocks\"\n",
    "os.system(f\"rm -rf {PATH_output}\")\n",
    "os.makedirs(PATH_output, exist_ok=True)"
   ]
  },
  {
   "cell_type": "code",
   "execution_count": 12,
   "id": "d1f53e3b-cd37-4601-be56-15379e3dfea8",
   "metadata": {},
   "outputs": [],
   "source": [
    "for num in genos.clusters_k_means.unique():\n",
    "    to_save = genos.loc[genos['clusters_k_means'] == num]\n",
    "    to_save = to_save.drop(columns=['clusters_k_means']).T\n",
    "\n",
    "    # Calculate minimum and maximum MAF for the cluster\n",
    "    tot_mafs = []\n",
    "    for snp_id in to_save:\n",
    "        try:\n",
    "            try:\n",
    "                num_maj = to_save[[snp_id]].value_counts()[1]\n",
    "            except Exception as e:\n",
    "                num_maj = 0\n",
    "            try:\n",
    "                num_het = to_save[[snp_id]].value_counts()[0]\n",
    "            except Exception as e:\n",
    "                num_het = 0\n",
    "            try:\n",
    "                num_min = to_save[[snp_id]].value_counts()[-1]\n",
    "            except Exception as e:\n",
    "                num_min = 0\n",
    "            total_humans = num_maj + num_het + num_min\n",
    "            maf = (num_min*2 + num_het)/(total_humans*2)\n",
    "\n",
    "        except Exception as e:\n",
    "            print(e)\n",
    "            print(f\"snp {snp_id} has a problem\")\n",
    "\n",
    "        tot_mafs.append(maf)\n",
    "\n",
    "    max_maf = np.round(max(tot_mafs), 5)\n",
    "    min_maf = np.round(min(tot_mafs), 5)\n",
    "    size = to_save.shape[1]\n",
    "\n",
    "    # Save the processed cluster data\n",
    "    to_save.to_pickle(f\"{PATH_output}/{num}_{size}_maf_{min_maf}_{max_maf}.pkl\")"
   ]
  },
  {
   "cell_type": "markdown",
   "id": "7005313c-df8b-470b-9ee9-72be6ea82581",
   "metadata": {},
   "source": [
    "# Create one hot encoded genotype for LD blocks"
   ]
  },
  {
   "cell_type": "code",
   "execution_count": 14,
   "id": "6d1fb329-92a1-4425-a1dd-624f336e0d13",
   "metadata": {},
   "outputs": [],
   "source": [
    "path_one_hot_genotype = f\"data/G{G}_L{L}_c{c}_k{k}_M{M}/genotype/LD_blocks_one_hot/\"\n",
    "os.system(f\"rm -rf {path_one_hot_genotype}\")\n",
    "os.makedirs(path_one_hot_genotype, exist_ok = True)"
   ]
  },
  {
   "cell_type": "code",
   "execution_count": 15,
   "id": "440721af-bede-44f8-bfe8-f3c369df8a14",
   "metadata": {},
   "outputs": [],
   "source": [
    "path_lds = f\"data/G{G}_L{L}_c{c}_k{k}_M{M}/genotype/LD_blocks\"\n",
    "ld_files = os.listdir(path_lds)\n",
    "for ld_file in ld_files:\n",
    "    path_ld_file = path_lds + \"/\" + ld_file\n",
    "    complete = pd.read_pickle(path_ld_file)\n",
    "\n",
    "    # Create db_minor\n",
    "    db_minor = complete.copy()\n",
    "    db_minor = db_minor.applymap(lambda x: 1 if x == -1.0 else 0)\n",
    "    \n",
    "    # Create db_het\n",
    "    db_het = complete.copy()\n",
    "    db_het = db_het.applymap(lambda x: 1 if x == 0.0 else 0)\n",
    "    \n",
    "    # Create db_major\n",
    "    db_major = complete.copy()\n",
    "    db_major = db_major.applymap(lambda x: 1 if x == 1.0 else 0)\n",
    "    \n",
    "\n",
    "    db_minor.to_pickle(f\"{path_one_hot_genotype}{ld_file.split('.pkl')[0]}_db_minor.pkl\")\n",
    "    db_het.to_pickle(f\"{path_one_hot_genotype}{ld_file.split('.pkl')[0]}_db_het.pkl\")\n",
    "    db_major.to_pickle(f\"{path_one_hot_genotype}{ld_file.split('.pkl')[0]}_db_major.pkl\")"
   ]
  },
  {
   "cell_type": "code",
   "execution_count": null,
   "id": "8cb3b017-4ab9-4125-9b98-9b11c1a9def8",
   "metadata": {},
   "outputs": [],
   "source": []
  }
 ],
 "metadata": {
  "kernelspec": {
   "display_name": "Python 3 (ipykernel)",
   "language": "python",
   "name": "python3"
  },
  "language_info": {
   "codemirror_mode": {
    "name": "ipython",
    "version": 3
   },
   "file_extension": ".py",
   "mimetype": "text/x-python",
   "name": "python",
   "nbconvert_exporter": "python",
   "pygments_lexer": "ipython3",
   "version": "3.10.2"
  }
 },
 "nbformat": 4,
 "nbformat_minor": 5
}
