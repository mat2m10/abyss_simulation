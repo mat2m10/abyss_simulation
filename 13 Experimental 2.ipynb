{
 "cells": [
  {
   "cell_type": "code",
   "execution_count": 76,
   "id": "a2ceffe4-5cd4-4283-a425-9a710c8655ad",
   "metadata": {},
   "outputs": [],
   "source": [
    "import os\n",
    "import pandas as pd\n",
    "import numpy as np\n",
    "import seaborn as sns\n",
    "import matplotlib.pyplot as plt\n",
    "from sklearn.linear_model import LinearRegression\n",
    "import statsmodels.api as sm\n",
    "from models import ols_regression, manhattan_linear, gc"
   ]
  },
  {
   "cell_type": "code",
   "execution_count": 77,
   "id": "6d52930f-44c6-4e5f-80a9-f69f33d2d0ce",
   "metadata": {},
   "outputs": [],
   "source": [
    "def min_max_scaling(X,min_val,max_val):\n",
    "    X = np.array(X)\n",
    "    X_min = np.min(X)\n",
    "    X_max = np.max(X)\n",
    "    \n",
    "    # If the column has constant values (min == max), return the original values unscaled\n",
    "    if X_min == X_max:\n",
    "        return X\n",
    "    \n",
    "    # Perform scaling if min != max\n",
    "    X_scaled = (X - X_min) / (X_max - X_min) * (max_val - min_val) + min_val\n",
    "\n",
    "    \n",
    "    return X_scaled"
   ]
  },
  {
   "cell_type": "code",
   "execution_count": 78,
   "id": "ff259778-9194-4f4d-b5b6-87b9ba17530c",
   "metadata": {},
   "outputs": [],
   "source": [
    "nr_people_pop1 = 50\n",
    "nr_people_pop2 = 10\n",
    "nr_people_pop3 = 10\n",
    "\n",
    "total_humans = nr_people_pop1+ nr_people_pop2  + nr_people_pop3\n",
    "minaf_pop1 = 0.8\n",
    "minaf_pop2 = 0\n",
    "minaf_pop3 = 0\n",
    "\n",
    "majaf_pop1 = 0.1\n",
    "majaf_pop2 = 0.7\n",
    "majaf_pop3 = 0.2\n",
    "\n",
    "\n",
    "hetaf_pop1 = np.round(1 - minaf_pop1 - majaf_pop1,1)\n",
    "hetaf_pop2 = np.round(1 - minaf_pop2 - majaf_pop2,1)\n",
    "hetaf_pop3 = np.round(1 - minaf_pop3 - majaf_pop3,1)\n",
    "\n",
    "pheno_pop1 = 1\n",
    "pheno_pop2 = -1\n",
    "pheno_pop3 = 20"
   ]
  },
  {
   "cell_type": "code",
   "execution_count": 79,
   "id": "bc170c78-7005-42ac-9a5d-3923d40ed181",
   "metadata": {},
   "outputs": [
    {
     "data": {
      "text/plain": [
       "0.3"
      ]
     },
     "execution_count": 79,
     "metadata": {},
     "output_type": "execute_result"
    }
   ],
   "source": [
    "hetaf_pop2"
   ]
  },
  {
   "cell_type": "code",
   "execution_count": 80,
   "id": "89b26e02-a173-42ed-ae34-2a8856c4a9bf",
   "metadata": {},
   "outputs": [],
   "source": [
    "# make snp\n",
    "pop1_snps = [-1]*int(nr_people_pop1*minaf_pop1) + [0]*int(nr_people_pop1*hetaf_pop1) + [1]*int(nr_people_pop1*majaf_pop1)\n",
    "pop2_snps = [-1]*int(nr_people_pop2*minaf_pop2) + [0]*int(nr_people_pop2*hetaf_pop2) + [1]*int(nr_people_pop2*majaf_pop2)\n",
    "pop3_snps = [-1]*int(nr_people_pop3*minaf_pop3) + [0]*int(nr_people_pop3*hetaf_pop3) + [1]*int(nr_people_pop3*majaf_pop3)\n",
    "nr_pop1_snps = [int(nr_people_pop1*minaf_pop1)]*int(nr_people_pop1*minaf_pop1) + [int(nr_people_pop1*hetaf_pop1)]*int(nr_people_pop1*hetaf_pop1) + [int(nr_people_pop1*majaf_pop1)]*int(nr_people_pop1*majaf_pop1)\n",
    "nr_pop2_snps = [int(nr_people_pop2*minaf_pop2)]*int(nr_people_pop2*minaf_pop2) + [int(nr_people_pop2*hetaf_pop2)]*int(nr_people_pop2*hetaf_pop2) + [int(nr_people_pop2*majaf_pop2)]*int(nr_people_pop2*majaf_pop2)\n",
    "nr_pop3_snps = [int(nr_people_pop3*minaf_pop3)]*int(nr_people_pop3*minaf_pop3) + [int(nr_people_pop3*hetaf_pop3)]*int(nr_people_pop3*hetaf_pop3) + [int(nr_people_pop3*majaf_pop3)]*int(nr_people_pop3*majaf_pop3)\n",
    "\n",
    "snps = pop1_snps + pop2_snps + pop3_snps\n",
    "snps_nr = nr_pop1_snps + nr_pop2_snps + nr_pop3_snps\n"
   ]
  },
  {
   "cell_type": "code",
   "execution_count": 81,
   "id": "328f4307-7b90-4b93-b677-181204ca6712",
   "metadata": {},
   "outputs": [],
   "source": [
    "minaf = [minaf_pop1]*nr_people_pop1 + [minaf_pop2]*nr_people_pop2 + [minaf_pop3]*nr_people_pop3\n",
    "hetaf = [hetaf_pop1]*nr_people_pop1 + [hetaf_pop2]*nr_people_pop2 + [hetaf_pop3]*nr_people_pop3\n",
    "majaf = [majaf_pop1]*nr_people_pop1 + [majaf_pop2]*nr_people_pop2 + [majaf_pop3]*nr_people_pop3"
   ]
  },
  {
   "cell_type": "code",
   "execution_count": 82,
   "id": "69aedfbf-da76-4ffd-a3b4-3ce2614f78dd",
   "metadata": {},
   "outputs": [],
   "source": [
    "pop = ['pop1']*nr_people_pop1 + ['pop2']*nr_people_pop2 +  ['pop3']*nr_people_pop3\n",
    "pop_nr = [nr_people_pop1]*nr_people_pop1 + [nr_people_pop2]*nr_people_pop2 +  [nr_people_pop3]*nr_people_pop3\n",
    "risk = [pheno_pop1]*nr_people_pop1 + [pheno_pop2]*nr_people_pop2 +  [pheno_pop3]*nr_people_pop3"
   ]
  },
  {
   "cell_type": "code",
   "execution_count": 83,
   "id": "35b2dc03-a6b4-4119-8f8c-17bc442f69e3",
   "metadata": {},
   "outputs": [],
   "source": [
    "humans = pd.DataFrame()\n",
    "humans['snp'] = snps\n",
    "humans = pd.get_dummies(humans, columns=['snp'], dtype=int)\n",
    "humans['snp'] = snps\n",
    "humans['snp_nr'] = snps_nr\n",
    "humans['snp_nr'] = humans['snp_nr']/humans['snp_nr'].max()\n",
    "\n",
    "humans['minaf'] = minaf\n",
    "humans['hetaf'] = hetaf\n",
    "humans['majaf'] = majaf\n",
    "humans['pop'] = pop\n",
    "humans['pop_quantity'] = pop_nr\n",
    "humans['risk'] = risk\n",
    "#humans['risk'] = min_max_scaling(humans['risk'],-1,1)\n",
    "#humans['risk'] = (humans['risk'] - humans['risk'].mean()) / humans['risk'].std()"
   ]
  },
  {
   "cell_type": "code",
   "execution_count": 84,
   "id": "31a8651a-c6d1-428a-bbba-29232bae06a2",
   "metadata": {},
   "outputs": [],
   "source": [
    "count_total_AFs = humans[['snp']].apply(pd.Series.value_counts)/len(humans)\n",
    "total_minor = count_total_AFs.loc[-1].snp\n",
    "total_het = count_total_AFs.loc[0].snp\n",
    "total_major = count_total_AFs.loc[1].snp"
   ]
  },
  {
   "cell_type": "code",
   "execution_count": 85,
   "id": "d0a3ebf9-dbef-439f-bcaa-57acf78eefb5",
   "metadata": {},
   "outputs": [
    {
     "data": {
      "text/html": [
       "<div>\n",
       "<style scoped>\n",
       "    .dataframe tbody tr th:only-of-type {\n",
       "        vertical-align: middle;\n",
       "    }\n",
       "\n",
       "    .dataframe tbody tr th {\n",
       "        vertical-align: top;\n",
       "    }\n",
       "\n",
       "    .dataframe thead th {\n",
       "        text-align: right;\n",
       "    }\n",
       "</style>\n",
       "<table border=\"1\" class=\"dataframe\">\n",
       "  <thead>\n",
       "    <tr style=\"text-align: right;\">\n",
       "      <th></th>\n",
       "      <th>snp_-1</th>\n",
       "      <th>snp_0</th>\n",
       "      <th>snp_1</th>\n",
       "      <th>snp</th>\n",
       "      <th>snp_nr</th>\n",
       "      <th>minaf</th>\n",
       "      <th>hetaf</th>\n",
       "      <th>majaf</th>\n",
       "      <th>pop</th>\n",
       "      <th>pop_quantity</th>\n",
       "      <th>risk</th>\n",
       "    </tr>\n",
       "  </thead>\n",
       "  <tbody>\n",
       "    <tr>\n",
       "      <th>0</th>\n",
       "      <td>1</td>\n",
       "      <td>0</td>\n",
       "      <td>0</td>\n",
       "      <td>-1</td>\n",
       "      <td>1.00</td>\n",
       "      <td>0.8</td>\n",
       "      <td>0.1</td>\n",
       "      <td>0.1</td>\n",
       "      <td>pop1</td>\n",
       "      <td>50</td>\n",
       "      <td>1</td>\n",
       "    </tr>\n",
       "    <tr>\n",
       "      <th>1</th>\n",
       "      <td>1</td>\n",
       "      <td>0</td>\n",
       "      <td>0</td>\n",
       "      <td>-1</td>\n",
       "      <td>1.00</td>\n",
       "      <td>0.8</td>\n",
       "      <td>0.1</td>\n",
       "      <td>0.1</td>\n",
       "      <td>pop1</td>\n",
       "      <td>50</td>\n",
       "      <td>1</td>\n",
       "    </tr>\n",
       "    <tr>\n",
       "      <th>2</th>\n",
       "      <td>1</td>\n",
       "      <td>0</td>\n",
       "      <td>0</td>\n",
       "      <td>-1</td>\n",
       "      <td>1.00</td>\n",
       "      <td>0.8</td>\n",
       "      <td>0.1</td>\n",
       "      <td>0.1</td>\n",
       "      <td>pop1</td>\n",
       "      <td>50</td>\n",
       "      <td>1</td>\n",
       "    </tr>\n",
       "    <tr>\n",
       "      <th>3</th>\n",
       "      <td>1</td>\n",
       "      <td>0</td>\n",
       "      <td>0</td>\n",
       "      <td>-1</td>\n",
       "      <td>1.00</td>\n",
       "      <td>0.8</td>\n",
       "      <td>0.1</td>\n",
       "      <td>0.1</td>\n",
       "      <td>pop1</td>\n",
       "      <td>50</td>\n",
       "      <td>1</td>\n",
       "    </tr>\n",
       "    <tr>\n",
       "      <th>4</th>\n",
       "      <td>1</td>\n",
       "      <td>0</td>\n",
       "      <td>0</td>\n",
       "      <td>-1</td>\n",
       "      <td>1.00</td>\n",
       "      <td>0.8</td>\n",
       "      <td>0.1</td>\n",
       "      <td>0.1</td>\n",
       "      <td>pop1</td>\n",
       "      <td>50</td>\n",
       "      <td>1</td>\n",
       "    </tr>\n",
       "    <tr>\n",
       "      <th>...</th>\n",
       "      <td>...</td>\n",
       "      <td>...</td>\n",
       "      <td>...</td>\n",
       "      <td>...</td>\n",
       "      <td>...</td>\n",
       "      <td>...</td>\n",
       "      <td>...</td>\n",
       "      <td>...</td>\n",
       "      <td>...</td>\n",
       "      <td>...</td>\n",
       "      <td>...</td>\n",
       "    </tr>\n",
       "    <tr>\n",
       "      <th>65</th>\n",
       "      <td>0</td>\n",
       "      <td>1</td>\n",
       "      <td>0</td>\n",
       "      <td>0</td>\n",
       "      <td>0.20</td>\n",
       "      <td>0.0</td>\n",
       "      <td>0.8</td>\n",
       "      <td>0.2</td>\n",
       "      <td>pop3</td>\n",
       "      <td>10</td>\n",
       "      <td>20</td>\n",
       "    </tr>\n",
       "    <tr>\n",
       "      <th>66</th>\n",
       "      <td>0</td>\n",
       "      <td>1</td>\n",
       "      <td>0</td>\n",
       "      <td>0</td>\n",
       "      <td>0.20</td>\n",
       "      <td>0.0</td>\n",
       "      <td>0.8</td>\n",
       "      <td>0.2</td>\n",
       "      <td>pop3</td>\n",
       "      <td>10</td>\n",
       "      <td>20</td>\n",
       "    </tr>\n",
       "    <tr>\n",
       "      <th>67</th>\n",
       "      <td>0</td>\n",
       "      <td>1</td>\n",
       "      <td>0</td>\n",
       "      <td>0</td>\n",
       "      <td>0.20</td>\n",
       "      <td>0.0</td>\n",
       "      <td>0.8</td>\n",
       "      <td>0.2</td>\n",
       "      <td>pop3</td>\n",
       "      <td>10</td>\n",
       "      <td>20</td>\n",
       "    </tr>\n",
       "    <tr>\n",
       "      <th>68</th>\n",
       "      <td>0</td>\n",
       "      <td>0</td>\n",
       "      <td>1</td>\n",
       "      <td>1</td>\n",
       "      <td>0.05</td>\n",
       "      <td>0.0</td>\n",
       "      <td>0.8</td>\n",
       "      <td>0.2</td>\n",
       "      <td>pop3</td>\n",
       "      <td>10</td>\n",
       "      <td>20</td>\n",
       "    </tr>\n",
       "    <tr>\n",
       "      <th>69</th>\n",
       "      <td>0</td>\n",
       "      <td>0</td>\n",
       "      <td>1</td>\n",
       "      <td>1</td>\n",
       "      <td>0.05</td>\n",
       "      <td>0.0</td>\n",
       "      <td>0.8</td>\n",
       "      <td>0.2</td>\n",
       "      <td>pop3</td>\n",
       "      <td>10</td>\n",
       "      <td>20</td>\n",
       "    </tr>\n",
       "  </tbody>\n",
       "</table>\n",
       "<p>70 rows × 11 columns</p>\n",
       "</div>"
      ],
      "text/plain": [
       "    snp_-1  snp_0  snp_1  snp  snp_nr  minaf  hetaf  majaf   pop  \\\n",
       "0        1      0      0   -1    1.00    0.8    0.1    0.1  pop1   \n",
       "1        1      0      0   -1    1.00    0.8    0.1    0.1  pop1   \n",
       "2        1      0      0   -1    1.00    0.8    0.1    0.1  pop1   \n",
       "3        1      0      0   -1    1.00    0.8    0.1    0.1  pop1   \n",
       "4        1      0      0   -1    1.00    0.8    0.1    0.1  pop1   \n",
       "..     ...    ...    ...  ...     ...    ...    ...    ...   ...   \n",
       "65       0      1      0    0    0.20    0.0    0.8    0.2  pop3   \n",
       "66       0      1      0    0    0.20    0.0    0.8    0.2  pop3   \n",
       "67       0      1      0    0    0.20    0.0    0.8    0.2  pop3   \n",
       "68       0      0      1    1    0.05    0.0    0.8    0.2  pop3   \n",
       "69       0      0      1    1    0.05    0.0    0.8    0.2  pop3   \n",
       "\n",
       "    pop_quantity  risk  \n",
       "0             50     1  \n",
       "1             50     1  \n",
       "2             50     1  \n",
       "3             50     1  \n",
       "4             50     1  \n",
       "..           ...   ...  \n",
       "65            10    20  \n",
       "66            10    20  \n",
       "67            10    20  \n",
       "68            10    20  \n",
       "69            10    20  \n",
       "\n",
       "[70 rows x 11 columns]"
      ]
     },
     "execution_count": 85,
     "metadata": {},
     "output_type": "execute_result"
    }
   ],
   "source": [
    "humans"
   ]
  },
  {
   "cell_type": "code",
   "execution_count": 86,
   "id": "96e87be8-5e42-4771-9f3d-bce564a79fa6",
   "metadata": {},
   "outputs": [],
   "source": [
    "pheno_pop1 = humans[humans['pop']=='pop1']['risk'].mean()\n",
    "pheno_pop2 = humans[humans['pop']=='pop2']['risk'].mean()\n",
    "pheno_pop3 = humans[humans['pop']=='pop3']['risk'].mean()"
   ]
  },
  {
   "cell_type": "code",
   "execution_count": 87,
   "id": "95eeebe2-512e-4960-bb29-56b5873f708f",
   "metadata": {},
   "outputs": [],
   "source": [
    "humans['risk'] = humans['risk']-humans['risk'].mean()"
   ]
  },
  {
   "cell_type": "code",
   "execution_count": 88,
   "id": "6dfc0bf3-6f2a-4c2c-9a46-cc8b374a2e0a",
   "metadata": {},
   "outputs": [
    {
     "name": "stdout",
     "output_type": "stream",
     "text": [
      "1.9652061855670104\n"
     ]
    }
   ],
   "source": [
    "X = humans[['snp']]  # Predictor variable\n",
    "y = humans['risk']    # Response variable\n",
    "\n",
    "# Add a constant to the predictor variable (for intercept)\n",
    "X = sm.add_constant(X)\n",
    "\n",
    "# Fit the model using statsmodels\n",
    "model = sm.OLS(y, X).fit()\n",
    "\n",
    "# Extract beta (slope), intercept, and p-value\n",
    "beta = model.params['snp']\n",
    "print(beta)\n",
    "intercept = model.params['const']\n",
    "p_value = model.pvalues['snp']\n",
    "logp_value = np.round(-np.log10(p_value),4)\n",
    "\n",
    "humans['predicted_risk'] = model.predict(X)"
   ]
  },
  {
   "cell_type": "code",
   "execution_count": 89,
   "id": "cde1495a-21fa-4086-a9af-12ee583fe3dd",
   "metadata": {},
   "outputs": [
    {
     "data": {
      "image/png": "[encoded data removed]",
      "text/plain": [
       "<Figure size 640x480 with 1 Axes>"
      ]
     },
     "metadata": {},
     "output_type": "display_data"
    }
   ],
   "source": [
    "# Create the scatter plot with seaborn, using size to represent pop_quantity\n",
    "sns.scatterplot(x='snp', y='risk', data=humans, size='snp_nr', hue='pop',sizes=(20, 200), linewidth=0, legend=False)\n",
    "\n",
    "# Add the regression line to the plot (no size argument here, as it's a line)\n",
    "plt.plot(humans['snp'], humans['predicted_risk'], color='red', label=f' Beta = {beta:.2f}\\n intercept = {intercept:.2f}')\n",
    "\n",
    "# Add thin gray lines at x = 0 and y = 0\n",
    "plt.axvline(x=0, color='gray', linestyle='-', linewidth=0.5)  # Vertical line at x = 0\n",
    "plt.axhline(y=intercept, color='gray', linestyle='-', linewidth=0.5)  # Vertical line at x = 0\n",
    "plt.axhline(y=0, color='gray', linestyle='-', linewidth=0.5)\n",
    "\n",
    "# Adjust layout\n",
    "plt.tight_layout()\n",
    "\n",
    "plt.title(f\"Environmental risk only -logP={logp_value}\")\n",
    "plt.legend()\n",
    "\n",
    "# Show the plot\n",
    "plt.show()\n",
    "plt.close()"
   ]
  },
  {
   "cell_type": "markdown",
   "id": "5cf26f4c-b1c3-4c5e-bc82-23d74a9490ad",
   "metadata": {},
   "source": [
    "# correction"
   ]
  },
  {
   "cell_type": "markdown",
   "id": "4c6cd29f-289c-4340-89ed-01ffbada9148",
   "metadata": {},
   "source": [
    "# X-X_mean"
   ]
  },
  {
   "cell_type": "code",
   "execution_count": 91,
   "id": "8029839a-54bd-41aa-a062-9989dc2a1e0b",
   "metadata": {},
   "outputs": [],
   "source": [
    "humans['snp_mean'] = humans['majaf'] - humans['minaf']"
   ]
  },
  {
   "cell_type": "code",
   "execution_count": 92,
   "id": "42caf2b1-523b-40ed-a2aa-f1915633c6c2",
   "metadata": {},
   "outputs": [],
   "source": [
    "humans['snp_shifted'] = humans['snp'] - humans['snp_mean']"
   ]
  },
  {
   "cell_type": "code",
   "execution_count": 93,
   "id": "8db726ec-b006-47ff-ae86-d8e434f404cc",
   "metadata": {},
   "outputs": [
    {
     "name": "stdout",
     "output_type": "stream",
     "text": [
      "-1.6653345369377348e-16\n"
     ]
    }
   ],
   "source": [
    "X = humans[['snp_shifted']]  # Predictor variable\n",
    "y = humans['risk']    # Response variable\n",
    "\n",
    "# Add a constant to the predictor variable (for intercept)\n",
    "X = sm.add_constant(X)\n",
    "\n",
    "# Fit the model using statsmodels\n",
    "model = sm.OLS(y, X).fit()\n",
    "\n",
    "# Extract beta (slope), intercept, and p-value\n",
    "beta = model.params['snp_shifted']\n",
    "print(beta)\n",
    "intercept = model.params['const']\n",
    "p_value = model.pvalues['snp_shifted']\n",
    "logp_value = np.round(-np.log10(p_value),4)\n",
    "\n",
    "humans['predicted_risk'] = model.predict(X)"
   ]
  },
  {
   "cell_type": "code",
   "execution_count": 94,
   "id": "dc7012b1-be3d-48e5-a632-5a0627f3fc4a",
   "metadata": {},
   "outputs": [
    {
     "data": {
      "image/png": "[encoded data removed]",
      "text/plain": [
       "<Figure size 640x480 with 1 Axes>"
      ]
     },
     "metadata": {},
     "output_type": "display_data"
    }
   ],
   "source": [
    "# Create the scatter plot with seaborn, using size to represent pop_quantity\n",
    "sns.scatterplot(x='snp_shifted', y='risk', data=humans, size='snp_nr', hue='pop',sizes=(20, 200), linewidth=0, legend=False)\n",
    "\n",
    "# Add the regression line to the plot (no size argument here, as it's a line)\n",
    "plt.plot(humans['snp_shifted'], humans['predicted_risk'], color='red', label=f' Beta = {beta:.2f}\\n intercept = {intercept:.2f}')\n",
    "\n",
    "# Add thin gray lines at x = 0 and y = 0\n",
    "plt.axvline(x=0, color='gray', linestyle='-', linewidth=0.5)  # Vertical line at x = 0\n",
    "plt.axhline(y=intercept, color='gray', linestyle='-', linewidth=0.5)  # Vertical line at x = 0\n",
    "plt.axhline(y=0, color='gray', linestyle='-', linewidth=0.5)\n",
    "\n",
    "# Adjust layout\n",
    "plt.tight_layout()\n",
    "\n",
    "plt.title(f\"Environmental risk only -logP={logp_value}\")\n",
    "plt.legend()\n",
    "\n",
    "# Show the plot\n",
    "plt.show()\n",
    "plt.close()"
   ]
  },
  {
   "cell_type": "markdown",
   "id": "d17457b8-0f76-4523-8e29-dcc3c5fe7994",
   "metadata": {},
   "source": [
    "# X_mean"
   ]
  },
  {
   "cell_type": "code",
   "execution_count": 97,
   "id": "0e1bfc7c-d83e-48b4-8582-e17c3bec9601",
   "metadata": {},
   "outputs": [
    {
     "name": "stdout",
     "output_type": "stream",
     "text": [
      "4.326241134751774\n"
     ]
    }
   ],
   "source": [
    "X = humans[['snp_mean']]  # Predictor variable\n",
    "y = humans['risk']    # Response variable\n",
    "\n",
    "# Add a constant to the predictor variable (for intercept)\n",
    "X = sm.add_constant(X)\n",
    "\n",
    "# Fit the model using statsmodels\n",
    "model = sm.OLS(y, X).fit()\n",
    "\n",
    "# Extract beta (slope), intercept, and p-value\n",
    "beta = model.params['snp_mean']\n",
    "print(beta)\n",
    "intercept = model.params['const']\n",
    "p_value = model.pvalues['snp_mean']\n",
    "logp_value = np.round(-np.log10(p_value),4)\n",
    "\n",
    "humans['predicted_risk'] = model.predict(X)"
   ]
  },
  {
   "cell_type": "code",
   "execution_count": 98,
   "id": "d5b247b2-4569-4e92-9be2-953a2e5edf7f",
   "metadata": {},
   "outputs": [
    {
     "data": {
      "image/png": "[encoded data removed]",
      "text/plain": [
       "<Figure size 640x480 with 1 Axes>"
      ]
     },
     "metadata": {},
     "output_type": "display_data"
    }
   ],
   "source": [
    "# Create the scatter plot with seaborn, using size to represent pop_quantity\n",
    "sns.scatterplot(x='snp_mean', y='risk', data=humans, size='snp_nr', hue='pop',sizes=(20, 200), linewidth=0, legend=False)\n",
    "\n",
    "# Add the regression line to the plot (no size argument here, as it's a line)\n",
    "plt.plot(humans['snp_mean'], humans['predicted_risk'], color='red', label=f' Beta = {beta:.2f}\\n intercept = {intercept:.2f}')\n",
    "\n",
    "# Add thin gray lines at x = 0 and y = 0\n",
    "plt.axvline(x=0, color='gray', linestyle='-', linewidth=0.5)  # Vertical line at x = 0\n",
    "plt.axhline(y=intercept, color='gray', linestyle='-', linewidth=0.5)  # Vertical line at x = 0\n",
    "plt.axhline(y=0, color='gray', linestyle='-', linewidth=0.5)\n",
    "\n",
    "# Adjust layout\n",
    "plt.tight_layout()\n",
    "\n",
    "plt.title(f\"Environmental risk only -logP={logp_value}\")\n",
    "plt.legend()\n",
    "\n",
    "# Show the plot\n",
    "plt.show()\n",
    "plt.close()"
   ]
  },
  {
   "cell_type": "code",
   "execution_count": null,
   "id": "209c4be5-933a-4886-a379-f0a5d35aaf08",
   "metadata": {},
   "outputs": [],
   "source": []
  },
  {
   "cell_type": "code",
   "execution_count": null,
   "id": "fb793215-c6c5-4cfc-bb9e-9bce74a85cf4",
   "metadata": {},
   "outputs": [],
   "source": []
  },
  {
   "cell_type": "code",
   "execution_count": null,
   "id": "0d96e589-4a42-4b00-b3b0-3768e1810003",
   "metadata": {},
   "outputs": [],
   "source": []
  },
  {
   "cell_type": "code",
   "execution_count": null,
   "id": "e4b24373-fb50-4f93-86d4-95d7182d6838",
   "metadata": {},
   "outputs": [],
   "source": []
  },
  {
   "cell_type": "code",
   "execution_count": null,
   "id": "a867cdc0-e07b-4577-9810-824a1432878a",
   "metadata": {},
   "outputs": [],
   "source": []
  },
  {
   "cell_type": "code",
   "execution_count": null,
   "id": "6cd3dad2-4354-4897-8708-ddf680cbd65e",
   "metadata": {},
   "outputs": [],
   "source": []
  },
  {
   "cell_type": "code",
   "execution_count": null,
   "id": "6c33e81f-cbf5-488a-af52-6f54e90e1226",
   "metadata": {},
   "outputs": [],
   "source": []
  },
  {
   "cell_type": "code",
   "execution_count": null,
   "id": "671f920c-0f82-497a-a2f4-3d3488008494",
   "metadata": {},
   "outputs": [],
   "source": []
  },
  {
   "cell_type": "code",
   "execution_count": null,
   "id": "4673c4eb-d49e-4dcd-bbbc-d58778387718",
   "metadata": {},
   "outputs": [],
   "source": []
  },
  {
   "cell_type": "code",
   "execution_count": null,
   "id": "c2798775-09f5-40c3-8008-4791ba1f6bdc",
   "metadata": {},
   "outputs": [],
   "source": []
  },
  {
   "cell_type": "code",
   "execution_count": null,
   "id": "7f945ff1-8ad5-471b-8122-86d1a3349a41",
   "metadata": {},
   "outputs": [],
   "source": []
  },
  {
   "cell_type": "code",
   "execution_count": null,
   "id": "a2b8a69b-c236-4228-bfbb-f62ac9678daf",
   "metadata": {},
   "outputs": [],
   "source": []
  }
 ],
 "metadata": {
  "kernelspec": {
   "display_name": "Python 3 (ipykernel)",
   "language": "python",
   "name": "python3"
  },
  "language_info": {
   "codemirror_mode": {
    "name": "ipython",
    "version": 3
   },
   "file_extension": ".py",
   "mimetype": "text/x-python",
   "name": "python",
   "nbconvert_exporter": "python",
   "pygments_lexer": "ipython3",
   "version": "3.10.6"
  }
 },
 "nbformat": 4,
 "nbformat_minor": 5
}
