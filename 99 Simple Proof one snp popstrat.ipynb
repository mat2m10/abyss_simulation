{
 "cells": [
  {
   "cell_type": "code",
   "execution_count": 50,
   "id": "a71793a2-287b-4d80-9350-b09d90b0d7e4",
   "metadata": {},
   "outputs": [],
   "source": [
    "import os\n",
    "import pandas as pd\n",
    "import numpy as np\n",
    "import seaborn as sns\n",
    "import matplotlib.pyplot as plt\n",
    "from sklearn.linear_model import LinearRegression\n",
    "import statsmodels.api as sm"
   ]
  },
  {
   "cell_type": "code",
   "execution_count": 51,
   "id": "afdcb32c-e772-4065-a279-2d78fa81d694",
   "metadata": {},
   "outputs": [],
   "source": [
    "def min_max_scaling(X,min_val,max_val):\n",
    "    X = np.array(X)\n",
    "    X_min = np.min(X)\n",
    "    X_max = np.max(X)\n",
    "    \n",
    "    # If the column has constant values (min == max), return the original values unscaled\n",
    "    if X_min == X_max:\n",
    "        return X\n",
    "    \n",
    "    # Perform scaling if min != max\n",
    "    X_scaled = (X - X_min) / (X_max - X_min) * (max_val - min_val) + min_val\n",
    "\n",
    "    \n",
    "    return X_scaled"
   ]
  },
  {
   "cell_type": "code",
   "execution_count": 52,
   "id": "ae193b24-4c4d-4c61-88b9-63dcd7704f57",
   "metadata": {},
   "outputs": [],
   "source": [
    "nr_people_pop1 = 100\n",
    "nr_people_pop2 = 50\n",
    "nr_people_pop3 = 300\n",
    "total_humans = nr_people_pop1+ nr_people_pop2+nr_people_pop3\n",
    "minaf_pop1 = 0.2\n",
    "minaf_pop2 = 0.5\n",
    "minaf_pop3 = 0.5\n",
    "\n",
    "majaf_pop1 = 0.4\n",
    "majaf_pop2 = 0.2\n",
    "majaf_pop3 = 0.1\n",
    "\n",
    "hetaf_pop1 = 1 - minaf_pop1 - majaf_pop1\n",
    "hetaf_pop2 = 1 - minaf_pop2 - majaf_pop2\n",
    "hetaf_pop3 = 1 - minaf_pop3 - majaf_pop3\n",
    "\n",
    "pheno_pop1 = 0.3\n",
    "pheno_pop2 = 0.7\n",
    "pheno_pop3 = 1"
   ]
  },
  {
   "cell_type": "code",
   "execution_count": 53,
   "id": "1ffa3cf8-a9a8-47db-99b0-3819f1a037f8",
   "metadata": {},
   "outputs": [],
   "source": [
    "# make snp\n",
    "pop1_snps = [-1]*int(nr_people_pop1*minaf_pop1) + [0]*int(nr_people_pop1*hetaf_pop1) + [1]*int(nr_people_pop1*majaf_pop1)\n",
    "nr_pop1_snps = [int(nr_people_pop1*minaf_pop1)]*int(nr_people_pop1*minaf_pop1) + [int(nr_people_pop1*hetaf_pop1)]*int(nr_people_pop1*hetaf_pop1) + [int(nr_people_pop1*majaf_pop1)]*int(nr_people_pop1*majaf_pop1)\n",
    "pop2_snps = [-1]*int(nr_people_pop2*minaf_pop2) + [0]*int(nr_people_pop2*hetaf_pop2) + [1]*int(nr_people_pop2*majaf_pop2)\n",
    "nr_pop2_snps = [int(nr_people_pop2*minaf_pop2)]*int(nr_people_pop2*minaf_pop2) + [int(nr_people_pop2*hetaf_pop2)]*int(nr_people_pop2*hetaf_pop2) + [int(nr_people_pop2*majaf_pop2)]*int(nr_people_pop2*majaf_pop2)\n",
    "pop3_snps = [-1]*int(nr_people_pop3*minaf_pop3) + [0]*int(nr_people_pop3*hetaf_pop3) + [1]*int(nr_people_pop3*majaf_pop3)\n",
    "nr_pop3_snps = [int(nr_people_pop3*minaf_pop3)]*int(nr_people_pop3*minaf_pop3) + [int(nr_people_pop3*hetaf_pop3)]*int(nr_people_pop3*hetaf_pop3) + [int(nr_people_pop3*majaf_pop3)]*int(nr_people_pop3*majaf_pop3)\n",
    "\n",
    "snps = pop1_snps + pop2_snps + pop3_snps\n",
    "snps_nr = nr_pop1_snps + nr_pop2_snps + nr_pop3_snps\n"
   ]
  },
  {
   "cell_type": "code",
   "execution_count": 54,
   "id": "74926703-885d-4218-8b32-51e6c79e69ba",
   "metadata": {},
   "outputs": [],
   "source": [
    "minaf = [minaf_pop1]*nr_people_pop1 + [minaf_pop2]*nr_people_pop2 + [minaf_pop3]*nr_people_pop3\n",
    "hetaf = [hetaf_pop1]*nr_people_pop1 + [hetaf_pop2]*nr_people_pop2 + [hetaf_pop3]*nr_people_pop3\n",
    "majaf = [majaf_pop1]*nr_people_pop1 + [majaf_pop2]*nr_people_pop2 + [majaf_pop3]*nr_people_pop3"
   ]
  },
  {
   "cell_type": "code",
   "execution_count": 55,
   "id": "7cfb4b62-3212-4ba9-a416-0d049b7f0f9f",
   "metadata": {},
   "outputs": [],
   "source": [
    "pop = ['pop1']*nr_people_pop1 + ['pop2']*nr_people_pop2 +  ['pop3']*nr_people_pop3\n",
    "pop_nr = [nr_people_pop1]*nr_people_pop1 + [nr_people_pop2]*nr_people_pop2 +  [nr_people_pop3]*nr_people_pop3\n",
    "risk = [pheno_pop1]*nr_people_pop1 + [pheno_pop2]*nr_people_pop2 +  [pheno_pop3]*nr_people_pop3"
   ]
  },
  {
   "cell_type": "code",
   "execution_count": 56,
   "id": "eaa1ea1d-9dc7-45b7-b3b7-b21242bbd30c",
   "metadata": {},
   "outputs": [],
   "source": [
    "humans = pd.DataFrame()\n",
    "humans['snp'] = snps\n",
    "humans['snp_nr'] = snps_nr\n",
    "humans['snp_nr'] = humans['snp_nr']/humans['snp_nr'].max()\n",
    "\n",
    "humans['minaf'] = minaf\n",
    "humans['hetaf'] = hetaf\n",
    "humans['majaf'] = majaf\n",
    "humans['pop'] = pop\n",
    "humans['pop_quantity'] = pop_nr\n",
    "humans['risk'] = risk\n",
    "#humans['risk'] = min_max_scaling(humans['risk'],-1,1)\n",
    "#humans['risk'] = (humans['risk'] - humans['risk'].mean()) / humans['risk'].std()"
   ]
  },
  {
   "cell_type": "code",
   "execution_count": 57,
   "id": "37bf8f0b-9e12-4cb3-824b-dd4edaae6357",
   "metadata": {},
   "outputs": [],
   "source": [
    "pheno_pop1 = humans[humans['pop']=='pop1']['risk'].mean()\n",
    "pheno_pop2 = humans[humans['pop']=='pop2']['risk'].mean()\n",
    "pheno_pop3 = humans[humans['pop']=='pop3']['risk'].mean()"
   ]
  },
  {
   "cell_type": "code",
   "execution_count": 58,
   "id": "fb003991-818c-45ae-8890-9360f28e8a26",
   "metadata": {},
   "outputs": [],
   "source": [
    "count_total_AFs = humans[['snp']].apply(pd.Series.value_counts)/len(humans)\n",
    "total_minor = count_total_AFs.loc[-1].snp\n",
    "total_het = count_total_AFs.loc[0].snp\n",
    "total_major = count_total_AFs.loc[1].snp"
   ]
  },
  {
   "cell_type": "code",
   "execution_count": 59,
   "id": "67e1bbd4-1ae8-480d-85f0-9c68fe2d15fb",
   "metadata": {},
   "outputs": [
    {
     "data": {
      "text/plain": [
       "0.17777777777777778"
      ]
     },
     "execution_count": 59,
     "metadata": {},
     "output_type": "execute_result"
    }
   ],
   "source": [
    "total_major"
   ]
  },
  {
   "cell_type": "code",
   "execution_count": 60,
   "id": "12560b05-b348-438c-832f-f8cd5c2a3033",
   "metadata": {},
   "outputs": [
    {
     "data": {
      "text/html": [
       "<div>\n",
       "<style scoped>\n",
       "    .dataframe tbody tr th:only-of-type {\n",
       "        vertical-align: middle;\n",
       "    }\n",
       "\n",
       "    .dataframe tbody tr th {\n",
       "        vertical-align: top;\n",
       "    }\n",
       "\n",
       "    .dataframe thead th {\n",
       "        text-align: right;\n",
       "    }\n",
       "</style>\n",
       "<table border=\"1\" class=\"dataframe\">\n",
       "  <thead>\n",
       "    <tr style=\"text-align: right;\">\n",
       "      <th></th>\n",
       "      <th>snp</th>\n",
       "      <th>snp_nr</th>\n",
       "      <th>minaf</th>\n",
       "      <th>hetaf</th>\n",
       "      <th>majaf</th>\n",
       "      <th>pop</th>\n",
       "      <th>pop_quantity</th>\n",
       "      <th>risk</th>\n",
       "    </tr>\n",
       "  </thead>\n",
       "  <tbody>\n",
       "    <tr>\n",
       "      <th>0</th>\n",
       "      <td>-1</td>\n",
       "      <td>0.133333</td>\n",
       "      <td>0.2</td>\n",
       "      <td>0.4</td>\n",
       "      <td>0.4</td>\n",
       "      <td>pop1</td>\n",
       "      <td>100</td>\n",
       "      <td>0.3</td>\n",
       "    </tr>\n",
       "    <tr>\n",
       "      <th>1</th>\n",
       "      <td>-1</td>\n",
       "      <td>0.133333</td>\n",
       "      <td>0.2</td>\n",
       "      <td>0.4</td>\n",
       "      <td>0.4</td>\n",
       "      <td>pop1</td>\n",
       "      <td>100</td>\n",
       "      <td>0.3</td>\n",
       "    </tr>\n",
       "    <tr>\n",
       "      <th>2</th>\n",
       "      <td>-1</td>\n",
       "      <td>0.133333</td>\n",
       "      <td>0.2</td>\n",
       "      <td>0.4</td>\n",
       "      <td>0.4</td>\n",
       "      <td>pop1</td>\n",
       "      <td>100</td>\n",
       "      <td>0.3</td>\n",
       "    </tr>\n",
       "    <tr>\n",
       "      <th>3</th>\n",
       "      <td>-1</td>\n",
       "      <td>0.133333</td>\n",
       "      <td>0.2</td>\n",
       "      <td>0.4</td>\n",
       "      <td>0.4</td>\n",
       "      <td>pop1</td>\n",
       "      <td>100</td>\n",
       "      <td>0.3</td>\n",
       "    </tr>\n",
       "    <tr>\n",
       "      <th>4</th>\n",
       "      <td>-1</td>\n",
       "      <td>0.133333</td>\n",
       "      <td>0.2</td>\n",
       "      <td>0.4</td>\n",
       "      <td>0.4</td>\n",
       "      <td>pop1</td>\n",
       "      <td>100</td>\n",
       "      <td>0.3</td>\n",
       "    </tr>\n",
       "    <tr>\n",
       "      <th>...</th>\n",
       "      <td>...</td>\n",
       "      <td>...</td>\n",
       "      <td>...</td>\n",
       "      <td>...</td>\n",
       "      <td>...</td>\n",
       "      <td>...</td>\n",
       "      <td>...</td>\n",
       "      <td>...</td>\n",
       "    </tr>\n",
       "    <tr>\n",
       "      <th>445</th>\n",
       "      <td>1</td>\n",
       "      <td>0.200000</td>\n",
       "      <td>0.5</td>\n",
       "      <td>0.4</td>\n",
       "      <td>0.1</td>\n",
       "      <td>pop3</td>\n",
       "      <td>300</td>\n",
       "      <td>1.0</td>\n",
       "    </tr>\n",
       "    <tr>\n",
       "      <th>446</th>\n",
       "      <td>1</td>\n",
       "      <td>0.200000</td>\n",
       "      <td>0.5</td>\n",
       "      <td>0.4</td>\n",
       "      <td>0.1</td>\n",
       "      <td>pop3</td>\n",
       "      <td>300</td>\n",
       "      <td>1.0</td>\n",
       "    </tr>\n",
       "    <tr>\n",
       "      <th>447</th>\n",
       "      <td>1</td>\n",
       "      <td>0.200000</td>\n",
       "      <td>0.5</td>\n",
       "      <td>0.4</td>\n",
       "      <td>0.1</td>\n",
       "      <td>pop3</td>\n",
       "      <td>300</td>\n",
       "      <td>1.0</td>\n",
       "    </tr>\n",
       "    <tr>\n",
       "      <th>448</th>\n",
       "      <td>1</td>\n",
       "      <td>0.200000</td>\n",
       "      <td>0.5</td>\n",
       "      <td>0.4</td>\n",
       "      <td>0.1</td>\n",
       "      <td>pop3</td>\n",
       "      <td>300</td>\n",
       "      <td>1.0</td>\n",
       "    </tr>\n",
       "    <tr>\n",
       "      <th>449</th>\n",
       "      <td>1</td>\n",
       "      <td>0.200000</td>\n",
       "      <td>0.5</td>\n",
       "      <td>0.4</td>\n",
       "      <td>0.1</td>\n",
       "      <td>pop3</td>\n",
       "      <td>300</td>\n",
       "      <td>1.0</td>\n",
       "    </tr>\n",
       "  </tbody>\n",
       "</table>\n",
       "<p>275 rows × 8 columns</p>\n",
       "</div>"
      ],
      "text/plain": [
       "     snp    snp_nr  minaf  hetaf  majaf   pop  pop_quantity  risk\n",
       "0     -1  0.133333    0.2    0.4    0.4  pop1           100   0.3\n",
       "1     -1  0.133333    0.2    0.4    0.4  pop1           100   0.3\n",
       "2     -1  0.133333    0.2    0.4    0.4  pop1           100   0.3\n",
       "3     -1  0.133333    0.2    0.4    0.4  pop1           100   0.3\n",
       "4     -1  0.133333    0.2    0.4    0.4  pop1           100   0.3\n",
       "..   ...       ...    ...    ...    ...   ...           ...   ...\n",
       "445    1  0.200000    0.5    0.4    0.1  pop3           300   1.0\n",
       "446    1  0.200000    0.5    0.4    0.1  pop3           300   1.0\n",
       "447    1  0.200000    0.5    0.4    0.1  pop3           300   1.0\n",
       "448    1  0.200000    0.5    0.4    0.1  pop3           300   1.0\n",
       "449    1  0.200000    0.5    0.4    0.1  pop3           300   1.0\n",
       "\n",
       "[275 rows x 8 columns]"
      ]
     },
     "execution_count": 60,
     "metadata": {},
     "output_type": "execute_result"
    }
   ],
   "source": [
    "humans = humans[humans['snp'] != 0]\n",
    "count_total_AFs = humans[['snp']].apply(pd.Series.value_counts)/len(humans)\n",
    "total_minor = count_total_AFs.loc[-1].snp\n",
    "total_major = count_total_AFs.loc[1].snp\n",
    "humans"
   ]
  },
  {
   "cell_type": "code",
   "execution_count": 61,
   "id": "ee080930-2527-4bb7-b0c9-a9efea65c004",
   "metadata": {},
   "outputs": [
    {
     "data": {
      "text/plain": [
       "0.2909090909090909"
      ]
     },
     "execution_count": 61,
     "metadata": {},
     "output_type": "execute_result"
    }
   ],
   "source": [
    "total_major"
   ]
  },
  {
   "cell_type": "code",
   "execution_count": 62,
   "id": "4ba59f68-98d1-41e7-bdff-d84010f954ab",
   "metadata": {},
   "outputs": [],
   "source": [
    "X = humans[['snp']]  # Predictor variable\n",
    "y = humans['risk']    # Response variable\n",
    "\n",
    "# Add a constant to the predictor variable (for intercept)\n",
    "X = sm.add_constant(X)\n",
    "\n",
    "# Fit the model using statsmodels\n",
    "model = sm.OLS(y, X).fit()\n",
    "\n",
    "# Extract beta (slope), intercept, and p-value\n",
    "beta = model.params['snp']\n",
    "intercept = model.params['const']\n",
    "p_value = model.pvalues['snp']\n",
    "logp_value = np.round(-np.log10(p_value),4)\n",
    "\n",
    "humans['predicted_risk'] = model.predict(X)"
   ]
  },
  {
   "cell_type": "code",
   "execution_count": null,
   "id": "63ac622d-972b-4e3f-b0d0-a2bac382d2b6",
   "metadata": {},
   "outputs": [],
   "source": []
  },
  {
   "cell_type": "code",
   "execution_count": 63,
   "id": "945fa5b9-defe-408c-99d4-53cdfc397a7f",
   "metadata": {},
   "outputs": [
    {
     "data": {
      "image/png": "[encoded data removed]",
      "text/plain": [
       "<Figure size 640x480 with 1 Axes>"
      ]
     },
     "metadata": {},
     "output_type": "display_data"
    }
   ],
   "source": [
    "# Create the scatter plot with seaborn, using size to represent pop_quantity\n",
    "sns.scatterplot(x='snp', y='risk', data=humans, size='snp_nr', hue='pop',sizes=(20, 200), linewidth=0, legend=False)\n",
    "\n",
    "# Add the regression line to the plot (no size argument here, as it's a line)\n",
    "plt.plot(humans['snp'], humans['predicted_risk'], color='red', label=f' Beta = {beta:.2f}\\n intercept = {intercept:.2f}')\n",
    "\n",
    "# Add thin gray lines at x = 0 and y = 0\n",
    "plt.axvline(x=0, color='gray', linestyle='-', linewidth=0.5)  # Vertical line at x = 0\n",
    "plt.axhline(y=intercept, color='gray', linestyle='-', linewidth=0.5)  # Vertical line at x = 0\n",
    "plt.axhline(y=0, color='gray', linestyle='-', linewidth=0.5)\n",
    "\n",
    "# Adjust layout\n",
    "plt.tight_layout()\n",
    "plt.title(f\"Environmental risk only -logP={logp_value}\")\n",
    "plt.legend()\n",
    "\n",
    "# Show the plot\n",
    "plt.show()\n",
    "plt.close()"
   ]
  },
  {
   "cell_type": "code",
   "execution_count": 64,
   "id": "4daf96e7-f736-4461-8599-80ddc1e4c78b",
   "metadata": {},
   "outputs": [],
   "source": [
    "# manually"
   ]
  },
  {
   "cell_type": "code",
   "execution_count": 65,
   "id": "bf730707-ef94-4d41-bf7c-99d30ae3ee24",
   "metadata": {},
   "outputs": [],
   "source": [
    "def manual_ols(X,y):\n",
    "    X = np.array(X)\n",
    "    X = np.column_stack([np.ones(len(X)), X])\n",
    "    if X.ndim == 1:\n",
    "        X = X.reshape(-1, 1)\n",
    "    # Compute beta_matrix using the formula (X.T @ X)^(-1) @ X.T @ y\n",
    "    XTX = X.T @ X\n",
    "    try:\n",
    "        XTX_inv = np.linalg.inv(XTX)\n",
    "    except np.linalg.LinAlgError:\n",
    "        raise ValueError(\"Matrix X.T @ X is singular and cannot be inverted.\")\n",
    "    \n",
    "    beta_matrix = XTX_inv @ X.T @ y\n",
    "    \n",
    "    return beta_matrix"
   ]
  },
  {
   "cell_type": "code",
   "execution_count": 66,
   "id": "cd178ab9-0495-4a87-9734-6b9c82860341",
   "metadata": {},
   "outputs": [],
   "source": [
    "X = humans['snp']\n",
    "y = humans['risk']"
   ]
  },
  {
   "cell_type": "code",
   "execution_count": 67,
   "id": "269b28ba-58d2-4b57-94a2-76c7c4b22c9e",
   "metadata": {},
   "outputs": [
    {
     "name": "stdout",
     "output_type": "stream",
     "text": [
      "intercept\n",
      "0.75\n",
      "slope\n",
      "-0.14\n"
     ]
    }
   ],
   "source": [
    "beta_matrix = manual_ols(X, y)\n",
    "try:\n",
    "    [intercept_manual, beta_manual] = beta_matrix\n",
    "    print(\"intercept\")\n",
    "    print(np.round(intercept_manual,2))\n",
    "    print(\"slope\")\n",
    "    print(np.round(beta_manual,2))\n",
    "except:\n",
    "    print(\"only slope\")\n",
    "    print(np.round(beta_matrix[0]))"
   ]
  },
  {
   "cell_type": "code",
   "execution_count": 34,
   "id": "1f7f249b-ab1b-45f6-9888-58996e5f0a3f",
   "metadata": {},
   "outputs": [],
   "source": [
    "# Changing the phenotype"
   ]
  },
  {
   "cell_type": "code",
   "execution_count": 68,
   "id": "96c3ec2d-8cdd-4d7d-bc13-2d42a15b3212",
   "metadata": {},
   "outputs": [],
   "source": [
    "X = [-1*minaf_pop1/total_minor, 1*majaf_pop1/total_major]+[-1*minaf_pop2/total_minor, 1*majaf_pop2/total_major]+[-1*minaf_pop3/total_minor, 1*majaf_pop3/total_major]\n",
    "y = [pheno_pop1, pheno_pop1]+[pheno_pop2, pheno_pop2]+[pheno_pop3, pheno_pop3]"
   ]
  },
  {
   "cell_type": "code",
   "execution_count": 44,
   "id": "691f6ed5-375e-47fb-b3ac-f0c284ef2e37",
   "metadata": {},
   "outputs": [
    {
     "data": {
      "text/plain": [
       "'\\nX = [-1*minaf_pop1*nr_people_pop1, 0*hetaf_pop1*nr_people_pop1, 1*majaf_pop1*nr_people_pop1]+[-1*minaf_pop2*nr_people_pop2, 0*hetaf_pop2*nr_people_pop2, 1*majaf_pop2*nr_people_pop2]+[-1*minaf_pop3*nr_people_pop3, 0*hetaf_pop3*nr_people_pop3, 1*majaf_pop3*nr_people_pop3]\\ny = [pheno_pop1*nr_people_pop1,pheno_pop1*nr_people_pop1, pheno_pop1*nr_people_pop1]+[pheno_pop2*nr_people_pop2,pheno_pop2*nr_people_pop2, pheno_pop2*nr_people_pop2]+[pheno_pop3*nr_people_pop3,pheno_pop3*nr_people_pop3, pheno_pop3*nr_people_pop3]\\n'"
      ]
     },
     "execution_count": 44,
     "metadata": {},
     "output_type": "execute_result"
    }
   ],
   "source": [
    "\"\"\"\n",
    "X = [-1*minaf_pop1*nr_people_pop1, 0*hetaf_pop1*nr_people_pop1, 1*majaf_pop1*nr_people_pop1]+[-1*minaf_pop2*nr_people_pop2, 0*hetaf_pop2*nr_people_pop2, 1*majaf_pop2*nr_people_pop2]+[-1*minaf_pop3*nr_people_pop3, 0*hetaf_pop3*nr_people_pop3, 1*majaf_pop3*nr_people_pop3]\n",
    "y = [pheno_pop1*nr_people_pop1,pheno_pop1*nr_people_pop1, pheno_pop1*nr_people_pop1]+[pheno_pop2*nr_people_pop2,pheno_pop2*nr_people_pop2, pheno_pop2*nr_people_pop2]+[pheno_pop3*nr_people_pop3,pheno_pop3*nr_people_pop3, pheno_pop3*nr_people_pop3]\n",
    "\"\"\""
   ]
  },
  {
   "cell_type": "code",
   "execution_count": 45,
   "id": "b78a135a-12a3-496d-8703-46fe2c4eb6d7",
   "metadata": {},
   "outputs": [
    {
     "data": {
      "text/plain": [
       "'\\nX = [-1*minaf_pop1, 1*majaf_pop1]+[-1*minaf_pop2, 1*majaf_pop2]+[-1*minaf_pop3, 1*majaf_pop3]\\ny = [pheno_pop1, pheno_pop1]+[pheno_pop2, pheno_pop2]+[pheno_pop3, pheno_pop3]\\n'"
      ]
     },
     "execution_count": 45,
     "metadata": {},
     "output_type": "execute_result"
    }
   ],
   "source": [
    "\"\"\"\n",
    "X = [-1*minaf_pop1, 1*majaf_pop1]+[-1*minaf_pop2, 1*majaf_pop2]+[-1*minaf_pop3, 1*majaf_pop3]\n",
    "y = [pheno_pop1, pheno_pop1]+[pheno_pop2, pheno_pop2]+[pheno_pop3, pheno_pop3]\n",
    "\"\"\""
   ]
  },
  {
   "cell_type": "code",
   "execution_count": 69,
   "id": "007e09ae-a060-46a0-bd4d-5e8277852c8e",
   "metadata": {},
   "outputs": [
    {
     "name": "stdout",
     "output_type": "stream",
     "text": [
      "intercept\n",
      "0.68\n",
      "slope\n",
      "-0.15\n"
     ]
    }
   ],
   "source": [
    "beta_matrix = manual_ols(X, y)\n",
    "try:\n",
    "    [intercept_manual, beta_manual] = beta_matrix\n",
    "    print(\"intercept\")\n",
    "    print(np.round(intercept_manual,2))\n",
    "    print(\"slope\")\n",
    "    print(np.round(beta_manual,2))\n",
    "except:\n",
    "    print(\"only slope\")\n",
    "    print(np.round(beta_matrix[0]))"
   ]
  },
  {
   "cell_type": "code",
   "execution_count": 70,
   "id": "602d25fc-c7f0-4870-92ac-91d05a12dd54",
   "metadata": {},
   "outputs": [],
   "source": [
    "X = [majaf_pop1/total_major - minaf_pop1/total_minor]+[majaf_pop2/total_major - minaf_pop2/total_minor]+[majaf_pop3/total_major - minaf_pop3/total_minor]\n",
    "y = [pheno_pop1]+[pheno_pop2]+[pheno_pop3]"
   ]
  },
  {
   "cell_type": "code",
   "execution_count": 71,
   "id": "55b873cc-9a6d-4aa6-9841-c0fa149c03f1",
   "metadata": {},
   "outputs": [
    {
     "name": "stdout",
     "output_type": "stream",
     "text": [
      "intercept\n",
      "0.77\n",
      "slope\n",
      "-0.45\n"
     ]
    }
   ],
   "source": [
    "beta_matrix = manual_ols(X, y)\n",
    "try:\n",
    "    [intercept_manual, beta_manual] = beta_matrix\n",
    "    print(\"intercept\")\n",
    "    print(np.round(intercept_manual,2))\n",
    "    print(\"slope\")\n",
    "    print(np.round(beta_manual,2))\n",
    "except:\n",
    "    print(\"only slope\")\n",
    "    print(np.round(beta_matrix[0]))"
   ]
  },
  {
   "cell_type": "code",
   "execution_count": 12,
   "id": "0cfb28b5-c9b9-4d9c-ba42-bcc09d2d816b",
   "metadata": {},
   "outputs": [
    {
     "data": {
      "text/plain": [
       "'\\n#changing x and y axis\\nnew_beta = 1/beta\\nnew_intercept = (-1/beta)*intercept\\nhumans[\\'inverted_predicted_risk\\'] = humans[\\'risk\\']*new_beta +new_intercept\\n# Create the scatter plot with seaborn, using size to represent pop_quantity\\nsns.scatterplot(x=\\'risk\\', y=\\'snp\\', data=humans, hue=\\'pop\\', size=\\'snp_nr\\', sizes=(20, 200), linewidth=0, legend=False)\\n\\n# Add the regression line to the plot (no size argument here, as it\\'s a line)\\nplt.plot(humans[\\'risk\\'], humans[\\'inverted_predicted_risk\\'], color=\\'red\\', label=f\\' Beta = {new_beta:.2f}\\n intercept = {new_intercept:.2f}\\')\\n\\n# Add thin gray lines at x = 0 and y = 0\\nplt.axvline(x=0, color=\\'gray\\', linestyle=\\'-\\', linewidth=0.5)  # Vertical line at x = 0\\nplt.axhline(y=new_intercept, color=\\'gray\\', linestyle=\\'-\\', linewidth=0.5)  # Vertical line at x = 0\\nplt.axhline(y=0, color=\\'gray\\', linestyle=\\'-\\', linewidth=0.5)\\n\\n# Adjust layout\\nplt.tight_layout()\\nplt.title(f\"Environmental risk only -logP={logp_value}\")\\nplt.legend()\\n\\n# Show the plot\\nplt.show()\\nplt.close()\\n'"
      ]
     },
     "execution_count": 12,
     "metadata": {},
     "output_type": "execute_result"
    }
   ],
   "source": [
    "\"\"\"\n",
    "#changing x and y axis\n",
    "new_beta = 1/beta\n",
    "new_intercept = (-1/beta)*intercept\n",
    "humans['inverted_predicted_risk'] = humans['risk']*new_beta +new_intercept\n",
    "# Create the scatter plot with seaborn, using size to represent pop_quantity\n",
    "sns.scatterplot(x='risk', y='snp', data=humans, hue='pop', size='snp_nr', sizes=(20, 200), linewidth=0, legend=False)\n",
    "\n",
    "# Add the regression line to the plot (no size argument here, as it's a line)\n",
    "plt.plot(humans['risk'], humans['inverted_predicted_risk'], color='red', label=f' Beta = {new_beta:.2f}\\n intercept = {new_intercept:.2f}')\n",
    "\n",
    "# Add thin gray lines at x = 0 and y = 0\n",
    "plt.axvline(x=0, color='gray', linestyle='-', linewidth=0.5)  # Vertical line at x = 0\n",
    "plt.axhline(y=new_intercept, color='gray', linestyle='-', linewidth=0.5)  # Vertical line at x = 0\n",
    "plt.axhline(y=0, color='gray', linestyle='-', linewidth=0.5)\n",
    "\n",
    "# Adjust layout\n",
    "plt.tight_layout()\n",
    "plt.title(f\"Environmental risk only -logP={logp_value}\")\n",
    "plt.legend()\n",
    "\n",
    "# Show the plot\n",
    "plt.show()\n",
    "plt.close()\n",
    "\"\"\""
   ]
  },
  {
   "cell_type": "code",
   "execution_count": 13,
   "id": "bc373fe2-1da1-43d4-8ff8-d9253b2c909d",
   "metadata": {},
   "outputs": [],
   "source": [
    "# recalculating phenos based only on mafs"
   ]
  },
  {
   "cell_type": "code",
   "execution_count": 28,
   "id": "fe02afa3-8008-4caa-b1c4-c7855fce18a7",
   "metadata": {},
   "outputs": [],
   "source": [
    "\n",
    "Pheno_min = pheno_pop1*minaf_pop1 + pheno_pop2*minaf_pop2 + pheno_pop3*minaf_pop3\n",
    "Pheno_het = pheno_pop1*hetaf_pop1 + pheno_pop2*hetaf_pop2 + pheno_pop3*hetaf_pop3\n",
    "Pheno_maj = pheno_pop1*majaf_pop1 + pheno_pop2*majaf_pop2 + pheno_pop3*majaf_pop3\n"
   ]
  },
  {
   "cell_type": "code",
   "execution_count": 29,
   "id": "b0cc372d-d25c-4752-9d01-fa21f5208d07",
   "metadata": {},
   "outputs": [
    {
     "data": {
      "text/plain": [
       "'\\nPheno_min = (pheno_pop1*minaf_pop1*nr_people_pop1**2 + pheno_pop2*minaf_pop2*nr_people_pop2**2 + pheno_pop3*minaf_pop3*nr_people_pop3**2)/total_humans\\nPheno_het = (pheno_pop1*hetaf_pop1*nr_people_pop1**2 + pheno_pop2*hetaf_pop2*nr_people_pop2**2 + pheno_pop3*hetaf_pop3*nr_people_pop3**2)/total_humans\\nPheno_maj = (pheno_pop1*majaf_pop1*nr_people_pop1**2 + pheno_pop2*majaf_pop2*nr_people_pop2**2 + pheno_pop3*majaf_pop3*nr_people_pop3**2)/total_humans\\n'"
      ]
     },
     "execution_count": 29,
     "metadata": {},
     "output_type": "execute_result"
    }
   ],
   "source": [
    "\"\"\"\n",
    "Pheno_min = (pheno_pop1*minaf_pop1*nr_people_pop1**2 + pheno_pop2*minaf_pop2*nr_people_pop2**2 + pheno_pop3*minaf_pop3*nr_people_pop3**2)/total_humans\n",
    "Pheno_het = (pheno_pop1*hetaf_pop1*nr_people_pop1**2 + pheno_pop2*hetaf_pop2*nr_people_pop2**2 + pheno_pop3*hetaf_pop3*nr_people_pop3**2)/total_humans\n",
    "Pheno_maj = (pheno_pop1*majaf_pop1*nr_people_pop1**2 + pheno_pop2*majaf_pop2*nr_people_pop2**2 + pheno_pop3*majaf_pop3*nr_people_pop3**2)/total_humans\n",
    "\"\"\""
   ]
  },
  {
   "cell_type": "code",
   "execution_count": 30,
   "id": "4f8ca52b-7802-4cdd-877b-a607f43da1fe",
   "metadata": {},
   "outputs": [
    {
     "data": {
      "text/plain": [
       "'\\nPheno_min = (pheno_pop1*minaf_pop1**2 + pheno_pop2*minaf_pop2**2 + pheno_pop3*minaf_pop3**2)/total_minor\\nPheno_het = (pheno_pop1*hetaf_pop1**2 + pheno_pop2*hetaf_pop2**2 + pheno_pop3*hetaf_pop3**2)/total_het\\nPheno_maj = (pheno_pop1*majaf_pop1**2 + pheno_pop2*majaf_pop2**2 + pheno_pop3*majaf_pop3**2)/total_major\\n'"
      ]
     },
     "execution_count": 30,
     "metadata": {},
     "output_type": "execute_result"
    }
   ],
   "source": [
    "\"\"\"\n",
    "Pheno_min = (pheno_pop1*minaf_pop1**2 + pheno_pop2*minaf_pop2**2 + pheno_pop3*minaf_pop3**2)/total_minor\n",
    "Pheno_het = (pheno_pop1*hetaf_pop1**2 + pheno_pop2*hetaf_pop2**2 + pheno_pop3*hetaf_pop3**2)/total_het\n",
    "Pheno_maj = (pheno_pop1*majaf_pop1**2 + pheno_pop2*majaf_pop2**2 + pheno_pop3*majaf_pop3**2)/total_major\n",
    "\"\"\""
   ]
  },
  {
   "cell_type": "code",
   "execution_count": null,
   "id": "42ac00b7-bf47-45e9-bad4-049823fcd654",
   "metadata": {},
   "outputs": [],
   "source": []
  },
  {
   "cell_type": "code",
   "execution_count": 31,
   "id": "d3074b2d-65c4-4acd-ba8e-3d7e4295abb9",
   "metadata": {},
   "outputs": [],
   "source": [
    "X = [-1, 0, 1]\n",
    "Y = [Pheno_min, Pheno_het, Pheno_maj]"
   ]
  },
  {
   "cell_type": "code",
   "execution_count": 32,
   "id": "35e650df-c3d1-4d6f-96fc-664a7a57e1e1",
   "metadata": {},
   "outputs": [],
   "source": [
    "maf_df = pd.DataFrame()\n",
    "maf_df['snp'] = X\n",
    "maf_df['risk'] = Y"
   ]
  },
  {
   "cell_type": "code",
   "execution_count": 33,
   "id": "15bc8ade-38d6-44b6-9138-acb2d1412dd5",
   "metadata": {},
   "outputs": [],
   "source": [
    "X = maf_df[['snp']]  # Predictor variable\n",
    "y = maf_df['risk']    # Response variable\n",
    "\n",
    "# Add a constant to the predictor variable (for intercept)\n",
    "X_with_constant = sm.add_constant(X)\n",
    "\n",
    "# Fit the model using statsmodels\n",
    "model = sm.OLS(y, X_with_constant).fit()\n",
    "\n",
    "# Extract beta (slope), intercept, and p-value\n",
    "beta_maf = model.params['snp']\n",
    "intercept_maf = model.params['const']\n",
    "p_value_maf = model.pvalues['snp']\n",
    "logp_value_maf = np.round(-np.log10(p_value_maf),4)"
   ]
  },
  {
   "cell_type": "code",
   "execution_count": 34,
   "id": "a2f15e78-3a17-42d6-816a-0f0daff07cad",
   "metadata": {},
   "outputs": [],
   "source": [
    "maf_df['predicted_risk_maf'] = model.predict(X_with_constant)"
   ]
  },
  {
   "cell_type": "code",
   "execution_count": 35,
   "id": "3db32212-e6b7-4397-aefb-7ff35889830c",
   "metadata": {},
   "outputs": [
    {
     "data": {
      "image/png": "[encoded data removed]",
      "text/plain": [
       "<Figure size 640x480 with 1 Axes>"
      ]
     },
     "metadata": {},
     "output_type": "display_data"
    }
   ],
   "source": [
    "# Create the scatter plot with seaborn, using size to represent pop_quantity\n",
    "sns.scatterplot(x='snp', y='risk', data=maf_df, sizes=(20, 200), linewidth=0, legend=False)\n",
    "\n",
    "# Add the regression line to the plot (no size argument here, as it's a line)\n",
    "plt.plot(maf_df['snp'], maf_df['predicted_risk_maf'], color='red', label=f' Beta = {beta_maf:.2f}\\n intercept = {intercept_maf:.2f}')\n",
    "\n",
    "# Add thin gray lines at x = 0 and y = 0\n",
    "plt.axvline(x=0, color='gray', linestyle='-', linewidth=0.5)  # Vertical line at x = 0\n",
    "plt.axhline(y=intercept, color='gray', linestyle='-', linewidth=0.5)  # Vertical line at x = 0\n",
    "plt.axhline(y=0, color='gray', linestyle='-', linewidth=0.5)\n",
    "\n",
    "# Adjust layoutA\n",
    "plt.tight_layout()\n",
    "plt.title(f\"Environmental risk only -logP={logp_value_maf}\")\n",
    "plt.legend()\n",
    "\n",
    "# Show the plot\n",
    "plt.show()\n",
    "plt.close()"
   ]
  },
  {
   "cell_type": "code",
   "execution_count": null,
   "id": "17b1a3f3-81bc-46d2-b0e4-976344962437",
   "metadata": {},
   "outputs": [],
   "source": []
  },
  {
   "cell_type": "code",
   "execution_count": null,
   "id": "f7c832ad-72b1-4f85-aa23-9910a7bc044c",
   "metadata": {},
   "outputs": [],
   "source": []
  },
  {
   "cell_type": "code",
   "execution_count": null,
   "id": "d090e2ae-12af-4c70-9545-6428363cb5f0",
   "metadata": {},
   "outputs": [],
   "source": []
  },
  {
   "cell_type": "code",
   "execution_count": 68,
   "id": "0d702569-db8d-417e-b03b-85a5157f9ef3",
   "metadata": {},
   "outputs": [],
   "source": []
  },
  {
   "cell_type": "code",
   "execution_count": 70,
   "id": "0e9884ec-86bb-458e-9ffd-cab59485bcd4",
   "metadata": {},
   "outputs": [
    {
     "data": {
      "image/png": "[encoded data removed]",
      "text/plain": [
       "<Figure size 640x480 with 1 Axes>"
      ]
     },
     "metadata": {},
     "output_type": "display_data"
    }
   ],
   "source": []
  },
  {
   "cell_type": "code",
   "execution_count": null,
   "id": "1b45b522-9a96-4a0e-8234-0935426a1c4c",
   "metadata": {},
   "outputs": [],
   "source": []
  },
  {
   "cell_type": "code",
   "execution_count": null,
   "id": "9e0e3fae-3d15-4796-9c97-24f6c1a40722",
   "metadata": {},
   "outputs": [],
   "source": []
  }
 ],
 "metadata": {
  "kernelspec": {
   "display_name": "Python 3 (ipykernel)",
   "language": "python",
   "name": "python3"
  },
  "language_info": {
   "codemirror_mode": {
    "name": "ipython",
    "version": 3
   },
   "file_extension": ".py",
   "mimetype": "text/x-python",
   "name": "python",
   "nbconvert_exporter": "python",
   "pygments_lexer": "ipython3",
   "version": "3.10.2"
  }
 },
 "nbformat": 4,
 "nbformat_minor": 5
}
